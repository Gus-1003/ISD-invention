{
  "cells": [
    {
      "cell_type": "markdown",
      "metadata": {
        "id": "view-in-github",
        "colab_type": "text"
      },
      "source": [
        "<a href=\"https://colab.research.google.com/github/Gus-1003/ISD-invention/blob/main/Eletro_1/Coobimage_fase2.ipynb\" target=\"_parent\"><img src=\"https://colab.research.google.com/assets/colab-badge.svg\" alt=\"Open In Colab\"/></a>"
      ]
    },
    {
      "cell_type": "markdown",
      "metadata": {
        "id": "whqJ5UmEFm5O"
      },
      "source": [
        "# Coobimage Fase 2\n",
        "\n",
        "Coordinates of an object in image_fase2"
      ]
    },
    {
      "cell_type": "markdown",
      "metadata": {
        "id": "CpK2xbv0VbWl"
      },
      "source": [
        "# Teste 1:"
      ]
    },
    {
      "cell_type": "code",
      "execution_count": null,
      "metadata": {
        "id": "IobPtmq3mJ3e"
      },
      "outputs": [],
      "source": [
        "import numpy as np\n",
        "import cv2\n",
        "\n",
        "import glob\n",
        "import os\n",
        "\n",
        "from google.colab.patches import cv2_imshow\n",
        "\n",
        "from google.colab import drive\n",
        "drive.mount('/content/drive/')\n",
        "%cd /content/drive/MyDrive/\n",
        "\n",
        "# nome_completo = variável que armazena o endereço da imagem:\n",
        "path_list = glob.glob('/content/drive/MyDrive/CutVideos_Exp_12/TR e TT/*jpg')\n",
        "\n",
        "dest = '/content/drive/MyDrive/CutVideos_Experimento_12/TR e TT/contours/'\n",
        "\n",
        "for frame in path_list:\n",
        "  # img_original = variável que armazena a imagem do Drive:\n",
        "  img_original = cv2.imread(frame)\n",
        "\n",
        "  # Clone para comparação:\n",
        "  clone_img_original = img_original.copy()\n",
        "\n",
        "  # Imagem onde será desenhada os contornos::\n",
        "  img_contours = img_original.copy()\n",
        "\n",
        "  list_components = frame.split('/')\n",
        "  #list_components[6]\n",
        "\n",
        "  # O uso do im_split é no algaritmo do plo do histograma\n",
        "  im_split = cv2.split(img_original)\n",
        "\n",
        "  # Cada letra é um canal:\n",
        "  (blue, green, red) = cv2.split(img_original)\n",
        "\n",
        "  # O canal verde / Green demonstra uma nitidez maior perante os demais\n",
        "  img_base = green\n",
        "\n",
        "  ret,th5 = cv2.threshold(img_base,202,255,cv2.THRESH_BINARY)\n",
        "\n",
        "  # Aplicação do filtro de media em cima de um threshold global de Img_Base:\n",
        "  th6 = cv2.adaptiveThreshold(th5,255,cv2.ADAPTIVE_THRESH_MEAN_C, cv2.THRESH_BINARY_INV,11,2)\n",
        "\n",
        "  #cv2_imshow(cv2.hconcat([th5, th6]))\n",
        "\n",
        "  # Find contours, draw on image and save\n",
        "  contours, hierarchy = cv2.findContours(th6,cv2.RETR_EXTERNAL,cv2.CHAIN_APPROX_SIMPLE)\n",
        "\n",
        "  cv2.drawContours(img_contours, contours, -1, (0,255,0), 2); #unico contorno 0\n",
        "  cv2_imshow(img_contours)\n"
      ]
    },
    {
      "cell_type": "markdown",
      "source": [
        "# Teste 2:"
      ],
      "metadata": {
        "id": "RUVjb7pV1Rv3"
      }
    },
    {
      "cell_type": "markdown",
      "metadata": {
        "id": "84qlIPhrvvvH"
      },
      "source": [
        "**Youtube**\n",
        "+ https://www.youtube.com/watch?v=yqkISICHH-U"
      ]
    },
    {
      "cell_type": "markdown",
      "metadata": {
        "id": "1DEELF3ev0VM"
      },
      "source": [
        "**Paginas e artigos**"
      ]
    },
    {
      "cell_type": "markdown",
      "metadata": {
        "id": "XRTqfM2UvRA1"
      },
      "source": [
        "+ http://bigwww.epfl.ch/publications/depeursinge1705.pdf\n",
        "+ https://medium.com/mlearning-ai/color-shape-and-texture-feature-extraction-using-opencv-cb1feb2dbd73\n",
        "+ https://neubias.github.io/training-resources/filter_neighbourhood/index.html\n",
        "+ http://wiki.icmc.usp.br/images/7/78/Dip08_restoration.pdf\n",
        "+ http://www.ic.uff.br/~aconci/CVEIEEELA.pdf\n",
        "+ A Utilização de Filtros Gaussianos na Análise de Imagens Digitais - pdf\n",
        "+ https://arxiv.org/ftp/arxiv/papers/1904/1904.06554.pdf\n",
        "+ https://people.eecs.berkeley.edu/~malik/papers/MalikBLS.pdf\n",
        "+ https://www.sciencedirect.com/science/article/pii/S187775031830663X\n"
      ]
    },
    {
      "cell_type": "markdown",
      "metadata": {
        "id": "NOWwI9C1xunX"
      },
      "source": [
        "**coding** \n",
        "\n",
        "+ https://www.tech-quantum.com/contour-detection-in-an-image/#:~:text=Contours%20detection%20is%20a%20process,and%20object%20detection%20and%20recognition.\n",
        "+ https://learnopencv.com/contour-detection-using-opencv-python-c/\n",
        "+ Foco: https://stackoverflow.com/questions/11456565/opencv-mean-sd-filter"
      ]
    },
    {
      "cell_type": "code",
      "execution_count": null,
      "metadata": {
        "id": "YBmt_9ETCabb"
      },
      "outputs": [],
      "source": [
        "import numpy as np\n",
        "import cv2\n",
        "\n",
        "import glob\n",
        "import os\n",
        "\n",
        "from google.colab.patches import cv2_imshow\n",
        "\n",
        "from google.colab import drive\n",
        "drive.mount('/content/drive/')\n",
        "%cd /content/drive/MyDrive/\n",
        "\n",
        "# nome_completo = variável que armazena o endereço da imagem:\n",
        "path_list = glob.glob('/content/drive/MyDrive/CutVideos_Exp_12/TR e TT/*jpg')\n",
        "\n",
        "dest = '/content/drive/MyDrive/CutVideos_Experimento_12/TR e TT/contours/'\n",
        "\n",
        "for frame in path_list:\n",
        "  im = cv2.imread(frame)\n",
        "\n",
        "  img_contours = im.copy()\n",
        "\n",
        "  # carrega a imagem em escala de cinza\n",
        "  image = cv2.cvtColor(im, cv2.COLOR_BGR2GRAY)\n",
        "  \n",
        "  # converte a imagem para float32\n",
        "  image32f = np.float32(image)\n",
        "\n",
        "  # aplica o filtro de média\n",
        "  mu = cv2.blur(image32f, (3, 3))\n",
        "\n",
        "  # aplica o filtro de variância\n",
        "  mu2 = cv2.blur(image32f*image32f, (3, 3))\n",
        "  sigma = cv2.sqrt(mu2 - mu*mu)\n",
        "  sigma = sigma * 10\n",
        "  sigma = sigma.astype(\"uint8\")\n",
        "\n",
        "  # exibe as imagens resultantes\n",
        "  ret3,th3 = cv2.threshold(sigma,0,255,cv2.THRESH_BINARY+cv2.THRESH_OTSU)\n",
        "\n",
        "  contours, hierarchy = cv2.findContours(th3,cv2.RETR_EXTERNAL,cv2.CHAIN_APPROX_SIMPLE)\n",
        "\n",
        "  cv2.drawContours(img_contours, contours, -1, (0,255,0), 2); #unico contorno 0\n",
        "  \n",
        "  cv2_imshow(th3)\n",
        "  cv2_imshow(img_contours)"
      ]
    },
    {
      "cell_type": "markdown",
      "source": [
        "# Teste 3 - Teste 2 melhorado pelo ChatGPT:"
      ],
      "metadata": {
        "id": "q9DQmJSu1ULR"
      }
    },
    {
      "cell_type": "code",
      "execution_count": null,
      "metadata": {
        "id": "Im-Ga3qpzwqH"
      },
      "outputs": [],
      "source": [
        "# Importa a biblioteca glob para obter uma lista de caminhos de arquivos que correspondem a um determinado padrão.\n",
        "import glob\n",
        "# Importa a biblioteca OpenCV para processamento de imagem.\n",
        "import cv2\n",
        "# Importa a biblioteca NumPy para operações numéricas.\n",
        "import numpy as np\n",
        "\n",
        "from google.colab.patches import cv2_imshow\n",
        "\n",
        "from google.colab import drive\n",
        "drive.mount('/content/drive/')\n",
        "%cd /content/drive/MyDrive/\n",
        "\n",
        "# Variável path_list armazena uma lista de caminhos de arquivos que correspondem ao padrão especificado.\n",
        "path_list = glob.glob('/content/drive/MyDrive/CutVideos_Exp_12/TR e TT/*jpg')\n",
        "\n",
        "# Variável dest especifica o caminho de destino para os arquivos de saída.\n",
        "dest = '/content/drive/MyDrive/CutVideos_Experimento_12/TR e TT/contours/'\n",
        "\n",
        "# Loop que processa cada arquivo na lista de caminhos de arquivos.\n",
        "for frame in path_list:\n",
        "  # Carrega a imagem especificada pelo caminho do arquivo.\n",
        "  im = cv2.imread(frame)\n",
        "\n",
        "  # Cria uma cópia da imagem original.\n",
        "  img_contours = im.copy()\n",
        "\n",
        "  # Converte a imagem para o espaço de cores em escala de cinza.\n",
        "  image = cv2.cvtColor(im, cv2.COLOR_BGR2GRAY)\n",
        "  \n",
        "  # Converte a imagem para o tipo float32.\n",
        "  image32f = np.float32(image)\n",
        "\n",
        "  # Aplica um filtro de média à imagem.\n",
        "  mu = cv2.blur(image32f, (3, 3))\n",
        "\n",
        "  # Aplica um filtro de variância à imagem.\n",
        "  mu2 = cv2.blur(image32f*image32f, (3, 3))\n",
        "  sigma = cv2.sqrt(mu2 - mu*mu)\n",
        "  sigma = sigma * 10\n",
        "  sigma = sigma.astype(\"uint8\")\n",
        "\n",
        "  # Aplica uma limiarização com método de Otsu à imagem.\n",
        "  ret3,th3 = cv2.threshold(sigma,0,255,cv2.THRESH_BINARY+cv2.THRESH_OTSU)\n",
        "\n",
        "  # Define o kernel para dilatação e erosão\n",
        "  kernel = np.ones((5,5), np.uint8)\n",
        "\n",
        "  # Dilata a imagem\n",
        "  img_dilated = cv2.dilate(th3, kernel, iterations=1)\n",
        "\n",
        "  # Erode a imagem\n",
        "  th3 = cv2.erode(img_dilated, kernel, iterations=1)\n",
        "\n",
        "  # Encontra os contornos na imagem limiarizada.\n",
        "  contours, hierarchy = cv2.findContours(th3,cv2.RETR_EXTERNAL,cv2.CHAIN_APPROX_SIMPLE)\n",
        "\n",
        "  # Desenha os contornos encontrados na imagem original copiada.\n",
        "  cv2.drawContours(img_contours, contours, -1, (0,255,0), 2);\n",
        "\n",
        "  # Exibe a imagem limiarizada.\n",
        "  cv2_imshow(th3)\n",
        "  # Exibe a imagem original copiada com os contornos encontrados.\n",
        "  cv2_imshow(img_contours)"
      ]
    },
    {
      "cell_type": "markdown",
      "source": [
        "# Teste 4"
      ],
      "metadata": {
        "id": "ZUJ8gj4jBKMG"
      }
    },
    {
      "cell_type": "code",
      "source": [
        "# Importa a biblioteca glob para obter uma lista de caminhos de arquivos que correspondem a um determinado padrão.\n",
        "import glob\n",
        "# Importa a biblioteca OpenCV para processamento de imagem.\n",
        "import cv2\n",
        "# Importa a biblioteca NumPy para operações numéricas.\n",
        "import numpy as np\n",
        "\n",
        "from google.colab.patches import cv2_imshow\n",
        "\n",
        "from google.colab import drive\n",
        "drive.mount('/content/drive/')\n",
        "%cd /content/drive/MyDrive/\n",
        "\n",
        "# Variável path_list armazena uma lista de caminhos de arquivos que correspondem ao padrão especificado.\n",
        "path_list = glob.glob('/content/drive/MyDrive/CutVideos_Exp_12/TR e TT/*jpg')\n",
        "\n",
        "# Variável dest especifica o caminho de destino para os arquivos de saída.\n",
        "dest = '/content/drive/MyDrive/CutVideos_Experimento_12/TR e TT/contours/'\n",
        "\n",
        "# Loop que processa cada arquivo na lista de caminhos de arquivos.\n",
        "for frame in path_list:\n",
        "  # Carrega a imagem especificada pelo caminho do arquivo.\n",
        "  im = cv2.imread(frame)\n",
        "\n",
        "  # Cria uma cópia da imagem original.\n",
        "  img_contours = im.copy()\n",
        "\n",
        "  # Converte a imagem para o espaço de cores em escala de cinza.\n",
        "  image = cv2.cvtColor(im, cv2.COLOR_BGR2GRAY)\n",
        "  \n",
        "  # Converte a imagem para o tipo float32.\n",
        "  image32f = np.float32(image)\n",
        "\n",
        "  # Aplica um filtro de média à imagem.\n",
        "  mu = cv2.blur(image32f, (3, 3))\n",
        "\n",
        "  # Aplica um filtro de variância à imagem.\n",
        "  mu2 = cv2.blur(image32f*image32f, (3, 3))\n",
        "  sigma = cv2.sqrt(mu2 - mu*mu)\n",
        "  sigma = sigma * 10\n",
        "  sigma = sigma.astype(\"uint8\")\n",
        "\n",
        "  # Aplica uma limiarização com método de Otsu à imagem.\n",
        "  ret3,th3 = cv2.threshold(sigma,0,255,cv2.THRESH_BINARY+cv2.THRESH_OTSU)\n",
        "\n",
        "  # Define o kernel para dilatação e erosão\n",
        "  kernel = np.ones((5,5), np.uint8)\n",
        "\n",
        "  # Dilata a imagem\n",
        "  img_dilated = cv2.dilate(th3, kernel, iterations=1)\n",
        "\n",
        "  # Erode a imagem\n",
        "  th3 = cv2.erode(img_dilated, kernel, iterations=1)\n",
        "\n",
        "  # Encontra os contornos na imagem limiarizada.\n",
        "  contours, hierarchy = cv2.findContours(th3,cv2.RETR_EXTERNAL,cv2.CHAIN_APPROX_SIMPLE)\n",
        "\n",
        "  # Loop sobre os contornos\n",
        "  for cnt in contours:\n",
        "      # Aproxima o contorno por uma sequência de pontos\n",
        "      approx = cv2.approxPolyDP(cnt, 0.01 * cv2.arcLength(cnt, True), True)\n",
        "      # Calcula a área e o perímetro do contorno\n",
        "      area = cv2.contourArea(cnt)\n",
        "      perimeter = cv2.arcLength(cnt, True)\n",
        "      \n",
        "      # Verifica se o contorno é um círculo\n",
        "      if perimeter > 0:\n",
        "        circularity = 4 * np.pi * area / (perimeter ** 2)\n",
        "      else:\n",
        "        circularity = 0\n",
        "\n",
        "      if circularity > 0.8:\n",
        "          # Desenha um círculo\n",
        "          (x, y), radius = cv2.minEnclosingCircle(cnt)\n",
        "          center = (int(x), int(y))\n",
        "          radius = int(radius)\n",
        "          cv2.circle(img_contours, center, radius, (0, 255, 0), 2)\n",
        "      else:\n",
        "          # Verifica se o contorno é um quadrado\n",
        "          rect = cv2.minAreaRect(cnt)\n",
        "          (x, y), (w, h), angle = rect\n",
        "\n",
        "          if min(w, h) == 0:\n",
        "            aspect_ratio = 0\n",
        "          else:\n",
        "            aspect_ratio = max(w, h) / min(w, h)\n",
        "\n",
        "          if aspect_ratio < 1.1:\n",
        "              # Desenha um quadrado\n",
        "              box = cv2.boxPoints(rect)\n",
        "              box = np.int0(box)\n",
        "              cv2.drawContours(img_contours, [box], 0, (0, 0, 255), 2)\n",
        "\n",
        "  # Mostra a imagem com os contornos desenhados\n",
        "  cv2_imshow(img_contours)"
      ],
      "metadata": {
        "id": "prXv-aRRBJJF"
      },
      "execution_count": null,
      "outputs": []
    }
  ],
  "metadata": {
    "colab": {
      "toc_visible": true,
      "provenance": [],
      "authorship_tag": "ABX9TyPjReaREEZzr8jaBgjGyHM2",
      "include_colab_link": true
    },
    "kernelspec": {
      "display_name": "Python 3",
      "name": "python3"
    },
    "language_info": {
      "name": "python"
    }
  },
  "nbformat": 4,
  "nbformat_minor": 0
}