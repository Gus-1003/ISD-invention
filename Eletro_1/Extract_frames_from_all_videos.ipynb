{
  "nbformat": 4,
  "nbformat_minor": 0,
  "metadata": {
    "colab": {
      "provenance": [],
      "toc_visible": true,
      "mount_file_id": "1CgInapC6v9ICw8ae0BVc2wASHi_iOHbl",
      "authorship_tag": "ABX9TyNPC7kH9nmFxOfAWe4eVBgH",
      "include_colab_link": true
    },
    "kernelspec": {
      "name": "python3",
      "display_name": "Python 3"
    },
    "language_info": {
      "name": "python"
    }
  },
  "cells": [
    {
      "cell_type": "markdown",
      "metadata": {
        "id": "view-in-github",
        "colab_type": "text"
      },
      "source": [
        "<a href=\"https://colab.research.google.com/github/Gus-1003/ISD-invention/blob/main/Eletro_1/Extract_frames_from_all_videos.ipynb\" target=\"_parent\"><img src=\"https://colab.research.google.com/assets/colab-badge.svg\" alt=\"Open In Colab\"/></a>"
      ]
    },
    {
      "cell_type": "markdown",
      "source": [
        "Fontes:\n",
        "\n",
        "* Python - Extracting and Saving Video Frames (Stack overfLow)\n",
        " - https://stackoverflow.com/questions/33311153/python-extracting-and-saving-video-frames\n",
        "* Extract frames from a video with Python (Medium)\n",
        "  - https://levelup.gitconnected.com/extract-frames-from-a-video-5f02cdc49fae"
      ],
      "metadata": {
        "id": "6tL5B6ZxD7au"
      }
    },
    {
      "cell_type": "markdown",
      "source": [
        "## Bibliotecas:"
      ],
      "metadata": {
        "id": "ZN08hhxnO8gb"
      }
    },
    {
      "cell_type": "code",
      "source": [
        "import os\n",
        "\n",
        "# A biblioteca \"os\" fornece funções para interagir com o sistema operacional, como manipulação de caminhos de arquivo, \n",
        "# verificação de existência de arquivos/diretórios, criação de diretórios, etc.\n",
        "\n",
        "import glob\n",
        "\n",
        "# A biblioteca \"glob\" é usada para obter uma lista de caminhos de arquivos que correspondem a um determinado padrão. \n",
        "# É útil para buscar arquivos em um diretório com base em padrões de nomenclatura ou extensões.\n",
        "\n",
        "import cv2\n",
        "\n",
        "# A biblioteca \"OpenCV\" (Open Source Computer Vision Library) é uma biblioteca popular para processamento de imagem e visão computacional. \n",
        "# Ela fornece várias funções e algoritmos para manipulação, análise e processamento de imagens e vídeos.\n",
        "\n",
        "import numpy as np\n",
        "\n",
        "# A biblioteca \"NumPy\" é usada para operações numéricas eficientes em Python. \n",
        "# Ela fornece arrays multidimensionais (ndarrays) que são usados para armazenar e manipular dados numéricos.\n",
        "\n",
        "import pandas as pd\n",
        "\n",
        "# A biblioteca \"Pandas\" fornece estruturas de dados e funções para análise de dados. \n",
        "# Ela é amplamente utilizada para manipulação e análise de dados tabulares, como planilhas ou bancos de dados.\n",
        "\n",
        "from google.colab.patches import cv2_imshow\n",
        "\n",
        "from google.colab import drive\n",
        "\n",
        "# A biblioteca \"drive\" permite montar o Google Drive no ambiente do Google Colab, \n",
        "# facilitando o acesso a arquivos e diretórios armazenados no Google Drive.\n",
        "\n",
        "drive.mount('/content/drive/')\n",
        "\n",
        "# Monta o Google Drive no ambiente do Google Colab, permitindo acessar os arquivos armazenados no Google Drive.\n",
        "\n",
        "%cd /content/drive/MyDrive/\n",
        "\n",
        "# Altera o diretório de trabalho atual para o diretório especificado no Google Drive."
      ],
      "metadata": {
        "id": "VO0M_49NVmGl",
        "colab": {
          "base_uri": "https://localhost:8080/"
        },
        "outputId": "480817cd-a349-46f1-bb73-8a44cc220249"
      },
      "execution_count": 17,
      "outputs": [
        {
          "output_type": "stream",
          "name": "stdout",
          "text": [
            "Drive already mounted at /content/drive/; to attempt to forcibly remount, call drive.mount(\"/content/drive/\", force_remount=True).\n",
            "/content/drive/MyDrive\n"
          ]
        }
      ]
    },
    {
      "cell_type": "markdown",
      "source": [
        "# Executar - Salvando 5 imagens por video de uma pasta de videos:\n"
      ],
      "metadata": {
        "id": "LRqtRwOYBKKd"
      }
    },
    {
      "cell_type": "code",
      "source": [
        "path_list = glob.glob('/content/drive/Shareddrives/Lab Electrofisiologia III - Dados/Experimentos comportamento III/Experimento 15/Vídeos separados - TR e TT/grey_field_videos/*.mp4')\n",
        "\n",
        "destino = '/content/drive/MyDrive/Pesquisa_ISD_IC/Imagens_grey/'\n",
        "\n",
        "for video in path_list:\n",
        "    # read the video file\n",
        "    vidcap = cv2.VideoCapture(video)\n",
        "\n",
        "    success, image = vidcap.read()\n",
        "\n",
        "    if not success:\n",
        "        # break out of the loop if there are no frames to read\n",
        "        break\n",
        "\n",
        "    count = 0\n",
        "    interval = 60  # intervalo em segundos (1 minuto)\n",
        "\n",
        "    nome_completo = video.split('/')\n",
        "    nome = nome_completo[9].split('.')\n",
        "    nome[0]\n",
        "\n",
        "    # create a folder by the name of the video file\n",
        "    # if not os.path.exists(\"{}{}\".format(destino, nome[0])):\n",
        "      # os.makedirs(\"{}{}\".format(destino, nome[0]))\n",
        "\n",
        "    # start the loop\n",
        "    while success and count < 5:\n",
        "      # save frame as JPEG file\n",
        "      cv2.imwrite(\"{}{}_frame{}.jpg\".format(destino, nome[0], count), image)\n",
        "\n",
        "      success, image = vidcap.read()\n",
        "\n",
        "      print('Creating...' + \"{}{}_frame{}.jpg\".format(destino, nome[0], count))\n",
        "      print('Read a new frame: ', success)\n",
        "\n",
        "      # increment the frame count\n",
        "      count += 1\n",
        "\n",
        "      # skip frames based on the interval\n",
        "      vidcap.set(cv2.CAP_PROP_POS_FRAMES, int(vidcap.get(cv2.CAP_PROP_POS_FRAMES)) + interval * vidcap.get(cv2.CAP_PROP_FPS))\n",
        "\n",
        "    # Release all space and windows once done\n",
        "    vidcap.release()\n",
        "    cv2.destroyAllWindows()"
      ],
      "metadata": {
        "id": "sg_4KzeNTLbP"
      },
      "execution_count": null,
      "outputs": []
    },
    {
      "cell_type": "markdown",
      "source": [
        "# Executar - Criando uma estrutura de galeria de cada video 5:"
      ],
      "metadata": {
        "id": "uLSzqwZfpM1V"
      }
    },
    {
      "cell_type": "code",
      "source": [
        "# Função para remover os ratos e obter a imagem resultante\n",
        "def remove_rats(images):\n",
        "\n",
        "  # Convertendo as imagens em formato de array numpy individualmente\n",
        "  images_array = [np.array(image) for image in images]\n",
        "\n",
        "  # Calculando a mediana ao longo do eixo temporal (eixo 0)\n",
        "  median_image = np.median(images_array, axis=0)\n",
        "\n",
        "  # Convertendo a imagem resultante de volta para o tipo de dados uint8\n",
        "  median_image = median_image.astype('uint8')\n",
        "\n",
        "  return median_image"
      ],
      "metadata": {
        "id": "X-o608xj-Jbt"
      },
      "execution_count": 35,
      "outputs": []
    },
    {
      "cell_type": "code",
      "source": [
        "path_list = glob.glob('/content/drive/Shareddrives/Lab Electrofisiologia III - Dados/Experimentos comportamento III/Experimento 17/Vídeos separados (explo)/campo preto/*.mpg')\n",
        "\n",
        "destino = '/content/drive/MyDrive/Pesquisa_ISD_IC/Teste_Massivo/'\n",
        "\n",
        "# Imprime os elementos da lista com quebras de linha entre cada elemento\n",
        "print('\\n'.join(path_list))"
      ],
      "metadata": {
        "id": "v0pnUfM5EhCS"
      },
      "execution_count": null,
      "outputs": []
    },
    {
      "cell_type": "code",
      "source": [
        "# Lista para armazenar o número \"x\"\n",
        "images = []\n",
        "\n",
        "for video in path_list:\n",
        "  # read the video file\n",
        "  vidcap = cv2.VideoCapture(video)\n",
        "\n",
        "  success, image = vidcap.read()\n",
        "\n",
        "  if not success:\n",
        "      # break out of the loop if there are no frames to read\n",
        "      break\n",
        "\n",
        "  count = 0\n",
        "  interval = 60  # intervalo em segundos (1 minuto)\n",
        "\n",
        "  # Divide o caminho do arquivo e obtém o nome do frame\n",
        "  nome_completo = video.split('/')\n",
        "  nome = nome_completo[9].split('.')\n",
        "\n",
        "  # start the loop\n",
        "  while success and count < 5:\n",
        "    # save frame as JPEG file\n",
        "    success, image = vidcap.read()\n",
        "\n",
        "    clone = image.copy()\n",
        "\n",
        "    images.append(clone)  # Criar uma cópia da imagem para evitar referências indesejadas\n",
        "\n",
        "    # increment the frame count\n",
        "    count += 1\n",
        "\n",
        "    # skip frames based on the interval\n",
        "    vidcap.set(cv2.CAP_PROP_POS_FRAMES, int(vidcap.get(cv2.CAP_PROP_POS_FRAMES)) + interval * vidcap.get(cv2.CAP_PROP_FPS))\n",
        "\n",
        "  # Chamar a função remove_rats com a lista de números \"x\"\n",
        "  result = remove_rats(images)\n",
        "\n",
        "  # Exibe a imagem com os contornos encontrados\n",
        "  cv2_imshow(result)\n",
        "\n",
        "  output_path = os.path.join(destino, f\"{nome[0]}.jpg\")\n",
        "  print(output_path)\n",
        "\n",
        "  # Salvar a imagem resultante\n",
        "  cv2.imwrite(output_path, result)\n",
        "\n",
        "  # Limpar a lista de imagens para o próximo vídeo\n",
        "  images.clear()"
      ],
      "metadata": {
        "id": "BjTh6G_mBJf8"
      },
      "execution_count": null,
      "outputs": []
    }
  ]
}