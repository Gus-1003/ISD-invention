{
  "nbformat": 4,
  "nbformat_minor": 0,
  "metadata": {
    "colab": {
      "provenance": [],
      "mount_file_id": "1CgInapC6v9ICw8ae0BVc2wASHi_iOHbl",
      "authorship_tag": "ABX9TyNSaCL94MrDNm+lIQ0ChRq8",
      "include_colab_link": true
    },
    "kernelspec": {
      "name": "python3",
      "display_name": "Python 3"
    },
    "language_info": {
      "name": "python"
    }
  },
  "cells": [
    {
      "cell_type": "markdown",
      "metadata": {
        "id": "view-in-github",
        "colab_type": "text"
      },
      "source": [
        "<a href=\"https://colab.research.google.com/github/Gus-1003/ISD-invention/blob/main/Eletro_1/Extract_frames_from_all_videos.ipynb\" target=\"_parent\"><img src=\"https://colab.research.google.com/assets/colab-badge.svg\" alt=\"Open In Colab\"/></a>"
      ]
    },
    {
      "cell_type": "markdown",
      "source": [
        "Fontes:\n",
        "\n",
        "* Python - Extracting and Saving Video Frames (Stack overfLow)\n",
        " - https://stackoverflow.com/questions/33311153/python-extracting-and-saving-video-frames\n",
        "* Extract frames from a video with Python (Medium)\n",
        "  - https://levelup.gitconnected.com/extract-frames-from-a-video-5f02cdc49fae"
      ],
      "metadata": {
        "id": "6tL5B6ZxD7au"
      }
    },
    {
      "cell_type": "markdown",
      "source": [
        "## Bibliotecas:"
      ],
      "metadata": {
        "id": "ZN08hhxnO8gb"
      }
    },
    {
      "cell_type": "code",
      "source": [
        "import cv2\n",
        "from google.colab.patches import cv2_imshow\n",
        "import os\n",
        "import glob"
      ],
      "metadata": {
        "id": "VO0M_49NVmGl"
      },
      "execution_count": 27,
      "outputs": []
    },
    {
      "cell_type": "code",
      "source": [
        "from google.colab import drive\n",
        "drive.mount('/content/drive/')\n",
        "%cd /content/drive/MyDrive/"
      ],
      "metadata": {
        "colab": {
          "base_uri": "https://localhost:8080/"
        },
        "id": "NR0bMt3JXpBA",
        "outputId": "aef56780-ef80-4957-82e5-5b0ceadd00b7"
      },
      "execution_count": 14,
      "outputs": [
        {
          "output_type": "stream",
          "name": "stdout",
          "text": [
            "Drive already mounted at /content/drive/; to attempt to forcibly remount, call drive.mount(\"/content/drive/\", force_remount=True).\n",
            "/content/drive/MyDrive\n"
          ]
        }
      ]
    },
    {
      "cell_type": "markdown",
      "source": [
        "# Executar:\n"
      ],
      "metadata": {
        "id": "LRqtRwOYBKKd"
      }
    },
    {
      "cell_type": "markdown",
      "source": [
        "## Pasta de Origem dos videos (Lista de videos):"
      ],
      "metadata": {
        "id": "mYo5JrulEXkC"
      }
    },
    {
      "cell_type": "code",
      "source": [
        "path_list = glob.glob('')\n",
        "path_list"
      ],
      "metadata": {
        "id": "khQn7eam_bNm"
      },
      "execution_count": null,
      "outputs": []
    },
    {
      "cell_type": "markdown",
      "source": [
        "## Leitura e quebra dos videos frame a frame:"
      ],
      "metadata": {
        "id": "w_AEaA4DEgEZ"
      }
    },
    {
      "cell_type": "code",
      "source": [
        "dir = ''\n",
        "\n",
        "for video in path_list:\n",
        "\n",
        "  # read the video file\n",
        "  vidcap = cv2.VideoCapture(video)\n",
        "\n",
        "  success,image = vidcap.read()\n",
        "\n",
        "  if not success:\n",
        "    # break out of the loop if there are no frames to read\n",
        "    break\n",
        "\n",
        "  count = 0\n",
        "\n",
        "  nome_completo = video.split('/')\n",
        "  nome = nome_completo[8].split('.')\n",
        "  nome[0]\n",
        "\n",
        "  # make a folder by the name of the video file\n",
        "  if not os.path.exists(\"{}{}\".format(dir,nome[0])):\n",
        "      os.makedirs(\"{}{}\".format(dir,nome[0]))\n",
        "\n",
        "  # start the loop\n",
        "  while success:\n",
        "\n",
        "    # save frame as JPEG file \n",
        "    cv2.imwrite(\"{}{}/frame{}.jpg\".format(dir,nome[0],count), image)\n",
        "\n",
        "    success,image = vidcap.read()\n",
        "\n",
        "    print ('Creating...' + \"{}{}/frame{}.jpg\".format(dir,nome[0],count))\n",
        "    print('Read a new frame: ', success)\n",
        "\n",
        "    # increment the frame count\n",
        "    count += 1\n",
        "\n",
        "  # Release all space and windows once done\n",
        "  vidcap.release()\n",
        "  cv2.destroyAllWindows()"
      ],
      "metadata": {
        "id": "sg_4KzeNTLbP"
      },
      "execution_count": null,
      "outputs": []
    },
    {
      "cell_type": "code",
      "source": [
        "# print(video)\n",
        "# print(\"{}{}/frame{}.jpg\".format(dir,nome[0],count))"
      ],
      "metadata": {
        "id": "jWRCjxaF7j2X"
      },
      "execution_count": null,
      "outputs": []
    },
    {
      "cell_type": "code",
      "source": [
        "file = ''\n",
        "im = cv2.imread(file)\n",
        "cv2_imshow(im)"
      ],
      "metadata": {
        "id": "WCBXKfevNSGF"
      },
      "execution_count": null,
      "outputs": []
    }
  ]
}