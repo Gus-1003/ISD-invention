{
  "nbformat": 4,
  "nbformat_minor": 0,
  "metadata": {
    "colab": {
      "provenance": [],
      "toc_visible": true,
      "mount_file_id": "1CgInapC6v9ICw8ae0BVc2wASHi_iOHbl",
      "authorship_tag": "ABX9TyMcd8PIZ6t6lrSur2cmWT8G",
      "include_colab_link": true
    },
    "kernelspec": {
      "name": "python3",
      "display_name": "Python 3"
    },
    "language_info": {
      "name": "python"
    }
  },
  "cells": [
    {
      "cell_type": "markdown",
      "metadata": {
        "id": "view-in-github",
        "colab_type": "text"
      },
      "source": [
        "<a href=\"https://colab.research.google.com/github/Gus-1003/ISD-invention/blob/main/Eletro_1/Extract_frames_from_all_videos.ipynb\" target=\"_parent\"><img src=\"https://colab.research.google.com/assets/colab-badge.svg\" alt=\"Open In Colab\"/></a>"
      ]
    },
    {
      "cell_type": "markdown",
      "source": [
        "Fontes:\n",
        "\n",
        "* Python - Extracting and Saving Video Frames (Stack overfLow)\n",
        " - https://stackoverflow.com/questions/33311153/python-extracting-and-saving-video-frames\n",
        "* Extract frames from a video with Python (Medium)\n",
        "  - https://levelup.gitconnected.com/extract-frames-from-a-video-5f02cdc49fae"
      ],
      "metadata": {
        "id": "6tL5B6ZxD7au"
      }
    },
    {
      "cell_type": "markdown",
      "source": [
        "## Bibliotecas:"
      ],
      "metadata": {
        "id": "ZN08hhxnO8gb"
      }
    },
    {
      "cell_type": "code",
      "source": [
        "import os\n",
        "\n",
        "# A biblioteca \"os\" fornece funções para interagir com o sistema operacional, como manipulação de caminhos de arquivo, \n",
        "# verificação de existência de arquivos/diretórios, criação de diretórios, etc.\n",
        "\n",
        "import glob\n",
        "\n",
        "# A biblioteca \"glob\" é usada para obter uma lista de caminhos de arquivos que correspondem a um determinado padrão. \n",
        "# É útil para buscar arquivos em um diretório com base em padrões de nomenclatura ou extensões.\n",
        "\n",
        "import cv2\n",
        "\n",
        "# A biblioteca \"OpenCV\" (Open Source Computer Vision Library) é uma biblioteca popular para processamento de imagem e visão computacional. \n",
        "# Ela fornece várias funções e algoritmos para manipulação, análise e processamento de imagens e vídeos.\n",
        "\n",
        "import numpy as np\n",
        "\n",
        "# A biblioteca \"NumPy\" é usada para operações numéricas eficientes em Python. \n",
        "# Ela fornece arrays multidimensionais (ndarrays) que são usados para armazenar e manipular dados numéricos.\n",
        "\n",
        "import pandas as pd\n",
        "\n",
        "# A biblioteca \"Pandas\" fornece estruturas de dados e funções para análise de dados. \n",
        "# Ela é amplamente utilizada para manipulação e análise de dados tabulares, como planilhas ou bancos de dados.\n",
        "\n",
        "from google.colab.patches import cv2_imshow\n",
        "\n",
        "from google.colab import drive\n",
        "\n",
        "# A biblioteca \"drive\" permite montar o Google Drive no ambiente do Google Colab, \n",
        "# facilitando o acesso a arquivos e diretórios armazenados no Google Drive.\n",
        "\n",
        "drive.mount('/content/drive/')\n",
        "\n",
        "# Monta o Google Drive no ambiente do Google Colab, permitindo acessar os arquivos armazenados no Google Drive.\n",
        "\n",
        "%cd /content/drive/MyDrive/\n",
        "\n",
        "# Altera o diretório de trabalho atual para o diretório especificado no Google Drive."
      ],
      "metadata": {
        "id": "VO0M_49NVmGl",
        "colab": {
          "base_uri": "https://localhost:8080/"
        },
        "outputId": "2eb053f1-3532-4cac-d6b1-c4321e2dda30"
      },
      "execution_count": 2,
      "outputs": [
        {
          "output_type": "stream",
          "name": "stdout",
          "text": [
            "Drive already mounted at /content/drive/; to attempt to forcibly remount, call drive.mount(\"/content/drive/\", force_remount=True).\n",
            "/content/drive/MyDrive\n"
          ]
        }
      ]
    },
    {
      "cell_type": "markdown",
      "source": [
        "# Executar - Salvando 5 imagens por video de uma pasta de videos:\n"
      ],
      "metadata": {
        "id": "LRqtRwOYBKKd"
      }
    },
    {
      "cell_type": "code",
      "source": [
        "path_list = glob.glob('/content/drive/Shareddrives/Lab Electrofisiologia III - Dados/Experimentos comportamento III/Experimento 15/Vídeos separados - TR e TT/grey_field_videos/*.mp4')\n",
        "\n",
        "destino = '/content/drive/MyDrive/Pesquisa_ISD_IC/Imagens_grey/'\n",
        "\n",
        "for video in path_list:\n",
        "    # read the video file\n",
        "    vidcap = cv2.VideoCapture(video)\n",
        "\n",
        "    success, image = vidcap.read()\n",
        "\n",
        "    if not success:\n",
        "        # break out of the loop if there are no frames to read\n",
        "        break\n",
        "\n",
        "    count = 0\n",
        "    interval = 60  # intervalo em segundos (1 minuto)\n",
        "\n",
        "    nome_completo = video.split('/')\n",
        "    nome = nome_completo[9].split('.')\n",
        "    nome[0]\n",
        "\n",
        "    # create a folder by the name of the video file\n",
        "    # if not os.path.exists(\"{}{}\".format(destino, nome[0])):\n",
        "      # os.makedirs(\"{}{}\".format(destino, nome[0]))\n",
        "\n",
        "    # start the loop\n",
        "    while success and count < 5:\n",
        "      # save frame as JPEG file\n",
        "      cv2.imwrite(\"{}{}_frame{}.jpg\".format(destino, nome[0], count), image)\n",
        "\n",
        "      success, image = vidcap.read()\n",
        "\n",
        "      print('Creating...' + \"{}{}_frame{}.jpg\".format(destino, nome[0], count))\n",
        "      print('Read a new frame: ', success)\n",
        "\n",
        "      # increment the frame count\n",
        "      count += 1\n",
        "\n",
        "      # skip frames based on the interval\n",
        "      vidcap.set(cv2.CAP_PROP_POS_FRAMES, int(vidcap.get(cv2.CAP_PROP_POS_FRAMES)) + interval * vidcap.get(cv2.CAP_PROP_FPS))\n",
        "\n",
        "    # Release all space and windows once done\n",
        "    vidcap.release()\n",
        "    cv2.destroyAllWindows()"
      ],
      "metadata": {
        "id": "sg_4KzeNTLbP"
      },
      "execution_count": null,
      "outputs": []
    },
    {
      "cell_type": "markdown",
      "source": [
        "# Executar - Criando uma estrutura de galeria de cada video 5:"
      ],
      "metadata": {
        "id": "uLSzqwZfpM1V"
      }
    },
    {
      "cell_type": "code",
      "source": [
        "def remove_rats(videos_frames):\n",
        "  # Criando uma lista com as três imagens\n",
        "  images = [im1, im2, im3]\n",
        "\n",
        "  # Convertendo as imagens em formato de array numpy\n",
        "  images_array = np.array(images)\n",
        "\n",
        "  # Calculando a mediana ao longo do eixo temporal (eixo 0)\n",
        "  median_image = np.median(images_array, axis=0)\n",
        "\n",
        "  # Convertendo a imagem resultante de volta para o tipo de dados uint8\n",
        "  median_image = median_image.astype('uint8')\n",
        "\n",
        "  cv2_imshow(median_image)"
      ],
      "metadata": {
        "id": "9983zsIJpsmG"
      },
      "execution_count": null,
      "outputs": []
    },
    {
      "cell_type": "code",
      "source": [
        "path_list = glob.glob('/content/drive/Shareddrives/Lab Electrofisiologia III - Dados/Experimentos comportamento III/Experimento 17/Vídeos separados (explo)/campo preto/*.mpg')\n",
        "destino = '/content/drive/MyDrive/Pesquisa_ISD_IC/test/'\n",
        "\n",
        "videos_frames = {}  # Dicionário para armazenar os frames de cada vídeo\n",
        "\n",
        "for video in path_list:\n",
        "    # read the video file\n",
        "    vidcap = cv2.VideoCapture(video)\n",
        "\n",
        "    success, image = vidcap.read()\n",
        "\n",
        "    if not success:\n",
        "        # break out of the loop if there are no frames to read\n",
        "        break\n",
        "\n",
        "    count = 0\n",
        "    interval = 60  # intervalo em segundos (1 minuto)\n",
        "\n",
        "    nome_completo = video.split('/')\n",
        "    nome = nome_completo[9].split('.')\n",
        "    nome[0]\n",
        "\n",
        "    video_frames = []  # Lista para armazenar os frames do vídeo\n",
        "\n",
        "    # start the loop\n",
        "    while success and count < 5:\n",
        "        # save frame as JPEG file\n",
        "        frame_path = \"{}{}_frame{}.jpg\".format(destino, nome[0], count)\n",
        "       \n",
        "        video_frames.append(frame_path)  # Adiciona o caminho do frame à lista de frames do vídeo\n",
        "\n",
        "        success, image = vidcap.read()\n",
        "\n",
        "        print('Creating...' + frame_path)\n",
        "        print('Read a new frame: ', success)\n",
        "\n",
        "        # increment the frame count\n",
        "        count += 1\n",
        "\n",
        "        # skip frames based on the interval\n",
        "        vidcap.set(cv2.CAP_PROP_POS_FRAMES, int(vidcap.get(cv2.CAP_PROP_POS_FRAMES)) + interval * vidcap.get(cv2.CAP_PROP_FPS))\n",
        "\n",
        "    # Armazena a lista de frames do vídeo no dicionário\n",
        "    videos_frames[nome[0]] = video_frames\n",
        "\n",
        "    # Release all space and windows once done\n",
        "    vidcap.release()\n",
        "    cv2.destroyAllWindows()\n",
        "\n",
        "# Função para remover os ratos e obter a imagem resultante\n",
        "def remove_rats(images):\n",
        "  \n",
        "  if len(images) == 0:\n",
        "    return None\n",
        "\n",
        "  # Convertendo as imagens em formato de array numpy\n",
        "  images_array = np.array(images)\n",
        "\n",
        "  # Calculando a mediana ao longo do eixo temporal (eixo 0)\n",
        "  median_image = np.median(images_array, axis=0)\n",
        "\n",
        "  # Convertendo a imagem resultante de volta para o tipo de dados uint8\n",
        "  median_image = median_image.astype('uint8')\n",
        "\n",
        "  return median_image\n",
        "\n",
        "# Dicionário para armazenar as imagens resultantes de cada vídeo\n",
        "videos_results = {}\n",
        "\n",
        "for video, frames in videos_frames.items():\n",
        "    # Criando uma lista vazia para armazenar os frames convertidos em imagens\n",
        "    video_images = []\n",
        "\n",
        "    for frame in frames:\n",
        "        # Carregar e processar cada frame\n",
        "        image = cv2.imread(frame)\n",
        "        # ... realizar o processamento necessário ...\n",
        "\n",
        "        # Adicionar a imagem processada à lista\n",
        "        video_images.append(image)\n",
        "\n",
        "    # Chamar a função remove_rats para obter a imagem resultante\n",
        "    video_result = remove_rats(video_images)\n",
        "\n",
        "    # Armazenar a imagem resultante no dicionário de resultados\n",
        "    videos_results[video] = video_result"
      ],
      "metadata": {
        "id": "_x1HeWwLpDq-"
      },
      "execution_count": null,
      "outputs": []
    }
  ]
}