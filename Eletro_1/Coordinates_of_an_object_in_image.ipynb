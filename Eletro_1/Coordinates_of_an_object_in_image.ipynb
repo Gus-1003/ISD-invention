{
  "cells": [
    {
      "cell_type": "markdown",
      "metadata": {
        "id": "view-in-github",
        "colab_type": "text"
      },
      "source": [
        "<a href=\"https://colab.research.google.com/github/Gus-1003/ISD-invention/blob/main/Eletro_1/Coordinates_of_an_object_in_image.ipynb\" target=\"_parent\"><img src=\"https://colab.research.google.com/assets/colab-badge.svg\" alt=\"Open In Colab\"/></a>"
      ]
    },
    {
      "cell_type": "markdown",
      "metadata": {
        "id": "wfwroNMHEkBP"
      },
      "source": [
        "# Bibliotecas:"
      ]
    },
    {
      "cell_type": "markdown",
      "metadata": {
        "id": "4FVToc8LFEbf"
      },
      "source": [
        "## Manipulação de Dados:"
      ]
    },
    {
      "cell_type": "code",
      "execution_count": 1,
      "metadata": {
        "id": "MRBrOywVEr55"
      },
      "outputs": [],
      "source": [
        "# Importa a biblioteca glob para obter uma lista de caminhos de arquivos que correspondem a um determinado padrão.\n",
        "import glob\n",
        "# Importa a biblioteca OpenCV para processamento de imagem.\n",
        "import cv2\n",
        "# Importa a biblioteca NumPy para operações numéricas.\n",
        "import numpy as np\n",
        "\n",
        "import pandas as pd"
      ]
    },
    {
      "cell_type": "markdown",
      "metadata": {
        "id": "tRoT7U0yFBc_"
      },
      "source": [
        "## OpenCV"
      ]
    },
    {
      "cell_type": "code",
      "execution_count": 2,
      "metadata": {
        "id": "SsqKTrIeEuSH"
      },
      "outputs": [],
      "source": [
        "from google.colab.patches import cv2_imshow"
      ]
    },
    {
      "cell_type": "markdown",
      "metadata": {
        "id": "dpOmpuBGE_Xj"
      },
      "source": [
        "## Drive"
      ]
    },
    {
      "cell_type": "code",
      "execution_count": 3,
      "metadata": {
        "colab": {
          "base_uri": "https://localhost:8080/"
        },
        "id": "WCuGqvHnE9a7",
        "outputId": "2bb2474b-8a7a-459e-b287-5598d44d2ca8"
      },
      "outputs": [
        {
          "output_type": "stream",
          "name": "stdout",
          "text": [
            "Mounted at /content/drive/\n",
            "/content/drive/MyDrive\n"
          ]
        }
      ],
      "source": [
        "from google.colab.patches import cv2_imshow\n",
        "\n",
        "from google.colab import drive\n",
        "drive.mount('/content/drive/')\n",
        "%cd /content/drive/MyDrive/"
      ]
    },
    {
      "cell_type": "markdown",
      "metadata": {
        "id": "m1qxx28dFPQi"
      },
      "source": [
        "# Leitura do Pacote de Imagens"
      ]
    },
    {
      "cell_type": "code",
      "execution_count": 4,
      "metadata": {
        "id": "BXxoDcXVJ_6o"
      },
      "outputs": [],
      "source": [
        "# Variável path_list armazena uma lista de caminhos de arquivos que correspondem ao padrão especificado.\n",
        "\n",
        "path_list = glob.glob('/content/drive/MyDrive/Pesquisa_ISD_IC/Base de Dados/*.jpg')\n",
        "\n",
        "#path_list = glob.glob('/content/drive/MyDrive/Pesquisa_ISD_IC/Images_teste/*.jpg')"
      ]
    },
    {
      "cell_type": "markdown",
      "metadata": {
        "id": "rUMJhziIKTU5"
      },
      "source": [
        "# Algoritmo de identificação:"
      ]
    },
    {
      "cell_type": "markdown",
      "metadata": {
        "id": "r7KZFA0XzI12"
      },
      "source": [
        "## Criação de Series para armazenar dados:"
      ]
    },
    {
      "cell_type": "code",
      "execution_count": 5,
      "metadata": {
        "id": "W1PddO9pon6b"
      },
      "outputs": [],
      "source": [
        "nomes = []\n",
        "formas = []\n",
        "areas = []\n",
        "circularitys = []\n",
        "radios = []"
      ]
    },
    {
      "cell_type": "markdown",
      "metadata": {
        "id": "GQl0UBTozNpR"
      },
      "source": [
        "## Processamento:"
      ]
    },
    {
      "cell_type": "markdown",
      "metadata": {
        "id": "HA0fNc01-9QA"
      },
      "source": [
        "Estudo do OpenCV: https://learnopencv.com/getting-started-with-opencv/"
      ]
    },
    {
      "cell_type": "code",
      "execution_count": null,
      "metadata": {
        "id": "2xGFGcIyEfHT"
      },
      "outputs": [],
      "source": [
        "# Loop que processa cada arquivo na lista de caminhos de arquivos.\n",
        "for frame in path_list:\n",
        "\n",
        "  # The function cv2.imread() is used to read an image.\n",
        "  im = cv2.imread(frame)\n",
        "\n",
        "  # Separa o nome especifico da imagem.\n",
        "  nome_completo = frame.split('/')\n",
        "  nome = nome_completo[6].split('.')\n",
        "  nome[0]\n",
        "\n",
        "  # Imprime as fronteiras e identifica as imagens:\n",
        "  print(\"================================================================================\")\n",
        "  print(\"================================================================================\") \n",
        "  print(nome[0])\n",
        "\n",
        "  # Cria uma cópia da imagem original.\n",
        "  img_contours = im.copy()\n",
        "\n",
        "  # Converte a imagem para o espaço de cores em escala de cinza.\n",
        "  image = cv2.cvtColor(im, cv2.COLOR_BGR2GRAY)\n",
        "  \n",
        "  # Converte a imagem para o tipo float32.\n",
        "  image32f = np.float32(image)\n",
        "\n",
        "  # Aplica um filtro de média à imagem.\n",
        "  mu = cv2.blur(image32f, (3, 3))\n",
        "\n",
        "  # Aplica um filtro de variância à imagem.\n",
        "  mu2 = cv2.blur(image32f*image32f, (3, 3))\n",
        "  sigma = cv2.sqrt(mu2 - mu*mu)\n",
        "  sigma = sigma * 10\n",
        "  sigma = sigma.astype(\"uint8\")\n",
        "\n",
        "  # Aplica um filtro de borramento com kernel de 5x5\n",
        "  sigma = cv2.GaussianBlur(sigma, (5, 5), 0)  \n",
        "\n",
        "  # Aplica uma limiarização com método de Otsu à imagem.\n",
        "  ret3,th3 = cv2.threshold(sigma,0,255, cv2.THRESH_BINARY + cv2.THRESH_OTSU)\n",
        "\n",
        "  # Define o kernel para dilatação e erosão\n",
        "  kernel = np.ones((3,3), np.uint8)\n",
        "\n",
        "  # Dilata a imagem\n",
        "  img_dilated = cv2.dilate(th3, kernel, iterations=2)\n",
        "\n",
        "  # Erode a imagem\n",
        "  th3 = cv2.erode(img_dilated, kernel, iterations=2)\n",
        "\n",
        "  # Encontra os contornos na imagem limiarizada.\n",
        "  contours, hierarchy = cv2.findContours(th3, cv2.RETR_TREE, cv2.CHAIN_APPROX_SIMPLE) # https://doi.org/10.1016/0734-189X(85)90016-7\n",
        "\n",
        "  # Loop sobre os contornos\n",
        "  for cnt in contours:\n",
        "\n",
        "    # Aproxima o contorno por uma sequência de pontos\n",
        "    approx = cv2.approxPolyDP(cnt, 0.01 * cv2.arcLength(cnt, True), True)\n",
        "\n",
        "    # Calcula a área e o perímetro do contorno\n",
        "    area = cv2.contourArea(cnt)\n",
        "    perimeter = cv2.arcLength(cnt, True)\n",
        "\n",
        "    # Verifica se o contorno é um círculo\n",
        "    if perimeter > 0:\n",
        "      circularity = 4 * np.pi * area / (perimeter ** 2)\n",
        "    else:\n",
        "      circularity = 0\n",
        "\n",
        "    # Desenha um círculo\n",
        "    if circularity > 0.39:\n",
        "\n",
        "      forma = \"circulo\"\n",
        "\n",
        "      (x, y), radius = cv2.minEnclosingCircle(cnt)\n",
        "\n",
        "      # Limita o raio máximo do círculo\n",
        "      max_radius = 100  # Define o raio máximo desejado\n",
        "      radius = min(radius, max_radius)  # Limita o raio ao valor máximo\n",
        "\n",
        "      center = (int(x), int(y))\n",
        "      radius = int(radius)\n",
        "\n",
        "      #if area > 2000 or circularity > 53:\n",
        "      if area > 2000:\n",
        "        if radius < 100 and radius > 20:\n",
        "          cv2.circle(img_contours, center, radius, (255, 0, 0), 2)\n",
        "      \n",
        "      print(\"circularity (Circulo): \" + str(circularity)  + \" / Area (Circulo): \" + str(area)  + \" / radius (Circulo): \" + str(radius))\n",
        "\n",
        "    # Desenha um quadrado\n",
        "    else:\n",
        "      rect = cv2.minAreaRect(cnt)\n",
        "      \n",
        "      forma = \"quadrado\"\n",
        "      radius = 0\n",
        "\n",
        "      (x, y), (w, h), angle = rect\n",
        "\n",
        "      if min(w, h) == 0:\n",
        "        aspect_ratio = 0\n",
        "      else:\n",
        "        aspect_ratio = max(w, h) / min(w, h)\n",
        "      \n",
        "      print(\"circularity (Quadrado): \" + str(circularity)  + \" / Area (Quadrado): \" + str(area)  + \" / aspect_ratio (Quadrado): \" + str(aspect_ratio))\n",
        "\n",
        "      #if aspect_ratio < 1.1:\n",
        "      if aspect_ratio < 3:  \n",
        "        # Desenha um quadrado\n",
        "        box = cv2.boxPoints(rect)\n",
        "        box = np.int0(box)\n",
        "\n",
        "        if area > 65:\n",
        "          cv2.drawContours(img_contours, [box], 0, (0, 0, 255), 2)\n",
        "      \n",
        "\n",
        "\n",
        "    nomes.append(nome[0])\n",
        "    formas.append(forma)\n",
        "    circularitys.append(circularity)\n",
        "    areas.append(area)\n",
        "    radios.append(radius)\n",
        "\n",
        "  # Exibe a imagem filtro de média\n",
        "  #cv2_imshow(mu)\n",
        "  # Exibe a imagem pos-filtro.\n",
        "  cv2_imshow(sigma)\n",
        "  # Exibe a imagem limiarizada.\n",
        "  cv2_imshow(th3)\n",
        "  # Exibe a imagem original copiada com os contornos encontrados.\n",
        "  cv2_imshow(img_contours)\n",
        "  print()\n",
        "  print()\n",
        "  print()"
      ]
    },
    {
      "cell_type": "markdown",
      "metadata": {
        "id": "0T1yGoPrvv6J"
      },
      "source": [
        "# Construção de um dataset:"
      ]
    },
    {
      "cell_type": "code",
      "execution_count": 7,
      "metadata": {
        "id": "i2lExRgNq5Di"
      },
      "outputs": [],
      "source": [
        "features_1 = {'nome': nomes, 'forma': formas, 'area': areas, 'cicularity': circularitys, 'aspect_ratio': aspect_ratio, 'radius': radios}"
      ]
    },
    {
      "cell_type": "code",
      "execution_count": 8,
      "metadata": {
        "id": "Rh86wBVeuf4w",
        "colab": {
          "base_uri": "https://localhost:8080/",
          "height": 36
        },
        "outputId": "dcc9fed2-dffc-41a9-a5ca-82085c8d946f"
      },
      "outputs": [
        {
          "output_type": "execute_result",
          "data": {
            "text/plain": [
              "'Somatoria35'"
            ],
            "application/vnd.google.colaboratory.intrinsic+json": {
              "type": "string"
            }
          },
          "metadata": {},
          "execution_count": 8
        }
      ],
      "source": [
        "count = 0\n",
        "\n",
        "nome_completo = frame.split('/')\n",
        "nome = nome_completo[6].split('.')\n",
        "nome[0]"
      ]
    },
    {
      "cell_type": "code",
      "execution_count": null,
      "metadata": {
        "id": "DO-o_FvirKvf"
      },
      "outputs": [],
      "source": [
        "df = pd.DataFrame(features_1) \n",
        "df"
      ]
    }
  ],
  "metadata": {
    "colab": {
      "provenance": [],
      "authorship_tag": "ABX9TyNxbLoijgGCzNXvHBlqrR69",
      "include_colab_link": true
    },
    "kernelspec": {
      "display_name": "Python 3",
      "name": "python3"
    },
    "language_info": {
      "name": "python"
    }
  },
  "nbformat": 4,
  "nbformat_minor": 0
}