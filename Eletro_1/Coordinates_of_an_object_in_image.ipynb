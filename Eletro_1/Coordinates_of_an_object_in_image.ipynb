{
  "nbformat": 4,
  "nbformat_minor": 0,
  "metadata": {
    "colab": {
      "provenance": [],
      "mount_file_id": "14aCfAw6LEWsVJHAJpqjJP7feKRGsIl0d",
      "authorship_tag": "ABX9TyPuQwl4ifCGInC8pMFEsBPE",
      "include_colab_link": true
    },
    "kernelspec": {
      "name": "python3",
      "display_name": "Python 3"
    },
    "language_info": {
      "name": "python"
    }
  },
  "cells": [
    {
      "cell_type": "markdown",
      "metadata": {
        "id": "view-in-github",
        "colab_type": "text"
      },
      "source": [
        "<a href=\"https://colab.research.google.com/github/Gus-1003/ISD-invention/blob/main/Eletro_1/Coordinates_of_an_object_in_image.ipynb\" target=\"_parent\"><img src=\"https://colab.research.google.com/assets/colab-badge.svg\" alt=\"Open In Colab\"/></a>"
      ]
    },
    {
      "cell_type": "markdown",
      "source": [
        "# Bibliotecas e Imports:\n"
      ],
      "metadata": {
        "id": "5cIUoWdNDD2D"
      }
    },
    {
      "cell_type": "code",
      "execution_count": 1,
      "metadata": {
        "id": "U2CvoTA6i0tz"
      },
      "outputs": [],
      "source": [
        "import numpy as np\n",
        "import cv2\n",
        "from matplotlib import pyplot as plt\n",
        " \n",
        "import os\n",
        "\n",
        "from google.colab.patches import cv2_imshow"
      ]
    },
    {
      "cell_type": "code",
      "source": [
        "from google.colab import drive\n",
        "drive.mount('/content/drive/')\n",
        "%cd /content/drive/MyDrive/"
      ],
      "metadata": {
        "colab": {
          "base_uri": "https://localhost:8080/"
        },
        "id": "DykR0Ak3wZoN",
        "outputId": "a382a0e1-82eb-4d77-d8a6-9e257dbf9cc9"
      },
      "execution_count": 2,
      "outputs": [
        {
          "output_type": "stream",
          "name": "stdout",
          "text": [
            "Drive already mounted at /content/drive/; to attempt to forcibly remount, call drive.mount(\"/content/drive/\", force_remount=True).\n",
            "/content/drive/MyDrive\n"
          ]
        }
      ]
    },
    {
      "cell_type": "markdown",
      "source": [
        "# Carregando Imagem:"
      ],
      "metadata": {
        "id": "4tQNTwVHDIzd"
      }
    },
    {
      "cell_type": "code",
      "source": [
        "# Load image\n",
        "im = cv2.imread('Endereço Imagem')"
      ],
      "metadata": {
        "id": "lDJ7zb9tjHn7"
      },
      "execution_count": 3,
      "outputs": []
    },
    {
      "cell_type": "markdown",
      "source": [
        "## Pre-processamento:"
      ],
      "metadata": {
        "id": "f1Ks8sOYDNI6"
      }
    },
    {
      "cell_type": "code",
      "source": [
        "# (B, G, R) = cv2.split(im)\n",
        "# cv2_imshow(G)"
      ],
      "metadata": {
        "id": "paxzlkOOrM7O"
      },
      "execution_count": 4,
      "outputs": []
    },
    {
      "cell_type": "code",
      "source": [
        "# Convert to grayscale and threshold\n",
        "# imgray = cv2.cvtColor(im,cv2.COLOR_BGR2GRAY)\n",
        "# cv2_imshow(imgray)"
      ],
      "metadata": {
        "id": "NbArBYUFq4Ho"
      },
      "execution_count": 5,
      "outputs": []
    },
    {
      "cell_type": "code",
      "source": [
        "img = cv2.cvtColor(im, cv2.COLOR_BGR2GRAY)"
      ],
      "metadata": {
        "id": "m_d_SWuDwE7_"
      },
      "execution_count": 6,
      "outputs": []
    },
    {
      "cell_type": "markdown",
      "source": [
        "# Segmentação:"
      ],
      "metadata": {
        "id": "K-ZzmXACDU7K"
      }
    },
    {
      "cell_type": "code",
      "source": [
        "# ret,th1 = cv2.threshold(img,127,255,cv2.THRESH_BINARY)\n",
        "\n",
        "# th2 = cv2.adaptiveThreshold(img,255,cv2.ADAPTIVE_THRESH_MEAN_C, cv2.THRESH_BINARY,11,2)\n",
        "# th3 = cv2.adaptiveThreshold(img,255,cv2.ADAPTIVE_THRESH_GAUSSIAN_C, cv2.THRESH_BINARY,11,2)\n",
        "\n",
        "# titles = ['Original Image', 'Global Thresholding (v = 127)',\n",
        "#             'Adaptive Mean Thresholding', 'Adaptive Gaussian Thresholding']\n",
        "# images = [img, th1, th2, th3]"
      ],
      "metadata": {
        "id": "qLh9ivBcvXa4"
      },
      "execution_count": 7,
      "outputs": []
    },
    {
      "cell_type": "code",
      "source": [
        "# for i in range(4):\n",
        "#     plt.subplot(2,2,i+1),plt.imshow(images[i],'gray')\n",
        "#     plt.title(titles[i])\n",
        "#     plt.xticks([]),plt.yticks([])\n",
        "# plt.show()"
      ],
      "metadata": {
        "id": "xo-FOmIdwTCj"
      },
      "execution_count": 8,
      "outputs": []
    },
    {
      "cell_type": "code",
      "source": [
        "# Convert to grayscale and threshold\n",
        "imgray = cv2.cvtColor(im,cv2.COLOR_BGR2GRAY)\n",
        "ret,thresh = cv2.threshold(imgray,1,255,0)"
      ],
      "metadata": {
        "id": "ljbT11Df1nIY"
      },
      "execution_count": 9,
      "outputs": []
    },
    {
      "cell_type": "code",
      "source": [
        "ret,thresh = cv2.threshold(img, 0, 255, cv2.RETR_TREE,cv2.CHAIN_APPROX_SIMPLE)\n",
        "cv2_imshow(thresh)"
      ],
      "metadata": {
        "id": "8zzPFTx7jIIX"
      },
      "execution_count": null,
      "outputs": []
    },
    {
      "cell_type": "markdown",
      "source": [
        "# Contornos:"
      ],
      "metadata": {
        "id": "cPdJOycxDbAK"
      }
    },
    {
      "cell_type": "code",
      "source": [
        "# Find contours, draw on image and save\n",
        "contours, hierarchy = cv2.findContours(thresh,cv2.RETR_TREE,cv2.CHAIN_APPROX_SIMPLE)\n",
        "#cv2.drawContours(img, contours, -1, (0,50,0), 3)\n",
        "\n",
        "conts = [[],[],[],[]] #contour list\n",
        "\n",
        "for cont, cnt in enumerate(contours):\n",
        "    conts.append(cnt)\n",
        "\n",
        "cv2.drawContours(im, conts[0], -1, (200, 120, 0), thickness=2) # Azul\n",
        "cv2.drawContours(im, conts[1], -1, (20, 150, 232), thickness=2) # Laranja\n",
        "\n",
        "cv2_imshow(thresh)"
      ],
      "metadata": {
        "id": "yW-xTEw6jJq4"
      },
      "execution_count": null,
      "outputs": []
    },
    {
      "cell_type": "markdown",
      "source": [
        "# Identificação dos Pontos:"
      ],
      "metadata": {
        "id": "WYoprLMvDhAB"
      }
    },
    {
      "cell_type": "code",
      "source": [
        "# Show user what we found\n",
        "for cnt in contours:\n",
        "   (x,y),radius = cv2.minEnclosingCircle(cnt)\n",
        "   center = (int(x),int(y))\n",
        "   radius = int(radius)\n",
        "   print('Contour: centre {},{}, radius {}'.format(x,y,radius))"
      ],
      "metadata": {
        "colab": {
          "base_uri": "https://localhost:8080/"
        },
        "id": "6kuzHydpjKey",
        "outputId": "6de15ff0-e0a6-4d6f-f609-b2139c5482a4"
      },
      "execution_count": 12,
      "outputs": [
        {
          "output_type": "stream",
          "name": "stdout",
          "text": [
            "Contour: centre 639.5,359.5, radius 733\n",
            "Contour: centre 447.0,391.0, radius 1\n"
          ]
        }
      ]
    }
  ]
}