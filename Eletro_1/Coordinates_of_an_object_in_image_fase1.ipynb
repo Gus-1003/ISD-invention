{
  "nbformat": 4,
  "nbformat_minor": 0,
  "metadata": {
    "colab": {
      "provenance": [],
      "mount_file_id": "14aCfAw6LEWsVJHAJpqjJP7feKRGsIl0d",
      "authorship_tag": "ABX9TyPD28yTIQpydTUNlbtCaZhV",
      "include_colab_link": true
    },
    "kernelspec": {
      "name": "python3",
      "display_name": "Python 3"
    },
    "language_info": {
      "name": "python"
    }
  },
  "cells": [
    {
      "cell_type": "markdown",
      "metadata": {
        "id": "view-in-github",
        "colab_type": "text"
      },
      "source": [
        "<a href=\"https://colab.research.google.com/github/Gus-1003/ISD-invention/blob/main/Eletro_1/Coordinates_of_an_object_in_image_fase1.ipynb\" target=\"_parent\"><img src=\"https://colab.research.google.com/assets/colab-badge.svg\" alt=\"Open In Colab\"/></a>"
      ]
    },
    {
      "cell_type": "markdown",
      "source": [
        "# Bibliotecas e Imports:\n"
      ],
      "metadata": {
        "id": "5cIUoWdNDD2D"
      }
    },
    {
      "cell_type": "code",
      "execution_count": 1,
      "metadata": {
        "id": "U2CvoTA6i0tz"
      },
      "outputs": [],
      "source": [
        "import numpy as np\n",
        "import cv2\n",
        "from matplotlib import pyplot as plt\n",
        " \n",
        "import os\n",
        "\n",
        "from google.colab.patches import cv2_imshow"
      ]
    },
    {
      "cell_type": "code",
      "source": [
        "from google.colab import drive\n",
        "drive.mount('/content/drive/')\n",
        "%cd /content/drive/MyDrive/"
      ],
      "metadata": {
        "colab": {
          "base_uri": "https://localhost:8080/"
        },
        "id": "DykR0Ak3wZoN",
        "outputId": "114cfcce-74b7-4239-dad5-5c4083fb29e7"
      },
      "execution_count": 2,
      "outputs": [
        {
          "output_type": "stream",
          "name": "stdout",
          "text": [
            "Drive already mounted at /content/drive/; to attempt to forcibly remount, call drive.mount(\"/content/drive/\", force_remount=True).\n",
            "/content/drive/MyDrive\n"
          ]
        }
      ]
    },
    {
      "cell_type": "markdown",
      "source": [
        "# Carregando Imagem:"
      ],
      "metadata": {
        "id": "4tQNTwVHDIzd"
      }
    },
    {
      "cell_type": "code",
      "source": [
        "# nome_completo = variável que armazena o endereço da imagem:\n",
        "nome_endereco_origem = ''\n",
        "\n",
        "# img_original = variável que armazena a imagem do Drive:\n",
        "img_original = cv2.imread(nome_endereco_origem)\n",
        "\n",
        "# Clone para comparação:\n",
        "clone_img_original = img_original.copy()\n",
        "\n",
        "# Imagem onde será desenhada os contornos::\n",
        "img_contours = img_original.copy()"
      ],
      "metadata": {
        "id": "lDJ7zb9tjHn7"
      },
      "execution_count": 3,
      "outputs": []
    },
    {
      "cell_type": "code",
      "source": [
        "cv2_imshow(img_original)"
      ],
      "metadata": {
        "id": "EXSqxkeRNqAP"
      },
      "execution_count": null,
      "outputs": []
    },
    {
      "cell_type": "markdown",
      "source": [
        "## Endereço da pasta e arquivo:"
      ],
      "metadata": {
        "id": "z7Ud31s1lc02"
      }
    },
    {
      "cell_type": "code",
      "source": [
        "list_components = nome_endereco_origem.split('/')\n",
        "list_components[6]"
      ],
      "metadata": {
        "id": "WWUM0pkHlcIZ"
      },
      "execution_count": null,
      "outputs": []
    },
    {
      "cell_type": "markdown",
      "source": [
        "# Pre-processamento:"
      ],
      "metadata": {
        "id": "f1Ks8sOYDNI6"
      }
    },
    {
      "cell_type": "markdown",
      "source": [
        "## Split dos canais:"
      ],
      "metadata": {
        "id": "TsnIfjdUcsw7"
      }
    },
    {
      "cell_type": "code",
      "source": [
        "# O uso do im_split é no algaritmo do plo do histograma\n",
        "im_split = cv2.split(img_original)\n",
        "\n",
        "# Cada letra é um canal:\n",
        "(blue, green, red) = cv2.split(img_original)\n",
        "\n",
        "cv2_imshow(cv2.hconcat([blue, green, red]))"
      ],
      "metadata": {
        "id": "paxzlkOOrM7O"
      },
      "execution_count": null,
      "outputs": []
    },
    {
      "cell_type": "markdown",
      "source": [
        "## Histograma:"
      ],
      "metadata": {
        "id": "SfqXZLsgcplX"
      }
    },
    {
      "cell_type": "code",
      "source": [
        "# numero de bins do histograma\n",
        "hist_size = 256\n",
        "\n",
        "# faixa de valores de cada canal\n",
        "hist_range = (0, 256) #0-255 (8 bits)\n",
        "accumulate = False\n",
        "\n",
        "color = ('b','g','r') #h, s, v\n",
        "\n",
        "for i,col in enumerate(color):\n",
        "\n",
        "    histr = cv2.calcHist(im_split,[i],None, [hist_size], hist_range, accumulate=accumulate)\n",
        "\n",
        "    plt.plot(histr, color = col)\n",
        "\n",
        "    plt.xlim([0,256])\n",
        "\n",
        "    \n",
        "plt.show()"
      ],
      "metadata": {
        "id": "6RKVr-jENuXf"
      },
      "execution_count": null,
      "outputs": []
    },
    {
      "cell_type": "markdown",
      "source": [
        "## O canal escolhido:"
      ],
      "metadata": {
        "id": "bdkJ1uoDcDQw"
      }
    },
    {
      "cell_type": "code",
      "source": [
        "# O canal verde / Green demonstra uma nitidez maior perante os demais\n",
        "img_base = green"
      ],
      "metadata": {
        "id": "lzYLICmjhwPh"
      },
      "execution_count": 8,
      "outputs": []
    },
    {
      "cell_type": "markdown",
      "source": [
        "# Segmentação:"
      ],
      "metadata": {
        "id": "K-ZzmXACDU7K"
      }
    },
    {
      "cell_type": "markdown",
      "source": [
        "## Threshold Global:"
      ],
      "metadata": {
        "id": "5I0lHiYrfAXa"
      }
    },
    {
      "cell_type": "markdown",
      "source": [
        "Docs do Thresholding: https://docs.opencv.org/4.x/d7/d4d/tutorial_py_thresholding.html"
      ],
      "metadata": {
        "id": "nPGbBJ5LpNE_"
      }
    },
    {
      "cell_type": "code",
      "source": [
        "ret,th1 = cv2.threshold(img_base,125,255,cv2.THRESH_BINARY)\n",
        "cv2_imshow(th1)"
      ],
      "metadata": {
        "id": "HyPTe2_Le9Rs"
      },
      "execution_count": null,
      "outputs": []
    },
    {
      "cell_type": "markdown",
      "source": [
        "## Aplicação de Filtros:"
      ],
      "metadata": {
        "id": "Vs1VpjCufD5N"
      }
    },
    {
      "cell_type": "code",
      "source": [
        "th2 = cv2.adaptiveThreshold(img_base,255,cv2.ADAPTIVE_THRESH_MEAN_C, cv2.THRESH_BINARY_INV,11,2)\n",
        "th3 = cv2.adaptiveThreshold(img_base,255,cv2.ADAPTIVE_THRESH_MEAN_C, cv2.THRESH_BINARY_INV,11,2)\n",
        "th4 = cv2.adaptiveThreshold(img_base,255,cv2.ADAPTIVE_THRESH_GAUSSIAN_C, cv2.THRESH_BINARY_INV,11,2)\n",
        "\n",
        "cv2_imshow(cv2.hconcat([th2, th3, th4]))"
      ],
      "metadata": {
        "id": "qLh9ivBcvXa4"
      },
      "execution_count": null,
      "outputs": []
    },
    {
      "cell_type": "markdown",
      "source": [
        "## Conclusão da segmentação:"
      ],
      "metadata": {
        "id": "8szZYhpbfVdQ"
      }
    },
    {
      "cell_type": "markdown",
      "source": [
        "Image Filtering: https://docs.opencv.org/3.4/d4/d86/group__imgproc__filter.html#gaeb1e0c1033e3f6b891a25d0511362aeb"
      ],
      "metadata": {
        "id": "GKP9a1hppnTW"
      }
    },
    {
      "cell_type": "code",
      "source": [
        "ret,th5 = cv2.threshold(img_base,202,255,cv2.THRESH_BINARY)\n",
        "\n",
        "# Aplicação do filtro de media em cima de um threshold global de Img_Base:\n",
        "th6 = cv2.adaptiveThreshold(th5,255,cv2.ADAPTIVE_THRESH_MEAN_C, cv2.THRESH_BINARY_INV,11,2)\n",
        "\n",
        "cv2_imshow(cv2.hconcat([th5, th6]))"
      ],
      "metadata": {
        "id": "PsGLLcGEYvxJ"
      },
      "execution_count": null,
      "outputs": []
    },
    {
      "cell_type": "markdown",
      "source": [
        "# Contornos:"
      ],
      "metadata": {
        "id": "cPdJOycxDbAK"
      }
    },
    {
      "cell_type": "markdown",
      "source": [
        "## FindContours:"
      ],
      "metadata": {
        "id": "44KkKtIrfcPw"
      }
    },
    {
      "cell_type": "code",
      "source": [
        "# Find contours, draw on image and save\n",
        "contours, hierarchy = cv2.findContours(th6,cv2.RETR_EXTERNAL,cv2.CHAIN_APPROX_SIMPLE)"
      ],
      "metadata": {
        "id": "1ZIf60DGH4ks"
      },
      "execution_count": 12,
      "outputs": []
    },
    {
      "cell_type": "markdown",
      "source": [
        "## Demonstração do Contorno:"
      ],
      "metadata": {
        "id": "ex3nxxSOfjJ_"
      }
    },
    {
      "cell_type": "code",
      "source": [
        "for qtd in range(len(contours)):\n",
        "  atual = cv2.contourArea(contours[qtd])\n",
        "\n",
        "print ('Foram encontrados ' + str(len(contours)) + ' objetos com seus contornos')"
      ],
      "metadata": {
        "colab": {
          "base_uri": "https://localhost:8080/"
        },
        "id": "c6-2bGtXH_ED",
        "outputId": "4ca0563b-d391-4a4c-a0d1-9c234db25a9f"
      },
      "execution_count": 13,
      "outputs": [
        {
          "output_type": "stream",
          "name": "stdout",
          "text": [
            "Foram encontrados 5 objetos com seus contornos\n"
          ]
        }
      ]
    },
    {
      "cell_type": "code",
      "source": [
        "cv2.drawContours(img_contours, contours, -1, (0,255,0), 2); #unico contorno 0\n",
        "cv2_imshow(cv2.hconcat([clone_img_original, img_contours]))"
      ],
      "metadata": {
        "id": "D7J4tkCag418"
      },
      "execution_count": null,
      "outputs": []
    },
    {
      "cell_type": "markdown",
      "source": [
        "## Coleta dos dados - Cortornos:"
      ],
      "metadata": {
        "id": "WYoprLMvDhAB"
      }
    },
    {
      "cell_type": "code",
      "source": [
        "areas = []\n",
        "perimeters = []\n",
        "centroids_x = []\n",
        "centroids_y = []\n",
        "aspect_ratio = [] #It is the ratio of width to height of bounding rect of the object.\n",
        "extent = [] #Extent is the ratio of contour area to bounding rectangle area.\n",
        "solidity = [] #Solidity is the ratio of contour area to its convex hull area.\n",
        "equivalent_diameter = [] #Equivalent Diameter is the diameter of the circle whose area is same as the contour area.\n",
        "width = []\n",
        "height = []\n",
        "angle = []\n",
        "radius = []\n",
        "\n",
        "for forma in contours:\n",
        "    M = cv2.moments(forma)\n",
        "    \n",
        "    areas.append(M['m00'])\n",
        "    perimeters.append(cv2.arcLength(forma,True)) #if not convex, False\n",
        "    \n",
        "    x,y,w,h = cv2.boundingRect(forma)\n",
        "    aspect_ratio.append(float(w)/h)\n",
        "    width.append(w)\n",
        "    height.append(h)\n",
        "    rect = cv2.minAreaRect(forma)\n",
        "    circle = cv2.minEnclosingCircle(forma)\n",
        "    angle.append(rect[2])\n",
        "    radius.append(circle[1])\n",
        "    rect_area = w*h\n",
        "\n",
        "    if rect_area > 0:\n",
        "        extent.append(M['m00']/rect_area)\n",
        "    else: \n",
        "        extent.append(0)\n",
        "    \n",
        "    hull = cv2.convexHull(forma)\n",
        "    hull_area = cv2.contourArea(hull)\n",
        "    if hull_area > 0:\n",
        "        solidity.append(M['m00']/hull_area)\n",
        "    else:\n",
        "        solidity.append(0)\n",
        "    \n",
        "    equivalent_diameter = np.sqrt(4*M['m00']/np.pi)\n",
        "    \n",
        "    if M['m00'] != 0:\n",
        "        centroids_x.append(M['m10']/M['m00'])\n",
        "        centroids_y.append(M['m01']/M['m00'])\n",
        "    else:\n",
        "        centroids_x.append(0)\n",
        "        centroids_y.append(0)"
      ],
      "metadata": {
        "id": "qDVVD9GpWMNS"
      },
      "execution_count": 15,
      "outputs": []
    },
    {
      "cell_type": "markdown",
      "source": [
        "# Processamento de Dados:"
      ],
      "metadata": {
        "id": "gP5g-iJNXvdL"
      }
    },
    {
      "cell_type": "markdown",
      "source": [
        "## Feature Selecion:"
      ],
      "metadata": {
        "id": "sI-0ML2KdTnD"
      }
    },
    {
      "cell_type": "code",
      "source": [
        "features = {'area': areas, 'perimiter': perimeters, 'aspect_ratio': aspect_ratio, 'eixo x':centroids_x, 'eixo y': centroids_y, 'radius': radius,\n",
        "            'extent': extent, 'solidity': solidity, 'equivalent_diameter': equivalent_diameter,\n",
        "            'width': width, 'height': height, 'angle': angle}\n"
      ],
      "metadata": {
        "id": "6kuzHydpjKey"
      },
      "execution_count": 16,
      "outputs": []
    },
    {
      "cell_type": "markdown",
      "source": [
        "## Create Dataframe:"
      ],
      "metadata": {
        "id": "yfL8EZnJdYK4"
      }
    },
    {
      "cell_type": "code",
      "source": [
        "import pandas as pd\n",
        "\n",
        "df = pd.DataFrame(features)\n",
        "df"
      ],
      "metadata": {
        "colab": {
          "base_uri": "https://localhost:8080/",
          "height": 204
        },
        "id": "NvdS0yJxXzAW",
        "outputId": "3a3eb2a0-2819-4e26-b3c9-7de14d99ec9c"
      },
      "execution_count": 17,
      "outputs": [
        {
          "output_type": "execute_result",
          "data": {
            "text/plain": [
              "     area   perimiter  aspect_ratio       eixo x      eixo y     radius  \\\n",
              "0   175.5   83.698485      1.000000  1267.725546  707.420703  15.556449   \n",
              "1    60.0   32.000000      0.636364  1276.000000  687.000000   5.831052   \n",
              "2   150.0   50.000000      0.687500     8.000000  402.500000   9.013978   \n",
              "3  9231.5  379.865005      1.056604   745.445901  399.170305  57.404366   \n",
              "4  8802.0  379.622364      0.981308   429.232864  388.817144  55.095718   \n",
              "\n",
              "     extent  solidity  equivalent_diameter  width  height      angle  \n",
              "0  0.331758  0.663516           105.863376     23      23  47.726311  \n",
              "1  0.779221  1.000000           105.863376      7      11  90.000000  \n",
              "2  0.852273  1.000000           105.863376     11      16  90.000000  \n",
              "3  0.777586  0.973992           105.863376    112     106  90.000000  \n",
              "4  0.783445  0.975615           105.863376    105     107  86.820168  "
            ],
            "text/html": [
              "\n",
              "  <div id=\"df-ddcb42e4-ae2f-463d-9494-b0abb0741ca9\">\n",
              "    <div class=\"colab-df-container\">\n",
              "      <div>\n",
              "<style scoped>\n",
              "    .dataframe tbody tr th:only-of-type {\n",
              "        vertical-align: middle;\n",
              "    }\n",
              "\n",
              "    .dataframe tbody tr th {\n",
              "        vertical-align: top;\n",
              "    }\n",
              "\n",
              "    .dataframe thead th {\n",
              "        text-align: right;\n",
              "    }\n",
              "</style>\n",
              "<table border=\"1\" class=\"dataframe\">\n",
              "  <thead>\n",
              "    <tr style=\"text-align: right;\">\n",
              "      <th></th>\n",
              "      <th>area</th>\n",
              "      <th>perimiter</th>\n",
              "      <th>aspect_ratio</th>\n",
              "      <th>eixo x</th>\n",
              "      <th>eixo y</th>\n",
              "      <th>radius</th>\n",
              "      <th>extent</th>\n",
              "      <th>solidity</th>\n",
              "      <th>equivalent_diameter</th>\n",
              "      <th>width</th>\n",
              "      <th>height</th>\n",
              "      <th>angle</th>\n",
              "    </tr>\n",
              "  </thead>\n",
              "  <tbody>\n",
              "    <tr>\n",
              "      <th>0</th>\n",
              "      <td>175.5</td>\n",
              "      <td>83.698485</td>\n",
              "      <td>1.000000</td>\n",
              "      <td>1267.725546</td>\n",
              "      <td>707.420703</td>\n",
              "      <td>15.556449</td>\n",
              "      <td>0.331758</td>\n",
              "      <td>0.663516</td>\n",
              "      <td>105.863376</td>\n",
              "      <td>23</td>\n",
              "      <td>23</td>\n",
              "      <td>47.726311</td>\n",
              "    </tr>\n",
              "    <tr>\n",
              "      <th>1</th>\n",
              "      <td>60.0</td>\n",
              "      <td>32.000000</td>\n",
              "      <td>0.636364</td>\n",
              "      <td>1276.000000</td>\n",
              "      <td>687.000000</td>\n",
              "      <td>5.831052</td>\n",
              "      <td>0.779221</td>\n",
              "      <td>1.000000</td>\n",
              "      <td>105.863376</td>\n",
              "      <td>7</td>\n",
              "      <td>11</td>\n",
              "      <td>90.000000</td>\n",
              "    </tr>\n",
              "    <tr>\n",
              "      <th>2</th>\n",
              "      <td>150.0</td>\n",
              "      <td>50.000000</td>\n",
              "      <td>0.687500</td>\n",
              "      <td>8.000000</td>\n",
              "      <td>402.500000</td>\n",
              "      <td>9.013978</td>\n",
              "      <td>0.852273</td>\n",
              "      <td>1.000000</td>\n",
              "      <td>105.863376</td>\n",
              "      <td>11</td>\n",
              "      <td>16</td>\n",
              "      <td>90.000000</td>\n",
              "    </tr>\n",
              "    <tr>\n",
              "      <th>3</th>\n",
              "      <td>9231.5</td>\n",
              "      <td>379.865005</td>\n",
              "      <td>1.056604</td>\n",
              "      <td>745.445901</td>\n",
              "      <td>399.170305</td>\n",
              "      <td>57.404366</td>\n",
              "      <td>0.777586</td>\n",
              "      <td>0.973992</td>\n",
              "      <td>105.863376</td>\n",
              "      <td>112</td>\n",
              "      <td>106</td>\n",
              "      <td>90.000000</td>\n",
              "    </tr>\n",
              "    <tr>\n",
              "      <th>4</th>\n",
              "      <td>8802.0</td>\n",
              "      <td>379.622364</td>\n",
              "      <td>0.981308</td>\n",
              "      <td>429.232864</td>\n",
              "      <td>388.817144</td>\n",
              "      <td>55.095718</td>\n",
              "      <td>0.783445</td>\n",
              "      <td>0.975615</td>\n",
              "      <td>105.863376</td>\n",
              "      <td>105</td>\n",
              "      <td>107</td>\n",
              "      <td>86.820168</td>\n",
              "    </tr>\n",
              "  </tbody>\n",
              "</table>\n",
              "</div>\n",
              "      <button class=\"colab-df-convert\" onclick=\"convertToInteractive('df-ddcb42e4-ae2f-463d-9494-b0abb0741ca9')\"\n",
              "              title=\"Convert this dataframe to an interactive table.\"\n",
              "              style=\"display:none;\">\n",
              "        \n",
              "  <svg xmlns=\"http://www.w3.org/2000/svg\" height=\"24px\"viewBox=\"0 0 24 24\"\n",
              "       width=\"24px\">\n",
              "    <path d=\"M0 0h24v24H0V0z\" fill=\"none\"/>\n",
              "    <path d=\"M18.56 5.44l.94 2.06.94-2.06 2.06-.94-2.06-.94-.94-2.06-.94 2.06-2.06.94zm-11 1L8.5 8.5l.94-2.06 2.06-.94-2.06-.94L8.5 2.5l-.94 2.06-2.06.94zm10 10l.94 2.06.94-2.06 2.06-.94-2.06-.94-.94-2.06-.94 2.06-2.06.94z\"/><path d=\"M17.41 7.96l-1.37-1.37c-.4-.4-.92-.59-1.43-.59-.52 0-1.04.2-1.43.59L10.3 9.45l-7.72 7.72c-.78.78-.78 2.05 0 2.83L4 21.41c.39.39.9.59 1.41.59.51 0 1.02-.2 1.41-.59l7.78-7.78 2.81-2.81c.8-.78.8-2.07 0-2.86zM5.41 20L4 18.59l7.72-7.72 1.47 1.35L5.41 20z\"/>\n",
              "  </svg>\n",
              "      </button>\n",
              "      \n",
              "  <style>\n",
              "    .colab-df-container {\n",
              "      display:flex;\n",
              "      flex-wrap:wrap;\n",
              "      gap: 12px;\n",
              "    }\n",
              "\n",
              "    .colab-df-convert {\n",
              "      background-color: #E8F0FE;\n",
              "      border: none;\n",
              "      border-radius: 50%;\n",
              "      cursor: pointer;\n",
              "      display: none;\n",
              "      fill: #1967D2;\n",
              "      height: 32px;\n",
              "      padding: 0 0 0 0;\n",
              "      width: 32px;\n",
              "    }\n",
              "\n",
              "    .colab-df-convert:hover {\n",
              "      background-color: #E2EBFA;\n",
              "      box-shadow: 0px 1px 2px rgba(60, 64, 67, 0.3), 0px 1px 3px 1px rgba(60, 64, 67, 0.15);\n",
              "      fill: #174EA6;\n",
              "    }\n",
              "\n",
              "    [theme=dark] .colab-df-convert {\n",
              "      background-color: #3B4455;\n",
              "      fill: #D2E3FC;\n",
              "    }\n",
              "\n",
              "    [theme=dark] .colab-df-convert:hover {\n",
              "      background-color: #434B5C;\n",
              "      box-shadow: 0px 1px 3px 1px rgba(0, 0, 0, 0.15);\n",
              "      filter: drop-shadow(0px 1px 2px rgba(0, 0, 0, 0.3));\n",
              "      fill: #FFFFFF;\n",
              "    }\n",
              "  </style>\n",
              "\n",
              "      <script>\n",
              "        const buttonEl =\n",
              "          document.querySelector('#df-ddcb42e4-ae2f-463d-9494-b0abb0741ca9 button.colab-df-convert');\n",
              "        buttonEl.style.display =\n",
              "          google.colab.kernel.accessAllowed ? 'block' : 'none';\n",
              "\n",
              "        async function convertToInteractive(key) {\n",
              "          const element = document.querySelector('#df-ddcb42e4-ae2f-463d-9494-b0abb0741ca9');\n",
              "          const dataTable =\n",
              "            await google.colab.kernel.invokeFunction('convertToInteractive',\n",
              "                                                     [key], {});\n",
              "          if (!dataTable) return;\n",
              "\n",
              "          const docLinkHtml = 'Like what you see? Visit the ' +\n",
              "            '<a target=\"_blank\" href=https://colab.research.google.com/notebooks/data_table.ipynb>data table notebook</a>'\n",
              "            + ' to learn more about interactive tables.';\n",
              "          element.innerHTML = '';\n",
              "          dataTable['output_type'] = 'display_data';\n",
              "          await google.colab.output.renderOutput(dataTable, element);\n",
              "          const docLink = document.createElement('div');\n",
              "          docLink.innerHTML = docLinkHtml;\n",
              "          element.appendChild(docLink);\n",
              "        }\n",
              "      </script>\n",
              "    </div>\n",
              "  </div>\n",
              "  "
            ]
          },
          "metadata": {},
          "execution_count": 17
        }
      ]
    },
    {
      "cell_type": "markdown",
      "source": [
        "## Objetos Alvo:"
      ],
      "metadata": {
        "id": "jG1mxcxFdexB"
      }
    },
    {
      "cell_type": "code",
      "source": [
        "# Dados a patir dos contornos:\n",
        "for cnt in contours:\n",
        "   (x,y),radius = cv2.minEnclosingCircle(cnt)\n",
        "   center = (int(x),int(y))\n",
        "   radius = int(radius)\n",
        "   print('Contour: centre {},{}, radius {}'.format(x,y,radius))"
      ],
      "metadata": {
        "colab": {
          "base_uri": "https://localhost:8080/"
        },
        "id": "J5tswlraaXO7",
        "outputId": "2d0838a8-4b1a-4b4a-ffc0-77dcbeed3279"
      },
      "execution_count": 18,
      "outputs": [
        {
          "output_type": "stream",
          "name": "stdout",
          "text": [
            "Contour: centre 1268.0,708.0, radius 15\n",
            "Contour: centre 1276.0,687.0, radius 5\n",
            "Contour: centre 8.0,402.5, radius 9\n",
            "Contour: centre 743.5,399.0, radius 57\n",
            "Contour: centre 428.13848876953125,388.9745788574219, radius 55\n"
          ]
        }
      ]
    },
    {
      "cell_type": "code",
      "source": [
        "# Dados filtrados do Dataframe:\n",
        "coordenadas = df.loc[df['area'] > 8000]\n",
        "\n",
        "# Reposicionar as linhas:\n",
        "coordenadas = coordenadas.reset_index(drop=True)\n",
        "\n",
        "coordenadas.head()"
      ],
      "metadata": {
        "colab": {
          "base_uri": "https://localhost:8080/",
          "height": 111
        },
        "id": "xmNP1pKlaeux",
        "outputId": "44668567-f677-4993-9723-d423c9f70544"
      },
      "execution_count": 19,
      "outputs": [
        {
          "output_type": "execute_result",
          "data": {
            "text/plain": [
              "     area   perimiter  aspect_ratio      eixo x      eixo y     radius  \\\n",
              "0  9231.5  379.865005      1.056604  745.445901  399.170305  57.404366   \n",
              "1  8802.0  379.622364      0.981308  429.232864  388.817144  55.095718   \n",
              "\n",
              "     extent  solidity  equivalent_diameter  width  height      angle  \n",
              "0  0.777586  0.973992           105.863376    112     106  90.000000  \n",
              "1  0.783445  0.975615           105.863376    105     107  86.820168  "
            ],
            "text/html": [
              "\n",
              "  <div id=\"df-02d8ddc0-6fb9-4e97-8903-073ed7ce1d90\">\n",
              "    <div class=\"colab-df-container\">\n",
              "      <div>\n",
              "<style scoped>\n",
              "    .dataframe tbody tr th:only-of-type {\n",
              "        vertical-align: middle;\n",
              "    }\n",
              "\n",
              "    .dataframe tbody tr th {\n",
              "        vertical-align: top;\n",
              "    }\n",
              "\n",
              "    .dataframe thead th {\n",
              "        text-align: right;\n",
              "    }\n",
              "</style>\n",
              "<table border=\"1\" class=\"dataframe\">\n",
              "  <thead>\n",
              "    <tr style=\"text-align: right;\">\n",
              "      <th></th>\n",
              "      <th>area</th>\n",
              "      <th>perimiter</th>\n",
              "      <th>aspect_ratio</th>\n",
              "      <th>eixo x</th>\n",
              "      <th>eixo y</th>\n",
              "      <th>radius</th>\n",
              "      <th>extent</th>\n",
              "      <th>solidity</th>\n",
              "      <th>equivalent_diameter</th>\n",
              "      <th>width</th>\n",
              "      <th>height</th>\n",
              "      <th>angle</th>\n",
              "    </tr>\n",
              "  </thead>\n",
              "  <tbody>\n",
              "    <tr>\n",
              "      <th>0</th>\n",
              "      <td>9231.5</td>\n",
              "      <td>379.865005</td>\n",
              "      <td>1.056604</td>\n",
              "      <td>745.445901</td>\n",
              "      <td>399.170305</td>\n",
              "      <td>57.404366</td>\n",
              "      <td>0.777586</td>\n",
              "      <td>0.973992</td>\n",
              "      <td>105.863376</td>\n",
              "      <td>112</td>\n",
              "      <td>106</td>\n",
              "      <td>90.000000</td>\n",
              "    </tr>\n",
              "    <tr>\n",
              "      <th>1</th>\n",
              "      <td>8802.0</td>\n",
              "      <td>379.622364</td>\n",
              "      <td>0.981308</td>\n",
              "      <td>429.232864</td>\n",
              "      <td>388.817144</td>\n",
              "      <td>55.095718</td>\n",
              "      <td>0.783445</td>\n",
              "      <td>0.975615</td>\n",
              "      <td>105.863376</td>\n",
              "      <td>105</td>\n",
              "      <td>107</td>\n",
              "      <td>86.820168</td>\n",
              "    </tr>\n",
              "  </tbody>\n",
              "</table>\n",
              "</div>\n",
              "      <button class=\"colab-df-convert\" onclick=\"convertToInteractive('df-02d8ddc0-6fb9-4e97-8903-073ed7ce1d90')\"\n",
              "              title=\"Convert this dataframe to an interactive table.\"\n",
              "              style=\"display:none;\">\n",
              "        \n",
              "  <svg xmlns=\"http://www.w3.org/2000/svg\" height=\"24px\"viewBox=\"0 0 24 24\"\n",
              "       width=\"24px\">\n",
              "    <path d=\"M0 0h24v24H0V0z\" fill=\"none\"/>\n",
              "    <path d=\"M18.56 5.44l.94 2.06.94-2.06 2.06-.94-2.06-.94-.94-2.06-.94 2.06-2.06.94zm-11 1L8.5 8.5l.94-2.06 2.06-.94-2.06-.94L8.5 2.5l-.94 2.06-2.06.94zm10 10l.94 2.06.94-2.06 2.06-.94-2.06-.94-.94-2.06-.94 2.06-2.06.94z\"/><path d=\"M17.41 7.96l-1.37-1.37c-.4-.4-.92-.59-1.43-.59-.52 0-1.04.2-1.43.59L10.3 9.45l-7.72 7.72c-.78.78-.78 2.05 0 2.83L4 21.41c.39.39.9.59 1.41.59.51 0 1.02-.2 1.41-.59l7.78-7.78 2.81-2.81c.8-.78.8-2.07 0-2.86zM5.41 20L4 18.59l7.72-7.72 1.47 1.35L5.41 20z\"/>\n",
              "  </svg>\n",
              "      </button>\n",
              "      \n",
              "  <style>\n",
              "    .colab-df-container {\n",
              "      display:flex;\n",
              "      flex-wrap:wrap;\n",
              "      gap: 12px;\n",
              "    }\n",
              "\n",
              "    .colab-df-convert {\n",
              "      background-color: #E8F0FE;\n",
              "      border: none;\n",
              "      border-radius: 50%;\n",
              "      cursor: pointer;\n",
              "      display: none;\n",
              "      fill: #1967D2;\n",
              "      height: 32px;\n",
              "      padding: 0 0 0 0;\n",
              "      width: 32px;\n",
              "    }\n",
              "\n",
              "    .colab-df-convert:hover {\n",
              "      background-color: #E2EBFA;\n",
              "      box-shadow: 0px 1px 2px rgba(60, 64, 67, 0.3), 0px 1px 3px 1px rgba(60, 64, 67, 0.15);\n",
              "      fill: #174EA6;\n",
              "    }\n",
              "\n",
              "    [theme=dark] .colab-df-convert {\n",
              "      background-color: #3B4455;\n",
              "      fill: #D2E3FC;\n",
              "    }\n",
              "\n",
              "    [theme=dark] .colab-df-convert:hover {\n",
              "      background-color: #434B5C;\n",
              "      box-shadow: 0px 1px 3px 1px rgba(0, 0, 0, 0.15);\n",
              "      filter: drop-shadow(0px 1px 2px rgba(0, 0, 0, 0.3));\n",
              "      fill: #FFFFFF;\n",
              "    }\n",
              "  </style>\n",
              "\n",
              "      <script>\n",
              "        const buttonEl =\n",
              "          document.querySelector('#df-02d8ddc0-6fb9-4e97-8903-073ed7ce1d90 button.colab-df-convert');\n",
              "        buttonEl.style.display =\n",
              "          google.colab.kernel.accessAllowed ? 'block' : 'none';\n",
              "\n",
              "        async function convertToInteractive(key) {\n",
              "          const element = document.querySelector('#df-02d8ddc0-6fb9-4e97-8903-073ed7ce1d90');\n",
              "          const dataTable =\n",
              "            await google.colab.kernel.invokeFunction('convertToInteractive',\n",
              "                                                     [key], {});\n",
              "          if (!dataTable) return;\n",
              "\n",
              "          const docLinkHtml = 'Like what you see? Visit the ' +\n",
              "            '<a target=\"_blank\" href=https://colab.research.google.com/notebooks/data_table.ipynb>data table notebook</a>'\n",
              "            + ' to learn more about interactive tables.';\n",
              "          element.innerHTML = '';\n",
              "          dataTable['output_type'] = 'display_data';\n",
              "          await google.colab.output.renderOutput(dataTable, element);\n",
              "          const docLink = document.createElement('div');\n",
              "          docLink.innerHTML = docLinkHtml;\n",
              "          element.appendChild(docLink);\n",
              "        }\n",
              "      </script>\n",
              "    </div>\n",
              "  </div>\n",
              "  "
            ]
          },
          "metadata": {},
          "execution_count": 19
        }
      ]
    },
    {
      "cell_type": "markdown",
      "source": [
        "# Salvando os Resultados (Image + CSV):"
      ],
      "metadata": {
        "id": "na9ry_8BrBlN"
      }
    },
    {
      "cell_type": "code",
      "source": [
        "# Endereço da Pasta de saida:\n",
        "dest = '/content/drive/MyDrive/Exp Contexto/All_Frames/Dados_Image/'"
      ],
      "metadata": {
        "id": "PLxcdN77nNZT"
      },
      "execution_count": 20,
      "outputs": []
    },
    {
      "cell_type": "markdown",
      "source": [
        "Salvando CSV: https://pt.stackoverflow.com/questions/485418/escrevendo-um-arquivo-csv-no-google-drive-usando-colab"
      ],
      "metadata": {
        "id": "vYN8KczbqAxG"
      }
    },
    {
      "cell_type": "code",
      "source": [
        "# make a folder by the name of the video file\n",
        "if not os.path.exists(\"{}contorno/\".format(dest,list_components[6])):\n",
        "    os.makedirs(\"{}contorno/\".format(dest,list_components[6]))\n",
        "\n",
        "coordenadas_csv = coordenadas.to_csv('{}contorno/{}.csv'.format(dest,list_components[6]))\n",
        "cv2.imwrite(\"{}contorno/{}.jpg\".format(dest,list_components[6]), img_contours)"
      ],
      "metadata": {
        "id": "_VbDrlwgk50c",
        "colab": {
          "base_uri": "https://localhost:8080/"
        },
        "outputId": "741a2bbe-1698-4a1b-e8db-e7d936a89bd0"
      },
      "execution_count": 23,
      "outputs": [
        {
          "output_type": "execute_result",
          "data": {
            "text/plain": [
              "True"
            ]
          },
          "metadata": {},
          "execution_count": 23
        }
      ]
    }
  ]
}