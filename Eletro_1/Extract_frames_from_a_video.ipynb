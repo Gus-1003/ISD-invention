{
  "nbformat": 4,
  "nbformat_minor": 0,
  "metadata": {
    "colab": {
      "provenance": [],
      "mount_file_id": "1b7mAlz5grNnV_t6a4uAHrm20EplbqJ7K",
      "authorship_tag": "ABX9TyMPf2vZS7yjYeqxgV6KHIU/",
      "include_colab_link": true
    },
    "kernelspec": {
      "name": "python3",
      "display_name": "Python 3"
    },
    "language_info": {
      "name": "python"
    }
  },
  "cells": [
    {
      "cell_type": "markdown",
      "metadata": {
        "id": "view-in-github",
        "colab_type": "text"
      },
      "source": [
        "<a href=\"https://colab.research.google.com/github/Gus-1003/ISD-invention/blob/main/Eletro_1/Extract_frames_from_a_video.ipynb\" target=\"_parent\"><img src=\"https://colab.research.google.com/assets/colab-badge.svg\" alt=\"Open In Colab\"/></a>"
      ]
    },
    {
      "cell_type": "markdown",
      "source": [
        "## Documentação:"
      ],
      "metadata": {
        "id": "To_gen94Vaxl"
      }
    },
    {
      "cell_type": "markdown",
      "source": [
        "Fonte do Código: https://levelup.gitconnected.com/extract-frames-from-a-video-5f02cdc49fae"
      ],
      "metadata": {
        "id": "X93dsZCIVfrI"
      }
    },
    {
      "cell_type": "markdown",
      "source": [
        "## Bibliotecas:"
      ],
      "metadata": {
        "id": "ZN08hhxnO8gb"
      }
    },
    {
      "cell_type": "code",
      "source": [
        "import cv2\n",
        "import os"
      ],
      "metadata": {
        "id": "VO0M_49NVmGl"
      },
      "execution_count": null,
      "outputs": []
    },
    {
      "cell_type": "code",
      "source": [
        "from google.colab import drive\n",
        "drive.mount('/content/drive/')\n",
        "%cd /content/drive/MyDrive/"
      ],
      "metadata": {
        "colab": {
          "base_uri": "https://localhost:8080/"
        },
        "id": "NR0bMt3JXpBA",
        "outputId": "ce57e58a-ad56-4d5e-bb7f-5569ad4161fe"
      },
      "execution_count": null,
      "outputs": [
        {
          "output_type": "stream",
          "name": "stdout",
          "text": [
            "Drive already mounted at /content/drive/; to attempt to forcibly remount, call drive.mount(\"/content/drive/\", force_remount=True).\n",
            "/content/drive/MyDrive\n"
          ]
        }
      ]
    },
    {
      "cell_type": "markdown",
      "source": [
        "## Leitura da URL:"
      ],
      "metadata": {
        "id": "OyDyHH3bPRx8"
      }
    },
    {
      "cell_type": "code",
      "source": [
        "# Read the video from specified path\n",
        "cam = cv2.VideoCapture('Endereço video')"
      ],
      "metadata": {
        "id": "PHScIX3NVnUP"
      },
      "execution_count": null,
      "outputs": []
    },
    {
      "cell_type": "code",
      "source": [
        "# frame\n",
        "currentframe = 50"
      ],
      "metadata": {
        "id": "M955JifaPKas"
      },
      "execution_count": null,
      "outputs": []
    },
    {
      "cell_type": "markdown",
      "source": [
        "## Criação da nova pasta:"
      ],
      "metadata": {
        "id": "ReBSZbtIPWw8"
      }
    },
    {
      "cell_type": "code",
      "source": [
        "try:\n",
        "      \n",
        "    # creating a folder named data\n",
        "    if not os.path.exists('Endereço pasta'):\n",
        "        os.makedirs('Endereço pasta')\n",
        "  \n",
        "# if not created then raise error\n",
        "except OSError:\n",
        "    print ('Error: Creating directory of data')"
      ],
      "metadata": {
        "id": "_omSm0eaVpsH"
      },
      "execution_count": null,
      "outputs": []
    },
    {
      "cell_type": "markdown",
      "source": [
        "## Criação e armazenamento das imagens:"
      ],
      "metadata": {
        "id": "FUtp-I2dPdBw"
      }
    },
    {
      "cell_type": "code",
      "source": [
        "while(True):\n",
        "      \n",
        "    # reading from frame\n",
        "    ret,frame = cam.read()\n",
        "  \n",
        "    if ret:\n",
        "        # if video is still left continue creating images\n",
        "        # save frame\n",
        "        name = 'Endereço pasta/frame' + str(currentframe) + '.jpg'\n",
        "        print ('Creating...' + name)\n",
        "  \n",
        "        # writing the extracted images\n",
        "        cv2.imwrite(name, frame)\n",
        "  \n",
        "        # increasing counter so that it will\n",
        "        # show how many frames are created\n",
        "        currentframe += 30 # i.e. at 30 fps, this advances one second\n",
        "        cam.set(1, currentframe)\n",
        "    else:\n",
        "        break"
      ],
      "metadata": {
        "id": "nwsTtk7DVwLh"
      },
      "execution_count": null,
      "outputs": []
    },
    {
      "cell_type": "code",
      "source": [
        "# Release all space and windows once done\n",
        "cam.release()\n",
        "cv2.destroyAllWindows()"
      ],
      "metadata": {
        "id": "mKzbQAUoVwyn"
      },
      "execution_count": null,
      "outputs": []
    }
  ]
}