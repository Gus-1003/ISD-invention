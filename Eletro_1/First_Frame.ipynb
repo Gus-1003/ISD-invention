{
  "nbformat": 4,
  "nbformat_minor": 0,
  "metadata": {
    "colab": {
      "provenance": [],
      "toc_visible": true,
      "authorship_tag": "ABX9TyM8mfIMWyKftIzxt0uyvKyw",
      "include_colab_link": true
    },
    "kernelspec": {
      "name": "python3",
      "display_name": "Python 3"
    },
    "language_info": {
      "name": "python"
    }
  },
  "cells": [
    {
      "cell_type": "markdown",
      "metadata": {
        "id": "view-in-github",
        "colab_type": "text"
      },
      "source": [
        "<a href=\"https://colab.research.google.com/github/Gus-1003/ISD-invention/blob/main/Eletro_1/First_Frame.ipynb\" target=\"_parent\"><img src=\"https://colab.research.google.com/assets/colab-badge.svg\" alt=\"Open In Colab\"/></a>"
      ]
    },
    {
      "cell_type": "code",
      "source": [
        "import os\n",
        "\n",
        "# A biblioteca \"os\" fornece funções para interagir com o sistema operacional, como manipulação de caminhos de arquivo, \n",
        "# verificação de existência de arquivos/diretórios, criação de diretórios, etc.\n",
        "\n",
        "import glob\n",
        "\n",
        "# A biblioteca \"glob\" é usada para obter uma lista de caminhos de arquivos que correspondem a um determinado padrão. \n",
        "# É útil para buscar arquivos em um diretório com base em padrões de nomenclatura ou extensões.\n",
        "\n",
        "import cv2\n",
        "\n",
        "# A biblioteca \"OpenCV\" (Open Source Computer Vision Library) é uma biblioteca popular para processamento de imagem e visão computacional. \n",
        "# Ela fornece várias funções e algoritmos para manipulação, análise e processamento de imagens e vídeos.\n",
        "\n",
        "import numpy as np\n",
        "\n",
        "# A biblioteca \"NumPy\" é usada para operações numéricas eficientes em Python. \n",
        "# Ela fornece arrays multidimensionais (ndarrays) que são usados para armazenar e manipular dados numéricos.\n",
        "\n",
        "import pandas as pd\n",
        "\n",
        "# A biblioteca \"Pandas\" fornece estruturas de dados e funções para análise de dados. \n",
        "# Ela é amplamente utilizada para manipulação e análise de dados tabulares, como planilhas ou bancos de dados.\n",
        "\n",
        "from google.colab.patches import cv2_imshow\n",
        "\n",
        "# A função \"cv2_imshow\" é uma adaptação do OpenCV para exibir imagens diretamente no Google Colab, \n",
        "# permitindo visualizar imagens em uma célula de código sem a necessidade de salvá-las em arquivos temporários.\n",
        "\n",
        "from google.colab import drive\n",
        "\n",
        "# A biblioteca \"drive\" permite montar o Google Drive no ambiente do Google Colab, \n",
        "# facilitando o acesso a arquivos e diretórios armazenados no Google Drive.\n",
        "\n",
        "drive.mount('/content/drive/')\n",
        "\n",
        "# Monta o Google Drive no ambiente do Google Colab, permitindo acessar os arquivos armazenados no Google Drive.\n",
        "\n",
        "%cd /content/drive/MyDrive/\n",
        "\n",
        "# Altera o diretório de trabalho atual para o diretório especificado no Google Drive."
      ],
      "metadata": {
        "colab": {
          "base_uri": "https://localhost:8080/"
        },
        "id": "WfgnWRQ2Cw-o",
        "outputId": "1be7c49c-2d10-4d1b-875b-b3ca8f03aaf4"
      },
      "execution_count": null,
      "outputs": [
        {
          "output_type": "stream",
          "name": "stdout",
          "text": [
            "Mounted at /content/drive/\n",
            "/content/drive/MyDrive\n"
          ]
        }
      ]
    },
    {
      "cell_type": "code",
      "source": [
        "entrada = glob.glob('')\n",
        "\n",
        "# Imprime os elementos da lista com quebras de linha entre cada elemento\n",
        "print('\\n'.join(entrada))"
      ],
      "metadata": {
        "id": "gKuob8AlCuuC"
      },
      "execution_count": null,
      "outputs": []
    },
    {
      "cell_type": "code",
      "source": [
        "destino = '/content/drive/MyDrive/Pesquisa_ISD_IC/Teste_Massivo/'"
      ],
      "metadata": {
        "id": "gvhJ7UVGCq2i"
      },
      "execution_count": null,
      "outputs": []
    },
    {
      "cell_type": "code",
      "execution_count": null,
      "metadata": {
        "id": "wR434cM2ClpE"
      },
      "outputs": [],
      "source": [
        "for video in entrada:\n",
        "  # Verificar se o caminho do vídeo existe\n",
        "  if not os.path.exists(video):\n",
        "    print(f\"O vídeo '{video}' não existe.\")\n",
        "\n",
        "  # Abrir o arquivo de vídeo\n",
        "  vidcap = cv2.VideoCapture(video)\n",
        "\n",
        "  # Verificar se o vídeo foi aberto corretamente\n",
        "  if not vidcap.isOpened():\n",
        "    print(f\"Falha ao abrir o vídeo '{video}'.\")\n",
        "\n",
        "  # Extrair o nome do vídeo a partir do caminho\n",
        "  nome_completo = video.split('/')\n",
        "  nome = nome_completo[9].split('.')\n",
        "  nome = nome[0]\n",
        "\n",
        "  # create a folder by the name of the video file\n",
        "  if not os.path.exists(\"{}\".format(destino)):\n",
        "    os.makedirs(\"{}\".format(destino))\n",
        "\n",
        "  # Ler o primeiro frame\n",
        "  success, image = vidcap.read()\n",
        "  print('Read a new frame: ', success)\n",
        "\n",
        "  # Verificar se houve sucesso na leitura do frame\n",
        "  if not success:\n",
        "    print(f\"Falha ao ler o frame.\")\n",
        "\n",
        "    # Liberar os recursos utilizados pelo objeto de leitura do vídeo\n",
        "    vidcap.release()\n",
        "  \n",
        "    break\n",
        "\n",
        "  # Salvar o frame lido\n",
        "  cv2.imwrite(\"{}{}.jpg\".format(destino, nome), image)\n",
        "  print('Creating...' + \"{}{}.jpg\".format(destino, nome))\n",
        "  cv2_imshow(image)\n",
        "\n",
        "  # Liberar os recursos utilizados pelo objeto de leitura do vídeo\n",
        "  vidcap.release()\n",
        "  # Fechar todas as janelas abertas pelo OpenCV\n",
        "  cv2.destroyAllWindows()"
      ]
    }
  ]
}