{
  "nbformat": 4,
  "nbformat_minor": 0,
  "metadata": {
    "colab": {
      "provenance": [],
      "toc_visible": true,
      "authorship_tag": "ABX9TyPPH+YChJdmIVtHb5EvCzAK",
      "include_colab_link": true
    },
    "kernelspec": {
      "name": "python3",
      "display_name": "Python 3"
    },
    "language_info": {
      "name": "python"
    }
  },
  "cells": [
    {
      "cell_type": "markdown",
      "metadata": {
        "id": "view-in-github",
        "colab_type": "text"
      },
      "source": [
        "<a href=\"https://colab.research.google.com/github/Gus-1003/ISD-invention/blob/main/Eletro_1/Coordinates_of_an_object_in_image_fase2.ipynb\" target=\"_parent\"><img src=\"https://colab.research.google.com/assets/colab-badge.svg\" alt=\"Open In Colab\"/></a>"
      ]
    },
    {
      "cell_type": "markdown",
      "source": [
        "# Import de Bibliotecas:"
      ],
      "metadata": {
        "id": "P3k0WzytVVw2"
      }
    },
    {
      "cell_type": "code",
      "execution_count": null,
      "metadata": {
        "id": "h9mXqtpvlfh0"
      },
      "outputs": [],
      "source": [
        "import numpy as np\n",
        "import cv2\n",
        "\n",
        "import glob\n",
        "import os\n",
        "\n",
        "from google.colab.patches import cv2_imshow"
      ]
    },
    {
      "cell_type": "code",
      "source": [
        "from google.colab import drive\n",
        "drive.mount('/content/drive/')\n",
        "%cd /content/drive/MyDrive/"
      ],
      "metadata": {
        "id": "8_hKOFDVmHbI",
        "colab": {
          "base_uri": "https://localhost:8080/"
        },
        "outputId": "f94f89cc-b67f-4ecd-c825-8998ffb65f01"
      },
      "execution_count": null,
      "outputs": [
        {
          "output_type": "stream",
          "name": "stdout",
          "text": [
            "Mounted at /content/drive/\n",
            "/content/drive/MyDrive\n"
          ]
        }
      ]
    },
    {
      "cell_type": "markdown",
      "source": [
        "# Execução:"
      ],
      "metadata": {
        "id": "CpK2xbv0VbWl"
      }
    },
    {
      "cell_type": "code",
      "source": [
        "# nome_completo = variável que armazena o endereço da imagem:\n",
        "path_list = glob.glob('/content/drive/MyDrive/CutVideos_Exp_12/TR e TT/*jpg')\n",
        "\n",
        "dest = '/content/drive/MyDrive/CutVideos_Experimento_12/TR e TT/contours/'\n",
        "\n",
        "for frame in path_list:\n",
        "  # img_original = variável que armazena a imagem do Drive:\n",
        "  img_original = cv2.imread(frame)\n",
        "\n",
        "  # Clone para comparação:\n",
        "  clone_img_original = img_original.copy()\n",
        "\n",
        "  # Imagem onde será desenhada os contornos::\n",
        "  img_contours = img_original.copy()\n",
        "\n",
        "  list_components = frame.split('/')\n",
        "  #list_components[6]\n",
        "\n",
        "  # O uso do im_split é no algaritmo do plo do histograma\n",
        "  im_split = cv2.split(img_original)\n",
        "\n",
        "  # Cada letra é um canal:\n",
        "  (blue, green, red) = cv2.split(img_original)\n",
        "\n",
        "  # O canal verde / Green demonstra uma nitidez maior perante os demais\n",
        "  img_base = green\n",
        "\n",
        "  ret,th5 = cv2.threshold(img_base,202,255,cv2.THRESH_BINARY)\n",
        "\n",
        "  # Aplicação do filtro de media em cima de um threshold global de Img_Base:\n",
        "  th6 = cv2.adaptiveThreshold(th5,255,cv2.ADAPTIVE_THRESH_MEAN_C, cv2.THRESH_BINARY_INV,11,2)\n",
        "\n",
        "  #cv2_imshow(cv2.hconcat([th5, th6]))\n",
        "\n",
        "  # Find contours, draw on image and save\n",
        "  contours, hierarchy = cv2.findContours(th6,cv2.RETR_EXTERNAL,cv2.CHAIN_APPROX_SIMPLE)\n",
        "\n",
        "  cv2.drawContours(img_contours, contours, -1, (0,255,0), 2); #unico contorno 0\n",
        "  cv2_imshow(img_contours)\n"
      ],
      "metadata": {
        "id": "IobPtmq3mJ3e"
      },
      "execution_count": null,
      "outputs": []
    },
    {
      "cell_type": "code",
      "source": [
        "# nome_completo = variável que armazena o endereço da imagem:\n",
        "path_list = glob.glob('/content/drive/MyDrive/CutVideos_Exp_12/TR e TT/*jpg')\n",
        "\n",
        "dest = '/content/drive/MyDrive/CutVideos_Experimento_12/TR e TT/contours/'\n",
        "\n",
        "for frame in path_list:\n",
        "  im = cv2.imread(frame)\n",
        "  # carrega a imagem em escala de cinza\n",
        "  image = cv2.cvtColor(im, cv2.COLOR_BGR2GRAY)\n",
        "\n",
        "  # converte a imagem para float32\n",
        "  image32f = np.float32(image)\n",
        "\n",
        "  # aplica o filtro de média\n",
        "  mu = cv2.blur(image32f, (3, 3))\n",
        "\n",
        "  # aplica o filtro de variância\n",
        "  mu2 = cv2.blur(image32f*image32f, (3, 3))\n",
        "  sigma = cv2.sqrt(mu2 - mu*mu)\n",
        "  sigma = sigma * 10\n",
        "  sigma = sigma.astype(\"uint8\")\n",
        "\n",
        "  # exibe as imagens resultantes\n",
        "  ret3,th3 = cv2.threshold(sigma,0,255,cv2.THRESH_BINARY+cv2.THRESH_OTSU)\n",
        "\n",
        "  cv2_imshow(th3)"
      ],
      "metadata": {
        "id": "YBmt_9ETCabb"
      },
      "execution_count": null,
      "outputs": []
    }
  ]
}