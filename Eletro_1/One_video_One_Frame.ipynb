{
  "nbformat": 4,
  "nbformat_minor": 0,
  "metadata": {
    "colab": {
      "provenance": [],
      "mount_file_id": "1Ddy5PNpJYe-vT4qwXEG8jRuq5XSO8ruV",
      "authorship_tag": "ABX9TyOfFIKtmdw5xcvjJj+xxA9s",
      "include_colab_link": true
    },
    "kernelspec": {
      "name": "python3",
      "display_name": "Python 3"
    },
    "language_info": {
      "name": "python"
    }
  },
  "cells": [
    {
      "cell_type": "markdown",
      "metadata": {
        "id": "view-in-github",
        "colab_type": "text"
      },
      "source": [
        "<a href=\"https://colab.research.google.com/github/Gus-1003/ISD-invention/blob/main/Eletro_1/One_video_One_Frame.ipynb\" target=\"_parent\"><img src=\"https://colab.research.google.com/assets/colab-badge.svg\" alt=\"Open In Colab\"/></a>"
      ]
    },
    {
      "cell_type": "code",
      "execution_count": 1,
      "metadata": {
        "id": "5LyfjUz4Lg94"
      },
      "outputs": [],
      "source": [
        "import cv2\n",
        "from google.colab.patches import cv2_imshow\n",
        "import os\n",
        "import glob"
      ]
    },
    {
      "cell_type": "code",
      "source": [
        "from google.colab import drive\n",
        "drive.mount('/content/drive/')\n",
        "%cd /content/drive/MyDrive/"
      ],
      "metadata": {
        "colab": {
          "base_uri": "https://localhost:8080/"
        },
        "id": "-004UN3RLw5H",
        "outputId": "99edc32a-b37d-4093-b465-d1527e086b2b"
      },
      "execution_count": 2,
      "outputs": [
        {
          "output_type": "stream",
          "name": "stdout",
          "text": [
            "Drive already mounted at /content/drive/; to attempt to forcibly remount, call drive.mount(\"/content/drive/\", force_remount=True).\n",
            "/content/drive/MyDrive\n"
          ]
        }
      ]
    },
    {
      "cell_type": "code",
      "source": [
        "path_list = glob.glob('')\n",
        "#path_list"
      ],
      "metadata": {
        "id": "FUoP7G2zLyeb"
      },
      "execution_count": 7,
      "outputs": []
    },
    {
      "cell_type": "code",
      "source": [
        "# for video in path_list:\n",
        "#   nome_completo = video.split('/')\n",
        "#   nome = nome_completo[7].split('.')\n",
        "#   print(nome[0])"
      ],
      "metadata": {
        "id": "eo7wJRtuHni_"
      },
      "execution_count": 8,
      "outputs": []
    },
    {
      "cell_type": "code",
      "source": [
        "dest = ''\n",
        "\n",
        "for video in path_list:\n",
        "\n",
        "  # read the video file\n",
        "  vidcap = cv2.VideoCapture(video)\n",
        "\n",
        "  success,image = vidcap.read()\n",
        "\n",
        "  if not success:\n",
        "    # break out of the loop if there are no frames to read\n",
        "    break\n",
        "\n",
        "  count = 0\n",
        "\n",
        "  nome_completo = video.split('/')\n",
        "  nome = nome_completo[7].split('.')\n",
        "\n",
        "  # make a folder by the name of the video file\n",
        "  if not os.path.exists(\"{}{}\".format(dest,nome[0])):\n",
        "      os.makedirs(\"{}{}\".format(dest,nome[0]))\n",
        "\n",
        "  flag = True\n",
        "\n",
        "  # start the loop\n",
        "  while flag:\n",
        "\n",
        "    # save frame as JPEG file \n",
        "    cv2.imwrite(\"{}{}_frame{}.jpg\".format(dest,nome[0],count), image)\n",
        "\n",
        "    success,image = vidcap.read()\n",
        "\n",
        "    print ('Creating...' + \"{}{}_frame{}.jpg\".format(dest,nome[0],count))\n",
        "    print('Read a new frame: ', success)\n",
        "\n",
        "    # increment the frame count\n",
        "    count += 1\n",
        "\n",
        "    flag = False\n",
        "\n",
        "  # Release all space and windows once done\n",
        "  vidcap.release()\n",
        "  cv2.destroyAllWindows()"
      ],
      "metadata": {
        "id": "PuFNsC_jL0JD"
      },
      "execution_count": null,
      "outputs": []
    }
  ]
}