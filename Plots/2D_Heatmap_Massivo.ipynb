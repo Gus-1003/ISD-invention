{
  "nbformat": 4,
  "nbformat_minor": 0,
  "metadata": {
    "colab": {
      "provenance": [],
      "authorship_tag": "ABX9TyOFKrfvtccYzWREI4pm71Lv",
      "include_colab_link": true
    },
    "kernelspec": {
      "name": "python3",
      "display_name": "Python 3"
    },
    "language_info": {
      "name": "python"
    }
  },
  "cells": [
    {
      "cell_type": "markdown",
      "metadata": {
        "id": "view-in-github",
        "colab_type": "text"
      },
      "source": [
        "<a href=\"https://colab.research.google.com/github/Gus-1003/ISD-invention/blob/main/Plots/2D_Heatmap_Massivo.ipynb\" target=\"_parent\"><img src=\"https://colab.research.google.com/assets/colab-badge.svg\" alt=\"Open In Colab\"/></a>"
      ]
    },
    {
      "cell_type": "code",
      "source": [
        "from google.colab import drive\n",
        "\n",
        "drive.mount('/content/drive/')\n",
        "\n",
        "%cd /content/drive/MyDrive/"
      ],
      "metadata": {
        "colab": {
          "base_uri": "https://localhost:8080/"
        },
        "id": "iCqH1tmI2Det",
        "outputId": "aa4b85bc-6fb1-4215-ccda-03aa6396ae28"
      },
      "execution_count": 7,
      "outputs": [
        {
          "output_type": "stream",
          "name": "stdout",
          "text": [
            "Drive already mounted at /content/drive/; to attempt to forcibly remount, call drive.mount(\"/content/drive/\", force_remount=True).\n",
            "/content/drive/MyDrive\n"
          ]
        }
      ]
    },
    {
      "cell_type": "code",
      "execution_count": 29,
      "metadata": {
        "id": "YnCcCtx51_G6"
      },
      "outputs": [],
      "source": [
        "import plotly.express as px\n",
        "import pandas as pd # manipulação e análise de dados\n",
        "import matplotlib.pyplot as plt\n",
        "import seaborn as sns\n",
        "import numpy as np\n",
        "import os\n",
        "import glob\n",
        "import cv2\n",
        "\n",
        "from scipy.ndimage import gaussian_filter"
      ]
    },
    {
      "cell_type": "code",
      "source": [
        "# Diretório onde estão os arquivos .csv\n",
        "diretorio = \"/content/drive/Shareddrives/Videos OPTO/Videos_DLC\"  # Substitua pelo diretório correto\n",
        "\n",
        "# Use a função glob para listar todos os arquivos .csv no diretório\n",
        "arquivos_csv = glob.glob(f\"{diretorio}/*.csv\")\n",
        "\n",
        "# Use a função glob para listar todos os arquivos . no diretório\n",
        "arquivos_mp4 = glob.glob(f\"{diretorio}/*.mp4\")\n",
        "\n",
        "print('\\n'.join(arquivos_csv))"
      ],
      "metadata": {
        "colab": {
          "base_uri": "https://localhost:8080/"
        },
        "id": "jisYf0CQAX9F",
        "outputId": "d12101c7-930e-41be-beae-0b86574e7abd"
      },
      "execution_count": 38,
      "outputs": [
        {
          "output_type": "stream",
          "name": "stdout",
          "text": [
            "/content/drive/Shareddrives/Videos OPTO/Videos_DLC/MTOP4-TEST-E1DLC_resnet50_Videos OPTOSep1shuffle1_182500.csv\n",
            "/content/drive/Shareddrives/Videos OPTO/Videos_DLC/MTOP4-TR-E3DLC_resnet50_Videos OPTOSep1shuffle1_182500.csv\n",
            "/content/drive/Shareddrives/Videos OPTO/Videos_DLC/MTOP4-TEST-E3DLC_resnet50_Videos OPTOSep1shuffle1_182500.csv\n",
            "/content/drive/Shareddrives/Videos OPTO/Videos_DLC/MTOP5-TR-E1DLC_resnet50_Videos OPTOSep1shuffle1_182500.csv\n",
            "/content/drive/Shareddrives/Videos OPTO/Videos_DLC/MTOP5-TEST-E1DLC_resnet50_Videos OPTOSep1shuffle1_182500.csv\n",
            "/content/drive/Shareddrives/Videos OPTO/Videos_DLC/MTOP5-TEST2-E1DLC_resnet50_Videos OPTOSep1shuffle1_182500.csv\n",
            "/content/drive/Shareddrives/Videos OPTO/Videos_DLC/MTOP7-TR-E3DLC_resnet50_Videos OPTOSep1shuffle1_182500.csv\n",
            "/content/drive/Shareddrives/Videos OPTO/Videos_DLC/MTOP7-TEST-E3DLC_resnet50_Videos OPTOSep1shuffle1_182500.csv\n",
            "/content/drive/Shareddrives/Videos OPTO/Videos_DLC/MTOP11-TR-E1DLC_resnet50_Videos OPTOSep1shuffle1_182500.csv\n",
            "/content/drive/Shareddrives/Videos OPTO/Videos_DLC/MTOP11-TEST-E1DLC_resnet50_Videos OPTOSep1shuffle1_182500.csv\n",
            "/content/drive/Shareddrives/Videos OPTO/Videos_DLC/MTOP11-TR-E2DLC_resnet50_Videos OPTOSep1shuffle1_182500.csv\n",
            "/content/drive/Shareddrives/Videos OPTO/Videos_DLC/MTOP11-TEST-E2DLC_resnet50_Videos OPTOSep1shuffle1_182500.csv\n",
            "/content/drive/Shareddrives/Videos OPTO/Videos_DLC/MTOP10-TR-E1DLC_resnet50_Videos OPTOSep1shuffle1_182500.csv\n",
            "/content/drive/Shareddrives/Videos OPTO/Videos_DLC/MTOP10-TEST-E1DLC_resnet50_Videos OPTOSep1shuffle1_182500.csv\n",
            "/content/drive/Shareddrives/Videos OPTO/Videos_DLC/MTOP10-TR-E2DLC_resnet50_Videos OPTOSep1shuffle1_182500.csv\n",
            "/content/drive/Shareddrives/Videos OPTO/Videos_DLC/MTOP10-TEST-E2DLC_resnet50_Videos OPTOSep1shuffle1_182500.csv\n",
            "/content/drive/Shareddrives/Videos OPTO/Videos_DLC/MTOP4-TR-E4DLC_resnet50_Videos OPTOSep1shuffle1_182500.csv\n",
            "/content/drive/Shareddrives/Videos OPTO/Videos_DLC/MTOP4-TEST-E4DLC_resnet50_Videos OPTOSep1shuffle1_182500.csv\n",
            "/content/drive/Shareddrives/Videos OPTO/Videos_DLC/MTOP7-TR-E1DLC_resnet50_Videos OPTOSep1shuffle1_182500.csv\n",
            "/content/drive/Shareddrives/Videos OPTO/Videos_DLC/MTOP7-TEST-E1DLC_resnet50_Videos OPTOSep1shuffle1_182500.csv\n",
            "/content/drive/Shareddrives/Videos OPTO/Videos_DLC/MTOP7-TEST2-E1DLC_resnet50_Videos OPTOSep1shuffle1_182500.csv\n",
            "/content/drive/Shareddrives/Videos OPTO/Videos_DLC/MTOP7-TR-E2DLC_resnet50_Videos OPTOSep1shuffle1_182500.csv\n",
            "/content/drive/Shareddrives/Videos OPTO/Videos_DLC/MTOP7-TEST-E2DLC_resnet50_Videos OPTOSep1shuffle1_182500.csv\n",
            "/content/drive/Shareddrives/Videos OPTO/Videos_DLC/MTOP9-TEST2-E1DLC_resnet50_Videos OPTOSep1shuffle1_182500.csv\n",
            "/content/drive/Shareddrives/Videos OPTO/Videos_DLC/MTOP9-TR-E2DLC_resnet50_Videos OPTOSep1shuffle1_182500.csv\n",
            "/content/drive/Shareddrives/Videos OPTO/Videos_DLC/MTOP9-TEST-E2DLC_resnet50_Videos OPTOSep1shuffle1_182500.csv\n",
            "/content/drive/Shareddrives/Videos OPTO/Videos_DLC/MTOP9-TR-E1DLC_resnet50_Videos OPTOSep1shuffle1_182500.csv\n",
            "/content/drive/Shareddrives/Videos OPTO/Videos_DLC/MTOP9-TEST-E1DLC_resnet50_Videos OPTOSep1shuffle1_182500.csv\n",
            "/content/drive/Shareddrives/Videos OPTO/Videos_DLC/MTOP10-TR-E3DLC_resnet50_Videos OPTOSep1shuffle1_182500.csv\n",
            "/content/drive/Shareddrives/Videos OPTO/Videos_DLC/MTOP10-TEST-E3DLC_resnet50_Videos OPTOSep1shuffle1_182500.csv\n",
            "/content/drive/Shareddrives/Videos OPTO/Videos_DLC/MTOP9-TEST-E3DLC_resnet50_Videos OPTOSep1shuffle1_182500.csv\n",
            "/content/drive/Shareddrives/Videos OPTO/Videos_DLC/MTOP9-TR-E3DLC_resnet50_Videos OPTOSep1shuffle1_182500.csv\n",
            "/content/drive/Shareddrives/Videos OPTO/Videos_DLC/MTOP4-TR-E1DLC_resnet50_Videos OPTOSep1shuffle1_182500.csv\n"
          ]
        }
      ]
    },
    {
      "cell_type": "code",
      "source": [
        "# Lista para armazenar os DataFrames lidos de cada arquivo\n",
        "dataframes = []\n",
        "\n",
        "# Crie uma figura para os plots\n",
        "plt.figure(figsize=(10, 8))\n",
        "\n",
        "# Loop para ler cada arquivo .csv e adicionar o DataFrame à lista\n",
        "for arquivo in arquivos_csv:\n",
        "\n",
        "  df = pd.read_csv(arquivo)\n",
        "\n",
        "  # Para excluir as três primeiras colunas (A, B e C)\n",
        "  df = df.iloc[:, 1:]\n",
        "\n",
        "  # Concatene as linhas 0 e 1\n",
        "  concatenated_row = df.iloc[0] + \"_\" + df.iloc[1]\n",
        "  df.iloc[0] = concatenated_row\n",
        "\n",
        "  # Substituir os nomes das colunas pelo conteúdo da primeira linha\n",
        "  df.columns = df.iloc[0]\n",
        "\n",
        "  # Remover a primeira linha (índice 0)\n",
        "  df = df[2:]\n",
        "\n",
        "  # Reset o índice\n",
        "  df.reset_index(drop=True, inplace=True)\n",
        "\n",
        "  bodyparts = \"tail_base\"\n",
        "  bodyparts_x = \"tail_base_x\"\n",
        "  bodyparts_y = \"tail_base_y\"\n",
        "\n",
        "  # Converta as colunas center_x e center_y para valores numéricos\n",
        "  df[bodyparts_x] = pd.to_numeric(df[bodyparts_x])\n",
        "  df[bodyparts_y] = pd.to_numeric(df[bodyparts_y])\n",
        "\n",
        "  # Normalize as coordenadas para o intervalo [0, 1]\n",
        "  df[bodyparts_x] = (df[bodyparts_x] - df[bodyparts_x].min()) / (df[bodyparts_x].max() - df[bodyparts_x].min())\n",
        "  df[bodyparts_y] = (df[bodyparts_y] - df[bodyparts_y].min()) / (df[bodyparts_y].max() - df[bodyparts_y].min())\n",
        "\n",
        "  # Calcule o histograma 2D com interpolação\n",
        "  x = df[bodyparts_x]\n",
        "  y = df[bodyparts_y]\n",
        "  heatmap, xedges, yedges = np.histogram2d(x, y, bins=(50, 50), density=True)\n",
        "\n",
        "  df_teste = df[[bodyparts_x, bodyparts_y]]\n",
        "\n",
        "  # Transponha o heatmap para corrigir a orientação\n",
        "  heatmap = heatmap.T\n",
        "\n",
        "  # Aplicar um filtro gaussiano para suavização\n",
        "  heatmap_smoothed = gaussian_filter(heatmap, sigma=3)\n",
        "\n",
        "  # Crie um gráfico de calor suavizado 2D com limite de valor máximo\n",
        "  plt.imshow(heatmap_smoothed, cmap='viridis', extent=[x.min(), x.max(), y.min(), y.max()], aspect='auto', origin='lower', vmax=7)\n",
        "  plt.colorbar()\n",
        "\n",
        "  # Configurar os rótulos dos eixos\n",
        "  plt.xlabel('x')\n",
        "  plt.ylabel('y')\n",
        "\n",
        "  # Obtenha o nome do arquivo sem a extensão\n",
        "  nome_arquivo = os.path.splitext(os.path.basename(arquivo))[0]\n",
        "\n",
        "  # Crie uma pasta de destino com o nome do arquivo (se não existir)\n",
        "  pasta_destino = f\"/content/drive/Shareddrives/Videos OPTO/Plots_Videos_DLC/{nome_arquivo}\"\n",
        "  os.makedirs(pasta_destino, exist_ok=True)\n",
        "\n",
        "  # Caminho completo para o arquivo de imagem a ser salvo\n",
        "  caminho_arquivo_salvo = os.path.join(pasta_destino, f\"{nome_arquivo}_{bodyparts}_heatmap.png\")\n",
        "\n",
        "  # Salve o gráfico na pasta de destino\n",
        "  plt.savefig(caminho_arquivo_salvo)\n",
        "\n",
        "  # Feche o gráfico para liberar memória\n",
        "  plt.close()"
      ],
      "metadata": {
        "id": "2M2VKHjX2Epc"
      },
      "execution_count": 26,
      "outputs": []
    },
    {
      "cell_type": "code",
      "source": [
        "# Lista para armazenar o número \"x\"\n",
        "images = []\n",
        "\n",
        "# Loop para processar cada vídeo\n",
        "for video in arquivos_mp4:\n",
        "\n",
        "  # Verificar se o caminho do vídeo existe\n",
        "  if not os.path.exists(video):\n",
        "      print(f\"O vídeo '{video}' existe.\")\n",
        "      continue\n",
        "\n",
        "  # Abrir o vídeo\n",
        "  vidcap = cv2.VideoCapture(video)\n",
        "\n",
        "  # Verificar se o vídeo foi aberto corretamente\n",
        "  if not vidcap.isOpened():\n",
        "      print(f\"Falha ao abrir o vídeo '{video}'.\")\n",
        "      continue\n",
        "\n",
        "  # Obtém o número total de frames do vídeo\n",
        "  total_frames = int(vidcap.get(cv2.CAP_PROP_FRAME_COUNT))\n",
        "\n",
        "  # Obtém o frame rate do vídeo (número de frames por segundo)\n",
        "  frame_rate = vidcap.get(cv2.CAP_PROP_FPS)\n",
        "\n",
        "  # Calcula a duração total do vídeo em segundos\n",
        "  video_duration = total_frames / frame_rate\n",
        "\n",
        "  # Calcula o intervalo de tempo entre cada frame com base no contador\n",
        "  intervalo = video_duration / 2\n",
        "\n",
        "  # Obtenha o nome do arquivo sem a extensão\n",
        "  nome_arquivo = os.path.splitext(os.path.basename(video))[0]\n",
        "\n",
        "  # Calcula o tempo do frame do meio\n",
        "  frame_time = intervalo\n",
        "\n",
        "  # Calcula o número do frame correspondente ao tempo calculado\n",
        "  frame_number = int(frame_time * frame_rate)\n",
        "\n",
        "  # Define o número do frame atual no vídeo\n",
        "  vidcap.set(cv2.CAP_PROP_POS_FRAMES, frame_number)\n",
        "\n",
        "  # Lê o frame correspondente\n",
        "  ret, frame = vidcap.read()\n",
        "\n",
        "  # Verifica se a leitura do frame foi bem-sucedida\n",
        "  if ret:\n",
        "      # Crie uma pasta de destino com o nome do arquivo (se não existir)\n",
        "      pasta_destino = f\"/content/drive/Shareddrives/Videos OPTO/Plots_Videos_DLC/{nome_arquivo}\"\n",
        "      os.makedirs(pasta_destino, exist_ok=True)\n",
        "\n",
        "      # Caminho completo para o arquivo de imagem a ser salvo\n",
        "      caminho_arquivo_salvo = os.path.join(pasta_destino, f\"{nome_arquivo}_frame.png\")\n",
        "      print({caminho_arquivo_salvo})\n",
        "\n",
        "      # Salvar o frame do meio como uma imagem\n",
        "      cv2.imwrite(caminho_arquivo_salvo, frame)\n",
        "\n",
        "  # Feche o vídeo\n",
        "  vidcap.release()"
      ],
      "metadata": {
        "colab": {
          "base_uri": "https://localhost:8080/"
        },
        "id": "IUS-beavESnO",
        "outputId": "4750f13a-1827-4205-f80e-324c5db91278"
      },
      "execution_count": 40,
      "outputs": [
        {
          "output_type": "stream",
          "name": "stdout",
          "text": [
            "{'/content/drive/Shareddrives/Videos OPTO/Plots_Videos_DLC/MTOP4-TEST-E1DLC_resnet50_Videos OPTOSep1shuffle1_182500_labeled/MTOP4-TEST-E1DLC_resnet50_Videos OPTOSep1shuffle1_182500_labeled_frame.png'}\n",
            "{'/content/drive/Shareddrives/Videos OPTO/Plots_Videos_DLC/MTOP5-TEST2-E1DLC_resnet50_Videos OPTOSep1shuffle1_182500_labeled/MTOP5-TEST2-E1DLC_resnet50_Videos OPTOSep1shuffle1_182500_labeled_frame.png'}\n",
            "{'/content/drive/Shareddrives/Videos OPTO/Plots_Videos_DLC/MTOP7-TR-E3DLC_resnet50_Videos OPTOSep1shuffle1_182500_labeled/MTOP7-TR-E3DLC_resnet50_Videos OPTOSep1shuffle1_182500_labeled_frame.png'}\n",
            "{'/content/drive/Shareddrives/Videos OPTO/Plots_Videos_DLC/MTOP4-TR-E3DLC_resnet50_Videos OPTOSep1shuffle1_182500_labeled/MTOP4-TR-E3DLC_resnet50_Videos OPTOSep1shuffle1_182500_labeled_frame.png'}\n",
            "{'/content/drive/Shareddrives/Videos OPTO/Plots_Videos_DLC/MTOP7-TEST-E3DLC_resnet50_Videos OPTOSep1shuffle1_182500_labeled/MTOP7-TEST-E3DLC_resnet50_Videos OPTOSep1shuffle1_182500_labeled_frame.png'}\n",
            "{'/content/drive/Shareddrives/Videos OPTO/Plots_Videos_DLC/MTOP4-TEST-E3DLC_resnet50_Videos OPTOSep1shuffle1_182500_labeled/MTOP4-TEST-E3DLC_resnet50_Videos OPTOSep1shuffle1_182500_labeled_frame.png'}\n",
            "{'/content/drive/Shareddrives/Videos OPTO/Plots_Videos_DLC/MTOP11-TR-E1DLC_resnet50_Videos OPTOSep1shuffle1_182500_labeled/MTOP11-TR-E1DLC_resnet50_Videos OPTOSep1shuffle1_182500_labeled_frame.png'}\n",
            "{'/content/drive/Shareddrives/Videos OPTO/Plots_Videos_DLC/MTOP5-TR-E1DLC_resnet50_Videos OPTOSep1shuffle1_182500_labeled/MTOP5-TR-E1DLC_resnet50_Videos OPTOSep1shuffle1_182500_labeled_frame.png'}\n",
            "{'/content/drive/Shareddrives/Videos OPTO/Plots_Videos_DLC/MTOP5-TEST-E1DLC_resnet50_Videos OPTOSep1shuffle1_182500_labeled/MTOP5-TEST-E1DLC_resnet50_Videos OPTOSep1shuffle1_182500_labeled_frame.png'}\n",
            "{'/content/drive/Shareddrives/Videos OPTO/Plots_Videos_DLC/MTOP11-TEST-E1DLC_resnet50_Videos OPTOSep1shuffle1_182500_labeled/MTOP11-TEST-E1DLC_resnet50_Videos OPTOSep1shuffle1_182500_labeled_frame.png'}\n",
            "{'/content/drive/Shareddrives/Videos OPTO/Plots_Videos_DLC/MTOP11-TR-E2DLC_resnet50_Videos OPTOSep1shuffle1_182500_labeled/MTOP11-TR-E2DLC_resnet50_Videos OPTOSep1shuffle1_182500_labeled_frame.png'}\n",
            "{'/content/drive/Shareddrives/Videos OPTO/Plots_Videos_DLC/MTOP10-TEST-E2DLC_resnet50_Videos OPTOSep1shuffle1_182500_labeled/MTOP10-TEST-E2DLC_resnet50_Videos OPTOSep1shuffle1_182500_labeled_frame.png'}\n",
            "{'/content/drive/Shareddrives/Videos OPTO/Plots_Videos_DLC/MTOP11-TEST-E2DLC_resnet50_Videos OPTOSep1shuffle1_182500_labeled/MTOP11-TEST-E2DLC_resnet50_Videos OPTOSep1shuffle1_182500_labeled_frame.png'}\n",
            "{'/content/drive/Shareddrives/Videos OPTO/Plots_Videos_DLC/MTOP4-TR-E4DLC_resnet50_Videos OPTOSep1shuffle1_182500_labeled/MTOP4-TR-E4DLC_resnet50_Videos OPTOSep1shuffle1_182500_labeled_frame.png'}\n",
            "{'/content/drive/Shareddrives/Videos OPTO/Plots_Videos_DLC/MTOP10-TR-E1DLC_resnet50_Videos OPTOSep1shuffle1_182500_labeled/MTOP10-TR-E1DLC_resnet50_Videos OPTOSep1shuffle1_182500_labeled_frame.png'}\n",
            "{'/content/drive/Shareddrives/Videos OPTO/Plots_Videos_DLC/MTOP4-TEST-E4DLC_resnet50_Videos OPTOSep1shuffle1_182500_labeled/MTOP4-TEST-E4DLC_resnet50_Videos OPTOSep1shuffle1_182500_labeled_frame.png'}\n",
            "{'/content/drive/Shareddrives/Videos OPTO/Plots_Videos_DLC/MTOP10-TEST-E1DLC_resnet50_Videos OPTOSep1shuffle1_182500_labeled/MTOP10-TEST-E1DLC_resnet50_Videos OPTOSep1shuffle1_182500_labeled_frame.png'}\n",
            "{'/content/drive/Shareddrives/Videos OPTO/Plots_Videos_DLC/MTOP7-TR-E1DLC_resnet50_Videos OPTOSep1shuffle1_182500_labeled/MTOP7-TR-E1DLC_resnet50_Videos OPTOSep1shuffle1_182500_labeled_frame.png'}\n",
            "{'/content/drive/Shareddrives/Videos OPTO/Plots_Videos_DLC/MTOP10-TR-E2DLC_resnet50_Videos OPTOSep1shuffle1_182500_labeled/MTOP10-TR-E2DLC_resnet50_Videos OPTOSep1shuffle1_182500_labeled_frame.png'}\n",
            "{'/content/drive/Shareddrives/Videos OPTO/Plots_Videos_DLC/MTOP7-TEST-E1DLC_resnet50_Videos OPTOSep1shuffle1_182500_labeled/MTOP7-TEST-E1DLC_resnet50_Videos OPTOSep1shuffle1_182500_labeled_frame.png'}\n",
            "{'/content/drive/Shareddrives/Videos OPTO/Plots_Videos_DLC/MTOP7-TEST2-E1DLC_resnet50_Videos OPTOSep1shuffle1_182500_labeled/MTOP7-TEST2-E1DLC_resnet50_Videos OPTOSep1shuffle1_182500_labeled_frame.png'}\n",
            "{'/content/drive/Shareddrives/Videos OPTO/Plots_Videos_DLC/MTOP9-TEST-E2DLC_resnet50_Videos OPTOSep1shuffle1_182500_labeled/MTOP9-TEST-E2DLC_resnet50_Videos OPTOSep1shuffle1_182500_labeled_frame.png'}\n",
            "{'/content/drive/Shareddrives/Videos OPTO/Plots_Videos_DLC/MTOP7-TR-E2DLC_resnet50_Videos OPTOSep1shuffle1_182500_labeled/MTOP7-TR-E2DLC_resnet50_Videos OPTOSep1shuffle1_182500_labeled_frame.png'}\n",
            "{'/content/drive/Shareddrives/Videos OPTO/Plots_Videos_DLC/MTOP9-TR-E1DLC_resnet50_Videos OPTOSep1shuffle1_182500_labeled/MTOP9-TR-E1DLC_resnet50_Videos OPTOSep1shuffle1_182500_labeled_frame.png'}\n",
            "{'/content/drive/Shareddrives/Videos OPTO/Plots_Videos_DLC/MTOP7-TEST-E2DLC_resnet50_Videos OPTOSep1shuffle1_182500_labeled/MTOP7-TEST-E2DLC_resnet50_Videos OPTOSep1shuffle1_182500_labeled_frame.png'}\n",
            "{'/content/drive/Shareddrives/Videos OPTO/Plots_Videos_DLC/MTOP9-TEST-E1DLC_resnet50_Videos OPTOSep1shuffle1_182500_labeled/MTOP9-TEST-E1DLC_resnet50_Videos OPTOSep1shuffle1_182500_labeled_frame.png'}\n",
            "{'/content/drive/Shareddrives/Videos OPTO/Plots_Videos_DLC/MTOP9-TEST2-E1DLC_resnet50_Videos OPTOSep1shuffle1_182500_labeled/MTOP9-TEST2-E1DLC_resnet50_Videos OPTOSep1shuffle1_182500_labeled_frame.png'}\n",
            "{'/content/drive/Shareddrives/Videos OPTO/Plots_Videos_DLC/MTOP9-TR-E2DLC_resnet50_Videos OPTOSep1shuffle1_182500_labeled/MTOP9-TR-E2DLC_resnet50_Videos OPTOSep1shuffle1_182500_labeled_frame.png'}\n",
            "{'/content/drive/Shareddrives/Videos OPTO/Plots_Videos_DLC/MTOP10-TR-E3DLC_resnet50_Videos OPTOSep1shuffle1_182500_labeled/MTOP10-TR-E3DLC_resnet50_Videos OPTOSep1shuffle1_182500_labeled_frame.png'}\n",
            "{'/content/drive/Shareddrives/Videos OPTO/Plots_Videos_DLC/MTOP9-TEST-E3DLC_resnet50_Videos OPTOSep1shuffle1_182500_labeled/MTOP9-TEST-E3DLC_resnet50_Videos OPTOSep1shuffle1_182500_labeled_frame.png'}\n",
            "{'/content/drive/Shareddrives/Videos OPTO/Plots_Videos_DLC/MTOP9-TR-E3DLC_resnet50_Videos OPTOSep1shuffle1_182500_labeled/MTOP9-TR-E3DLC_resnet50_Videos OPTOSep1shuffle1_182500_labeled_frame.png'}\n",
            "{'/content/drive/Shareddrives/Videos OPTO/Plots_Videos_DLC/MTOP10-TEST-E3DLC_resnet50_Videos OPTOSep1shuffle1_182500_labeled/MTOP10-TEST-E3DLC_resnet50_Videos OPTOSep1shuffle1_182500_labeled_frame.png'}\n",
            "{'/content/drive/Shareddrives/Videos OPTO/Plots_Videos_DLC/MTOP4-TR-E1DLC_resnet50_Videos OPTOSep1shuffle1_182500_labeled/MTOP4-TR-E1DLC_resnet50_Videos OPTOSep1shuffle1_182500_labeled_frame.png'}\n"
          ]
        }
      ]
    }
  ]
}