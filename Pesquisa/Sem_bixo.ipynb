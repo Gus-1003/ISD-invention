{
  "nbformat": 4,
  "nbformat_minor": 0,
  "metadata": {
    "colab": {
      "provenance": [],
      "authorship_tag": "ABX9TyPVjY8Sy6S9OCGCLBeFKAro",
      "include_colab_link": true
    },
    "kernelspec": {
      "name": "python3",
      "display_name": "Python 3"
    },
    "language_info": {
      "name": "python"
    }
  },
  "cells": [
    {
      "cell_type": "markdown",
      "metadata": {
        "id": "view-in-github",
        "colab_type": "text"
      },
      "source": [
        "<a href=\"https://colab.research.google.com/github/Gus-1003/ISD-invention/blob/main/Pesquisa/Sem_bixo.ipynb\" target=\"_parent\"><img src=\"https://colab.research.google.com/assets/colab-badge.svg\" alt=\"Open In Colab\"/></a>"
      ]
    },
    {
      "cell_type": "code",
      "execution_count": 35,
      "metadata": {
        "colab": {
          "base_uri": "https://localhost:8080/"
        },
        "id": "mv4oqLpo0qU1",
        "outputId": "1332b083-cae9-482d-f532-f33443e38c20"
      },
      "outputs": [
        {
          "output_type": "stream",
          "name": "stdout",
          "text": [
            "Drive already mounted at /content/drive/; to attempt to forcibly remount, call drive.mount(\"/content/drive/\", force_remount=True).\n",
            "/content/drive/MyDrive\n"
          ]
        }
      ],
      "source": [
        "# Importa a biblioteca glob para obter uma lista de caminhos de arquivos que correspondem a um determinado padrão.\n",
        "import glob\n",
        "# Importa a biblioteca OpenCV para processamento de imagem.\n",
        "import cv2\n",
        "# Importa a biblioteca NumPy para operações numéricas.\n",
        "import numpy as np\n",
        "\n",
        "from google.colab.patches import cv2_imshow\n",
        "\n",
        "from google.colab import drive\n",
        "drive.mount('/content/drive/')\n",
        "\n",
        "\n",
        "%cd /content/drive/MyDrive/"
      ]
    },
    {
      "cell_type": "code",
      "source": [
        "frame1 = '/content/drive/MyDrive/Pesquisa_ISD_IC/Base de Dados/Cilindro6.jpg'\n",
        "frame2 = '/content/drive/MyDrive/Pesquisa_ISD_IC/Base de Dados/Cilindro7.jpg'\n",
        "frame3 = '/content/drive/MyDrive/Pesquisa_ISD_IC/Base de Dados/Cilindro12.jpg'\n",
        "\n",
        "\n",
        "# Carrega a imagem especificada pelo caminho do arquivo.\n",
        "im1 = cv2.imread(frame1)\n",
        "im2 = cv2.imread(frame2)\n",
        "im3 = cv2.imread(frame3)\n",
        "\n",
        "cv2_imshow(cv2.hconcat([im1, im2, im3]))"
      ],
      "metadata": {
        "id": "yTSmVVXj01Uz"
      },
      "execution_count": null,
      "outputs": []
    },
    {
      "cell_type": "code",
      "source": [
        "# Criando uma lista com as três imagens\n",
        "images = [im1, im2, im3]\n",
        "\n",
        "# Convertendo as imagens em formato de array numpy\n",
        "images_array = np.array(images)\n",
        "\n",
        "# Calculando a mediana ao longo do eixo temporal (eixo 0)\n",
        "median_image = np.median(images_array, axis=0)\n",
        "\n",
        "# Convertendo a imagem resultante de volta para o tipo de dados uint8\n",
        "median_image = median_image.astype('uint8')\n",
        "\n",
        "cv2_imshow(median_image)"
      ],
      "metadata": {
        "id": "1ZAUXVue2s94"
      },
      "execution_count": null,
      "outputs": []
    },
    {
      "cell_type": "code",
      "source": [
        "#ler video\n",
        "\n",
        "#extrair N frames (melhor se forem frames diversificados (em relação a posição do rato))\n",
        "\n",
        "#Guarda num vetor de imagens\n",
        "\n",
        "#faz a mediana\n",
        "\n",
        "#faz o algoritmo de detecção\n",
        "\n",
        "#"
      ],
      "metadata": {
        "id": "IZUdDJeJ5JuX"
      },
      "execution_count": null,
      "outputs": []
    }
  ]
}