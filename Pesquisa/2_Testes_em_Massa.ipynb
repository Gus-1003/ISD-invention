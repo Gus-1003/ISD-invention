{
  "cells": [
    {
      "cell_type": "markdown",
      "metadata": {
        "id": "view-in-github",
        "colab_type": "text"
      },
      "source": [
        "<a href=\"https://colab.research.google.com/github/Gus-1003/ISD-invention/blob/main/Pesquisa/2_Testes_em_Massa.ipynb\" target=\"_parent\"><img src=\"https://colab.research.google.com/assets/colab-badge.svg\" alt=\"Open In Colab\"/></a>"
      ]
    },
    {
      "cell_type": "markdown",
      "metadata": {
        "id": "wfwroNMHEkBP"
      },
      "source": [
        "# Importando as Bibliotecas:"
      ]
    },
    {
      "cell_type": "code",
      "execution_count": null,
      "metadata": {
        "colab": {
          "base_uri": "https://localhost:8080/"
        },
        "id": "MRBrOywVEr55",
        "outputId": "a49792e9-2c07-4c6c-dbd6-e2ed56d6a2e7"
      },
      "outputs": [
        {
          "output_type": "stream",
          "name": "stdout",
          "text": [
            "Mounted at /content/drive/\n",
            "/content/drive/MyDrive\n"
          ]
        }
      ],
      "source": [
        "import os\n",
        "\n",
        "# A biblioteca \"os\" fornece funções para interagir com o sistema operacional, como manipulação de caminhos de arquivo, \n",
        "# verificação de existência de arquivos/diretórios, criação de diretórios, etc.\n",
        "\n",
        "import glob\n",
        "\n",
        "# A biblioteca \"glob\" é usada para obter uma lista de caminhos de arquivos que correspondem a um determinado padrão. \n",
        "# É útil para buscar arquivos em um diretório com base em padrões de nomenclatura ou extensões.\n",
        "\n",
        "import cv2\n",
        "\n",
        "# A biblioteca \"OpenCV\" (Open Source Computer Vision Library) é uma biblioteca popular para processamento de imagem e visão computacional. \n",
        "# Ela fornece várias funções e algoritmos para manipulação, análise e processamento de imagens e vídeos.\n",
        "\n",
        "import numpy as np\n",
        "\n",
        "# A biblioteca \"NumPy\" é usada para operações numéricas eficientes em Python. \n",
        "# Ela fornece arrays multidimensionais (ndarrays) que são usados para armazenar e manipular dados numéricos.\n",
        "\n",
        "import pandas as pd\n",
        "\n",
        "# A biblioteca \"Pandas\" fornece estruturas de dados e funções para análise de dados. \n",
        "# Ela é amplamente utilizada para manipulação e análise de dados tabulares, como planilhas ou bancos de dados.\n",
        "\n",
        "import matplotlib.pyplot as plt\n",
        "\n",
        "from google.colab.patches import cv2_imshow\n",
        "\n",
        "from google.colab import drive\n",
        "\n",
        "# A biblioteca \"drive\" permite montar o Google Drive no ambiente do Google Colab, \n",
        "# facilitando o acesso a arquivos e diretórios armazenados no Google Drive.\n",
        "\n",
        "drive.mount('/content/drive/')\n",
        "\n",
        "# Monta o Google Drive no ambiente do Google Colab, permitindo acessar os arquivos armazenados no Google Drive.\n",
        "\n",
        "%cd /content/drive/MyDrive/\n",
        "\n",
        "# Altera o diretório de trabalho atual para o diretório especificado no Google Drive."
      ]
    },
    {
      "cell_type": "markdown",
      "metadata": {
        "id": "QP-2CnkC5DZZ"
      },
      "source": [
        "# Endereços:"
      ]
    },
    {
      "cell_type": "markdown",
      "metadata": {
        "id": "Car1skdL5VPh"
      },
      "source": [
        "> Lembrando que os endereços de **Entrada dos Videos** e **Destino das Imagens** estão vinculados ao drive do usuario que está rodando esse código. Caso você não seja o autor desse código os endereços deverão ser modificados."
      ]
    },
    {
      "cell_type": "markdown",
      "metadata": {
        "id": "mZgHaS4IXXwP"
      },
      "source": [
        "## Pasta de Endereço dos Videos:"
      ]
    },
    {
      "cell_type": "markdown",
      "metadata": {
        "id": "edAAfDC_-OcD"
      },
      "source": [
        "Lembre sempre que a extensão do video pode acabar sendo alterada. \n",
        "\n",
        "No meu caso tenho entradas que possuem extensão .mp4 e outras .mpg"
      ]
    },
    {
      "cell_type": "code",
      "execution_count": null,
      "metadata": {
        "colab": {
          "base_uri": "https://localhost:8080/"
        },
        "id": "ZhQ-_wvZWY64",
        "outputId": "d9679e23-f5a1-4589-8ce7-0f2b20b314bd"
      },
      "outputs": [
        {
          "output_type": "stream",
          "name": "stdout",
          "text": [
            "/content/drive/Shareddrives/Lab Electrofisiologia III - Dados/Experimentos comportamento III/Experimento 15/Vídeos separados - TR e TT/grey_field_videos/Dia4-TR-CCF509-Contexto1.mp4\n",
            "/content/drive/Shareddrives/Lab Electrofisiologia III - Dados/Experimentos comportamento III/Experimento 15/Vídeos separados - TR e TT/grey_field_videos/Dia4-TR-CCF501-Contexto1.mp4\n",
            "/content/drive/Shareddrives/Lab Electrofisiologia III - Dados/Experimentos comportamento III/Experimento 15/Vídeos separados - TR e TT/grey_field_videos/Dia4-TR-CCF505-Contexto1.mp4\n",
            "/content/drive/Shareddrives/Lab Electrofisiologia III - Dados/Experimentos comportamento III/Experimento 15/Vídeos separados - TR e TT/grey_field_videos/Dia4-TT-CCF501-Contexto1.mp4\n",
            "/content/drive/Shareddrives/Lab Electrofisiologia III - Dados/Experimentos comportamento III/Experimento 15/Vídeos separados - TR e TT/grey_field_videos/Dia4-TT-CCF505-Contexto1.mp4\n",
            "/content/drive/Shareddrives/Lab Electrofisiologia III - Dados/Experimentos comportamento III/Experimento 15/Vídeos separados - TR e TT/grey_field_videos/Dia5-TT-CCF509-Contexto1.mp4\n",
            "/content/drive/Shareddrives/Lab Electrofisiologia III - Dados/Experimentos comportamento III/Experimento 15/Vídeos separados - TR e TT/grey_field_videos/Dia4-TR-CCF503-Contexto3.mp4\n",
            "/content/drive/Shareddrives/Lab Electrofisiologia III - Dados/Experimentos comportamento III/Experimento 15/Vídeos separados - TR e TT/grey_field_videos/Dia4-TR-CCF507-Contexto3.mp4\n",
            "/content/drive/Shareddrives/Lab Electrofisiologia III - Dados/Experimentos comportamento III/Experimento 15/Vídeos separados - TR e TT/grey_field_videos/Dia4-TR-CCF511-Contexto3.mp4\n",
            "/content/drive/Shareddrives/Lab Electrofisiologia III - Dados/Experimentos comportamento III/Experimento 15/Vídeos separados - TR e TT/grey_field_videos/Dia4-TT-CCF503-Contexto3.mp4\n",
            "/content/drive/Shareddrives/Lab Electrofisiologia III - Dados/Experimentos comportamento III/Experimento 15/Vídeos separados - TR e TT/grey_field_videos/Dia4-TT-CCF507-Contexto3.mp4\n",
            "/content/drive/Shareddrives/Lab Electrofisiologia III - Dados/Experimentos comportamento III/Experimento 15/Vídeos separados - TR e TT/grey_field_videos/Dia4-TR-CCF502-Contexto2.mp4\n",
            "/content/drive/Shareddrives/Lab Electrofisiologia III - Dados/Experimentos comportamento III/Experimento 15/Vídeos separados - TR e TT/grey_field_videos/Dia4-TR-CCF506-Contexto2.mp4\n",
            "/content/drive/Shareddrives/Lab Electrofisiologia III - Dados/Experimentos comportamento III/Experimento 15/Vídeos separados - TR e TT/grey_field_videos/Dia4-TR-CCF510-Contexto2.mp4\n",
            "/content/drive/Shareddrives/Lab Electrofisiologia III - Dados/Experimentos comportamento III/Experimento 15/Vídeos separados - TR e TT/grey_field_videos/Dia4-TT-CCF502-Contexto2.mp4\n",
            "/content/drive/Shareddrives/Lab Electrofisiologia III - Dados/Experimentos comportamento III/Experimento 15/Vídeos separados - TR e TT/grey_field_videos/Dia4-TT-CCF506-Contexto2.mp4\n",
            "/content/drive/Shareddrives/Lab Electrofisiologia III - Dados/Experimentos comportamento III/Experimento 15/Vídeos separados - TR e TT/grey_field_videos/Dia5-TT-CCF511-Contexto3.mp4\n",
            "/content/drive/Shareddrives/Lab Electrofisiologia III - Dados/Experimentos comportamento III/Experimento 15/Vídeos separados - TR e TT/grey_field_videos/Dia5-TT-CCF510-Contexto2.mp4\n"
          ]
        }
      ],
      "source": [
        "entrada = glob.glob('/content/drive/Shareddrives/Lab Electrofisiologia III - Dados/Experimentos comportamento III/Experimento 15/Vídeos separados - TR e TT/grey_field_videos/*.mp4')\n",
        "\n",
        "# entrada = glob.glob('/content/drive/Shareddrives/Lab Electrofisiologia III - Dados/Experimentos comportamento III/Experimento 17/Vídeos separados (explo)/campo preto/*.mpg')\n",
        "\n",
        "# Imprime os elementos da lista com quebras de linha entre cada elemento\n",
        "print('\\n'.join(entrada))"
      ]
    },
    {
      "cell_type": "markdown",
      "metadata": {
        "id": "6VjsWObgkyyX"
      },
      "source": [
        "A posição do nome do experimento no endereço é de suma importancia na hora de sabermos com qual arquivo estamos trabalhando. Essa posição pode ser alterada dependendo da organização de pastas do usuário. \n",
        "\n",
        "Para saber a posição: \n",
        "\n",
        "> **Posição do nome = Quantidade de \"/\"**\n",
        "\n"
      ]
    },
    {
      "cell_type": "code",
      "execution_count": null,
      "metadata": {
        "colab": {
          "base_uri": "https://localhost:8080/"
        },
        "id": "o00p-mGPktr-",
        "outputId": "eb221f35-339b-442d-e996-e38e9b1bf8d8"
      },
      "outputs": [
        {
          "output_type": "stream",
          "name": "stdout",
          "text": [
            "Posição do nome do video: 9\n",
            "9\n"
          ]
        }
      ],
      "source": [
        "posicao_do_nome_video = input(\"Posição do nome do video: \") #9\n",
        "print(posicao_do_nome_video)"
      ]
    },
    {
      "cell_type": "markdown",
      "metadata": {
        "id": "C5HFV6WDWiaA"
      },
      "source": [
        "## Pasta de Destino das Imagens:"
      ]
    },
    {
      "cell_type": "code",
      "execution_count": null,
      "metadata": {
        "id": "avTvyNHVXgt-"
      },
      "outputs": [],
      "source": [
        "#destino = '/content/drive/MyDrive/Pesquisa_ISD_IC/Base de Dados/'\n",
        "\n",
        "destino = '/content/drive/MyDrive/Pesquisa_ISD_IC/Imagens_grey/'\n",
        "\n",
        "#destino = '/content/drive/MyDrive/Pesquisa_ISD_IC/Imagens_Infravermelho/'\n",
        "\n",
        "#destino = '/content/drive/MyDrive/Pesquisa_ISD_IC/Teste_Massivo/'"
      ]
    },
    {
      "cell_type": "markdown",
      "metadata": {
        "id": "NgupDMHy23eW"
      },
      "source": [
        "## Pacote de frames salvos:"
      ]
    },
    {
      "cell_type": "markdown",
      "metadata": {
        "id": "bRi3trL25Jx6"
      },
      "source": [
        "Se você acertou o endereço de destino não precisa modificar a cécula abaixo:"
      ]
    },
    {
      "cell_type": "code",
      "execution_count": null,
      "metadata": {
        "colab": {
          "base_uri": "https://localhost:8080/"
        },
        "id": "vVDHg7Jj2oaF",
        "outputId": "f65c736a-aafb-42c5-f266-a731b8f4e601"
      },
      "outputs": [
        {
          "output_type": "stream",
          "name": "stdout",
          "text": [
            "/content/drive/MyDrive/Pesquisa_ISD_IC/Imagens_grey/Dia4-TR-CCF509-Contexto1_frame0.jpg\n",
            "/content/drive/MyDrive/Pesquisa_ISD_IC/Imagens_grey/Dia4-TR-CCF509-Contexto1_frame1.jpg\n",
            "/content/drive/MyDrive/Pesquisa_ISD_IC/Imagens_grey/Dia4-TR-CCF509-Contexto1_frame2.jpg\n",
            "/content/drive/MyDrive/Pesquisa_ISD_IC/Imagens_grey/Dia4-TR-CCF501-Contexto1_frame0.jpg\n",
            "/content/drive/MyDrive/Pesquisa_ISD_IC/Imagens_grey/Dia4-TR-CCF501-Contexto1_frame1.jpg\n",
            "/content/drive/MyDrive/Pesquisa_ISD_IC/Imagens_grey/Dia4-TR-CCF501-Contexto1_frame2.jpg\n",
            "/content/drive/MyDrive/Pesquisa_ISD_IC/Imagens_grey/Dia4-TR-CCF505-Contexto1_frame0.jpg\n",
            "/content/drive/MyDrive/Pesquisa_ISD_IC/Imagens_grey/Dia4-TR-CCF505-Contexto1_frame1.jpg\n",
            "/content/drive/MyDrive/Pesquisa_ISD_IC/Imagens_grey/Dia4-TR-CCF505-Contexto1_frame2.jpg\n",
            "/content/drive/MyDrive/Pesquisa_ISD_IC/Imagens_grey/Dia4-TT-CCF501-Contexto1_frame0.jpg\n",
            "/content/drive/MyDrive/Pesquisa_ISD_IC/Imagens_grey/Dia4-TT-CCF501-Contexto1_frame1.jpg\n",
            "/content/drive/MyDrive/Pesquisa_ISD_IC/Imagens_grey/Dia4-TT-CCF501-Contexto1_frame2.jpg\n",
            "/content/drive/MyDrive/Pesquisa_ISD_IC/Imagens_grey/Dia4-TT-CCF501-Contexto1_frame3.jpg\n",
            "/content/drive/MyDrive/Pesquisa_ISD_IC/Imagens_grey/Dia4-TT-CCF501-Contexto1_frame4.jpg\n",
            "/content/drive/MyDrive/Pesquisa_ISD_IC/Imagens_grey/Dia4-TT-CCF505-Contexto1_frame0.jpg\n",
            "/content/drive/MyDrive/Pesquisa_ISD_IC/Imagens_grey/Dia4-TT-CCF505-Contexto1_frame1.jpg\n",
            "/content/drive/MyDrive/Pesquisa_ISD_IC/Imagens_grey/Dia4-TT-CCF505-Contexto1_frame2.jpg\n",
            "/content/drive/MyDrive/Pesquisa_ISD_IC/Imagens_grey/Dia4-TT-CCF505-Contexto1_frame3.jpg\n",
            "/content/drive/MyDrive/Pesquisa_ISD_IC/Imagens_grey/Dia4-TT-CCF505-Contexto1_frame4.jpg\n",
            "/content/drive/MyDrive/Pesquisa_ISD_IC/Imagens_grey/Dia5-TT-CCF509-Contexto1_frame0.jpg\n",
            "/content/drive/MyDrive/Pesquisa_ISD_IC/Imagens_grey/Dia5-TT-CCF509-Contexto1_frame1.jpg\n",
            "/content/drive/MyDrive/Pesquisa_ISD_IC/Imagens_grey/Dia5-TT-CCF509-Contexto1_frame2.jpg\n",
            "/content/drive/MyDrive/Pesquisa_ISD_IC/Imagens_grey/Dia5-TT-CCF509-Contexto1_frame3.jpg\n",
            "/content/drive/MyDrive/Pesquisa_ISD_IC/Imagens_grey/Dia5-TT-CCF509-Contexto1_frame4.jpg\n",
            "/content/drive/MyDrive/Pesquisa_ISD_IC/Imagens_grey/Dia4-TR-CCF503-Contexto3_frame0.jpg\n",
            "/content/drive/MyDrive/Pesquisa_ISD_IC/Imagens_grey/Dia4-TR-CCF503-Contexto3_frame1.jpg\n",
            "/content/drive/MyDrive/Pesquisa_ISD_IC/Imagens_grey/Dia4-TR-CCF503-Contexto3_frame2.jpg\n",
            "/content/drive/MyDrive/Pesquisa_ISD_IC/Imagens_grey/Dia4-TR-CCF507-Contexto3_frame0.jpg\n",
            "/content/drive/MyDrive/Pesquisa_ISD_IC/Imagens_grey/Dia4-TR-CCF507-Contexto3_frame1.jpg\n",
            "/content/drive/MyDrive/Pesquisa_ISD_IC/Imagens_grey/Dia4-TR-CCF507-Contexto3_frame2.jpg\n",
            "/content/drive/MyDrive/Pesquisa_ISD_IC/Imagens_grey/Dia4-TR-CCF511-Contexto3_frame0.jpg\n",
            "/content/drive/MyDrive/Pesquisa_ISD_IC/Imagens_grey/Dia4-TR-CCF511-Contexto3_frame1.jpg\n",
            "/content/drive/MyDrive/Pesquisa_ISD_IC/Imagens_grey/Dia4-TR-CCF511-Contexto3_frame2.jpg\n",
            "/content/drive/MyDrive/Pesquisa_ISD_IC/Imagens_grey/Dia4-TT-CCF503-Contexto3_frame0.jpg\n",
            "/content/drive/MyDrive/Pesquisa_ISD_IC/Imagens_grey/Dia4-TT-CCF503-Contexto3_frame1.jpg\n",
            "/content/drive/MyDrive/Pesquisa_ISD_IC/Imagens_grey/Dia4-TT-CCF503-Contexto3_frame2.jpg\n",
            "/content/drive/MyDrive/Pesquisa_ISD_IC/Imagens_grey/Dia4-TT-CCF503-Contexto3_frame3.jpg\n",
            "/content/drive/MyDrive/Pesquisa_ISD_IC/Imagens_grey/Dia4-TT-CCF503-Contexto3_frame4.jpg\n",
            "/content/drive/MyDrive/Pesquisa_ISD_IC/Imagens_grey/Dia4-TT-CCF507-Contexto3_frame0.jpg\n",
            "/content/drive/MyDrive/Pesquisa_ISD_IC/Imagens_grey/Dia4-TT-CCF507-Contexto3_frame1.jpg\n",
            "/content/drive/MyDrive/Pesquisa_ISD_IC/Imagens_grey/Dia4-TT-CCF507-Contexto3_frame2.jpg\n",
            "/content/drive/MyDrive/Pesquisa_ISD_IC/Imagens_grey/Dia4-TT-CCF507-Contexto3_frame3.jpg\n",
            "/content/drive/MyDrive/Pesquisa_ISD_IC/Imagens_grey/Dia4-TT-CCF507-Contexto3_frame4.jpg\n",
            "/content/drive/MyDrive/Pesquisa_ISD_IC/Imagens_grey/Dia4-TR-CCF502-Contexto2_frame0.jpg\n",
            "/content/drive/MyDrive/Pesquisa_ISD_IC/Imagens_grey/Dia4-TR-CCF502-Contexto2_frame1.jpg\n",
            "/content/drive/MyDrive/Pesquisa_ISD_IC/Imagens_grey/Dia4-TR-CCF502-Contexto2_frame2.jpg\n",
            "/content/drive/MyDrive/Pesquisa_ISD_IC/Imagens_grey/Dia4-TR-CCF506-Contexto2_frame0.jpg\n",
            "/content/drive/MyDrive/Pesquisa_ISD_IC/Imagens_grey/Dia4-TR-CCF506-Contexto2_frame1.jpg\n",
            "/content/drive/MyDrive/Pesquisa_ISD_IC/Imagens_grey/Dia4-TR-CCF506-Contexto2_frame2.jpg\n",
            "/content/drive/MyDrive/Pesquisa_ISD_IC/Imagens_grey/Dia4-TR-CCF510-Contexto2_frame0.jpg\n",
            "/content/drive/MyDrive/Pesquisa_ISD_IC/Imagens_grey/Dia4-TR-CCF510-Contexto2_frame1.jpg\n",
            "/content/drive/MyDrive/Pesquisa_ISD_IC/Imagens_grey/Dia4-TR-CCF510-Contexto2_frame2.jpg\n",
            "/content/drive/MyDrive/Pesquisa_ISD_IC/Imagens_grey/Dia4-TT-CCF502-Contexto2_frame0.jpg\n",
            "/content/drive/MyDrive/Pesquisa_ISD_IC/Imagens_grey/Dia4-TT-CCF502-Contexto2_frame1.jpg\n",
            "/content/drive/MyDrive/Pesquisa_ISD_IC/Imagens_grey/Dia4-TT-CCF502-Contexto2_frame2.jpg\n",
            "/content/drive/MyDrive/Pesquisa_ISD_IC/Imagens_grey/Dia4-TT-CCF502-Contexto2_frame3.jpg\n",
            "/content/drive/MyDrive/Pesquisa_ISD_IC/Imagens_grey/Dia4-TT-CCF502-Contexto2_frame4.jpg\n",
            "/content/drive/MyDrive/Pesquisa_ISD_IC/Imagens_grey/Dia4-TT-CCF506-Contexto2_frame0.jpg\n",
            "/content/drive/MyDrive/Pesquisa_ISD_IC/Imagens_grey/Dia4-TT-CCF506-Contexto2_frame1.jpg\n",
            "/content/drive/MyDrive/Pesquisa_ISD_IC/Imagens_grey/Dia4-TT-CCF506-Contexto2_frame2.jpg\n",
            "/content/drive/MyDrive/Pesquisa_ISD_IC/Imagens_grey/Dia4-TT-CCF506-Contexto2_frame3.jpg\n",
            "/content/drive/MyDrive/Pesquisa_ISD_IC/Imagens_grey/Dia4-TT-CCF506-Contexto2_frame4.jpg\n",
            "/content/drive/MyDrive/Pesquisa_ISD_IC/Imagens_grey/Dia5-TT-CCF511-Contexto3_frame0.jpg\n",
            "/content/drive/MyDrive/Pesquisa_ISD_IC/Imagens_grey/Dia5-TT-CCF511-Contexto3_frame1.jpg\n",
            "/content/drive/MyDrive/Pesquisa_ISD_IC/Imagens_grey/Dia5-TT-CCF511-Contexto3_frame2.jpg\n",
            "/content/drive/MyDrive/Pesquisa_ISD_IC/Imagens_grey/Dia5-TT-CCF511-Contexto3_frame3.jpg\n",
            "/content/drive/MyDrive/Pesquisa_ISD_IC/Imagens_grey/Dia5-TT-CCF511-Contexto3_frame4.jpg\n",
            "/content/drive/MyDrive/Pesquisa_ISD_IC/Imagens_grey/Dia5-TT-CCF510-Contexto2_frame0.jpg\n",
            "/content/drive/MyDrive/Pesquisa_ISD_IC/Imagens_grey/Dia5-TT-CCF510-Contexto2_frame1.jpg\n",
            "/content/drive/MyDrive/Pesquisa_ISD_IC/Imagens_grey/Dia5-TT-CCF510-Contexto2_frame2.jpg\n",
            "/content/drive/MyDrive/Pesquisa_ISD_IC/Imagens_grey/Dia5-TT-CCF510-Contexto2_frame3.jpg\n",
            "/content/drive/MyDrive/Pesquisa_ISD_IC/Imagens_grey/Dia5-TT-CCF510-Contexto2_frame4.jpg\n",
            "/content/drive/MyDrive/Pesquisa_ISD_IC/Imagens_grey/D.jpg\n",
            "/content/drive/MyDrive/Pesquisa_ISD_IC/Imagens_grey/Dia4-TR-CCF509-Contexto1.jpg\n",
            "/content/drive/MyDrive/Pesquisa_ISD_IC/Imagens_grey/Dia4-TR-CCF501-Contexto1.jpg\n",
            "/content/drive/MyDrive/Pesquisa_ISD_IC/Imagens_grey/Dia4-TR-CCF505-Contexto1.jpg\n",
            "/content/drive/MyDrive/Pesquisa_ISD_IC/Imagens_grey/Dia4-TT-CCF501-Contexto1.jpg\n",
            "/content/drive/MyDrive/Pesquisa_ISD_IC/Imagens_grey/Dia4-TT-CCF505-Contexto1.jpg\n",
            "/content/drive/MyDrive/Pesquisa_ISD_IC/Imagens_grey/Dia5-TT-CCF509-Contexto1.jpg\n",
            "/content/drive/MyDrive/Pesquisa_ISD_IC/Imagens_grey/Dia4-TR-CCF507-Contexto3.jpg\n",
            "/content/drive/MyDrive/Pesquisa_ISD_IC/Imagens_grey/Dia4-TR-CCF503-Contexto3.jpg\n",
            "/content/drive/MyDrive/Pesquisa_ISD_IC/Imagens_grey/Dia4-TR-CCF511-Contexto3.jpg\n",
            "/content/drive/MyDrive/Pesquisa_ISD_IC/Imagens_grey/Dia4-TT-CCF503-Contexto3.jpg\n",
            "/content/drive/MyDrive/Pesquisa_ISD_IC/Imagens_grey/Dia4-TT-CCF507-Contexto3.jpg\n",
            "/content/drive/MyDrive/Pesquisa_ISD_IC/Imagens_grey/Dia4-TR-CCF502-Contexto2.jpg\n",
            "/content/drive/MyDrive/Pesquisa_ISD_IC/Imagens_grey/Dia4-TR-CCF510-Contexto2.jpg\n",
            "/content/drive/MyDrive/Pesquisa_ISD_IC/Imagens_grey/Dia4-TR-CCF506-Contexto2.jpg\n",
            "/content/drive/MyDrive/Pesquisa_ISD_IC/Imagens_grey/Dia4-TT-CCF502-Contexto2.jpg\n",
            "/content/drive/MyDrive/Pesquisa_ISD_IC/Imagens_grey/Dia4-TT-CCF506-Contexto2.jpg\n",
            "/content/drive/MyDrive/Pesquisa_ISD_IC/Imagens_grey/Dia5-TT-CCF511-Contexto3.jpg\n",
            "/content/drive/MyDrive/Pesquisa_ISD_IC/Imagens_grey/Dia5-TT-CCF510-Contexto2.jpg\n"
          ]
        }
      ],
      "source": [
        "frames = glob.glob(destino + '*.jpg')\n",
        "print('\\n'.join(frames))"
      ]
    },
    {
      "cell_type": "markdown",
      "metadata": {
        "id": "2FHhYrvTlP2l"
      },
      "source": [
        "A posição do nome do experimento no endereço é de suma importancia na hora de sabermos com qual arquivo estamos trabalhando. Essa posição pode ser alterada dependendo da organização de pastas do usuário. \n",
        "\n",
        "Para saber a posição: \n",
        "\n",
        "> **Posição do nome = Quantidade de \"/\"**"
      ]
    },
    {
      "cell_type": "code",
      "execution_count": null,
      "metadata": {
        "colab": {
          "base_uri": "https://localhost:8080/"
        },
        "id": "f7unf4QYkfxy",
        "outputId": "702a6456-92ba-440d-b7ab-c1eb31523637"
      },
      "outputs": [
        {
          "output_type": "stream",
          "name": "stdout",
          "text": [
            "posicao_do_nome_frame:6\n",
            "6\n"
          ]
        }
      ],
      "source": [
        "posicao_do_nome_frame = input(\"posicao_do_nome_frame:\") #6\n",
        "print(posicao_do_nome_frame)"
      ]
    },
    {
      "cell_type": "markdown",
      "metadata": {
        "id": "r7KZFA0XzI12"
      },
      "source": [
        "# Detecção de Objetos:"
      ]
    },
    {
      "cell_type": "markdown",
      "metadata": {
        "id": "oZgaxbmdhYjl"
      },
      "source": [
        "## Extração do primeiro Frame de cada videos:"
      ]
    },
    {
      "cell_type": "code",
      "execution_count": null,
      "metadata": {
        "id": "g9H2H2iTXU6J"
      },
      "outputs": [],
      "source": [
        "def extract_frames_from_videos(path_list, destino):\n",
        "  for video in path_list:\n",
        "    # Verificar se o caminho do vídeo existe\n",
        "    if not os.path.exists(video):\n",
        "      print(f\"O vídeo '{video}' não existe.\")\n",
        "      return\n",
        "\n",
        "    # Abrir o arquivo de vídeo\n",
        "    vidcap = cv2.VideoCapture(video)\n",
        "\n",
        "    # Verificar se o vídeo foi aberto corretamente\n",
        "    if not vidcap.isOpened():\n",
        "      print(f\"Falha ao abrir o vídeo '{video}'.\")\n",
        "      return\n",
        "\n",
        "    # Extrair o nome do vídeo a partir do caminho\n",
        "    nome_completo = video.split('/')\n",
        "    nome = nome_completo[int(posicao_do_nome_video)].split('.')\n",
        "    nome = nome[0]\n",
        "\n",
        "    # create a folder by the name of the video file\n",
        "    if not os.path.exists(\"{}\".format(destino)):\n",
        "      os.makedirs(\"{}\".format(destino))\n",
        "\n",
        "    # Ler o primeiro frame\n",
        "    success, image = vidcap.read()\n",
        "    print('Read a new frame: ', success)\n",
        "\n",
        "    # Verificar se houve sucesso na leitura do frame\n",
        "    if not success:\n",
        "      print(f\"Falha ao ler o frame.\")\n",
        "\n",
        "      # Liberar os recursos utilizados pelo objeto de leitura do vídeo\n",
        "      vidcap.release()\n",
        "    \n",
        "      break\n",
        "\n",
        "    # Salvar o frame lido\n",
        "    cv2.imwrite(\"{}{}.jpg\".format(destino, nome), image)\n",
        "    print('Creating...' + \"{}{}.jpg\".format(destino, nome))\n",
        "\n",
        "    # Liberar os recursos utilizados pelo objeto de leitura do vídeo\n",
        "    vidcap.release()\n",
        "    # Fechar todas as janelas abertas pelo OpenCV\n",
        "    cv2.destroyAllWindows()"
      ]
    },
    {
      "cell_type": "code",
      "execution_count": null,
      "metadata": {
        "colab": {
          "base_uri": "https://localhost:8080/"
        },
        "id": "3HQQ5d9S-hXS",
        "outputId": "852514de-658f-4032-a28e-96509b8fd04a"
      },
      "outputs": [
        {
          "name": "stdout",
          "output_type": "stream",
          "text": [
            "Read a new frame:  True\n",
            "Creating.../content/drive/MyDrive/Pesquisa_ISD_IC/Teste_Massivo/Dia2-Explo-CCF504-Contexto4.jpg\n",
            "Read a new frame:  True\n",
            "Creating.../content/drive/MyDrive/Pesquisa_ISD_IC/Teste_Massivo/Dia2-Explo-CCF508-Contexto4.jpg\n",
            "Read a new frame:  True\n",
            "Creating.../content/drive/MyDrive/Pesquisa_ISD_IC/Teste_Massivo/Dia2-Explo-CCF512-Contexto4.jpg\n"
          ]
        }
      ],
      "source": [
        "#extract_frames_from_videos(entrada, destino)"
      ]
    },
    {
      "cell_type": "markdown",
      "metadata": {
        "id": "GQl0UBTozNpR"
      },
      "source": [
        "## Processamento 1:"
      ]
    },
    {
      "cell_type": "code",
      "execution_count": null,
      "metadata": {
        "id": "mfx08hl_mY33"
      },
      "outputs": [],
      "source": [
        "# Loop que processa cada arquivo na lista de caminhos de arquivos.\n",
        "for frame in frames:\n",
        "  \n",
        "  # Contador de objetos identificados\n",
        "  objetos = 0\n",
        "\n",
        "  # Função usada para ler a imagem e converter em uma matriz\n",
        "  im = cv2.imread(frame)\n",
        "\n",
        "  # Separa o nome especifico da imagem.path_list\n",
        "  nome_completo = frame.split('/')\n",
        "  nome = nome_completo[int(posicao_do_nome_frame)].split('.')\n",
        "  nome[0] \n",
        "\n",
        "  # Imprime as fronteiras e identifica as imagens:\n",
        "  print(\"================================================================================\")\n",
        "  print(\"================================================================================\") \n",
        "  print(nome[0])\n",
        "\n",
        "  # Cria uma cópia da imagem original.\n",
        "  img_contours = im.copy()\n",
        "\n",
        "  # Converte a imagem para o espaço de cores em escala de cinza.\n",
        "  image = cv2.cvtColor(im, cv2.COLOR_BGR2GRAY)\n",
        "\n",
        "  # Converte a imagem para o tipo float32.\n",
        "  image32f = np.float32(image)\n",
        "\n",
        "  # Aplica um filtro de média à imagem.\n",
        "  mu = cv2.blur(image32f, (3, 3))\n",
        "\n",
        "  # Aplica um filtro de variância à imagem.\n",
        "  mu2 = cv2.blur(image32f*image32f, (3, 3))\n",
        "  sigma = cv2.sqrt(mu2 - mu*mu)\n",
        "  sigma = sigma * 10\n",
        "  sigma = sigma.astype(\"uint8\")\n",
        "\n",
        "  # Aplica um filtro de borramento com kernel de 5x5\n",
        "  sigma = cv2.GaussianBlur(sigma, (5, 5), 0)\n",
        "\n",
        "  # Aplicando o filtro Laplaciano\n",
        "  laplacian = cv2.Laplacian(sigma, cv2.CV_32F)\n",
        "\n",
        "  # Normalizando a saída para o intervalo de 0 a 255\n",
        "  sigma = cv2.convertScaleAbs(laplacian)\n",
        "\n",
        "  # Aplica um filtro de Sobel em x e y\n",
        "  sobelx = cv2.Sobel(sigma, cv2.CV_64F, 1, 0, ksize=3)\n",
        "  sobely = cv2.Sobel(sigma, cv2.CV_64F, 0, 1, ksize=3)\n",
        "\n",
        "  # Calcula a magnitude do gradiente\n",
        "  gradient_magnitude = cv2.magnitude(sobelx, sobely)\n",
        "\n",
        "  # Normaliza a magnitude do gradiente para o intervalo de 0 a 255\n",
        "  gradient_magnitude = cv2.normalize(gradient_magnitude, None, 0, 255, cv2.NORM_MINMAX, cv2.CV_8U)\n",
        "\n",
        "  # Aplica uma limiarização com método de Otsu à imagem do gradiente\n",
        "  _, gradient_threshold = cv2.threshold(gradient_magnitude, 0, 255, cv2.THRESH_BINARY + cv2.THRESH_OTSU)\n",
        "\n",
        "  # Define o kernel para dilatação e erosão\n",
        "  kernel = np.ones((5,5), np.uint8)\n",
        "\n",
        "  # Dilata a imagem limiarizada\n",
        "  gradient_threshold = cv2.dilate(gradient_threshold, kernel, iterations=2)\n",
        "\n",
        "  # Encontra os contornos na imagem limiarizada.\n",
        "  contours, hierarchy = cv2.findContours(gradient_threshold, cv2.RETR_TREE, cv2.CHAIN_APPROX_SIMPLE)\n",
        "\n",
        "  # Loop sobre os contornos\n",
        "  for cnt in contours:\n",
        "\n",
        "    # Aproxima o contorno por uma sequência de pontos\n",
        "    approx = cv2.approxPolyDP(cnt, 0.01 * cv2.arcLength(cnt, True), True)\n",
        "\n",
        "    # Calcula a área e o perímetro do contorno\n",
        "    area = cv2.contourArea(cnt)\n",
        "    perimeter = cv2.arcLength(cnt, True)\n",
        "\n",
        "    # Verifica se o contorno é um círculo\n",
        "    if perimeter > 0:\n",
        "      circularity = 4 * np.pi * area / (perimeter ** 2)\n",
        "    else:\n",
        "      circularity = 0\n",
        "\n",
        "    # Desenha um círculo\n",
        "    if circularity > 0.30:\n",
        "\n",
        "      forma = \"circulo\"\n",
        "\n",
        "      (x, y), radius = cv2.minEnclosingCircle(cnt)\n",
        "\n",
        "      # Limita o raio máximo do círculo\n",
        "      max_radius = 100  # Define o raio máximo desejado\n",
        "      radius = min(radius, max_radius)  # Limita o raio ao valor máximo\n",
        "\n",
        "      center = (int(x), int(y))\n",
        "      radius = int(radius)\n",
        "\n",
        "      # Cálculo do ponto central\n",
        "      M = cv2.moments(cnt)\n",
        "      center_x = int(M[\"m10\"] / M[\"m00\"])\n",
        "      center_y = int(M[\"m01\"] / M[\"m00\"])\n",
        "\n",
        "      cx = int(x)\n",
        "      cy = int(y)\n",
        "\n",
        "      #if area > 2000 or circularity > 53:\n",
        "      if area > 2000 and radius < 100 and radius > 20:\n",
        "        cv2.circle(img_contours, center, radius, (255, 0, 0), 2) # Forma Circular\n",
        "        cv2.circle(img_contours, (center_x, center_y), 5, (255, 0, 0), -1)  # Ponto Central\n",
        "        cv2.circle(img_contours, (cx, cy), 5, (0, 255, 0), -1) # Ponto Central\n",
        "        print(\"================================================================================================================================================================\")\n",
        "        print(\"================================================================================================================================================================\") \n",
        "        print(\" -> circularity (Circulo): \" + str(circularity)  + \" / Area (Circulo): \" + str(area)  + \" / aspect_ratio (Circulo): \" + str(aspect_ratio)  + \" / radius (Circulo): \" + str(radius))\n",
        "        print(\"================================================================================================================================================================\")\n",
        "        print(\"================================================================================================================================================================\") \n",
        "        objetos = objetos + 1\n",
        "      else:\n",
        "        print(\"circularity (Circulo): \" + str(circularity)  + \" / Area (Circulo): \" + str(area)  + \" / aspect_ratio (Circulo): \" + str(aspect_ratio)  + \" / radius (Circulo): \" + str(radius))\n",
        "\n",
        "    # Desenha um quadrado\n",
        "    else:\n",
        "      rect = cv2.minAreaRect(cnt)\n",
        "      \n",
        "      forma = \"quadrado\"\n",
        "      radius = 0\n",
        "\n",
        "      (x, y), (w, h), angle = rect\n",
        "\n",
        "      if min(w, h) == 0:\n",
        "        aspect_ratio = 0\n",
        "      else:\n",
        "        aspect_ratio = max(w, h) / min(w, h)\n",
        "      \n",
        "\n",
        "      if aspect_ratio < 2 and area > 2000 and area < 6543.5:\n",
        "        # Desenha um quadrado\n",
        "        box = cv2.boxPoints(rect)\n",
        "        box = np.int0(box)\n",
        "\n",
        "        # Cálculo do ponto central - Ponto Vermelho \n",
        "        m = cv2.moments(cnt)\n",
        "        center_x = int(m[\"m10\"] / m[\"m00\"])\n",
        "        center_y = int(m[\"m01\"] / m[\"m00\"])\n",
        "\n",
        "        # Cálculo do ponto central\n",
        "        cx = int(x)\n",
        "        cy = int(y)\n",
        "\n",
        "        # Desenhar quadrado:\n",
        "        cv2.drawContours(img_contours, [box], 0, (0, 0, 255), 2)\n",
        "\n",
        "        # Desenho do ponto central\n",
        "        cv2.circle(img_contours, (center_x, center_y), 5, (0, 0, 255), -1) # moments - Ponto Vermelho \n",
        "        cv2.circle(img_contours, (cx, cy), 5, (0, 255, 0), -1) # Aplicação de X e Y pelo contorno - Ponto Verde\n",
        "\n",
        "        print(\"================================================================================================================================================================\")\n",
        "        print(\"================================================================================================================================================================\") \n",
        "        print(\" -> circularity (Quadrado): \" + str(circularity)  + \" / Area (Quadrado): \" + str(area)  + \" / aspect_ratio (Quadrado): \" + str(aspect_ratio)  + \" / radius (Quadrado): \" + str(radius))\n",
        "        print(\"================================================================================================================================================================\")\n",
        "        print(\"================================================================================================================================================================\") \n",
        "        objetos = objetos + 1\n",
        "      else:\n",
        "          print(\"circularity (Quadrado): \" + str(circularity)  + \" / Area (Quadrado): \" + str(area)  + \" / aspect_ratio (Quadrado): \" + str(aspect_ratio)  + \" / radius (Quadrado): \" + str(radius))\n",
        "\n",
        "  print(\"=======================================Foram encontrados: \" + str(objetos) + \" Objetos==============================================================\") \n",
        "  cv2_imshow(img_contours)\n",
        "  print()\n",
        "  print()"
      ]
    }
  ],
  "metadata": {
    "colab": {
      "provenance": [],
      "toc_visible": true,
      "authorship_tag": "ABX9TyPbE69nOLaPs5+7JfeHaJ3d",
      "include_colab_link": true
    },
    "kernelspec": {
      "display_name": "Python 3",
      "name": "python3"
    },
    "language_info": {
      "name": "python"
    }
  },
  "nbformat": 4,
  "nbformat_minor": 0
}