{
  "cells": [
    {
      "cell_type": "markdown",
      "metadata": {
        "id": "view-in-github",
        "colab_type": "text"
      },
      "source": [
        "<a href=\"https://colab.research.google.com/github/Gus-1003/ISD-invention/blob/main/Pesquisa/2_Testes_em_Massa.ipynb\" target=\"_parent\"><img src=\"https://colab.research.google.com/assets/colab-badge.svg\" alt=\"Open In Colab\"/></a>"
      ]
    },
    {
      "cell_type": "markdown",
      "source": [
        "# Coordinates of an object in image"
      ],
      "metadata": {
        "id": "JWVOXlZqdErV"
      }
    },
    {
      "cell_type": "markdown",
      "metadata": {
        "id": "wfwroNMHEkBP"
      },
      "source": [
        "# Bibliotecas:"
      ]
    },
    {
      "cell_type": "markdown",
      "metadata": {
        "id": "4FVToc8LFEbf"
      },
      "source": [
        "## Manipulação de Dados:"
      ]
    },
    {
      "cell_type": "code",
      "execution_count": null,
      "metadata": {
        "id": "MRBrOywVEr55"
      },
      "outputs": [],
      "source": [
        "# Importa a biblioteca glob para obter uma lista de caminhos de arquivos que correspondem a um determinado padrão.\n",
        "import glob\n",
        "# Importa a biblioteca OpenCV para processamento de imagem.\n",
        "import cv2\n",
        "# Importa a biblioteca NumPy para operações numéricas.\n",
        "import numpy as np\n",
        "\n",
        "import pandas as pd"
      ]
    },
    {
      "cell_type": "markdown",
      "metadata": {
        "id": "tRoT7U0yFBc_"
      },
      "source": [
        "## OpenCV"
      ]
    },
    {
      "cell_type": "code",
      "execution_count": null,
      "metadata": {
        "id": "SsqKTrIeEuSH"
      },
      "outputs": [],
      "source": [
        "from google.colab.patches import cv2_imshow"
      ]
    },
    {
      "cell_type": "markdown",
      "metadata": {
        "id": "dpOmpuBGE_Xj"
      },
      "source": [
        "## Drive"
      ]
    },
    {
      "cell_type": "code",
      "execution_count": null,
      "metadata": {
        "colab": {
          "base_uri": "https://localhost:8080/"
        },
        "id": "WCuGqvHnE9a7",
        "outputId": "5ecb39cf-8534-4668-9893-0bb7bdc5f669"
      },
      "outputs": [
        {
          "name": "stdout",
          "output_type": "stream",
          "text": [
            "Drive already mounted at /content/drive/; to attempt to forcibly remount, call drive.mount(\"/content/drive/\", force_remount=True).\n",
            "/content/drive/MyDrive\n"
          ]
        }
      ],
      "source": [
        "from google.colab.patches import cv2_imshow\n",
        "\n",
        "from google.colab import drive\n",
        "drive.mount('/content/drive/')\n",
        "%cd /content/drive/MyDrive/"
      ]
    },
    {
      "cell_type": "markdown",
      "metadata": {
        "id": "m1qxx28dFPQi"
      },
      "source": [
        "# Leitura do Pacote de Imagens"
      ]
    },
    {
      "cell_type": "code",
      "execution_count": null,
      "metadata": {
        "id": "BXxoDcXVJ_6o"
      },
      "outputs": [],
      "source": [
        "# Variável path_list armazena uma lista de caminhos de arquivos que correspondem ao padrão especificado.\n",
        "\n",
        "path_list = glob.glob('/content/drive/MyDrive/Pesquisa_ISD_IC/Base de Dados/*.jpg')\n",
        "\n",
        "#path_list = glob.glob('/content/drive/MyDrive/Pesquisa_ISD_IC/Images_teste/*.jpg')"
      ]
    },
    {
      "cell_type": "markdown",
      "metadata": {
        "id": "rUMJhziIKTU5"
      },
      "source": [
        "# Algoritmo de identificação:"
      ]
    },
    {
      "cell_type": "markdown",
      "metadata": {
        "id": "r7KZFA0XzI12"
      },
      "source": [
        "## Criação de Series para armazenar dados:"
      ]
    },
    {
      "cell_type": "code",
      "execution_count": null,
      "metadata": {
        "id": "W1PddO9pon6b"
      },
      "outputs": [],
      "source": [
        "nomes = []\n",
        "formas = []\n",
        "areas = [] # Armazena a área de cada objeto\n",
        "perimeters = [] # Armazena o perímetro de cada objeto\n",
        "centroids_x = [] # Armazena as coordenadas x do centróide de cada objeto\n",
        "centroids_y = [] # Armazena as coordenadas y do centróide de cada objeto\n",
        "aspect_ratio = [] # Armazena a relação entre largura e altura do retângulo de contorno de cada objeto\n",
        "extent = [] # Armazena a razão entre a área do contorno e a área do retângulo de contorno de cada objeto\n",
        "solidity = [] # Armazena a razão entre a área do contorno e a área do casco convexo de cada objeto\n",
        "equivalent_diameter = [] # Armazena o diâmetro equivalente (em pixels) do círculo com a mesma área de cada objeto\n",
        "\n",
        "width = [] # Armazena a largura do retângulo de contorno de cada objeto\n",
        "height = [] # Armazena a altura do retângulo de contorno de cada objeto\n",
        "angle = [] # Armazena o ângulo (em graus) do retângulo de contorno de cada objeto\n",
        "radius = [] # Armazena o raio do círculo de contorno de cada objeto"
      ]
    },
    {
      "cell_type": "markdown",
      "metadata": {
        "id": "GQl0UBTozNpR"
      },
      "source": [
        "## Processamento:"
      ]
    },
    {
      "cell_type": "markdown",
      "metadata": {
        "id": "HA0fNc01-9QA"
      },
      "source": [
        "Estudo do OpenCV: https://learnopencv.com/getting-started-with-opencv/"
      ]
    },
    {
      "cell_type": "code",
      "execution_count": null,
      "metadata": {
        "colab": {
          "background_save": true
        },
        "id": "2xGFGcIyEfHT"
      },
      "outputs": [],
      "source": [
        "# Loop que processa cada arquivo na lista de caminhos de arquivos.\n",
        "for frame in path_list:\n",
        "\n",
        "  # The function cv2.imread() is used to read an image.\n",
        "  im = cv2.imread(frame)\n",
        "\n",
        "  # Separa o nome especifico da imagem.\n",
        "  nome_completo = frame.split('/')\n",
        "  nome = nome_completo[6].split('.')\n",
        "  nome[0]\n",
        "\n",
        "  # Imprime as fronteiras e identifica as imagens:\n",
        "  print(\"================================================================================\")\n",
        "  print(\"================================================================================\") \n",
        "  print(nome[0])\n",
        "\n",
        "  # Cria uma cópia da imagem original.\n",
        "  img_contours = im.copy()\n",
        "\n",
        "  # Converte a imagem para o espaço de cores em escala de cinza.\n",
        "  image = cv2.cvtColor(im, cv2.COLOR_BGR2GRAY)\n",
        "  \n",
        "  # Converte a imagem para o tipo float32.\n",
        "  image32f = np.float32(image)\n",
        "\n",
        "  # Aplica um filtro de média à imagem.\n",
        "  mu = cv2.blur(image32f, (3, 3))\n",
        "\n",
        "  # Exibe a imagem tons de cinza.\n",
        "  cv2_imshow(mu)\n",
        "\n",
        "  # Aplica um filtro de variância à imagem.\n",
        "  mu2 = cv2.blur(image32f*image32f, (3, 3))\n",
        "  sigma = cv2.sqrt(mu2 - mu*mu)\n",
        "  sigma = sigma * 10\n",
        "  sigma = sigma.astype(\"uint8\")\n",
        "\n",
        "  # Aplica um filtro de borramento com kernel de 5x5\n",
        "  sigma = cv2.GaussianBlur(sigma, (5, 5), 0)\n",
        "\n",
        "  # Aplica uma limiarização com método de Otsu à imagem.\n",
        "  ret3,th3 = cv2.threshold(sigma,0,255, cv2.THRESH_BINARY + cv2.THRESH_OTSU)\n",
        "\n",
        "  # Define o kernel para dilatação e erosão\n",
        "  kernel = np.ones((3,3), np.uint8)\n",
        "\n",
        "  # Dilata a imagem\n",
        "  img_dilated = cv2.dilate(th3, kernel, iterations=2)\n",
        "\n",
        "  # Erode a imagem\n",
        "  th3 = cv2.erode(img_dilated, kernel, iterations=2)\n",
        "\n",
        "  # Encontra os contornos na imagem limiarizada.\n",
        "  contours, hierarchy = cv2.findContours(th3, cv2.RETR_TREE, cv2.CHAIN_APPROX_SIMPLE) # https://doi.org/10.1016/0734-189X(85)90016-7\n",
        "\n",
        "  # Loop sobre os contornos\n",
        "  for cnt in contours:\n",
        "\n",
        "    # Aproxima o contorno por uma sequência de pontos\n",
        "    approx = cv2.approxPolyDP(cnt, 0.01 * cv2.arcLength(cnt, True), True)\n",
        "\n",
        "    # Calcula a área e o perímetro do contorno\n",
        "    area = cv2.contourArea(cnt)\n",
        "    perimeter = cv2.arcLength(cnt, True)\n",
        "\n",
        "    # Verifica se o contorno é um círculo\n",
        "    if perimeter > 0:\n",
        "      circularity = 4 * np.pi * area / (perimeter ** 2)\n",
        "    else:\n",
        "      circularity = 0\n",
        "\n",
        "    # Desenha um círculo\n",
        "    if circularity > 0.39:\n",
        "\n",
        "      forma = \"circulo\"\n",
        "\n",
        "      (x, y), radius = cv2.minEnclosingCircle(cnt)\n",
        "\n",
        "      # Limita o raio máximo do círculo\n",
        "      max_radius = 100  # Define o raio máximo desejado\n",
        "      radius = min(radius, max_radius)  # Limita o raio ao valor máximo\n",
        "\n",
        "      center = (int(x), int(y))\n",
        "      radius = int(radius)\n",
        "\n",
        "      #if area > 2000 or circularity > 53:\n",
        "      if area > 2000:\n",
        "        if radius < 100 and radius > 20:\n",
        "          cv2.circle(img_contours, center, radius, (255, 0, 0), 2)\n",
        "          print(\"================================================================================================================================================================\")\n",
        "          print(\"================================================================================================================================================================\") \n",
        "          print(\" -> circularity (Circulo): \" + str(circularity)  + \" / Area (Circulo): \" + str(area)  + \" / aspect_ratio (Circulo): \" + str(aspect_ratio)  + \" / radius (Circulo): \" + str(radius))\n",
        "          print(\"================================================================================================================================================================\")\n",
        "          print(\"================================================================================================================================================================\") \n",
        "      \n",
        "      else:\n",
        "        print(\"circularity (Circulo): \" + str(circularity)  + \" / Area (Circulo): \" + str(area)  + \" / aspect_ratio (Circulo): \" + str(aspect_ratio)  + \" / radius (Circulo): \" + str(radius))\n",
        "\n",
        "    # Desenha um quadrado\n",
        "    else:\n",
        "      rect = cv2.minAreaRect(cnt)\n",
        "      \n",
        "      forma = \"quadrado\"\n",
        "      radius = 0\n",
        "\n",
        "      (x, y), (w, h), angle = rect\n",
        "\n",
        "      if min(w, h) == 0:\n",
        "        aspect_ratio = 0\n",
        "      else:\n",
        "        aspect_ratio = max(w, h) / min(w, h)\n",
        "      \n",
        "\n",
        "      if aspect_ratio < 2.1:\n",
        "      #if aspect_ratio < 3:  \n",
        "        # Desenha um quadrado\n",
        "        box = cv2.boxPoints(rect)\n",
        "        box = np.int0(box)\n",
        "\n",
        "        if area > 65:\n",
        "          cv2.drawContours(img_contours, [box], 0, (0, 0, 255), 2)\n",
        "          print(\"================================================================================================================================================================\")\n",
        "          print(\"================================================================================================================================================================\") \n",
        "          print(\" -> circularity (Quadrado): \" + str(circularity)  + \" / Area (Quadrado): \" + str(area)  + \" / aspect_ratio (Quadrado): \" + str(aspect_ratio)  + \" / radius (Quadrado): \" + str(radius))\n",
        "          print(\"================================================================================================================================================================\")\n",
        "          print(\"================================================================================================================================================================\") \n",
        "\n",
        "      else:\n",
        "          print(\"circularity (Quadrado): \" + str(circularity)  + \" / Area (Quadrado): \" + str(area)  + \" / aspect_ratio (Quadrado): \" + str(aspect_ratio)  + \" / radius (Quadrado): \" + str(radius))\n",
        "\n",
        "  # Exibe a imagem pos-filtro.\n",
        "  cv2_imshow(sigma)\n",
        "  # Exibe a imagem limiarizada.\n",
        "  cv2_imshow(th3)\n",
        "  # Exibe a imagem original copiada com os contornos encontrados.\n",
        "  cv2_imshow(img_contours)\n",
        "  print()\n",
        "  print()\n",
        "  print()"
      ]
    }
  ],
  "metadata": {
    "colab": {
      "provenance": [],
      "authorship_tag": "ABX9TyMMkHbekDqCaVhl6b1Rphab",
      "include_colab_link": true
    },
    "kernelspec": {
      "display_name": "Python 3",
      "name": "python3"
    },
    "language_info": {
      "name": "python"
    }
  },
  "nbformat": 4,
  "nbformat_minor": 0
}