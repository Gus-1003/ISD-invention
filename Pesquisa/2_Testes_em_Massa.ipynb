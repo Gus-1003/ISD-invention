{
  "cells": [
    {
      "cell_type": "markdown",
      "metadata": {
        "id": "view-in-github",
        "colab_type": "text"
      },
      "source": [
        "<a href=\"https://colab.research.google.com/github/Gus-1003/ISD-invention/blob/main/Pesquisa/2_Testes_em_Massa.ipynb\" target=\"_parent\"><img src=\"https://colab.research.google.com/assets/colab-badge.svg\" alt=\"Open In Colab\"/></a>"
      ]
    },
    {
      "cell_type": "markdown",
      "source": [
        "# Coordinates of an object in image"
      ],
      "metadata": {
        "id": "JWVOXlZqdErV"
      }
    },
    {
      "cell_type": "markdown",
      "metadata": {
        "id": "wfwroNMHEkBP"
      },
      "source": [
        "# Importando as Bibliotecas:"
      ]
    },
    {
      "cell_type": "code",
      "execution_count": 2,
      "metadata": {
        "id": "MRBrOywVEr55",
        "colab": {
          "base_uri": "https://localhost:8080/"
        },
        "outputId": "e26a95d9-ad98-43b3-deef-fd08750e101a"
      },
      "outputs": [
        {
          "output_type": "stream",
          "name": "stdout",
          "text": [
            "Drive already mounted at /content/drive/; to attempt to forcibly remount, call drive.mount(\"/content/drive/\", force_remount=True).\n",
            "/content/drive/MyDrive\n"
          ]
        }
      ],
      "source": [
        "import os\n",
        "\n",
        "# A biblioteca \"os\" fornece funções para interagir com o sistema operacional, como manipulação de caminhos de arquivo, \n",
        "# verificação de existência de arquivos/diretórios, criação de diretórios, etc.\n",
        "\n",
        "import glob\n",
        "\n",
        "# A biblioteca \"glob\" é usada para obter uma lista de caminhos de arquivos que correspondem a um determinado padrão. \n",
        "# É útil para buscar arquivos em um diretório com base em padrões de nomenclatura ou extensões.\n",
        "\n",
        "import cv2\n",
        "\n",
        "# A biblioteca \"OpenCV\" (Open Source Computer Vision Library) é uma biblioteca popular para processamento de imagem e visão computacional. \n",
        "# Ela fornece várias funções e algoritmos para manipulação, análise e processamento de imagens e vídeos.\n",
        "\n",
        "import numpy as np\n",
        "\n",
        "# A biblioteca \"NumPy\" é usada para operações numéricas eficientes em Python. \n",
        "# Ela fornece arrays multidimensionais (ndarrays) que são usados para armazenar e manipular dados numéricos.\n",
        "\n",
        "import pandas as pd\n",
        "\n",
        "# A biblioteca \"Pandas\" fornece estruturas de dados e funções para análise de dados. \n",
        "# Ela é amplamente utilizada para manipulação e análise de dados tabulares, como planilhas ou bancos de dados.\n",
        "\n",
        "from google.colab.patches import cv2_imshow\n",
        "\n",
        "# A função \"cv2_imshow\" é uma adaptação do OpenCV para exibir imagens diretamente no Google Colab, \n",
        "# permitindo visualizar imagens em uma célula de código sem a necessidade de salvá-las em arquivos temporários.\n",
        "\n",
        "from google.colab import drive\n",
        "\n",
        "# A biblioteca \"drive\" permite montar o Google Drive no ambiente do Google Colab, \n",
        "# facilitando o acesso a arquivos e diretórios armazenados no Google Drive.\n",
        "\n",
        "drive.mount('/content/drive/')\n",
        "\n",
        "# Monta o Google Drive no ambiente do Google Colab, permitindo acessar os arquivos armazenados no Google Drive.\n",
        "\n",
        "%cd /content/drive/MyDrive/\n",
        "\n",
        "# Altera o diretório de trabalho atual para o diretório especificado no Google Drive."
      ]
    },
    {
      "cell_type": "markdown",
      "source": [
        "# Estruturas de dados:"
      ],
      "metadata": {
        "id": "Haxb1AYT3dSn"
      }
    },
    {
      "cell_type": "code",
      "source": [
        "nomes = [] # Armazena o nome do frame que está sendo analisado\n",
        "\n",
        "formas = [] # Armazena as formas de cada objeto\n",
        "\n",
        "areas = [] # Armazena a área de cada objeto\n",
        "perimeters = [] # Armazena o perímetro de cada objeto\n",
        "\n",
        "width = [] # Armazena a largura do retângulo de contorno de cada objeto\n",
        "height = [] # Armazena a altura do retângulo de contorno de cada objeto\n",
        "angle = [] # Armazena o ângulo (em graus) do retângulo de contorno de cada objeto\n",
        "radius = [] # Armazena o raio do círculo de contorno de cada objeto\n",
        "\n",
        "equivalent_diameter = [] # Armazena o diâmetro equivalente (em pixels) do círculo com a mesma área de cada objeto\n",
        "\n",
        "centroids_x = [] # Armazena as coordenadas x do centróide de cada objeto\n",
        "centroids_y = [] # Armazena as coordenadas y do centróide de cada objeto\n",
        "aspect_ratio = [] # Armazena a relação entre largura e altura do retângulo de contorno de cada objeto\n",
        "extent = [] # Armazena a razão entre a área do contorno e a área do retângulo de contorno de cada objeto\n",
        "solidity = [] # Armazena a razão entre a área do contorno e a área do casco convexo de cada objeto"
      ],
      "metadata": {
        "id": "TpahiE2K4mSm"
      },
      "execution_count": 5,
      "outputs": []
    },
    {
      "cell_type": "markdown",
      "source": [
        "# Endereços:"
      ],
      "metadata": {
        "id": "QP-2CnkC5DZZ"
      }
    },
    {
      "cell_type": "markdown",
      "source": [
        "> Lembrando que os endereços de **Entrada dos Videos** e **Destino das Imagens** estão vinculados ao drive do usuario que está rodando esse código. Caso você não seja o autor desse código os endereços deverão ser modificados."
      ],
      "metadata": {
        "id": "Car1skdL5VPh"
      }
    },
    {
      "cell_type": "markdown",
      "source": [
        "## Pasta de Endereço dos Videos:"
      ],
      "metadata": {
        "id": "mZgHaS4IXXwP"
      }
    },
    {
      "cell_type": "markdown",
      "source": [
        "Lembre sempre que a extensão do video pode acabar sendo alterada. \n",
        "\n",
        "No meu caso tenho entradas que possuem extensão .mp4 e outras .mpg"
      ],
      "metadata": {
        "id": "edAAfDC_-OcD"
      }
    },
    {
      "cell_type": "code",
      "source": [
        "# entrada = glob.glob('/content/drive/Shareddrives/Lab Electrofisiologia III - Dados/Experimentos comportamento III/Experimento 15/Vídeos separados - TR e TT/grey_field_videos/*.mp4')\n",
        "\n",
        "entrada = glob.glob('/content/drive/Shareddrives/Lab Electrofisiologia III - Dados/Experimentos comportamento III/Experimento 17/Vídeos separados (explo)/campo preto/*.mpg')\n",
        "\n",
        "# Imprime os elementos da lista com quebras de linha entre cada elemento\n",
        "print('\\n'.join(entrada))"
      ],
      "metadata": {
        "id": "ZhQ-_wvZWY64",
        "colab": {
          "base_uri": "https://localhost:8080/"
        },
        "outputId": "54a0176c-78d4-4622-f0e4-15642bcce22f"
      },
      "execution_count": 16,
      "outputs": [
        {
          "output_type": "stream",
          "name": "stdout",
          "text": [
            "/content/drive/Shareddrives/Lab Electrofisiologia III - Dados/Experimentos comportamento III/Experimento 17/Vídeos separados (explo)/campo preto/Dia2-Explo-CCF504-Contexto4.mpg\n",
            "/content/drive/Shareddrives/Lab Electrofisiologia III - Dados/Experimentos comportamento III/Experimento 17/Vídeos separados (explo)/campo preto/Dia2-Explo-CCF508-Contexto4.mpg\n",
            "/content/drive/Shareddrives/Lab Electrofisiologia III - Dados/Experimentos comportamento III/Experimento 17/Vídeos separados (explo)/campo preto/Dia2-Explo-CCF512-Contexto4.mpg\n"
          ]
        }
      ]
    },
    {
      "cell_type": "markdown",
      "source": [
        "## Pasta de Destino das Imagens:"
      ],
      "metadata": {
        "id": "C5HFV6WDWiaA"
      }
    },
    {
      "cell_type": "code",
      "source": [
        "#destino = '/content/drive/MyDrive/Pesquisa_ISD_IC/Base de Dados/'\n",
        "\n",
        "#destino = '/content/drive/MyDrive/Pesquisa_ISD_IC/Imagens_grey/'\n",
        "\n",
        "#destino = '/content/drive/MyDrive/Pesquisa_ISD_IC/Imagens_Infravermelho/'\n",
        "\n",
        "destino = '/content/drive/MyDrive/Pesquisa_ISD_IC/Teste_Massivo/'"
      ],
      "metadata": {
        "id": "avTvyNHVXgt-"
      },
      "execution_count": 7,
      "outputs": []
    },
    {
      "cell_type": "markdown",
      "source": [
        "## Pacote de frames salvos:"
      ],
      "metadata": {
        "id": "NgupDMHy23eW"
      }
    },
    {
      "cell_type": "markdown",
      "source": [
        "Se você acertou o endereço de destino não precisa modificar a cécula abaixo:"
      ],
      "metadata": {
        "id": "bRi3trL25Jx6"
      }
    },
    {
      "cell_type": "code",
      "source": [
        "frames = glob.glob(destino + '*.jpg')\n",
        "print(frames)"
      ],
      "metadata": {
        "colab": {
          "base_uri": "https://localhost:8080/"
        },
        "id": "vVDHg7Jj2oaF",
        "outputId": "976fcded-9e0c-4d09-86dc-aaf99a3f3b16"
      },
      "execution_count": 29,
      "outputs": [
        {
          "output_type": "stream",
          "name": "stdout",
          "text": [
            "['/content/drive/MyDrive/Pesquisa_ISD_IC/Teste_Massivo/Dia2-Explo-CCF504-Contexto4.jpg', '/content/drive/MyDrive/Pesquisa_ISD_IC/Teste_Massivo/Dia2-Explo-CCF508-Contexto4.jpg', '/content/drive/MyDrive/Pesquisa_ISD_IC/Teste_Massivo/Dia2-Explo-CCF512-Contexto4.jpg']\n"
          ]
        }
      ]
    },
    {
      "cell_type": "markdown",
      "metadata": {
        "id": "r7KZFA0XzI12"
      },
      "source": [
        "# Detecção de Objetos:"
      ]
    },
    {
      "cell_type": "markdown",
      "source": [
        "## Extração do primeiro Frame de cada videos:"
      ],
      "metadata": {
        "id": "oZgaxbmdhYjl"
      }
    },
    {
      "cell_type": "code",
      "source": [
        "def extract_frames_from_videos(path_list, destino):\n",
        "  for video in path_list:\n",
        "    # Verificar se o caminho do vídeo existe\n",
        "    if not os.path.exists(video):\n",
        "      print(f\"O vídeo '{video}' não existe.\")\n",
        "      return\n",
        "\n",
        "    # Abrir o arquivo de vídeo\n",
        "    vidcap = cv2.VideoCapture(video)\n",
        "\n",
        "    # Verificar se o vídeo foi aberto corretamente\n",
        "    if not vidcap.isOpened():\n",
        "      print(f\"Falha ao abrir o vídeo '{video}'.\")\n",
        "      return\n",
        "\n",
        "    # Extrair o nome do vídeo a partir do caminho\n",
        "    nome_completo = video.split('/')\n",
        "    nome = nome_completo[9].split('.')\n",
        "    nome = nome[0]\n",
        "\n",
        "    # create a folder by the name of the video file\n",
        "    if not os.path.exists(\"{}\".format(destino)):\n",
        "      os.makedirs(\"{}\".format(destino))\n",
        "\n",
        "    # Ler o primeiro frame\n",
        "    success, image = vidcap.read()\n",
        "    print('Read a new frame: ', success)\n",
        "\n",
        "    # Verificar se houve sucesso na leitura do frame\n",
        "    if not success:\n",
        "      print(f\"Falha ao ler o frame.\")\n",
        "\n",
        "      # Liberar os recursos utilizados pelo objeto de leitura do vídeo\n",
        "      vidcap.release()\n",
        "    \n",
        "      break\n",
        "\n",
        "    # Salvar o frame lido\n",
        "    cv2.imwrite(\"{}{}.jpg\".format(destino, nome), image)\n",
        "    print('Creating...' + \"{}{}.jpg\".format(destino, nome))\n",
        "\n",
        "    # Liberar os recursos utilizados pelo objeto de leitura do vídeo\n",
        "    vidcap.release()\n",
        "    # Fechar todas as janelas abertas pelo OpenCV\n",
        "    cv2.destroyAllWindows()"
      ],
      "metadata": {
        "id": "g9H2H2iTXU6J"
      },
      "execution_count": 25,
      "outputs": []
    },
    {
      "cell_type": "code",
      "source": [
        "extract_frames_from_videos(entrada, destino)"
      ],
      "metadata": {
        "colab": {
          "base_uri": "https://localhost:8080/"
        },
        "id": "3HQQ5d9S-hXS",
        "outputId": "72c70935-852f-449e-f2c1-f17e8c359555"
      },
      "execution_count": 24,
      "outputs": [
        {
          "output_type": "stream",
          "name": "stdout",
          "text": [
            "Read a new frame:  True\n",
            "Creating.../content/drive/MyDrive/Pesquisa_ISD_IC/Teste_Massivo/Dia2-Explo-CCF504-Contexto4.jpg\n",
            "Read a new frame:  True\n",
            "Creating.../content/drive/MyDrive/Pesquisa_ISD_IC/Teste_Massivo/Dia2-Explo-CCF508-Contexto4.jpg\n",
            "Read a new frame:  True\n",
            "Creating.../content/drive/MyDrive/Pesquisa_ISD_IC/Teste_Massivo/Dia2-Explo-CCF512-Contexto4.jpg\n"
          ]
        }
      ]
    },
    {
      "cell_type": "markdown",
      "source": [
        "## Extração de um Frame pos Time Skip:"
      ],
      "metadata": {
        "id": "LzstN_Nswqam"
      }
    },
    {
      "cell_type": "code",
      "source": [
        "def extract_frame_from_video(video, destino, cont=1):\n",
        "  # Verificar se o caminho do vídeo existe\n",
        "  if not os.path.exists(video):\n",
        "    print(f\"O vídeo '{video}' não existe.\")\n",
        "    return\n",
        "\n",
        "  # Abrir o vídeo\n",
        "  vidcap = cv2.VideoCapture(video)\n",
        "\n",
        "  # Verificar se o vídeo foi aberto corretamente\n",
        "  if not vidcap.isOpened():\n",
        "    print(f\"Falha ao abrir o vídeo '{video}'.\")\n",
        "    return\n",
        "\n",
        "  interval = 60  # intervalo em segundos (1 minuto)\n",
        "\n",
        "  # Pular frames com base no intervalo definido\n",
        "  vidcap.set(cv2.CAP_PROP_POS_FRAMES, int(interval * cont * vidcap.get(cv2.CAP_PROP_FPS)))\n",
        "\n",
        "  # Extrair o nome do vídeo a partir do caminho\n",
        "  nome_completo = video.split('/')\n",
        "  nome = nome_completo[9].split('.')\n",
        "  nome = nome[0]\n",
        "\n",
        "  # Ler o próximo frame\n",
        "  success, image = vidcap.read()\n",
        "\n",
        "  # Verificar se o frame foi lido com sucesso\n",
        "  if not success:\n",
        "    print(f\"Falha ao ler a imagem {cont} do vídeo '{video}'.\")\n",
        "\n",
        "    # Liberar os recursos utilizados pelo objeto de leitura do vídeo\n",
        "    vidcap.release()\n",
        "\n",
        "    return\n",
        "\n",
        "  # Salvar o frame lido\n",
        "  cv2.imwrite(\"{}{}.jpg\".format(destino, nome), image)\n",
        "  print(f\"Frame {cont} extraído do vídeo '{nome}' salva com sucesso em '{destino}'.\")\n",
        "\n",
        "  # Liberar os recursos utilizados pelo objeto de leitura do vídeo\n",
        "  vidcap.release()\n",
        "  # Fechar todas as janelas abertas pelo OpenCV\n",
        "  cv2.destroyAllWindows()"
      ],
      "metadata": {
        "id": "VmhpNqZewy3E"
      },
      "execution_count": 19,
      "outputs": []
    },
    {
      "cell_type": "markdown",
      "metadata": {
        "id": "GQl0UBTozNpR"
      },
      "source": [
        "## Processamento 1:"
      ]
    },
    {
      "cell_type": "code",
      "source": [
        "# Loop que processa cada arquivo na lista de caminhos de arquivos.\n",
        "for frame in frames:\n",
        "\n",
        "  # Contador de objetos identificados\n",
        "  objetos = 0\n",
        "\n",
        "  # Função usada para ler a imagem e converter em uma matriz\n",
        "  im = cv2.imread(frame)\n",
        "\n",
        "  # Separa o nome especifico da imagem.path_list\n",
        "  nome_completo = frame.split('/')\n",
        "  nome = nome_completo[6].split('.')\n",
        "  nome[0] \n",
        "\n",
        "  # Imprime as fronteiras e identifica as imagens:\n",
        "  print(\"================================================================================\")\n",
        "  print(\"================================================================================\") \n",
        "  print(nome[0])\n",
        "\n",
        "  # Cria uma cópia da imagem original.\n",
        "  img_contours = im.copy()\n",
        "\n",
        "  # Converte a imagem para o espaço de cores em escala de cinza.\n",
        "  image = cv2.cvtColor(im, cv2.COLOR_BGR2GRAY)\n",
        "\n",
        "  # Converte a imagem para o tipo float32.\n",
        "  image32f = np.float32(image)\n",
        "\n",
        "  # Aplica um filtro de média à imagem.\n",
        "  mu = cv2.blur(image32f, (3, 3))\n",
        "\n",
        "  # Aplica um filtro de variância à imagem.\n",
        "  mu2 = cv2.blur(image32f*image32f, (3, 3))\n",
        "  sigma = cv2.sqrt(mu2 - mu*mu)\n",
        "  sigma = sigma * 10\n",
        "  sigma = sigma.astype(\"uint8\")\n",
        "\n",
        "  # Aplica um filtro de borramento com kernel de 5x5\n",
        "  sigma = cv2.GaussianBlur(sigma, (5, 5), 0)\n",
        "\n",
        "  # Aplicando o filtro Laplaciano\n",
        "  laplacian = cv2.Laplacian(sigma, cv2.CV_32F)\n",
        "\n",
        "  # Normalizando a saída para o intervalo de 0 a 255\n",
        "  sigma = cv2.convertScaleAbs(laplacian)\n",
        "\n",
        "  # Aplica um filtro de Sobel em x e y\n",
        "  sobelx = cv2.Sobel(sigma, cv2.CV_64F, 1, 0, ksize=3)\n",
        "  sobely = cv2.Sobel(sigma, cv2.CV_64F, 0, 1, ksize=3)\n",
        "\n",
        "  # Calcula a magnitude do gradiente\n",
        "  gradient_magnitude = cv2.magnitude(sobelx, sobely)\n",
        "\n",
        "  # Normaliza a magnitude do gradiente para o intervalo de 0 a 255\n",
        "  gradient_magnitude = cv2.normalize(gradient_magnitude, None, 0, 255, cv2.NORM_MINMAX, cv2.CV_8U)\n",
        "\n",
        "  # Aplica uma limiarização com método de Otsu à imagem do gradiente\n",
        "  _, gradient_threshold = cv2.threshold(gradient_magnitude, 0, 255, cv2.THRESH_BINARY + cv2.THRESH_OTSU)\n",
        "\n",
        "  # Define o kernel para dilatação e erosão\n",
        "  kernel = np.ones((5,5), np.uint8)\n",
        "\n",
        "  # Dilata a imagem limiarizada\n",
        "  gradient_threshold = cv2.dilate(gradient_threshold, kernel, iterations=2)\n",
        "\n",
        "  # Encontra os contornos na imagem limiarizada.\n",
        "  contours, hierarchy = cv2.findContours(gradient_threshold, cv2.RETR_TREE, cv2.CHAIN_APPROX_SIMPLE)\n",
        "\n",
        "  # Loop sobre os contornos\n",
        "  for cnt in contours:\n",
        "\n",
        "    # Aproxima o contorno por uma sequência de pontos\n",
        "    approx = cv2.approxPolyDP(cnt, 0.01 * cv2.arcLength(cnt, True), True)\n",
        "\n",
        "    # Calcula a área e o perímetro do contorno\n",
        "    area = cv2.contourArea(cnt)\n",
        "    perimeter = cv2.arcLength(cnt, True)\n",
        "\n",
        "    # Verifica se o contorno é um círculo\n",
        "    if perimeter > 0:\n",
        "      circularity = 4 * np.pi * area / (perimeter ** 2)\n",
        "    else:\n",
        "      circularity = 0\n",
        "\n",
        "    # Desenha um círculo\n",
        "    if circularity > 0.30:\n",
        "\n",
        "      forma = \"circulo\"\n",
        "\n",
        "      (x, y), radius = cv2.minEnclosingCircle(cnt)\n",
        "\n",
        "      # Limita o raio máximo do círculo\n",
        "      max_radius = 100  # Define o raio máximo desejado\n",
        "      radius = min(radius, max_radius)  # Limita o raio ao valor máximo\n",
        "\n",
        "      center = (int(x), int(y))\n",
        "      radius = int(radius)\n",
        "\n",
        "      #if area > 2000 or circularity > 53:\n",
        "      if area > 2000:\n",
        "        if radius < 100 and radius > 20:\n",
        "          cv2.circle(img_contours, center, radius, (255, 0, 0), 2)\n",
        "          print(\"================================================================================================================================================================\")\n",
        "          print(\"================================================================================================================================================================\") \n",
        "          print(\" -> circularity (Circulo): \" + str(circularity)  + \" / Area (Circulo): \" + str(area)  + \" / aspect_ratio (Circulo): \" + str(aspect_ratio)  + \" / radius (Circulo): \" + str(radius))\n",
        "          print(\"================================================================================================================================================================\")\n",
        "          print(\"================================================================================================================================================================\") \n",
        "          objetos = objetos + 1\n",
        "      else:\n",
        "        print(\"circularity (Circulo): \" + str(circularity)  + \" / Area (Circulo): \" + str(area)  + \" / aspect_ratio (Circulo): \" + str(aspect_ratio)  + \" / radius (Circulo): \" + str(radius))\n",
        "\n",
        "    # Desenha um quadrado\n",
        "    else:\n",
        "      rect = cv2.minAreaRect(cnt)\n",
        "      \n",
        "      forma = \"quadrado\"\n",
        "      radius = 0\n",
        "\n",
        "      (x, y), (w, h), angle = rect\n",
        "\n",
        "      if min(w, h) == 0:\n",
        "        aspect_ratio = 0\n",
        "      else:\n",
        "        aspect_ratio = max(w, h) / min(w, h)\n",
        "      \n",
        "\n",
        "      if aspect_ratio < 2:\n",
        "      #if aspect_ratio < 3:  \n",
        "        # Desenha um quadrado\n",
        "        box = cv2.boxPoints(rect)\n",
        "        box = np.int0(box)\n",
        "\n",
        "        if area > 2000 and area < 6543.5:\n",
        "          cv2.drawContours(img_contours, [box], 0, (0, 0, 255), 2)\n",
        "          print(\"================================================================================================================================================================\")\n",
        "          print(\"================================================================================================================================================================\") \n",
        "          print(\" -> circularity (Quadrado): \" + str(circularity)  + \" / Area (Quadrado): \" + str(area)  + \" / aspect_ratio (Quadrado): \" + str(aspect_ratio)  + \" / radius (Quadrado): \" + str(radius))\n",
        "          print(\"================================================================================================================================================================\")\n",
        "          print(\"================================================================================================================================================================\") \n",
        "          objetos = objetos + 1\n",
        "      else:\n",
        "          print(\"circularity (Quadrado): \" + str(circularity)  + \" / Area (Quadrado): \" + str(area)  + \" / aspect_ratio (Quadrado): \" + str(aspect_ratio)  + \" / radius (Quadrado): \" + str(radius))\n",
        "\n",
        "  # Exibe a imagem pos-filtro.\n",
        "  #cv2_imshow(sigma)\n",
        "  # Exibe a imagem limiarizada.\n",
        "  #cv2_imshow(gradient_threshold)\n",
        "  # Exibe a imagem original copiada com os contornos encontrados.\n",
        "  cv2_imshow(img_contours)\n",
        "  print(\"Foram encontrados: \" + str(objetos) + \" Objetos\") \n",
        "  print()\n",
        "  print()"
      ],
      "metadata": {
        "id": "mfx08hl_mY33"
      },
      "execution_count": null,
      "outputs": []
    },
    {
      "cell_type": "markdown",
      "source": [
        "## Processamento 2:"
      ],
      "metadata": {
        "id": "o7C6ahcUWPJv"
      }
    },
    {
      "cell_type": "code",
      "source": [
        "# Loop que processa cada arquivo na lista de caminhos de arquivos.\n",
        "for frame in frames:\n",
        "\n",
        "  objetos = 0\n",
        "\n",
        "  # The function cv2.imread() is used to read an image.\n",
        "  im = cv2.imread(frame)\n",
        "\n",
        "  # Separa o nome especifico da imagem.\n",
        "  nome_completo = frame.split('/')\n",
        "  nome = nome_completo[6].split('.')\n",
        "  nome[0]\n",
        "\n",
        "  # Imprime as fronteiras e identifica as imagens:\n",
        "  print(\"================================================================================\")\n",
        "  print(\"================================================================================\") \n",
        "  print(nome[0])\n",
        "\n",
        "  # Cria uma cópia da imagem original.\n",
        "  img_contours = im.copy()\n",
        "\n",
        "  # Converte a imagem para o espaço de cores em escala de cinza.\n",
        "  image = cv2.cvtColor(im, cv2.COLOR_BGR2GRAY)\n",
        "\n",
        "  # Converte a imagem para o tipo float32.\n",
        "  image32f = np.float32(image)\n",
        "\n",
        "  # Aplica um filtro de média à imagem.\n",
        "  mu = cv2.blur(image32f, (3, 3))\n",
        "\n",
        "  # Aplica um filtro de variância à imagem.\n",
        "  mu2 = cv2.blur(image32f*image32f, (3, 3))\n",
        "  sigma = cv2.sqrt(mu2 - mu*mu)\n",
        "  sigma = sigma * 10\n",
        "  sigma = sigma.astype(\"uint8\")\n",
        "\n",
        "  # Aplica um filtro de borramento com kernel de 5x5\n",
        "  sigma = cv2.GaussianBlur(sigma, (5, 5), 0)\n",
        "\n",
        "  # Aplicando o filtro Laplaciano\n",
        "  laplacian = cv2.Laplacian(sigma, cv2.CV_32F)\n",
        "\n",
        "  # Normalizando a saída para o intervalo de 0 a 255\n",
        "  sigma = cv2.convertScaleAbs(laplacian)\n",
        "\n",
        "  # Aplica um filtro de Sobel em x e y\n",
        "  sobelx = cv2.Sobel(sigma, cv2.CV_64F, 1, 0, ksize=3)\n",
        "  sobely = cv2.Sobel(sigma, cv2.CV_64F, 0, 1, ksize=3)\n",
        "\n",
        "  # Calcula a magnitude do gradiente\n",
        "  gradient_magnitude = cv2.magnitude(sobelx, sobely)\n",
        "\n",
        "  # Normaliza a magnitude do gradiente para o intervalo de 0 a 255\n",
        "  gradient_magnitude = cv2.normalize(gradient_magnitude, None, 0, 255, cv2.NORM_MINMAX, cv2.CV_8U)\n",
        "\n",
        "  # Aplica uma limiarização com método de Otsu à imagem do gradiente\n",
        "  _, gradient_threshold = cv2.threshold(gradient_magnitude, 0, 255, cv2.THRESH_BINARY + cv2.THRESH_OTSU)\n",
        "\n",
        "  # Define o kernel para dilatação e erosão\n",
        "  kernel = np.ones((5,5), np.uint8)\n",
        "\n",
        "  # Dilata a imagem limiarizada\n",
        "  gradient_threshold = cv2.dilate(gradient_threshold, kernel, iterations=2)\n",
        "\n",
        "  # Encontra os contornos na imagem limiarizada.\n",
        "  contours, hierarchy = cv2.findContours(gradient_threshold, cv2.RETR_TREE, cv2.CHAIN_APPROX_SIMPLE)\n",
        "\n",
        "  # Loop sobre os contornos\n",
        "  for cnt in contours:\n",
        "\n",
        "    # Aproxima o contorno por uma sequência de pontos\n",
        "    approx = cv2.approxPolyDP(cnt, 0.01 * cv2.arcLength(cnt, True), True)\n",
        "\n",
        "    # Calcula a área e o perímetro do contorno\n",
        "    area = cv2.contourArea(cnt)\n",
        "    perimeter = cv2.arcLength(cnt, True)\n",
        "\n",
        "    # Verifica se o contorno é um círculo\n",
        "    if perimeter > 0:\n",
        "      circularity = 4 * np.pi * area / (perimeter ** 2)\n",
        "    else:\n",
        "      circularity = 0\n",
        "\n",
        "    # Desenha um círculo\n",
        "    if circularity > 0.30:\n",
        "\n",
        "      forma = \"circulo\"\n",
        "\n",
        "      (x, y), radius = cv2.minEnclosingCircle(cnt)\n",
        "\n",
        "      # Limita o raio máximo do círculo\n",
        "      max_radius = 100  # Define o raio máximo desejado\n",
        "      radius = min(radius, max_radius)  # Limita o raio ao valor máximo\n",
        "\n",
        "      center = (int(x), int(y))\n",
        "      radius = int(radius)\n",
        "\n",
        "      #if area > 2000 or circularity > 53:\n",
        "      if area > 2000:\n",
        "        if radius < 100 and radius > 20:\n",
        "          cv2.circle(img_contours, center, radius, (255, 0, 0), 2)\n",
        "          print(\"================================================================================================================================================================\")\n",
        "          print(\"================================================================================================================================================================\") \n",
        "          print(\" -> circularity (Circulo): \" + str(circularity)  + \" / Area (Circulo): \" + str(area)  + \" / aspect_ratio (Circulo): \" + str(aspect_ratio)  + \" / radius (Circulo): \" + str(radius))\n",
        "          print(\"================================================================================================================================================================\")\n",
        "          print(\"================================================================================================================================================================\") \n",
        "          objetos = objetos + 1\n",
        "      else:\n",
        "        print(\"circularity (Circulo): \" + str(circularity)  + \" / Area (Circulo): \" + str(area)  + \" / aspect_ratio (Circulo): \" + str(aspect_ratio)  + \" / radius (Circulo): \" + str(radius))\n",
        "\n",
        "    # Desenha um quadrado\n",
        "    else:\n",
        "      rect = cv2.minAreaRect(cnt)\n",
        "      \n",
        "      forma = \"quadrado\"\n",
        "      radius = 0\n",
        "\n",
        "      (x, y), (w, h), angle = rect\n",
        "\n",
        "      if min(w, h) == 0:\n",
        "        aspect_ratio = 0\n",
        "      else:\n",
        "        aspect_ratio = max(w, h) / min(w, h)\n",
        "      \n",
        "\n",
        "      if aspect_ratio < 2:\n",
        "      #if aspect_ratio < 3:  \n",
        "        # Desenha um quadrado\n",
        "        box = cv2.boxPoints(rect)\n",
        "        box = np.int0(box)\n",
        "\n",
        "        if area > 2000 and area < 6543.5:\n",
        "          cv2.drawContours(img_contours, [box], 0, (0, 0, 255), 2)\n",
        "          print(\"================================================================================================================================================================\")\n",
        "          print(\"================================================================================================================================================================\") \n",
        "          print(\" -> circularity (Quadrado): \" + str(circularity)  + \" / Area (Quadrado): \" + str(area)  + \" / aspect_ratio (Quadrado): \" + str(aspect_ratio)  + \" / radius (Quadrado): \" + str(radius))\n",
        "          print(\"================================================================================================================================================================\")\n",
        "          print(\"================================================================================================================================================================\") \n",
        "          objetos = objetos + 1\n",
        "      else:\n",
        "          print(\"circularity (Quadrado): \" + str(circularity)  + \" / Area (Quadrado): \" + str(area)  + \" / aspect_ratio (Quadrado): \" + str(aspect_ratio)  + \" / radius (Quadrado): \" + str(radius))\n",
        "\n",
        "  # Exibe a imagem pos-filtro.\n",
        "  #cv2_imshow(sigma)\n",
        "  # Exibe a imagem limiarizada.\n",
        "  #cv2_imshow(gradient_threshold)\n",
        "  # Exibe a imagem original copiada com os contornos encontrados.\n",
        "  cv2_imshow(img_contours)\n",
        "  print(\"Foram encontrados: \" + str(objetos) + \" Objetos\") \n",
        "  print()\n",
        "  print()"
      ],
      "metadata": {
        "id": "Q7xrx3YMWLwv"
      },
      "execution_count": null,
      "outputs": []
    }
  ],
  "metadata": {
    "colab": {
      "provenance": [],
      "authorship_tag": "ABX9TyO4BEjcSKe/JDgAQh0UqRbK",
      "include_colab_link": true
    },
    "kernelspec": {
      "display_name": "Python 3",
      "name": "python3"
    },
    "language_info": {
      "name": "python"
    }
  },
  "nbformat": 4,
  "nbformat_minor": 0
}