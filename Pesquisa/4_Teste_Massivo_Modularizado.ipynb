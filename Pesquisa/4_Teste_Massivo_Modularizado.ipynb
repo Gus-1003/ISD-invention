{
  "nbformat": 4,
  "nbformat_minor": 0,
  "metadata": {
    "colab": {
      "provenance": [],
      "toc_visible": true,
      "authorship_tag": "ABX9TyP9sbfYiSnfroQgkCIwU/08",
      "include_colab_link": true
    },
    "kernelspec": {
      "name": "python3",
      "display_name": "Python 3"
    },
    "language_info": {
      "name": "python"
    }
  },
  "cells": [
    {
      "cell_type": "markdown",
      "metadata": {
        "id": "view-in-github",
        "colab_type": "text"
      },
      "source": [
        "<a href=\"https://colab.research.google.com/github/Gus-1003/ISD-invention/blob/main/Pesquisa/4_Teste_Massivo_Modularizado.ipynb\" target=\"_parent\"><img src=\"https://colab.research.google.com/assets/colab-badge.svg\" alt=\"Open In Colab\"/></a>"
      ]
    },
    {
      "cell_type": "markdown",
      "source": [
        "# Importando Bibliotecas"
      ],
      "metadata": {
        "id": "oNm2fbhy8jVY"
      }
    },
    {
      "cell_type": "code",
      "execution_count": 49,
      "metadata": {
        "id": "YUY9DGp5E6C0",
        "colab": {
          "base_uri": "https://localhost:8080/"
        },
        "outputId": "8d9755a9-5549-4ed8-c23e-743dc9a31023"
      },
      "outputs": [
        {
          "output_type": "stream",
          "name": "stdout",
          "text": [
            "Drive already mounted at /content/drive/; to attempt to forcibly remount, call drive.mount(\"/content/drive/\", force_remount=True).\n",
            "/content/drive/MyDrive\n"
          ]
        }
      ],
      "source": [
        "import os\n",
        "\n",
        "# A biblioteca \"os\" fornece funções para interagir com o sistema operacional, como manipulação de caminhos de arquivo, \n",
        "# verificação de existência de arquivos/diretórios, criação de diretórios, etc.\n",
        "\n",
        "import glob\n",
        "\n",
        "# A biblioteca \"glob\" é usada para obter uma lista de caminhos de arquivos que correspondem a um determinado padrão. \n",
        "# É útil para buscar arquivos em um diretório com base em padrões de nomenclatura ou extensões.\n",
        "\n",
        "import cv2\n",
        "\n",
        "# A biblioteca \"OpenCV\" (Open Source Computer Vision Library) é uma biblioteca popular para processamento de imagem e visão computacional. \n",
        "# Ela fornece várias funções e algoritmos para manipulação, análise e processamento de imagens e vídeos.\n",
        "\n",
        "import numpy as np\n",
        "\n",
        "# A biblioteca \"NumPy\" é usada para operações numéricas eficientes em Python. \n",
        "# Ela fornece arrays multidimensionais (ndarrays) que são usados para armazenar e manipular dados numéricos.\n",
        "\n",
        "import pandas as pd\n",
        "\n",
        "# A biblioteca \"Pandas\" fornece estruturas de dados e funções para análise de dados. \n",
        "# Ela é amplamente utilizada para manipulação e análise de dados tabulares, como planilhas ou bancos de dados.\n",
        "\n",
        "from google.colab.patches import cv2_imshow\n",
        "\n",
        "from google.colab import drive\n",
        "\n",
        "# A biblioteca \"drive\" permite montar o Google Drive no ambiente do Google Colab, \n",
        "# facilitando o acesso a arquivos e diretórios armazenados no Google Drive.\n",
        "\n",
        "drive.mount('/content/drive/')\n",
        "\n",
        "# Monta o Google Drive no ambiente do Google Colab, permitindo acessar os arquivos armazenados no Google Drive.\n",
        "\n",
        "%cd /content/drive/MyDrive/\n",
        "\n",
        "# Altera o diretório de trabalho atual para o diretório especificado no Google Drive."
      ]
    },
    {
      "cell_type": "markdown",
      "source": [
        "# Funções:"
      ],
      "metadata": {
        "id": "uQdFjWBK8z4G"
      }
    },
    {
      "cell_type": "markdown",
      "source": [
        "## calculate_contour_properties:"
      ],
      "metadata": {
        "id": "hv6s_NPj-40W"
      }
    },
    {
      "cell_type": "code",
      "source": [
        "def calculate_contour_properties(cnt):\n",
        "  # Momentos do objeto\n",
        "  M = cv2.moments(cnt)\n",
        "\n",
        "  # Calcula a área do contorno\n",
        "  area = cv2.contourArea(cnt)\n",
        "\n",
        "  # Calcula o perímetro do contorno\n",
        "  perimeter = cv2.arcLength(cnt, True)\n",
        "\n",
        "  # Proporção de aspecto do objeto\n",
        "  x,y,w,h = cv2.boundingRect(cnt)\n",
        "  aspect_ratio = float(w)/h\n",
        "  width = w\n",
        "  height = h\n",
        "  center = (int(x), int(y))\n",
        "\n",
        "  # Forma de achar o contorno 1\n",
        "  cx = int(x)\n",
        "  cy = int(y)\n",
        "\n",
        "  # Forma de achar o contorno 2\n",
        "  center_x = int(M[\"m10\"] / M[\"m00\"])\n",
        "  center_y = int(M[\"m01\"] / M[\"m00\"])\n",
        "\n",
        "  # Ângulo e raio mínimo envolvente em torno do objeto\n",
        "  rect = cv2.minAreaRect(cnt)\n",
        "  circle = cv2.minEnclosingCircle(cnt)\n",
        "  angle = rect[2]\n",
        "  radius = circle[1]\n",
        "\n",
        "  box = cv2.boxPoints(rect)\n",
        "  box = np.int0(box)\n",
        "\n",
        "  # Extensão do objeto (razão entre a área do objeto e a área do retângulo envolvente mínimo)\n",
        "  rect_area = w*h\n",
        "  \n",
        "  # Calcula a circularidade do contorno\n",
        "  if perimeter > 0:\n",
        "      circularity = 4 * np.pi * area / (perimeter ** 2)\n",
        "  else:\n",
        "      circularity = 0\n",
        "      \n",
        "  return area, perimeter, circularity, radius, x, y, w, h, box, angle, center, cx, cy, center_x, center_y"
      ],
      "metadata": {
        "id": "4LyaFWB-GpKd"
      },
      "execution_count": 46,
      "outputs": []
    },
    {
      "cell_type": "markdown",
      "source": [
        "## process_contours:"
      ],
      "metadata": {
        "id": "8jnBY782BL7O"
      }
    },
    {
      "cell_type": "code",
      "source": [
        "def process_contours(img_contours, contours, imagem_original):\n",
        "\n",
        "  objetos = 0\n",
        "\n",
        "  for cnt in contours:\n",
        "    # Aproxima o contorno por uma sequência de segmentos de linha\n",
        "    approx = cv2.approxPolyDP(cnt, 0.01 * cv2.arcLength(cnt, True), True)\n",
        "\n",
        "    # Calcula as propriedades do contorno\n",
        "    area, perimeter, circularity, radius, x, y, w, h, box, angle, center, cx, cy, center_x, center_y = calculate_contour_properties(cnt)\n",
        "\n",
        "    # Define o raio máximo desejado\n",
        "    max_radius = 100\n",
        "\n",
        "    # Limita o raio ao valor máximo\n",
        "    radius = min(radius, max_radius)\n",
        "\n",
        "    # Converte o raio para inteiro\n",
        "    radius = int(radius)\n",
        "\n",
        "    # Para um padrão Circular:\n",
        "    if circularity > 0.30 and area > 2000 and radius < 100 and radius > 20:\n",
        "\n",
        "      # Desenha um contorno Circular\n",
        "      cv2.circle(img_contours, center, radius, (255, 0, 0), 2)\n",
        "      \n",
        "      # Desenho do ponto central\n",
        "      cv2.circle(img_contours, (center_x, center_y), 5, (255, 0, 0), -1)\n",
        "      cv2.circle(img_contours, (cx, cy), 5, (0, 255, 0), -1)\n",
        "\n",
        "      # Contagem total de Objetos Identificados\n",
        "      objetos = objetos + 1\n",
        "\n",
        "    else:\n",
        "      if min(w, h) == 0:\n",
        "        aspect_ratio = 0\n",
        "      else:\n",
        "        aspect_ratio = max(w, h) / min(w, h)\n",
        "\n",
        "      if aspect_ratio < 2 and area > 2000 and area < 6543.5: \n",
        "        # Desenha um contorno quadratico\n",
        "        cv2.drawContours(img_contours, [box], 0, (0, 0, 255), 2)\n",
        "\n",
        "        # Desenho do ponto central\n",
        "        cv2.circle(img_contours, (center_x, center_y), 5, (0, 0, 255), -1)\n",
        "        cv2.circle(img_contours, (cx, cy), 5, (0, 255, 0), -1)\n",
        "\n",
        "        # Contagem total de Objetos Identificados\n",
        "        objetos = objetos + 1\n",
        "\n",
        "  return imagem_original, objetos"
      ],
      "metadata": {
        "id": "2_J2TxeXGMVB"
      },
      "execution_count": 47,
      "outputs": []
    },
    {
      "cell_type": "markdown",
      "source": [
        "## find_contours:"
      ],
      "metadata": {
        "id": "8LtqLaCU9WOn"
      }
    },
    {
      "cell_type": "code",
      "source": [
        "def find_contours(image):\n",
        "  # Encontra os contornos na imagem\n",
        "  contours, hierarchy = cv2.findContours(image, cv2.RETR_TREE, cv2.CHAIN_APPROX_SIMPLE)\n",
        "  return contours"
      ],
      "metadata": {
        "id": "AYLkG30RGLQ_"
      },
      "execution_count": 38,
      "outputs": []
    },
    {
      "cell_type": "markdown",
      "source": [
        "## dilate_image:"
      ],
      "metadata": {
        "id": "WAm7U2qN9PGX"
      }
    },
    {
      "cell_type": "code",
      "source": [
        "def dilate_image(image):\n",
        "  # Define o kernel para a dilatação\n",
        "  kernel = np.ones((5, 5), np.uint8)\n",
        "\n",
        "  # Dilata a imagem\n",
        "  image = cv2.dilate(image, kernel, iterations=2)\n",
        "  return image"
      ],
      "metadata": {
        "id": "TgBidEvDF7aZ"
      },
      "execution_count": 37,
      "outputs": []
    },
    {
      "cell_type": "markdown",
      "source": [
        "## apply_threshold:"
      ],
      "metadata": {
        "id": "qVztSQgy9Idm"
      }
    },
    {
      "cell_type": "code",
      "source": [
        "def apply_threshold(image):\n",
        "  # Aplica um filtro de Sobel em x e y\n",
        "  sobelx = cv2.Sobel(image, cv2.CV_64F, 1, 0, ksize=3)\n",
        "  sobely = cv2.Sobel(image, cv2.CV_64F, 0, 1, ksize=3)\n",
        "\n",
        "  # Calcula a magnitude do gradiente\n",
        "  gradient_magnitude = cv2.magnitude(sobelx, sobely)\n",
        "\n",
        "  # Normaliza a magnitude do gradiente\n",
        "  gradient_magnitude = cv2.normalize(gradient_magnitude, None, 0, 255, cv2.NORM_MINMAX, cv2.CV_8U)\n",
        "\n",
        "  # Aplica uma limiarização utilizando o método de Otsu\n",
        "  _, gradient_threshold = cv2.threshold(gradient_magnitude, 0, 255, cv2.THRESH_BINARY + cv2.THRESH_OTSU)\n",
        "  \n",
        "  return gradient_threshold"
      ],
      "metadata": {
        "id": "6RlkMOfYF4_o"
      },
      "execution_count": 39,
      "outputs": []
    },
    {
      "cell_type": "markdown",
      "source": [
        "## apply_filters:"
      ],
      "metadata": {
        "id": "cqCMBN8Q9Cl3"
      }
    },
    {
      "cell_type": "code",
      "source": [
        "def apply_filters(image):\n",
        "  # Converte a imagem para float32\n",
        "  image32f = np.float32(image)\n",
        "  \n",
        "  # Aplica um filtro de média\n",
        "  mu = cv2.blur(image32f, (3, 3))\n",
        "\n",
        "  # Calcula a variância da imagem filtrada\n",
        "  mu2 = cv2.blur(image32f * image32f, (3, 3))\n",
        "  sigma = cv2.sqrt(mu2 - mu * mu)\n",
        "  sigma = sigma * 10\n",
        "  sigma = sigma.astype(\"uint8\")\n",
        "\n",
        "  # Aplica um filtro de borramento Gaussiano\n",
        "  sigma = cv2.GaussianBlur(sigma, (5, 5), 0)\n",
        "\n",
        "  # Aplica o filtro Laplaciano\n",
        "  laplacian = cv2.Laplacian(sigma, cv2.CV_32F)\n",
        "\n",
        "  # Converte a saída para o intervalo de 0 a 255\n",
        "  sigma = cv2.convertScaleAbs(laplacian)\n",
        "\n",
        "  return sigma"
      ],
      "metadata": {
        "id": "QZNQNqlaFzmr"
      },
      "execution_count": 32,
      "outputs": []
    },
    {
      "cell_type": "markdown",
      "source": [
        "## print_frame_info:"
      ],
      "metadata": {
        "id": "MIQj2LiF88wm"
      }
    },
    {
      "cell_type": "code",
      "source": [
        "def print_frame_info(nome):\n",
        "  # Imprime informações do frame\n",
        "  print(f\"================================================================================\")\n",
        "  print(f\"================================================================================\")\n",
        "  print(f\"Amostra: \" + nome)"
      ],
      "metadata": {
        "id": "iG-75X_dFxqz"
      },
      "execution_count": 33,
      "outputs": []
    },
    {
      "cell_type": "markdown",
      "source": [
        "## Pilar do Processamento:"
      ],
      "metadata": {
        "id": "pzKF2RpzFpZ8"
      }
    },
    {
      "cell_type": "code",
      "source": [
        "def process_frame(frame):\n",
        "  # Carrega a imagem\n",
        "  im = cv2.imread(frame)\n",
        "  \n",
        "  # Divide o caminho do arquivo e obtém o nome do frame\n",
        "  nome_completo = frame.split('/')\n",
        "  nome = nome_completo[int(posicao_do_nome_frame)].split('.')\n",
        "\n",
        "  # Imprime informações do frame\n",
        "  print_frame_info(nome[0])\n",
        "\n",
        "  # Cria uma cópia da imagem para desenhar os contornos\n",
        "  img_contours = im.copy()\n",
        "\n",
        "  # Converte a imagem para escala de cinza\n",
        "  image = cv2.cvtColor(im, cv2.COLOR_BGR2GRAY)\n",
        "\n",
        "  # Aplica uma série de filtros à imagem\n",
        "  sigma = apply_filters(image)\n",
        "\n",
        "  # Aplica uma limiarização à imagem filtrada\n",
        "  gradient_threshold = apply_threshold(sigma)\n",
        "\n",
        "  # Dilata a imagem limiarizada\n",
        "  gradient_threshold = dilate_image(gradient_threshold)\n",
        "\n",
        "  # Encontra os contornos na imagem dilatada\n",
        "  contours = find_contours(gradient_threshold)\n",
        "\n",
        "  # Processa cada contorno encontrado\n",
        "  resultados = process_contours(img_contours, contours, img_contours)\n",
        "\n",
        "  return resultados"
      ],
      "metadata": {
        "id": "V8DYLcV7FFpD"
      },
      "execution_count": 36,
      "outputs": []
    },
    {
      "cell_type": "markdown",
      "source": [
        "## Delete_rats"
      ],
      "metadata": {
        "id": "tBtn72WWoGIl"
      }
    },
    {
      "cell_type": "code",
      "source": [
        "def extract_frame_from_video(video, destino, cont=1):"
      ],
      "metadata": {
        "id": "sLTrixAPoJ3N"
      },
      "execution_count": null,
      "outputs": []
    },
    {
      "cell_type": "markdown",
      "source": [
        "## extract_frame_from_video:"
      ],
      "metadata": {
        "id": "eIWqgoGtFcyM"
      }
    },
    {
      "cell_type": "code",
      "source": [
        "def extract_frame_from_video(video, destino, cont=1):\n",
        "\n",
        "  # Verificar se o caminho do vídeo existe\n",
        "  if not os.path.exists(video):\n",
        "    print(f\"O vídeo '{video}' não existe.\")\n",
        "    return\n",
        "\n",
        "  # Abrir o vídeo\n",
        "  vidcap = cv2.VideoCapture(video)\n",
        "\n",
        "  # Verificar se o vídeo foi aberto corretamente\n",
        "  if not vidcap.isOpened():\n",
        "    print(f\"Falha ao abrir o vídeo '{video}'.\")\n",
        "    return\n",
        "\n",
        "  interval = 60  # intervalo em segundos (1 minuto)\n",
        "\n",
        "  # Pular frames com base no intervalo definido\n",
        "  vidcap.set(cv2.CAP_PROP_POS_FRAMES, int(interval * cont * vidcap.get(cv2.CAP_PROP_FPS)))\n",
        "\n",
        "  # Extrair o nome do vídeo a partir do caminho\n",
        "  nome_completo = video.split('/')\n",
        "  nome = nome_completo[int(posicao_do_nome_video)].split('.')\n",
        "  nome = nome[0]\n",
        "\n",
        "  # Ler o próximo frame\n",
        "  success, image = vidcap.read()\n",
        "\n",
        "  # Verificar se o frame foi lido com sucesso\n",
        "  if not success:\n",
        "    print(f\"Falha ao ler a imagem {cont} do vídeo '{video}'.\")\n",
        "\n",
        "    # Liberar os recursos utilizados pelo objeto de leitura do vídeo\n",
        "    vidcap.release()\n",
        "\n",
        "    return\n",
        "\n",
        "  # Salvar o frame lido\n",
        "  cv2.imwrite(\"{}{}.jpg\".format(destino, nome), image)\n",
        "  print(f\"Frame {cont} extraído do vídeo '{nome}' salva com sucesso em '{destino}'.\")\n",
        "\n",
        "  # Liberar os recursos utilizados pelo objeto de leitura do vídeo\n",
        "  vidcap.release()\n",
        "  # Fechar todas as janelas abertas pelo OpenCV\n",
        "  cv2.destroyAllWindows()"
      ],
      "metadata": {
        "id": "LX6dXi7CJitp"
      },
      "execution_count": 21,
      "outputs": []
    },
    {
      "cell_type": "markdown",
      "source": [
        "# Base do Sistema:"
      ],
      "metadata": {
        "id": "8QW1jewNAUde"
      }
    },
    {
      "cell_type": "markdown",
      "source": [
        "## Endereço dos Videos:"
      ],
      "metadata": {
        "id": "PKtgmoYhAYZm"
      }
    },
    {
      "cell_type": "code",
      "source": [
        "# entrada = glob.glob('/content/drive/Shareddrives/Lab Electrofisiologia III - Dados/Experimentos comportamento III/Experimento 15/Vídeos separados - TR e TT/grey_field_videos/*.mp4')\n",
        "\n",
        "entrada = glob.glob('/content/drive/Shareddrives/Lab Electrofisiologia III - Dados/Experimentos comportamento III/Experimento 17/Vídeos separados (explo)/campo preto/*.mpg')\n",
        "\n",
        "# Imprime os elementos da lista com quebras de linha entre cada elemento\n",
        "print('\\n'.join(entrada))"
      ],
      "metadata": {
        "id": "7TrTnAKkJGNk",
        "colab": {
          "base_uri": "https://localhost:8080/"
        },
        "outputId": "8ead52b1-fc03-45ad-f1f2-83ca2b9f6fe6"
      },
      "execution_count": 22,
      "outputs": [
        {
          "output_type": "stream",
          "name": "stdout",
          "text": [
            "/content/drive/Shareddrives/Lab Electrofisiologia III - Dados/Experimentos comportamento III/Experimento 17/Vídeos separados (explo)/campo preto/Dia2-Explo-CCF504-Contexto4.mpg\n",
            "/content/drive/Shareddrives/Lab Electrofisiologia III - Dados/Experimentos comportamento III/Experimento 17/Vídeos separados (explo)/campo preto/Dia2-Explo-CCF508-Contexto4.mpg\n",
            "/content/drive/Shareddrives/Lab Electrofisiologia III - Dados/Experimentos comportamento III/Experimento 17/Vídeos separados (explo)/campo preto/Dia2-Explo-CCF512-Contexto4.mpg\n"
          ]
        }
      ]
    },
    {
      "cell_type": "code",
      "source": [
        "posicao_do_nome_video = input(\"Posição do nome do video: \") #9"
      ],
      "metadata": {
        "id": "UrWv29MbJJQh",
        "colab": {
          "base_uri": "https://localhost:8080/"
        },
        "outputId": "e6367ca0-2d66-4cec-aa12-57e9ace94507"
      },
      "execution_count": 23,
      "outputs": [
        {
          "name": "stdout",
          "output_type": "stream",
          "text": [
            "Posição do nome do video: 9\n"
          ]
        }
      ]
    },
    {
      "cell_type": "markdown",
      "source": [
        "## Endereço das imagens:"
      ],
      "metadata": {
        "id": "DE9N2YYkAgLu"
      }
    },
    {
      "cell_type": "code",
      "source": [
        "destino = '/content/drive/MyDrive/Pesquisa_ISD_IC/Base de Dados/'\n",
        "\n",
        "#destino = '/content/drive/MyDrive/Pesquisa_ISD_IC/Imagens_grey/'\n",
        "\n",
        "#destino = '/content/drive/MyDrive/Pesquisa_ISD_IC/Imagens_Infravermelho/'\n",
        "\n",
        "#destino = '/content/drive/MyDrive/Pesquisa_ISD_IC/Teste_Massivo/'"
      ],
      "metadata": {
        "id": "ua_x0-RIJL97"
      },
      "execution_count": 24,
      "outputs": []
    },
    {
      "cell_type": "markdown",
      "source": [
        "### Listando Imagens na pasta:"
      ],
      "metadata": {
        "id": "GZ4UaP_yAktu"
      }
    },
    {
      "cell_type": "code",
      "source": [
        "frames = glob.glob(destino + '*.jpg')\n",
        "# print('\\n'.join(frames))"
      ],
      "metadata": {
        "id": "nW5w0sVoJM9x"
      },
      "execution_count": null,
      "outputs": []
    },
    {
      "cell_type": "code",
      "source": [
        "posicao_do_nome_frame = input(\"posicao_do_nome_frame:\") #6"
      ],
      "metadata": {
        "id": "FRtLpZEYI08z",
        "colab": {
          "base_uri": "https://localhost:8080/"
        },
        "outputId": "4b2787b4-246f-4f60-b05f-badd409088da"
      },
      "execution_count": 26,
      "outputs": [
        {
          "name": "stdout",
          "output_type": "stream",
          "text": [
            "posicao_do_nome_frame:6\n"
          ]
        }
      ]
    },
    {
      "cell_type": "markdown",
      "source": [
        "## Extraindo imagens dos videos:"
      ],
      "metadata": {
        "id": "9RsIEZK0E68d"
      }
    },
    {
      "cell_type": "code",
      "source": [
        "# extract_frames_from_videos(entrada, destino)"
      ],
      "metadata": {
        "id": "Vt4DftLqJdoK"
      },
      "execution_count": null,
      "outputs": []
    },
    {
      "cell_type": "markdown",
      "source": [
        "# Algoritmo Principal:"
      ],
      "metadata": {
        "id": "LdSfJW7eFA-c"
      }
    },
    {
      "cell_type": "code",
      "source": [
        "# Loop que processa cada arquivo na lista de caminhos de arquivos.\n",
        "for frame in frames:\n",
        "  resultados = process_frame(frame)\n",
        "\n",
        "  # Imprime o número de objetos encontrados\n",
        "  print(resultados[1])\n",
        "\n",
        "  # Exibe a imagem com os contornos encontrados\n",
        "  cv2_imshow(resultados[0])"
      ],
      "metadata": {
        "id": "5DNQHu4mJukK"
      },
      "execution_count": null,
      "outputs": []
    }
  ]
}