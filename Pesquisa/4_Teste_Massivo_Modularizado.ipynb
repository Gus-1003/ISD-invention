{
  "nbformat": 4,
  "nbformat_minor": 0,
  "metadata": {
    "colab": {
      "provenance": [],
      "authorship_tag": "ABX9TyM1O+9zJvCGGOIoefzEUjFo",
      "include_colab_link": true
    },
    "kernelspec": {
      "name": "python3",
      "display_name": "Python 3"
    },
    "language_info": {
      "name": "python"
    }
  },
  "cells": [
    {
      "cell_type": "markdown",
      "metadata": {
        "id": "view-in-github",
        "colab_type": "text"
      },
      "source": [
        "<a href=\"https://colab.research.google.com/github/Gus-1003/ISD-invention/blob/main/Pesquisa/4_Teste_Massivo_Modularizado.ipynb\" target=\"_parent\"><img src=\"https://colab.research.google.com/assets/colab-badge.svg\" alt=\"Open In Colab\"/></a>"
      ]
    },
    {
      "cell_type": "code",
      "execution_count": null,
      "metadata": {
        "id": "YUY9DGp5E6C0"
      },
      "outputs": [],
      "source": [
        "import cv2\n",
        "import numpy as np\n",
        "import matplotlib.pyplot as plt"
      ]
    },
    {
      "cell_type": "code",
      "source": [
        "nomes = [] # Armazena o nome do frame que está sendo analisado\n",
        "\n",
        "formas = [] # Armazena as formas de cada objeto\n",
        "\n",
        "areas = [] # Armazena a área de cada objeto\n",
        "perimeters = [] # Armazena o perímetro de cada objeto\n",
        "\n",
        "width = [] # Armazena a largura do retângulo de contorno de cada objeto\n",
        "height = [] # Armazena a altura do retângulo de contorno de cada objeto\n",
        "angle = [] # Armazena o ângulo (em graus) do retângulo de contorno de cada objeto\n",
        "radius = [] # Armazena o raio do círculo de contorno de cada objeto\n",
        "\n",
        "equivalent_diameter = [] # Armazena o diâmetro equivalente (em pixels) do círculo com a mesma área de cada objeto\n",
        "\n",
        "centroids_x = [] # Armazena as coordenadas x do centróide de cada objeto\n",
        "centroids_y = [] # Armazena as coordenadas y do centróide de cada objeto\n",
        "aspect_ratio = [] # Armazena a relação entre largura e altura do retângulo de contorno de cada objeto\n",
        "extent = [] # Armazena a razão entre a área do contorno e a área do retângulo de contorno de cada objeto\n",
        "solidity = [] # Armazena a razão entre a área do contorno e a área do casco convexo de cada objeto"
      ],
      "metadata": {
        "id": "mvXs1GttJAbW"
      },
      "execution_count": null,
      "outputs": []
    },
    {
      "cell_type": "code",
      "source": [
        "def get_frame_name(frame):\n",
        "  # Divide o caminho do arquivo e obtém o nome do frame\n",
        "  nome_completo = frame.split('/')\n",
        "  nome = nome_completo[int(posicao_do_nome_frame)].split('.')\n",
        "  return nome[0]"
      ],
      "metadata": {
        "id": "m-G3YWXAFHSB"
      },
      "execution_count": null,
      "outputs": []
    },
    {
      "cell_type": "code",
      "source": [
        "def print_frame_info(nome):\n",
        "  # Imprime informações do frame\n",
        "  print(\"================================================================================\")\n",
        "  print(\"================================================================================\")\n",
        "  print(nome)"
      ],
      "metadata": {
        "id": "iG-75X_dFxqz"
      },
      "execution_count": null,
      "outputs": []
    },
    {
      "cell_type": "code",
      "source": [
        "def apply_filters(image):\n",
        "  # Converte a imagem para float32\n",
        "  image32f = np.float32(image)\n",
        "  \n",
        "  # Aplica um filtro de média\n",
        "  mu = cv2.blur(image32f, (3, 3))\n",
        "\n",
        "  # Calcula a variância da imagem filtrada\n",
        "  mu2 = cv2.blur(image32f * image32f, (3, 3))\n",
        "  sigma = cv2.sqrt(mu2 - mu * mu)\n",
        "  sigma = sigma * 10\n",
        "  sigma = sigma.astype(\"uint8\")\n",
        "\n",
        "  # Aplica um filtro de borramento Gaussiano\n",
        "  sigma = cv2.GaussianBlur(sigma, (5, 5), 0)\n",
        "\n",
        "  # Aplica o filtro Laplaciano\n",
        "  laplacian = cv2.Laplacian(sigma, cv2.CV_32F)\n",
        "\n",
        "  # Converte a saída para o intervalo de 0 a 255\n",
        "  sigma = cv2.convertScaleAbs(laplacian)\n",
        "\n",
        "  return sigma"
      ],
      "metadata": {
        "id": "QZNQNqlaFzmr"
      },
      "execution_count": null,
      "outputs": []
    },
    {
      "cell_type": "code",
      "source": [
        "def apply_threshold(image):\n",
        "  # Calcula o gradiente da imagem\n",
        "  gradient_magnitude = cv2.Sobel(image, cv2.CV_64F, 1, 0, ksize=3)\n",
        "\n",
        "  # Normaliza a magnitude do gradiente\n",
        "  gradient_magnitude = cv2.normalize(gradient_magnitude, None, 0, 255, cv2.NORM_MINMAX, cv2.CV_8U)\n",
        "\n",
        "  # Aplica uma limiarização utilizando o método de Otsu\n",
        "  _, gradient_threshold = cv2.threshold(gradient_magnitude, 0, 255, cv2.THRESH_BINARY + cv2.THRESH_OTSU)\n",
        "  \n",
        "  return gradient_threshold"
      ],
      "metadata": {
        "id": "6RlkMOfYF4_o"
      },
      "execution_count": null,
      "outputs": []
    },
    {
      "cell_type": "code",
      "source": [
        "def dilate_image(image):\n",
        "  # Define o kernel para a dilatação\n",
        "  kernel = np.ones((5, 5), np.uint8)\n",
        "\n",
        "  # Dilata a imagem\n",
        "  image = cv2.dilate(image, kernel, iterations=2)\n",
        "  return image"
      ],
      "metadata": {
        "id": "TgBidEvDF7aZ"
      },
      "execution_count": null,
      "outputs": []
    },
    {
      "cell_type": "code",
      "source": [
        "def find_contours(image):\n",
        "  # Encontra os contornos na imagem\n",
        "  contours, hierarchy = cv2.findContours(image, cv2.RETR_TREE, cv2.CHAIN_APPROX_SIMPLE)\n",
        "  return contours"
      ],
      "metadata": {
        "id": "AYLkG30RGLQ_"
      },
      "execution_count": null,
      "outputs": []
    },
    {
      "cell_type": "code",
      "source": [
        "def calculate_contour_properties(cnt):\n",
        "    # Calcula a área do contorno\n",
        "    area = cv2.contourArea(cnt)\n",
        "\n",
        "    # Calcula o perímetro do contorno\n",
        "    perimeter = cv2.arcLength(cnt, True)\n",
        "    \n",
        "    # Calcula a circularidade do contorno\n",
        "    if perimeter > 0:\n",
        "        circularity = 4 * np.pi * area / (perimeter ** 2)\n",
        "    else:\n",
        "        circularity = 0\n",
        "    return area, perimeter, circularity"
      ],
      "metadata": {
        "id": "4LyaFWB-GpKd"
      },
      "execution_count": null,
      "outputs": []
    },
    {
      "cell_type": "code",
      "source": [
        "def process_contours(contours, imagem_original):\n",
        "\n",
        "  objetos = 0\n",
        "\n",
        "  for cnt in contours:\n",
        "    # Aproxima o contorno por uma sequência de segmentos de linha\n",
        "    approx = cv2.approxPolyDP(cnt, 0.01 * cv2.arcLength(cnt, True), True)\n",
        "\n",
        "    # Calcula as propriedades do contorno\n",
        "    area, perimeter, circularity = calculate_contour_properties(cnt)\n",
        "\n",
        "    if circularity > 0.30:\n",
        "      forma = \"circulo\"\n",
        "\n",
        "      # Obtém o raio do círculo\n",
        "      radius = get_circle_radius(cnt)\n",
        "\n",
        "      # Verifica se é um círculo válido\n",
        "      if is_valid_circle(area, radius):\n",
        "        # Desenha o círculo na imagem\n",
        "        draw_circle(imagem_original, cnt)\n",
        "        objetos += 1\n",
        "\n",
        "      else:\n",
        "        forma = \"quadrado\"\n",
        "\n",
        "        # Verifica se é um quadrado válido\n",
        "        if is_valid_square(area, approx):\n",
        "          # Desenha o quadrado na imagem\n",
        "          draw_square(imagem_original, approx)\n",
        "          objetos += 1\n",
        "\n",
        "  return imagem_original, objetos"
      ],
      "metadata": {
        "id": "2_J2TxeXGMVB"
      },
      "execution_count": null,
      "outputs": []
    },
    {
      "cell_type": "code",
      "source": [
        "def process_frame(frame):\n",
        "  # Carrega a imagem\n",
        "  im = cv2.imread(frame)\n",
        "  \n",
        "  # Obtém o nome do frame\n",
        "  nome = get_frame_name(frame)\n",
        "\n",
        "  # Imprime informações do frame\n",
        "  print_frame_info(nome)\n",
        "\n",
        "  # Cria uma cópia da imagem para desenhar os contornos\n",
        "  img_contours = im.copy()\n",
        "\n",
        "  # Converte a imagem para escala de cinza\n",
        "  image = cv2.cvtColor(im, cv2.COLOR_BGR2GRAY)\n",
        "\n",
        "  # Aplica uma série de filtros à imagem\n",
        "  sigma = apply_filters(image)\n",
        "\n",
        "  # Aplica uma limiarização à imagem filtrada\n",
        "  gradient_threshold = apply_threshold(sigma)\n",
        "\n",
        "  # Dilata a imagem limiarizada\n",
        "  gradient_threshold = dilate_image(gradient_threshold)\n",
        "\n",
        "  # Encontra os contornos na imagem dilatada\n",
        "  contours, hierarchy = find_contours(gradient_threshold)\n",
        "\n",
        "  # Processa cada contorno encontrado\n",
        "  objetos = process_contours(contours, img_contours)\n",
        "\n",
        "  # Imprime o número de objetos encontrados\n",
        "  print_object_count(objetos)\n",
        "\n",
        "  # Exibe a imagem com os contornos encontrados\n",
        "  show_image(img_contours, nome, objetos)"
      ],
      "metadata": {
        "id": "V8DYLcV7FFpD"
      },
      "execution_count": null,
      "outputs": []
    },
    {
      "cell_type": "code",
      "source": [
        "def extract_frame_from_video(video, destino, cont=1):\n",
        "  # Verificar se o caminho do vídeo existe\n",
        "  if not os.path.exists(video):\n",
        "    print(f\"O vídeo '{video}' não existe.\")\n",
        "    return\n",
        "\n",
        "  # Abrir o vídeo\n",
        "  vidcap = cv2.VideoCapture(video)\n",
        "\n",
        "  # Verificar se o vídeo foi aberto corretamente\n",
        "  if not vidcap.isOpened():\n",
        "    print(f\"Falha ao abrir o vídeo '{video}'.\")\n",
        "    return\n",
        "\n",
        "  interval = 60  # intervalo em segundos (1 minuto)\n",
        "\n",
        "  # Pular frames com base no intervalo definido\n",
        "  vidcap.set(cv2.CAP_PROP_POS_FRAMES, int(interval * cont * vidcap.get(cv2.CAP_PROP_FPS)))\n",
        "\n",
        "  # Extrair o nome do vídeo a partir do caminho\n",
        "  nome_completo = video.split('/')\n",
        "  nome = nome_completo[int(posicao_do_nome_video)].split('.')\n",
        "  nome = nome[0]\n",
        "\n",
        "  # Ler o próximo frame\n",
        "  success, image = vidcap.read()\n",
        "\n",
        "  # Verificar se o frame foi lido com sucesso\n",
        "  if not success:\n",
        "    print(f\"Falha ao ler a imagem {cont} do vídeo '{video}'.\")\n",
        "\n",
        "    # Liberar os recursos utilizados pelo objeto de leitura do vídeo\n",
        "    vidcap.release()\n",
        "\n",
        "    return\n",
        "\n",
        "  # Salvar o frame lido\n",
        "  cv2.imwrite(\"{}{}.jpg\".format(destino, nome), image)\n",
        "  print(f\"Frame {cont} extraído do vídeo '{nome}' salva com sucesso em '{destino}'.\")\n",
        "\n",
        "  # Liberar os recursos utilizados pelo objeto de leitura do vídeo\n",
        "  vidcap.release()\n",
        "  # Fechar todas as janelas abertas pelo OpenCV\n",
        "  cv2.destroyAllWindows()"
      ],
      "metadata": {
        "id": "LX6dXi7CJitp"
      },
      "execution_count": null,
      "outputs": []
    },
    {
      "cell_type": "code",
      "source": [
        "def extract_frames_times(path_list, destino):\n",
        "  for video in path_list:\n",
        "    # Verificar se o caminho do vídeo existe\n",
        "    if not os.path.exists(video):\n",
        "      print(f\"O vídeo '{video}' não existe.\")\n",
        "      return\n",
        "\n",
        "    # Abrir o arquivo de vídeo\n",
        "    vidcap = cv2.VideoCapture(video)\n",
        "\n",
        "    # Verificar se o vídeo foi aberto corretamente\n",
        "    if not vidcap.isOpened():\n",
        "      print(f\"Falha ao abrir o vídeo '{video}'.\")\n",
        "      return\n",
        "\n",
        "    # Extrair o nome do vídeo a partir do caminho\n",
        "    nome_completo = video.split('/')\n",
        "    nome = nome_completo[int(posicao_do_nome_video)].split('.')\n",
        "    nome = nome[0]\n",
        "\n",
        "    # create a folder by the name of the video file\n",
        "    if not os.path.exists(\"{}\".format(destino)):\n",
        "      os.makedirs(\"{}\".format(destino))\n",
        "\n",
        "    # Ler o primeiro frame\n",
        "    success, image = vidcap.read()\n",
        "    print('Read a new frame: ', success)\n",
        "\n",
        "    # Verificar se houve sucesso na leitura do frame\n",
        "    if not success:\n",
        "      print(f\"Falha ao ler o frame.\")\n",
        "\n",
        "      # Liberar os recursos utilizados pelo objeto de leitura do vídeo\n",
        "      vidcap.release()\n",
        "    \n",
        "      break\n",
        "\n",
        "    # Salvar o frame lido\n",
        "    cv2.imwrite(\"{}{}.jpg\".format(destino, nome), image)\n",
        "    print('Creating...' + \"{}{}.jpg\".format(destino, nome))\n",
        "\n",
        "    # Liberar os recursos utilizados pelo objeto de leitura do vídeo\n",
        "    vidcap.release()\n",
        "    # Fechar todas as janelas abertas pelo OpenCV\n",
        "    cv2.destroyAllWindows()"
      ],
      "metadata": {
        "id": "dKeUOsotJYB2"
      },
      "execution_count": null,
      "outputs": []
    },
    {
      "cell_type": "code",
      "source": [
        "# entrada = glob.glob('/content/drive/Shareddrives/Lab Electrofisiologia III - Dados/Experimentos comportamento III/Experimento 15/Vídeos separados - TR e TT/grey_field_videos/*.mp4')\n",
        "\n",
        "entrada = glob.glob('/content/drive/Shareddrives/Lab Electrofisiologia III - Dados/Experimentos comportamento III/Experimento 17/Vídeos separados (explo)/campo preto/*.mpg')\n",
        "\n",
        "# Imprime os elementos da lista com quebras de linha entre cada elemento\n",
        "print('\\n'.join(entrada))"
      ],
      "metadata": {
        "id": "7TrTnAKkJGNk"
      },
      "execution_count": null,
      "outputs": []
    },
    {
      "cell_type": "code",
      "source": [
        "posicao_do_nome_video = input(\"Posição do nome do video: \") #9"
      ],
      "metadata": {
        "id": "UrWv29MbJJQh"
      },
      "execution_count": null,
      "outputs": []
    },
    {
      "cell_type": "code",
      "source": [
        "destino = '/content/drive/MyDrive/Pesquisa_ISD_IC/Base de Dados/'\n",
        "\n",
        "#destino = '/content/drive/MyDrive/Pesquisa_ISD_IC/Imagens_grey/'\n",
        "\n",
        "#destino = '/content/drive/MyDrive/Pesquisa_ISD_IC/Imagens_Infravermelho/'\n",
        "\n",
        "#destino = '/content/drive/MyDrive/Pesquisa_ISD_IC/Teste_Massivo/'"
      ],
      "metadata": {
        "id": "ua_x0-RIJL97"
      },
      "execution_count": null,
      "outputs": []
    },
    {
      "cell_type": "code",
      "source": [
        "frames = glob.glob(destino + '*.jpg')\n",
        "print('\\n'.join(frames))"
      ],
      "metadata": {
        "id": "nW5w0sVoJM9x"
      },
      "execution_count": null,
      "outputs": []
    },
    {
      "cell_type": "code",
      "source": [
        "posicao_do_nome_frame = input(\"posicao_do_nome_frame:\") #6"
      ],
      "metadata": {
        "id": "FRtLpZEYI08z"
      },
      "execution_count": null,
      "outputs": []
    },
    {
      "cell_type": "code",
      "source": [
        "# extract_frames_from_videos(entrada, destino)"
      ],
      "metadata": {
        "id": "Vt4DftLqJdoK"
      },
      "execution_count": null,
      "outputs": []
    },
    {
      "cell_type": "code",
      "source": [
        "# Loop que processa cada arquivo na lista de caminhos de arquivos.\n",
        "for frame in frames:\n",
        "  process_frame(frame)"
      ],
      "metadata": {
        "id": "5DNQHu4mJukK"
      },
      "execution_count": null,
      "outputs": []
    }
  ]
}