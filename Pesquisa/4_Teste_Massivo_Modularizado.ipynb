{
  "cells": [
    {
      "cell_type": "markdown",
      "metadata": {
        "id": "view-in-github",
        "colab_type": "text"
      },
      "source": [
        "<a href=\"https://colab.research.google.com/github/Gus-1003/ISD-invention/blob/main/Pesquisa/4_Teste_Massivo_Modularizado.ipynb\" target=\"_parent\"><img src=\"https://colab.research.google.com/assets/colab-badge.svg\" alt=\"Open In Colab\"/></a>"
      ]
    },
    {
      "cell_type": "markdown",
      "metadata": {
        "id": "oNm2fbhy8jVY"
      },
      "source": [
        "# Importando Bibliotecas"
      ]
    },
    {
      "cell_type": "code",
      "execution_count": 1,
      "metadata": {
        "colab": {
          "base_uri": "https://localhost:8080/"
        },
        "id": "YUY9DGp5E6C0",
        "outputId": "1117425e-2a44-4b90-dd41-806786c3c61e"
      },
      "outputs": [
        {
          "output_type": "stream",
          "name": "stdout",
          "text": [
            "Drive already mounted at /content/drive/; to attempt to forcibly remount, call drive.mount(\"/content/drive/\", force_remount=True).\n",
            "/content/drive/MyDrive\n"
          ]
        }
      ],
      "source": [
        "import os\n",
        "\n",
        "# A biblioteca \"os\" fornece funções para interagir com o sistema operacional, como manipulação de caminhos de arquivo, \n",
        "# verificação de existência de arquivos/diretórios, criação de diretórios, etc.\n",
        "\n",
        "import glob\n",
        "\n",
        "# A biblioteca \"glob\" é usada para obter uma lista de caminhos de arquivos que correspondem a um determinado padrão. \n",
        "# É útil para buscar arquivos em um diretório com base em padrões de nomenclatura ou extensões.\n",
        "\n",
        "import cv2\n",
        "\n",
        "# A biblioteca \"OpenCV\" (Open Source Computer Vision Library) é uma biblioteca popular para processamento de imagem e visão computacional. \n",
        "# Ela fornece várias funções e algoritmos para manipulação, análise e processamento de imagens e vídeos.\n",
        "\n",
        "import numpy as np\n",
        "\n",
        "# A biblioteca \"NumPy\" é usada para operações numéricas eficientes em Python. \n",
        "# Ela fornece arrays multidimensionais (ndarrays) que são usados para armazenar e manipular dados numéricos.\n",
        "\n",
        "import math\n",
        "\n",
        "import pandas as pd\n",
        "\n",
        "# A biblioteca \"Pandas\" fornece estruturas de dados e funções para análise de dados. \n",
        "# Ela é amplamente utilizada para manipulação e análise de dados tabulares, como planilhas ou bancos de dados.\n",
        "\n",
        "from google.colab.patches import cv2_imshow\n",
        "\n",
        "from google.colab import drive\n",
        "\n",
        "# A biblioteca \"drive\" permite montar o Google Drive no ambiente do Google Colab, \n",
        "# facilitando o acesso a arquivos e diretórios armazenados no Google Drive.\n",
        "\n",
        "drive.mount('/content/drive/')\n",
        "\n",
        "# Monta o Google Drive no ambiente do Google Colab, permitindo acessar os arquivos armazenados no Google Drive.\n",
        "\n",
        "%cd /content/drive/MyDrive/\n",
        "\n",
        "# Altera o diretório de trabalho atual para o diretório especificado no Google Drive."
      ]
    },
    {
      "cell_type": "markdown",
      "metadata": {
        "id": "uQdFjWBK8z4G"
      },
      "source": [
        "# Funções:"
      ]
    },
    {
      "cell_type": "markdown",
      "source": [
        "## Calcular_Distancia"
      ],
      "metadata": {
        "id": "rCLc9275zcsF"
      }
    },
    {
      "cell_type": "code",
      "source": [
        "def calcular_distancia(x1, y1, x2, y2):\n",
        "  # Calcula a diferença entre as coordenadas x e y\n",
        "  diff_x = x2 - x1\n",
        "  diff_y = y2 - y1\n",
        "\n",
        "  # Calcula o quadrado das diferenças\n",
        "  diff_x_squared = diff_x ** 2\n",
        "  diff_y_squared = diff_y ** 2\n",
        "\n",
        "  # Calcula a soma dos quadrados das diferenças\n",
        "  sum_diff_squared = diff_x_squared + diff_y_squared\n",
        "\n",
        "  # Calcula a raiz quadrada da soma dos quadrados das diferenças\n",
        "  distancia = math.sqrt(sum_diff_squared)\n",
        "\n",
        "  return distancia"
      ],
      "metadata": {
        "id": "McQzMuXUzmNU"
      },
      "execution_count": 2,
      "outputs": []
    },
    {
      "cell_type": "markdown",
      "source": [
        "## Create_Database"
      ],
      "metadata": {
        "id": "u_Tngwyzr4C3"
      }
    },
    {
      "cell_type": "code",
      "source": [
        "def create_database(dataset):\n",
        "  # Cria uma lista vazia para armazenar os objetos\n",
        "  objects = []\n",
        "\n",
        "  # Percorre o dicionário\n",
        "  for attr, obj_list in dataset.items():\n",
        "    # Percorre a lista de objetos para o atributo atual\n",
        "    for obj in obj_list:\n",
        "      # Verifica se obj é um dicionário\n",
        "      if isinstance(obj, dict):\n",
        "        # Adiciona o objeto combinando com o dicionário {'attribute': attr}\n",
        "        objects.append({**{'attribute': attr}, **obj})\n",
        "\n",
        "  # Cria o DataFrame com base na lista de objetos\n",
        "  df = pd.DataFrame(objects)\n",
        "\n",
        "  # Retorna o DataFrame se for necessário usá-lo posteriormente\n",
        "  return df"
      ],
      "metadata": {
        "id": "6LulMoRtsEDS"
      },
      "execution_count": 3,
      "outputs": []
    },
    {
      "cell_type": "markdown",
      "source": [
        "## Create_Dataset:"
      ],
      "metadata": {
        "id": "3oKdjCOwTL3Z"
      }
    },
    {
      "cell_type": "code",
      "source": [
        "def create_dataset_image(dataset):\n",
        "  # Cria uma lista vazia para armazenar os objetos\n",
        "  objects = []\n",
        "\n",
        "  # Percorre o dicionário\n",
        "  for attr, obj_list in dataset.items():\n",
        "    # Percorre a lista de objetos para o atributo atual\n",
        "    for obj in obj_list:\n",
        "      # Verifica se obj é um dicionário\n",
        "      if isinstance(obj, dict):\n",
        "        # Adiciona o objeto combinando com o dicionário {'attribute': attr}\n",
        "        objects.append({**{'attribute': attr}, **obj})\n",
        "\n",
        "  # Cria o DataFrame com base na lista de objetos\n",
        "  df = pd.DataFrame(objects)\n",
        "\n",
        "  # Retorna o DataFrame se for necessário usá-lo posteriormente\n",
        "  return df"
      ],
      "metadata": {
        "id": "3MSFtINeTPSq"
      },
      "execution_count": 4,
      "outputs": []
    },
    {
      "cell_type": "markdown",
      "metadata": {
        "id": "hv6s_NPj-40W"
      },
      "source": [
        "## calculate_contour_properties:"
      ]
    },
    {
      "cell_type": "code",
      "execution_count": 5,
      "metadata": {
        "id": "4LyaFWB-GpKd"
      },
      "outputs": [],
      "source": [
        "def calculate_contour_properties(cnt):\n",
        "  # Momentos do objeto\n",
        "  M = cv2.moments(cnt)\n",
        "\n",
        "  # Calcula a área do contorno\n",
        "  area = cv2.contourArea(cnt)\n",
        "\n",
        "  # Calcula o perímetro do contorno\n",
        "  perimeter = cv2.arcLength(cnt, True)\n",
        "\n",
        "  # Proporção de aspecto do objeto\n",
        "  x,y,w,h = cv2.boundingRect(cnt)\n",
        "  width = w\n",
        "  height = h\n",
        "\n",
        "  if min(w, h) == 0:\n",
        "    aspect_ratio = 0\n",
        "  else:\n",
        "    aspect_ratio = max(float(w), h) / min(float(w), h)\n",
        "\n",
        "  # Ângulo e raio mínimo envolvente em torno do objeto\n",
        "  rect = cv2.minAreaRect(cnt)\n",
        "  circle = cv2.minEnclosingCircle(cnt)\n",
        "\n",
        "  box = cv2.boxPoints(rect)\n",
        "  box = np.int0(box)\n",
        "\n",
        "  # Extensão do objeto (razão entre a área do objeto e a área do retângulo envolvente mínimo)\n",
        "  rect_area = w*h\n",
        "\n",
        "  # Forma de achar o contorno 1\n",
        "  center_x = int(M[\"m10\"] / M[\"m00\"])\n",
        "  center_y = int(M[\"m01\"] / M[\"m00\"])\n",
        "\n",
        "  # Forma de achar o contorno 2 - Circulo\n",
        "  (x_circle, y_circle), radius = cv2.minEnclosingCircle(cnt)\n",
        "  center_circle = (int(x_circle), int(y_circle))\n",
        "  cx_circle = int(x_circle)\n",
        "  cy_circle = int(y_circle)\n",
        "\n",
        "  # Forma de achar o contorno 2 - Quadrado\n",
        "  cx_quad = int(x)\n",
        "  cy_quad = int(y)\n",
        "\n",
        "  # Calcula a circularidade do contorno\n",
        "  if perimeter > 0:\n",
        "      circularity = 4 * np.pi * area / (perimeter ** 2)\n",
        "  else:\n",
        "      circularity = 0\n",
        "      \n",
        "  return area, circularity, radius, x, y, w, h, aspect_ratio, box, center_circle, cx_circle, cy_circle, cx_quad, cy_quad, center_x, center_y"
      ]
    },
    {
      "cell_type": "markdown",
      "metadata": {
        "id": "8jnBY782BL7O"
      },
      "source": [
        "## process_contours:"
      ]
    },
    {
      "cell_type": "code",
      "execution_count": 6,
      "metadata": {
        "id": "2_J2TxeXGMVB"
      },
      "outputs": [],
      "source": [
        "def process_contours(nome_frame, img_contours, contours, imagem_original):\n",
        "\n",
        "  objetos = 0\n",
        "  dicionario = {}  # Dicionário para armazenar os dados dos objetos identificados\n",
        "\n",
        "  for cnt in contours:\n",
        "    # Aproxima o contorno por uma sequência de segmentos de linha\n",
        "    approx = cv2.approxPolyDP(cnt, 0.01 * cv2.arcLength(cnt, True), True)\n",
        "\n",
        "    # Calcula as propriedades do contorno\n",
        "    area, circularity, radius, x, y, w, h, aspect_ratio, box, center, cx_circle, cy_circle, cx_quad, cy_quad, center_x, center_y = calculate_contour_properties(cnt)\n",
        "\n",
        "    # Para um padrão Circular:\n",
        "    if circularity > 0.30 and area > 2000 and radius < 100 and radius > 20:\n",
        "\n",
        "      # Define o raio máximo desejado\n",
        "      max_radius = 100\n",
        "\n",
        "      # Limita o raio ao valor máximo\n",
        "      radius = min(radius, max_radius)\n",
        "\n",
        "      # Converte o raio para inteiro\n",
        "      radius = int(radius)\n",
        "\n",
        "      # Calcula as Distancias entre os pontos centrais\n",
        "      distance_blue_green = calcular_distancia(cx_circle, cy_circle, center_x, center_y)\n",
        "\n",
        "      # Desenha um contorno Circular\n",
        "      cv2.circle(img_contours, center, radius, (0, 255, 0), 2)\n",
        "      \n",
        "      # Desenho do ponto central\n",
        "      cv2.circle(img_contours, (cx_circle, cy_circle), 3, (0, 255, 0), -1) # Verde - minEnclosingCircle\n",
        "      cv2.circle(img_contours, (center_x, center_y), 3, (255, 0, 0), -1) # Azul - Momentun\n",
        "\n",
        "      # Contagem total de Objetos Identificados\n",
        "      objetos = objetos + 1\n",
        "\n",
        "      # Captura dos dados:\n",
        "      dicionario[f\"{nome_frame}_{objetos}\"] = []\n",
        "      # Adicione os dados desejados ao dicionário dataset\n",
        "      dicionario[f\"{nome_frame}_{objetos}\"].append({\n",
        "        \"area\": area,\n",
        "        \"circularity\": circularity,\n",
        "        \"radius\": radius,\n",
        "        \"Form\": \"circle\",\n",
        "        \"x\": x,\n",
        "        \"y\": y,\n",
        "        \"w\": w,\n",
        "        \"h\": h,\n",
        "        \"cx_circle\": cx_circle,\n",
        "        \"cy_circle\": cy_circle,\n",
        "        \"cx_quad\" : cx_quad,\n",
        "        \"cy_quad\" : cy_quad,\n",
        "        \"cx_momentun\": center_x,\n",
        "        \"cy_momentun\": center_y,\n",
        "        \"distance_of_points\" : distance_blue_green,\n",
        "      })\n",
        "\n",
        "\n",
        "    else:\n",
        "      if aspect_ratio < 2 and area > 2000 and area < 6543.5:\n",
        "        # Calcula as Distancias entre os pontos centrais\n",
        "        distance_blue_green = calcular_distancia(cx_quad, cy_quad, center_x, center_y)\n",
        "\n",
        "        # Desenha um contorno quadratico\n",
        "        cv2.drawContours(img_contours, [box], 0, (0, 255, 0), 2)\n",
        "\n",
        "        # Desenho do ponto central\n",
        "        cv2.circle(img_contours, (cx_quad, cy_quad), 3, (0, 255, 0), -1) # verde - minEnclosingCircle\n",
        "        cv2.circle(img_contours, (center_x, center_y), 3, (255, 0, 0), -1) # Azul - Momentun\n",
        "\n",
        "        # Contagem total de Objetos Identificados\n",
        "        objetos = objetos + 1\n",
        "        dicionario[f\"{nome_frame}_{objetos}\"] = []\n",
        "        dicionario[f\"{nome_frame}_{objetos}\"].append({\n",
        "          \"area\": area,\n",
        "          \"circularity\": circularity,\n",
        "          \"radius\": radius,\n",
        "          \"Form\": \"circle\",\n",
        "          \"x\": x,\n",
        "          \"y\": y,\n",
        "          \"w\": w,\n",
        "          \"h\": h,\n",
        "          \"cx_circle\": cx_circle,\n",
        "          \"cy_circle\": cy_circle,\n",
        "          \"cx_quad\" : cx_quad,\n",
        "          \"cy_quad\" : cy_quad,\n",
        "          \"cx_momentun\": center_x,\n",
        "          \"cy_momentun\": center_y,\n",
        "          \"distance_of_points\" : distance_blue_green,\n",
        "        })\n",
        "\n",
        "  return imagem_original, objetos, dicionario"
      ]
    },
    {
      "cell_type": "markdown",
      "metadata": {
        "id": "8LtqLaCU9WOn"
      },
      "source": [
        "## find_contours:"
      ]
    },
    {
      "cell_type": "code",
      "execution_count": 7,
      "metadata": {
        "id": "AYLkG30RGLQ_"
      },
      "outputs": [],
      "source": [
        "def find_contours(image):\n",
        "  # Encontra os contornos na imagem\n",
        "  contours, hierarchy = cv2.findContours(image, cv2.RETR_TREE, cv2.CHAIN_APPROX_SIMPLE)\n",
        "  return contours"
      ]
    },
    {
      "cell_type": "markdown",
      "metadata": {
        "id": "WAm7U2qN9PGX"
      },
      "source": [
        "## dilate_image:"
      ]
    },
    {
      "cell_type": "code",
      "execution_count": 8,
      "metadata": {
        "id": "TgBidEvDF7aZ"
      },
      "outputs": [],
      "source": [
        "def dilate_image(image):\n",
        "  # Define o kernel para a dilatação\n",
        "  kernel = np.ones((5, 5), np.uint8)\n",
        "\n",
        "  # Dilata a imagem\n",
        "  image = cv2.dilate(image, kernel, iterations=2)\n",
        "  return image"
      ]
    },
    {
      "cell_type": "markdown",
      "metadata": {
        "id": "qVztSQgy9Idm"
      },
      "source": [
        "## apply_threshold:"
      ]
    },
    {
      "cell_type": "code",
      "execution_count": 9,
      "metadata": {
        "id": "6RlkMOfYF4_o"
      },
      "outputs": [],
      "source": [
        "def apply_threshold(image):\n",
        "  # Aplica um filtro de Sobel em x e y\n",
        "  sobelx = cv2.Sobel(image, cv2.CV_64F, 1, 0, ksize=3)\n",
        "  sobely = cv2.Sobel(image, cv2.CV_64F, 0, 1, ksize=3)\n",
        "\n",
        "  # Calcula a magnitude do gradiente\n",
        "  gradient_magnitude = cv2.magnitude(sobelx, sobely)\n",
        "\n",
        "  # Normaliza a magnitude do gradiente\n",
        "  gradient_magnitude = cv2.normalize(gradient_magnitude, None, 0, 255, cv2.NORM_MINMAX, cv2.CV_8U)\n",
        "\n",
        "  # Aplica uma limiarização utilizando o método de Otsu\n",
        "  _, gradient_threshold = cv2.threshold(gradient_magnitude, 0, 255, cv2.THRESH_BINARY + cv2.THRESH_OTSU)\n",
        "  \n",
        "  return gradient_threshold"
      ]
    },
    {
      "cell_type": "markdown",
      "metadata": {
        "id": "cqCMBN8Q9Cl3"
      },
      "source": [
        "## apply_filters:"
      ]
    },
    {
      "cell_type": "code",
      "execution_count": 10,
      "metadata": {
        "id": "QZNQNqlaFzmr"
      },
      "outputs": [],
      "source": [
        "def apply_filters(image):\n",
        "  # Converte a imagem para float32\n",
        "  image32f = np.float32(image)\n",
        "  \n",
        "  # Aplica um filtro de média\n",
        "  mu = cv2.blur(image32f, (3, 3))\n",
        "\n",
        "  # Calcula a variância da imagem filtrada\n",
        "  mu2 = cv2.blur(image32f * image32f, (3, 3))\n",
        "  sigma = cv2.sqrt(mu2 - mu * mu)\n",
        "  sigma = sigma * 10\n",
        "  sigma = sigma.astype(\"uint8\")\n",
        "\n",
        "  # Aplica um filtro de borramento Gaussiano\n",
        "  sigma = cv2.GaussianBlur(sigma, (5, 5), 0)\n",
        "\n",
        "  # Aplica o filtro Laplaciano\n",
        "  laplacian = cv2.Laplacian(sigma, cv2.CV_32F)\n",
        "\n",
        "  # Converte a saída para o intervalo de 0 a 255\n",
        "  sigma = cv2.convertScaleAbs(laplacian)\n",
        "\n",
        "  return sigma"
      ]
    },
    {
      "cell_type": "markdown",
      "metadata": {
        "id": "MIQj2LiF88wm"
      },
      "source": [
        "## print_frame_info:"
      ]
    },
    {
      "cell_type": "code",
      "execution_count": 11,
      "metadata": {
        "id": "iG-75X_dFxqz"
      },
      "outputs": [],
      "source": [
        "def print_frame_info(nome):\n",
        "  # Imprime informações do frame\n",
        "  print(f\"================================================================================\")\n",
        "  print(f\"================================================================================\")\n",
        "  print(f\"Amostra: \" + nome)"
      ]
    },
    {
      "cell_type": "markdown",
      "metadata": {
        "id": "pzKF2RpzFpZ8"
      },
      "source": [
        "## process_frame:"
      ]
    },
    {
      "cell_type": "code",
      "execution_count": 12,
      "metadata": {
        "id": "V8DYLcV7FFpD"
      },
      "outputs": [],
      "source": [
        "def process_frame(frame):\n",
        "  # Carrega a imagem\n",
        "  im = cv2.imread(frame)\n",
        "  \n",
        "  # Divide o caminho do arquivo e obtém o nome do frame\n",
        "  nome_completo = frame.split('/')\n",
        "  nome = nome_completo[int(posicao_do_nome_frame)].split('.')\n",
        "  amostra = nome[0]\n",
        "\n",
        "  # Imprime informações do frame\n",
        "  print_frame_info(amostra)\n",
        "\n",
        "  # Cria uma cópia da imagem para desenhar os contornos\n",
        "  img_contours = im.copy()\n",
        "\n",
        "  # Converte a imagem para escala de cinza\n",
        "  image = cv2.cvtColor(im, cv2.COLOR_BGR2GRAY)\n",
        "\n",
        "  # Aplica uma série de filtros à imagem\n",
        "  sigma = apply_filters(image)\n",
        "\n",
        "  # Aplica uma limiarização à imagem filtrada\n",
        "  gradient_threshold = apply_threshold(sigma)\n",
        "\n",
        "  # Dilata a imagem limiarizada\n",
        "  gradient_threshold = dilate_image(gradient_threshold)\n",
        "\n",
        "  # Encontra os contornos na imagem dilatada\n",
        "  contours = find_contours(gradient_threshold)\n",
        "\n",
        "  # Processa cada contorno encontrado\n",
        "  resultados = process_contours(amostra, img_contours, contours, img_contours)\n",
        "\n",
        "  return resultados, amostra"
      ]
    },
    {
      "cell_type": "markdown",
      "metadata": {
        "id": "tBtn72WWoGIl"
      },
      "source": [
        "## remove_rats"
      ]
    },
    {
      "cell_type": "code",
      "execution_count": 13,
      "metadata": {
        "id": "sLTrixAPoJ3N"
      },
      "outputs": [],
      "source": [
        "# Função para remover os ratos e obter a imagem resultante\n",
        "def remove_rats(images):\n",
        "\n",
        "  # Convertendo as imagens em formato de array numpy individualmente\n",
        "  images_array = [np.array(image) for image in images]\n",
        "\n",
        "  # Calculando a mediana ao longo do eixo temporal (eixo 0)\n",
        "  median_image = np.median(images_array, axis=0)\n",
        "\n",
        "  # Convertendo a imagem resultante de volta para o tipo de dados uint8\n",
        "  median_image = median_image.astype('uint8')\n",
        "\n",
        "  return median_image"
      ]
    },
    {
      "cell_type": "markdown",
      "metadata": {
        "id": "eIWqgoGtFcyM"
      },
      "source": [
        "## extract_frame_from_video:"
      ]
    },
    {
      "cell_type": "code",
      "execution_count": 15,
      "metadata": {
        "id": "LGyUSxwyKxJ6"
      },
      "outputs": [],
      "source": [
        "def extract_frames_from_videos(entrada, destino, posicao_do_nome_video=9, cont=1):\n",
        "\n",
        "  # Lista para armazenar o número \"x\"\n",
        "  images = []\n",
        "\n",
        "  cont = int(cont)\n",
        "\n",
        "  for video in entrada:\n",
        "\n",
        "    # Verificar se o caminho do vídeo existe\n",
        "    if not os.path.exists(video):\n",
        "      print(f\"O vídeo '{video}' não existe.\")\n",
        "      return\n",
        "\n",
        "    # Abrir o vídeo\n",
        "    vidcap = cv2.VideoCapture(video)\n",
        "\n",
        "    # Verificar se o vídeo foi aberto corretamente\n",
        "    if not vidcap.isOpened():\n",
        "      print(f\"Falha ao abrir o vídeo '{video}'.\")\n",
        "      return\n",
        "\n",
        "    success, image = vidcap.read()\n",
        "\n",
        "    if not success:\n",
        "      # break out of the loop if there are no frames to read\n",
        "      break\n",
        "\n",
        "    # Obtém o número total de frames do vídeo\n",
        "    total_frames = int(vidcap.get(cv2.CAP_PROP_FRAME_COUNT))\n",
        "\n",
        "    # Obtém o frame rate do vídeo (número de frames por segundo)\n",
        "    frame_rate = vidcap.get(cv2.CAP_PROP_FPS)\n",
        "\n",
        "    # Calcula a duração total do vídeo em segundos\n",
        "    video_duration = total_frames / frame_rate\n",
        "\n",
        "    # Calcula o intervalo de tempo entre cada frame com base no contador\n",
        "    intervalo = video_duration / cont\n",
        "\n",
        "    # Divide o caminho do arquivo e obtém o nome do frame\n",
        "    nome_completo = video.split('/')\n",
        "    nome = nome_completo[int(posicao_do_nome_video)].split('.')\n",
        "\n",
        "    # Loop para extrair os frames com base no intervalo de tempo\n",
        "    for i in range(cont):\n",
        "      # Calcula o tempo do frame atual, adicionando 0.5 para obter um ponto no meio do intervalo\n",
        "      frame_time = (i + 0.5) * intervalo\n",
        "\n",
        "      # Calcula o número do frame correspondente ao tempo calculado\n",
        "      frame_number = int(frame_time * frame_rate)\n",
        "      \n",
        "      # Define o número do frame atual no vídeo\n",
        "      vidcap.set(cv2.CAP_PROP_POS_FRAMES, frame_number)\n",
        "\n",
        "      # Lê o frame correspondente\n",
        "      ret, frame = vidcap.read()\n",
        "      \n",
        "      # Verifica se a leitura do frame foi bem-sucedida\n",
        "      if ret:\n",
        "          # Adiciona o frame à lista de frames extraídos\n",
        "          images.append(frame)\n",
        "\n",
        "    # Chamar a função remove_rats com a lista de números \"x\"\n",
        "    result = remove_rats(images)\n",
        "\n",
        "    output_path = os.path.join(destino, f\"{nome[0]}.jpg\")\n",
        "    print(output_path)\n",
        "\n",
        "    # Salvar a imagem resultante\n",
        "    cv2.imwrite(output_path, result)\n",
        "\n",
        "    # Limpar a lista de imagens para o próximo vídeo\n",
        "    images.clear()"
      ]
    },
    {
      "cell_type": "markdown",
      "metadata": {
        "id": "8QW1jewNAUde"
      },
      "source": [
        "# Base do Sistema:"
      ]
    },
    {
      "cell_type": "markdown",
      "metadata": {
        "id": "PKtgmoYhAYZm"
      },
      "source": [
        "## Endereço dos Videos:"
      ]
    },
    {
      "cell_type": "code",
      "execution_count": 16,
      "metadata": {
        "colab": {
          "base_uri": "https://localhost:8080/"
        },
        "id": "7TrTnAKkJGNk",
        "outputId": "1c2178f7-04bc-43d1-9cdb-ddb1463aa11c"
      },
      "outputs": [
        {
          "output_type": "stream",
          "name": "stdout",
          "text": [
            "/content/drive/Shareddrives/Lab Electrofisiologia III - Dados/Experimentos comportamento III/Experimento 17/Vídeos separados (explo)/campo preto/Dia2-Explo-CCF504-Contexto4.mpg\n",
            "/content/drive/Shareddrives/Lab Electrofisiologia III - Dados/Experimentos comportamento III/Experimento 17/Vídeos separados (explo)/campo preto/Dia2-Explo-CCF508-Contexto4.mpg\n",
            "/content/drive/Shareddrives/Lab Electrofisiologia III - Dados/Experimentos comportamento III/Experimento 17/Vídeos separados (explo)/campo preto/Dia2-Explo-CCF512-Contexto4.mpg\n"
          ]
        }
      ],
      "source": [
        "# entrada = glob.glob('/content/drive/Shareddrives/Lab Electrofisiologia II - Dados/Experimentos comportamento II/Experimento 12/videos_separados/TR e TT/grey_field/female/*.mp4')\n",
        "\n",
        "# entrada = glob.glob('/content/drive/Shareddrives/Lab Electrofisiologia III - Dados/Experimentos comportamento III/Experimento 15/Vídeos separados - TR e TT/grey_field_videos/*.mp4')\n",
        "\n",
        "entrada = glob.glob('/content/drive/Shareddrives/Lab Electrofisiologia III - Dados/Experimentos comportamento III/Experimento 17/Vídeos separados (explo)/campo preto/*.mpg')\n",
        "\n",
        "# Imprime os elementos da lista com quebras de linha entre cada elemento\n",
        "print('\\n'.join(entrada))"
      ]
    },
    {
      "cell_type": "markdown",
      "source": [
        "### Posição do nome do video no Endereço:"
      ],
      "metadata": {
        "id": "JGwczqkH-elV"
      }
    },
    {
      "cell_type": "code",
      "execution_count": 17,
      "metadata": {
        "colab": {
          "base_uri": "https://localhost:8080/"
        },
        "id": "UrWv29MbJJQh",
        "outputId": "64bcdcd5-97d8-4a2d-d95d-9867f3ef0702"
      },
      "outputs": [
        {
          "name": "stdout",
          "output_type": "stream",
          "text": [
            "Posição do nome do video: 9\n"
          ]
        }
      ],
      "source": [
        "posicao_do_nome_video = input(\"Posição do nome do video: \") #9"
      ]
    },
    {
      "cell_type": "markdown",
      "metadata": {
        "id": "DE9N2YYkAgLu"
      },
      "source": [
        "## Endereço das imagens Brutas:"
      ]
    },
    {
      "cell_type": "code",
      "execution_count": 19,
      "metadata": {
        "id": "ua_x0-RIJL97"
      },
      "outputs": [],
      "source": [
        "#destino = '/content/drive/MyDrive/Pesquisa_ISD_IC/Base de Dados/'\n",
        "\n",
        "#destino = '/content/drive/MyDrive/Pesquisa_ISD_IC/Imagens_grey/'\n",
        "\n",
        "destino = '/content/drive/MyDrive/Pesquisa_ISD_IC/Imagens_Infravermelho/'\n",
        "\n",
        "#destino = '/content/drive/MyDrive/Pesquisa_ISD_IC/Teste_Massivo/'\n",
        "\n",
        "#destino = '/content/drive/MyDrive/Pesquisa_ISD_IC/Copia_Base de Dados/'"
      ]
    },
    {
      "cell_type": "markdown",
      "metadata": {
        "id": "GZ4UaP_yAktu"
      },
      "source": [
        "### Posição do nome da Imagens no Endereço:"
      ]
    },
    {
      "cell_type": "code",
      "execution_count": 22,
      "metadata": {
        "colab": {
          "base_uri": "https://localhost:8080/"
        },
        "id": "FRtLpZEYI08z",
        "outputId": "37d22495-207b-4a99-b3e4-a33ab82a25e7"
      },
      "outputs": [
        {
          "name": "stdout",
          "output_type": "stream",
          "text": [
            "posicao_do_nome_frame:6\n"
          ]
        }
      ],
      "source": [
        "posicao_do_nome_frame = input(\"posicao do nome da Imagem:\") #6"
      ]
    },
    {
      "cell_type": "markdown",
      "metadata": {
        "id": "cMYT5tPBaS53"
      },
      "source": [
        "## Extraindo os Frames:"
      ]
    },
    {
      "cell_type": "code",
      "execution_count": 18,
      "metadata": {
        "colab": {
          "base_uri": "https://localhost:8080/"
        },
        "id": "xZwMGRP_Lef6",
        "outputId": "693967d6-eb9e-4260-9662-e3b78f3280e1"
      },
      "outputs": [
        {
          "name": "stdout",
          "output_type": "stream",
          "text": [
            "Quantas imagens serão usadas como base pro processo: 3\n"
          ]
        }
      ],
      "source": [
        "cont = input(\"Quantas imagens serão usadas como base pro no processo de remoção do rato: \") #5"
      ]
    },
    {
      "cell_type": "code",
      "execution_count": 20,
      "metadata": {
        "id": "Vt4DftLqJdoK",
        "colab": {
          "base_uri": "https://localhost:8080/"
        },
        "outputId": "8465cd09-a494-4423-a715-3c6b9985baf6"
      },
      "outputs": [
        {
          "output_type": "stream",
          "name": "stdout",
          "text": [
            "/content/drive/MyDrive/Pesquisa_ISD_IC/Imagens_Infravermelho/Dia2-Explo-CCF504-Contexto4.jpg\n",
            "/content/drive/MyDrive/Pesquisa_ISD_IC/Imagens_Infravermelho/Dia2-Explo-CCF508-Contexto4.jpg\n",
            "/content/drive/MyDrive/Pesquisa_ISD_IC/Imagens_Infravermelho/Dia2-Explo-CCF512-Contexto4.jpg\n"
          ]
        }
      ],
      "source": [
        "extract_frames_from_videos(entrada, destino, posicao_do_nome_video, cont)"
      ]
    },
    {
      "cell_type": "code",
      "execution_count": 21,
      "metadata": {
        "id": "nW5w0sVoJM9x",
        "colab": {
          "base_uri": "https://localhost:8080/"
        },
        "outputId": "649c5daa-b973-48e2-91ae-c052849e95dd"
      },
      "outputs": [
        {
          "output_type": "stream",
          "name": "stdout",
          "text": [
            "/content/drive/MyDrive/Pesquisa_ISD_IC/Imagens_Infravermelho/Dia2-Explo-CCF504-Contexto4.jpg\n",
            "/content/drive/MyDrive/Pesquisa_ISD_IC/Imagens_Infravermelho/Dia2-Explo-CCF508-Contexto4.jpg\n",
            "/content/drive/MyDrive/Pesquisa_ISD_IC/Imagens_Infravermelho/Dia2-Explo-CCF512-Contexto4.jpg\n"
          ]
        }
      ],
      "source": [
        "# Criação de uma lista de endereços, cada endereço representando uma imagem:\n",
        "frames = glob.glob(destino + '*.jpg')\n",
        "print('\\n'.join(frames))"
      ]
    },
    {
      "cell_type": "markdown",
      "metadata": {
        "id": "LdSfJW7eFA-c"
      },
      "source": [
        "# Algoritmo Principal:"
      ]
    },
    {
      "cell_type": "code",
      "execution_count": null,
      "metadata": {
        "id": "5DNQHu4mJukK"
      },
      "outputs": [],
      "source": [
        "# Dicionário com os dados de todas as imagens\n",
        "dados_gerais = {}\n",
        "\n",
        "# Loop que processa cada arquivo na lista de caminhos de arquivos.\n",
        "for frame in frames:\n",
        "  resultados, amostra = process_frame(frame)\n",
        "\n",
        "  # Imprime o número de objetos encontrados\n",
        "  print(resultados[1])\n",
        "\n",
        "  # Exibe a imagem com os contornos encontrados\n",
        "  cv2_imshow(resultados[0])\n",
        "\n",
        "  output_path = os.path.join(destino, f\"{amostra}_bteste.jpg\")\n",
        "\n",
        "  # Salvar a imagem resultante\n",
        "  cv2.imwrite(output_path, resultados[0])\n",
        "\n",
        "  # Dicionário com os dados de uma imagem\n",
        "  dados_frame = {}\n",
        "\n",
        "  # Chama a função create_dataset com o dataset gerado\n",
        "  dados_frame = create_dataset_image(resultados[2])\n",
        "\n",
        "  # Adicionando os dados em um dicionario maior\n",
        "  dados_gerais.update(resultados[2])\n",
        "\n",
        "  # Salva o DataFrame em um arquivo CSV\n",
        "  dados_frame.to_csv(output_path + \"_Data\", index=False)\n",
        "\n",
        "# Chama a função create_dataset_image com o dicionário completo de todas as imagens\n",
        "dataset_geral = create_dataset_image(dados_gerais)\n",
        "\n",
        "# Salva o DataFrame em um arquivo CSV\n",
        "dataset_geral.to_csv(destino + \"_dataset_geral.csv\", index=False)"
      ]
    },
    {
      "cell_type": "code",
      "source": [
        "dados_frame"
      ],
      "metadata": {
        "colab": {
          "base_uri": "https://localhost:8080/",
          "height": 107
        },
        "id": "K1wXnIXLCK9P",
        "outputId": "00ab0de5-dc5c-48ed-e9e3-3f1aecb4fd11"
      },
      "execution_count": 24,
      "outputs": [
        {
          "output_type": "execute_result",
          "data": {
            "text/plain": [
              "                       attribute    area  circularity  radius    Form    x  \\\n",
              "0  Dia2-Explo-CCF512-Contexto4_1  3519.5     0.725206      37  circle  380   \n",
              "1  Dia2-Explo-CCF512-Contexto4_2  4820.0     0.628213      46  circle  170   \n",
              "\n",
              "     y   w   h  cx_circle  cy_circle  cx_quad  cy_quad  cx_momentun  \\\n",
              "0  215  66  71        411        249      380      215          412   \n",
              "1  192  78  90        208        236      170      192          208   \n",
              "\n",
              "   cy_momentun  distance_of_points  \n",
              "0          251            2.236068  \n",
              "1          241            5.000000  "
            ],
            "text/html": [
              "\n",
              "  <div id=\"df-bc3a23c7-0b29-47f2-b776-c8b7389bf55b\">\n",
              "    <div class=\"colab-df-container\">\n",
              "      <div>\n",
              "<style scoped>\n",
              "    .dataframe tbody tr th:only-of-type {\n",
              "        vertical-align: middle;\n",
              "    }\n",
              "\n",
              "    .dataframe tbody tr th {\n",
              "        vertical-align: top;\n",
              "    }\n",
              "\n",
              "    .dataframe thead th {\n",
              "        text-align: right;\n",
              "    }\n",
              "</style>\n",
              "<table border=\"1\" class=\"dataframe\">\n",
              "  <thead>\n",
              "    <tr style=\"text-align: right;\">\n",
              "      <th></th>\n",
              "      <th>attribute</th>\n",
              "      <th>area</th>\n",
              "      <th>circularity</th>\n",
              "      <th>radius</th>\n",
              "      <th>Form</th>\n",
              "      <th>x</th>\n",
              "      <th>y</th>\n",
              "      <th>w</th>\n",
              "      <th>h</th>\n",
              "      <th>cx_circle</th>\n",
              "      <th>cy_circle</th>\n",
              "      <th>cx_quad</th>\n",
              "      <th>cy_quad</th>\n",
              "      <th>cx_momentun</th>\n",
              "      <th>cy_momentun</th>\n",
              "      <th>distance_of_points</th>\n",
              "    </tr>\n",
              "  </thead>\n",
              "  <tbody>\n",
              "    <tr>\n",
              "      <th>0</th>\n",
              "      <td>Dia2-Explo-CCF512-Contexto4_1</td>\n",
              "      <td>3519.5</td>\n",
              "      <td>0.725206</td>\n",
              "      <td>37</td>\n",
              "      <td>circle</td>\n",
              "      <td>380</td>\n",
              "      <td>215</td>\n",
              "      <td>66</td>\n",
              "      <td>71</td>\n",
              "      <td>411</td>\n",
              "      <td>249</td>\n",
              "      <td>380</td>\n",
              "      <td>215</td>\n",
              "      <td>412</td>\n",
              "      <td>251</td>\n",
              "      <td>2.236068</td>\n",
              "    </tr>\n",
              "    <tr>\n",
              "      <th>1</th>\n",
              "      <td>Dia2-Explo-CCF512-Contexto4_2</td>\n",
              "      <td>4820.0</td>\n",
              "      <td>0.628213</td>\n",
              "      <td>46</td>\n",
              "      <td>circle</td>\n",
              "      <td>170</td>\n",
              "      <td>192</td>\n",
              "      <td>78</td>\n",
              "      <td>90</td>\n",
              "      <td>208</td>\n",
              "      <td>236</td>\n",
              "      <td>170</td>\n",
              "      <td>192</td>\n",
              "      <td>208</td>\n",
              "      <td>241</td>\n",
              "      <td>5.000000</td>\n",
              "    </tr>\n",
              "  </tbody>\n",
              "</table>\n",
              "</div>\n",
              "      <button class=\"colab-df-convert\" onclick=\"convertToInteractive('df-bc3a23c7-0b29-47f2-b776-c8b7389bf55b')\"\n",
              "              title=\"Convert this dataframe to an interactive table.\"\n",
              "              style=\"display:none;\">\n",
              "        \n",
              "  <svg xmlns=\"http://www.w3.org/2000/svg\" height=\"24px\"viewBox=\"0 0 24 24\"\n",
              "       width=\"24px\">\n",
              "    <path d=\"M0 0h24v24H0V0z\" fill=\"none\"/>\n",
              "    <path d=\"M18.56 5.44l.94 2.06.94-2.06 2.06-.94-2.06-.94-.94-2.06-.94 2.06-2.06.94zm-11 1L8.5 8.5l.94-2.06 2.06-.94-2.06-.94L8.5 2.5l-.94 2.06-2.06.94zm10 10l.94 2.06.94-2.06 2.06-.94-2.06-.94-.94-2.06-.94 2.06-2.06.94z\"/><path d=\"M17.41 7.96l-1.37-1.37c-.4-.4-.92-.59-1.43-.59-.52 0-1.04.2-1.43.59L10.3 9.45l-7.72 7.72c-.78.78-.78 2.05 0 2.83L4 21.41c.39.39.9.59 1.41.59.51 0 1.02-.2 1.41-.59l7.78-7.78 2.81-2.81c.8-.78.8-2.07 0-2.86zM5.41 20L4 18.59l7.72-7.72 1.47 1.35L5.41 20z\"/>\n",
              "  </svg>\n",
              "      </button>\n",
              "      \n",
              "  <style>\n",
              "    .colab-df-container {\n",
              "      display:flex;\n",
              "      flex-wrap:wrap;\n",
              "      gap: 12px;\n",
              "    }\n",
              "\n",
              "    .colab-df-convert {\n",
              "      background-color: #E8F0FE;\n",
              "      border: none;\n",
              "      border-radius: 50%;\n",
              "      cursor: pointer;\n",
              "      display: none;\n",
              "      fill: #1967D2;\n",
              "      height: 32px;\n",
              "      padding: 0 0 0 0;\n",
              "      width: 32px;\n",
              "    }\n",
              "\n",
              "    .colab-df-convert:hover {\n",
              "      background-color: #E2EBFA;\n",
              "      box-shadow: 0px 1px 2px rgba(60, 64, 67, 0.3), 0px 1px 3px 1px rgba(60, 64, 67, 0.15);\n",
              "      fill: #174EA6;\n",
              "    }\n",
              "\n",
              "    [theme=dark] .colab-df-convert {\n",
              "      background-color: #3B4455;\n",
              "      fill: #D2E3FC;\n",
              "    }\n",
              "\n",
              "    [theme=dark] .colab-df-convert:hover {\n",
              "      background-color: #434B5C;\n",
              "      box-shadow: 0px 1px 3px 1px rgba(0, 0, 0, 0.15);\n",
              "      filter: drop-shadow(0px 1px 2px rgba(0, 0, 0, 0.3));\n",
              "      fill: #FFFFFF;\n",
              "    }\n",
              "  </style>\n",
              "\n",
              "      <script>\n",
              "        const buttonEl =\n",
              "          document.querySelector('#df-bc3a23c7-0b29-47f2-b776-c8b7389bf55b button.colab-df-convert');\n",
              "        buttonEl.style.display =\n",
              "          google.colab.kernel.accessAllowed ? 'block' : 'none';\n",
              "\n",
              "        async function convertToInteractive(key) {\n",
              "          const element = document.querySelector('#df-bc3a23c7-0b29-47f2-b776-c8b7389bf55b');\n",
              "          const dataTable =\n",
              "            await google.colab.kernel.invokeFunction('convertToInteractive',\n",
              "                                                     [key], {});\n",
              "          if (!dataTable) return;\n",
              "\n",
              "          const docLinkHtml = 'Like what you see? Visit the ' +\n",
              "            '<a target=\"_blank\" href=https://colab.research.google.com/notebooks/data_table.ipynb>data table notebook</a>'\n",
              "            + ' to learn more about interactive tables.';\n",
              "          element.innerHTML = '';\n",
              "          dataTable['output_type'] = 'display_data';\n",
              "          await google.colab.output.renderOutput(dataTable, element);\n",
              "          const docLink = document.createElement('div');\n",
              "          docLink.innerHTML = docLinkHtml;\n",
              "          element.appendChild(docLink);\n",
              "        }\n",
              "      </script>\n",
              "    </div>\n",
              "  </div>\n",
              "  "
            ]
          },
          "metadata": {},
          "execution_count": 24
        }
      ]
    },
    {
      "cell_type": "code",
      "source": [
        "dataset_geral"
      ],
      "metadata": {
        "colab": {
          "base_uri": "https://localhost:8080/",
          "height": 227
        },
        "id": "4FRj6gTzxP83",
        "outputId": "ef3c107a-694f-44dd-88ee-b2e28a54734b"
      },
      "execution_count": 25,
      "outputs": [
        {
          "output_type": "execute_result",
          "data": {
            "text/plain": [
              "                       attribute    area  circularity  radius    Form    x  \\\n",
              "0  Dia2-Explo-CCF504-Contexto4_1  3501.0     0.826545      36  circle  411   \n",
              "1  Dia2-Explo-CCF504-Contexto4_2  5030.0     0.629033      47  circle  166   \n",
              "2  Dia2-Explo-CCF508-Contexto4_1  3427.0     0.819804      35  circle  412   \n",
              "3  Dia2-Explo-CCF508-Contexto4_2  4935.5     0.674489      46  circle  168   \n",
              "4  Dia2-Explo-CCF512-Contexto4_1  3519.5     0.725206      37  circle  380   \n",
              "5  Dia2-Explo-CCF512-Contexto4_2  4820.0     0.628213      46  circle  170   \n",
              "\n",
              "     y   w   h  cx_circle  cy_circle  cx_quad  cy_quad  cx_momentun  \\\n",
              "0  211  67  65        442        241      411      211          443   \n",
              "1  198  80  94        204        244      166      198          204   \n",
              "2  210  66  65        443        241      412      210          444   \n",
              "3  197  78  91        206        241      168      197          205   \n",
              "4  215  66  71        411        249      380      215          412   \n",
              "5  192  78  90        208        236      170      192          208   \n",
              "\n",
              "   cy_momentun  distance_of_points  \n",
              "0          242            1.414214  \n",
              "1          249            5.000000  \n",
              "2          242            1.414214  \n",
              "3          247            6.082763  \n",
              "4          251            2.236068  \n",
              "5          241            5.000000  "
            ],
            "text/html": [
              "\n",
              "  <div id=\"df-0c747586-0478-4bf3-86f8-50c4c7cde1d0\">\n",
              "    <div class=\"colab-df-container\">\n",
              "      <div>\n",
              "<style scoped>\n",
              "    .dataframe tbody tr th:only-of-type {\n",
              "        vertical-align: middle;\n",
              "    }\n",
              "\n",
              "    .dataframe tbody tr th {\n",
              "        vertical-align: top;\n",
              "    }\n",
              "\n",
              "    .dataframe thead th {\n",
              "        text-align: right;\n",
              "    }\n",
              "</style>\n",
              "<table border=\"1\" class=\"dataframe\">\n",
              "  <thead>\n",
              "    <tr style=\"text-align: right;\">\n",
              "      <th></th>\n",
              "      <th>attribute</th>\n",
              "      <th>area</th>\n",
              "      <th>circularity</th>\n",
              "      <th>radius</th>\n",
              "      <th>Form</th>\n",
              "      <th>x</th>\n",
              "      <th>y</th>\n",
              "      <th>w</th>\n",
              "      <th>h</th>\n",
              "      <th>cx_circle</th>\n",
              "      <th>cy_circle</th>\n",
              "      <th>cx_quad</th>\n",
              "      <th>cy_quad</th>\n",
              "      <th>cx_momentun</th>\n",
              "      <th>cy_momentun</th>\n",
              "      <th>distance_of_points</th>\n",
              "    </tr>\n",
              "  </thead>\n",
              "  <tbody>\n",
              "    <tr>\n",
              "      <th>0</th>\n",
              "      <td>Dia2-Explo-CCF504-Contexto4_1</td>\n",
              "      <td>3501.0</td>\n",
              "      <td>0.826545</td>\n",
              "      <td>36</td>\n",
              "      <td>circle</td>\n",
              "      <td>411</td>\n",
              "      <td>211</td>\n",
              "      <td>67</td>\n",
              "      <td>65</td>\n",
              "      <td>442</td>\n",
              "      <td>241</td>\n",
              "      <td>411</td>\n",
              "      <td>211</td>\n",
              "      <td>443</td>\n",
              "      <td>242</td>\n",
              "      <td>1.414214</td>\n",
              "    </tr>\n",
              "    <tr>\n",
              "      <th>1</th>\n",
              "      <td>Dia2-Explo-CCF504-Contexto4_2</td>\n",
              "      <td>5030.0</td>\n",
              "      <td>0.629033</td>\n",
              "      <td>47</td>\n",
              "      <td>circle</td>\n",
              "      <td>166</td>\n",
              "      <td>198</td>\n",
              "      <td>80</td>\n",
              "      <td>94</td>\n",
              "      <td>204</td>\n",
              "      <td>244</td>\n",
              "      <td>166</td>\n",
              "      <td>198</td>\n",
              "      <td>204</td>\n",
              "      <td>249</td>\n",
              "      <td>5.000000</td>\n",
              "    </tr>\n",
              "    <tr>\n",
              "      <th>2</th>\n",
              "      <td>Dia2-Explo-CCF508-Contexto4_1</td>\n",
              "      <td>3427.0</td>\n",
              "      <td>0.819804</td>\n",
              "      <td>35</td>\n",
              "      <td>circle</td>\n",
              "      <td>412</td>\n",
              "      <td>210</td>\n",
              "      <td>66</td>\n",
              "      <td>65</td>\n",
              "      <td>443</td>\n",
              "      <td>241</td>\n",
              "      <td>412</td>\n",
              "      <td>210</td>\n",
              "      <td>444</td>\n",
              "      <td>242</td>\n",
              "      <td>1.414214</td>\n",
              "    </tr>\n",
              "    <tr>\n",
              "      <th>3</th>\n",
              "      <td>Dia2-Explo-CCF508-Contexto4_2</td>\n",
              "      <td>4935.5</td>\n",
              "      <td>0.674489</td>\n",
              "      <td>46</td>\n",
              "      <td>circle</td>\n",
              "      <td>168</td>\n",
              "      <td>197</td>\n",
              "      <td>78</td>\n",
              "      <td>91</td>\n",
              "      <td>206</td>\n",
              "      <td>241</td>\n",
              "      <td>168</td>\n",
              "      <td>197</td>\n",
              "      <td>205</td>\n",
              "      <td>247</td>\n",
              "      <td>6.082763</td>\n",
              "    </tr>\n",
              "    <tr>\n",
              "      <th>4</th>\n",
              "      <td>Dia2-Explo-CCF512-Contexto4_1</td>\n",
              "      <td>3519.5</td>\n",
              "      <td>0.725206</td>\n",
              "      <td>37</td>\n",
              "      <td>circle</td>\n",
              "      <td>380</td>\n",
              "      <td>215</td>\n",
              "      <td>66</td>\n",
              "      <td>71</td>\n",
              "      <td>411</td>\n",
              "      <td>249</td>\n",
              "      <td>380</td>\n",
              "      <td>215</td>\n",
              "      <td>412</td>\n",
              "      <td>251</td>\n",
              "      <td>2.236068</td>\n",
              "    </tr>\n",
              "    <tr>\n",
              "      <th>5</th>\n",
              "      <td>Dia2-Explo-CCF512-Contexto4_2</td>\n",
              "      <td>4820.0</td>\n",
              "      <td>0.628213</td>\n",
              "      <td>46</td>\n",
              "      <td>circle</td>\n",
              "      <td>170</td>\n",
              "      <td>192</td>\n",
              "      <td>78</td>\n",
              "      <td>90</td>\n",
              "      <td>208</td>\n",
              "      <td>236</td>\n",
              "      <td>170</td>\n",
              "      <td>192</td>\n",
              "      <td>208</td>\n",
              "      <td>241</td>\n",
              "      <td>5.000000</td>\n",
              "    </tr>\n",
              "  </tbody>\n",
              "</table>\n",
              "</div>\n",
              "      <button class=\"colab-df-convert\" onclick=\"convertToInteractive('df-0c747586-0478-4bf3-86f8-50c4c7cde1d0')\"\n",
              "              title=\"Convert this dataframe to an interactive table.\"\n",
              "              style=\"display:none;\">\n",
              "        \n",
              "  <svg xmlns=\"http://www.w3.org/2000/svg\" height=\"24px\"viewBox=\"0 0 24 24\"\n",
              "       width=\"24px\">\n",
              "    <path d=\"M0 0h24v24H0V0z\" fill=\"none\"/>\n",
              "    <path d=\"M18.56 5.44l.94 2.06.94-2.06 2.06-.94-2.06-.94-.94-2.06-.94 2.06-2.06.94zm-11 1L8.5 8.5l.94-2.06 2.06-.94-2.06-.94L8.5 2.5l-.94 2.06-2.06.94zm10 10l.94 2.06.94-2.06 2.06-.94-2.06-.94-.94-2.06-.94 2.06-2.06.94z\"/><path d=\"M17.41 7.96l-1.37-1.37c-.4-.4-.92-.59-1.43-.59-.52 0-1.04.2-1.43.59L10.3 9.45l-7.72 7.72c-.78.78-.78 2.05 0 2.83L4 21.41c.39.39.9.59 1.41.59.51 0 1.02-.2 1.41-.59l7.78-7.78 2.81-2.81c.8-.78.8-2.07 0-2.86zM5.41 20L4 18.59l7.72-7.72 1.47 1.35L5.41 20z\"/>\n",
              "  </svg>\n",
              "      </button>\n",
              "      \n",
              "  <style>\n",
              "    .colab-df-container {\n",
              "      display:flex;\n",
              "      flex-wrap:wrap;\n",
              "      gap: 12px;\n",
              "    }\n",
              "\n",
              "    .colab-df-convert {\n",
              "      background-color: #E8F0FE;\n",
              "      border: none;\n",
              "      border-radius: 50%;\n",
              "      cursor: pointer;\n",
              "      display: none;\n",
              "      fill: #1967D2;\n",
              "      height: 32px;\n",
              "      padding: 0 0 0 0;\n",
              "      width: 32px;\n",
              "    }\n",
              "\n",
              "    .colab-df-convert:hover {\n",
              "      background-color: #E2EBFA;\n",
              "      box-shadow: 0px 1px 2px rgba(60, 64, 67, 0.3), 0px 1px 3px 1px rgba(60, 64, 67, 0.15);\n",
              "      fill: #174EA6;\n",
              "    }\n",
              "\n",
              "    [theme=dark] .colab-df-convert {\n",
              "      background-color: #3B4455;\n",
              "      fill: #D2E3FC;\n",
              "    }\n",
              "\n",
              "    [theme=dark] .colab-df-convert:hover {\n",
              "      background-color: #434B5C;\n",
              "      box-shadow: 0px 1px 3px 1px rgba(0, 0, 0, 0.15);\n",
              "      filter: drop-shadow(0px 1px 2px rgba(0, 0, 0, 0.3));\n",
              "      fill: #FFFFFF;\n",
              "    }\n",
              "  </style>\n",
              "\n",
              "      <script>\n",
              "        const buttonEl =\n",
              "          document.querySelector('#df-0c747586-0478-4bf3-86f8-50c4c7cde1d0 button.colab-df-convert');\n",
              "        buttonEl.style.display =\n",
              "          google.colab.kernel.accessAllowed ? 'block' : 'none';\n",
              "\n",
              "        async function convertToInteractive(key) {\n",
              "          const element = document.querySelector('#df-0c747586-0478-4bf3-86f8-50c4c7cde1d0');\n",
              "          const dataTable =\n",
              "            await google.colab.kernel.invokeFunction('convertToInteractive',\n",
              "                                                     [key], {});\n",
              "          if (!dataTable) return;\n",
              "\n",
              "          const docLinkHtml = 'Like what you see? Visit the ' +\n",
              "            '<a target=\"_blank\" href=https://colab.research.google.com/notebooks/data_table.ipynb>data table notebook</a>'\n",
              "            + ' to learn more about interactive tables.';\n",
              "          element.innerHTML = '';\n",
              "          dataTable['output_type'] = 'display_data';\n",
              "          await google.colab.output.renderOutput(dataTable, element);\n",
              "          const docLink = document.createElement('div');\n",
              "          docLink.innerHTML = docLinkHtml;\n",
              "          element.appendChild(docLink);\n",
              "        }\n",
              "      </script>\n",
              "    </div>\n",
              "  </div>\n",
              "  "
            ]
          },
          "metadata": {},
          "execution_count": 25
        }
      ]
    }
  ],
  "metadata": {
    "colab": {
      "provenance": [],
      "toc_visible": true,
      "authorship_tag": "ABX9TyO7fGPa0IakvxNHZsMlD8NQ",
      "include_colab_link": true
    },
    "kernelspec": {
      "display_name": "Python 3",
      "name": "python3"
    },
    "language_info": {
      "name": "python"
    }
  },
  "nbformat": 4,
  "nbformat_minor": 0
}