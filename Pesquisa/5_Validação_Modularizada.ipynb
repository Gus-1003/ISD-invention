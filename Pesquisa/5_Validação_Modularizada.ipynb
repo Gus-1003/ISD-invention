{
  "cells": [
    {
      "cell_type": "markdown",
      "metadata": {
        "id": "view-in-github",
        "colab_type": "text"
      },
      "source": [
        "<a href=\"https://colab.research.google.com/github/Gus-1003/ISD-invention/blob/main/Pesquisa/5_Valida%C3%A7%C3%A3o_Modularizada.ipynb\" target=\"_parent\"><img src=\"https://colab.research.google.com/assets/colab-badge.svg\" alt=\"Open In Colab\"/></a>"
      ]
    },
    {
      "cell_type": "markdown",
      "metadata": {
        "id": "oNm2fbhy8jVY"
      },
      "source": [
        "# Importando Bibliotecas"
      ]
    },
    {
      "cell_type": "code",
      "execution_count": 294,
      "metadata": {
        "colab": {
          "base_uri": "https://localhost:8080/"
        },
        "id": "YUY9DGp5E6C0",
        "outputId": "8d784134-f1dc-4fc9-841b-8528aef3d3cd"
      },
      "outputs": [
        {
          "output_type": "stream",
          "name": "stdout",
          "text": [
            "Drive already mounted at /content/drive/; to attempt to forcibly remount, call drive.mount(\"/content/drive/\", force_remount=True).\n",
            "/content/drive/MyDrive\n"
          ]
        }
      ],
      "source": [
        "import os\n",
        "\n",
        "import glob\n",
        "\n",
        "import cv2\n",
        "\n",
        "import numpy as np\n",
        "\n",
        "import math\n",
        "\n",
        "import pandas as pd\n",
        "\n",
        "import matplotlib.pyplot as plt\n",
        "\n",
        "from google.colab.patches import cv2_imshow\n",
        "\n",
        "from google.colab import drive\n",
        "\n",
        "drive.mount('/content/drive/')\n",
        "\n",
        "%cd /content/drive/MyDrive/"
      ]
    },
    {
      "cell_type": "markdown",
      "metadata": {
        "id": "uQdFjWBK8z4G"
      },
      "source": [
        "# Funções:"
      ]
    },
    {
      "cell_type": "markdown",
      "source": [
        "## Calcular_Distancia"
      ],
      "metadata": {
        "id": "mlZeyh8Hzw2e"
      }
    },
    {
      "cell_type": "code",
      "source": [
        "def calcular_distancia(x1, y1, x2, y2):\n",
        "  # Calcula a diferença entre as coordenadas x e y\n",
        "  diff_x = x2 - x1\n",
        "  diff_y = y2 - y1\n",
        "\n",
        "  # Calcula o quadrado das diferenças\n",
        "  diff_x_squared = diff_x ** 2\n",
        "  diff_y_squared = diff_y ** 2\n",
        "\n",
        "  # Calcula a soma dos quadrados das diferenças\n",
        "  sum_diff_squared = diff_x_squared + diff_y_squared\n",
        "\n",
        "  # Calcula a raiz quadrada da soma dos quadrados das diferenças\n",
        "  distancia = math.sqrt(sum_diff_squared)\n",
        "\n",
        "  return distancia"
      ],
      "metadata": {
        "id": "ISHVgbBUzxmY"
      },
      "execution_count": 295,
      "outputs": []
    },
    {
      "cell_type": "markdown",
      "source": [
        "## Create_Dataset:"
      ],
      "metadata": {
        "id": "3oKdjCOwTL3Z"
      }
    },
    {
      "cell_type": "code",
      "source": [
        "def create_dataset_image(dataset):\n",
        "  # Cria uma lista vazia para armazenar os objetos\n",
        "  objects = []\n",
        "\n",
        "  # Percorre o dicionário\n",
        "  for attr, obj_list in dataset.items():\n",
        "    # Percorre a lista de objetos para o atributo atual\n",
        "    for obj in obj_list:\n",
        "      # Verifica se obj é um dicionário\n",
        "      if isinstance(obj, dict):\n",
        "        # Adiciona o objeto combinando com o dicionário {'attribute': attr}\n",
        "        objects.append({**{'attribute': attr}, **obj})\n",
        "\n",
        "  # Cria o DataFrame com base na lista de objetos\n",
        "  df = pd.DataFrame(objects)\n",
        "\n",
        "  # Retorna o DataFrame se for necessário usá-lo posteriormente\n",
        "  return df"
      ],
      "metadata": {
        "id": "3MSFtINeTPSq"
      },
      "execution_count": 296,
      "outputs": []
    },
    {
      "cell_type": "markdown",
      "metadata": {
        "id": "hv6s_NPj-40W"
      },
      "source": [
        "## calculate_contour_properties:"
      ]
    },
    {
      "cell_type": "code",
      "execution_count": 297,
      "metadata": {
        "id": "4LyaFWB-GpKd"
      },
      "outputs": [],
      "source": [
        "def calculate_contour_properties(cnt):\n",
        "  # Momentos do objeto\n",
        "  M = cv2.moments(cnt)\n",
        "\n",
        "  # Calcula a área do contorno\n",
        "  area = cv2.contourArea(cnt)\n",
        "\n",
        "  # Calcula o perímetro do contorno\n",
        "  perimeter = cv2.arcLength(cnt, True)\n",
        "\n",
        "  # Proporção de aspecto do objeto\n",
        "  x,y,w,h = cv2.boundingRect(cnt)\n",
        "  width = w\n",
        "  height = h\n",
        "\n",
        "  if min(w, h) == 0:\n",
        "    aspect_ratio = 0\n",
        "  else:\n",
        "    aspect_ratio = max(float(w), h) / min(float(w), h)\n",
        "\n",
        "  # Ângulo e raio mínimo envolvente em torno do objeto\n",
        "  rect = cv2.minAreaRect(cnt)\n",
        "  circle = cv2.minEnclosingCircle(cnt)\n",
        "\n",
        "  box = cv2.boxPoints(rect)\n",
        "  box = np.int0(box)\n",
        "\n",
        "  # Extensão do objeto (razão entre a área do objeto e a área do retângulo envolvente mínimo)\n",
        "  rect_area = w*h\n",
        "\n",
        "  # Forma de achar o contorno 1\n",
        "  center_x = int(M[\"m10\"] / M[\"m00\"])\n",
        "  center_y = int(M[\"m01\"] / M[\"m00\"])\n",
        "\n",
        "  # Forma de achar o contorno 2 - Circulo\n",
        "  (x_circle, y_circle), radius = cv2.minEnclosingCircle(cnt)\n",
        "  center_circle = (int(x_circle), int(y_circle))\n",
        "  cx_circle = int(x_circle)\n",
        "  cy_circle = int(y_circle)\n",
        "\n",
        "  # Forma de achar o contorno 2 - Quadrado\n",
        "  cx_quad = int(x)\n",
        "  cy_quad = int(y)\n",
        "\n",
        "  # Calcula a circularidade do contorno\n",
        "  if perimeter > 0:\n",
        "      circularity = 4 * np.pi * area / (perimeter ** 2)\n",
        "  else:\n",
        "      circularity = 0\n",
        "      \n",
        "  return area, circularity, radius, x, y, w, h, aspect_ratio, box, center_circle, cx_circle, cy_circle, cx_quad, cy_quad, center_x, center_y"
      ]
    },
    {
      "cell_type": "markdown",
      "metadata": {
        "id": "8jnBY782BL7O"
      },
      "source": [
        "## process_contours:"
      ]
    },
    {
      "cell_type": "code",
      "execution_count": 298,
      "metadata": {
        "id": "2_J2TxeXGMVB"
      },
      "outputs": [],
      "source": [
        "def process_contours(nome_frame, img_contours, contours, imagem_original):\n",
        "\n",
        "  objetos = 0\n",
        "  dicionario = {}  # Dicionário para armazenar os dados dos objetos identificados\n",
        "\n",
        "  for cnt in contours:\n",
        "    # Aproxima o contorno por uma sequência de segmentos de linha\n",
        "    approx = cv2.approxPolyDP(cnt, 0.01 * cv2.arcLength(cnt, True), True)\n",
        "\n",
        "    # Calcula as propriedades do contorno\n",
        "    area, circularity, radius, x, y, w, h, aspect_ratio, box, center, cx_circle, cy_circle, cx_quad, cy_quad, center_x, center_y = calculate_contour_properties(cnt)\n",
        "\n",
        "    x1 = 421\n",
        "    y1 = 349\n",
        "\n",
        "    if objetos == 1:\n",
        "      x1 = 242\n",
        "      y1 = 351\n",
        "\n",
        "\n",
        "    # Para um padrão Circular:\n",
        "    if circularity > 0.30 and area > 2000 and radius < 100 and radius > 20:\n",
        "\n",
        "      # Define o raio máximo desejado\n",
        "      max_radius = 100\n",
        "\n",
        "      # Limita o raio ao valor máximo\n",
        "      radius = min(radius, max_radius)\n",
        "\n",
        "      # Converte o raio para inteiro\n",
        "      radius = int(radius)\n",
        "\n",
        "      # Calcula as Distancias entre os pontos centrais\n",
        "      distance_green_blue = calcular_distancia(cx_circle, cy_circle, center_x, center_y)\n",
        "\n",
        "      # Calcula as Distancias entre os pontos centrais\n",
        "      distance_red_blue = calcular_distancia(x1, y1, center_x, center_y)\n",
        "      distance_red_green = calcular_distancia(x1, y1, cx_circle, cy_circle)\n",
        "\n",
        "      # Desenha um contorno Circular\n",
        "      cv2.circle(img_contours, center, radius, (0, 255, 0), 2)\n",
        "      \n",
        "      # Desenho do ponto central\n",
        "      cv2.circle(img_contours, (cx_circle, cy_circle), 3, (0, 255, 0), -1) # Verde - minEnclosingCircle\n",
        "      cv2.circle(img_contours, (center_x, center_y), 3, (255, 0, 0), -1) # Azul - Momentun\n",
        "\n",
        "      # Desenha uo ponto central ideal\n",
        "      cv2.circle(img_contours, (x1, y1), 3, (0, 0, 255), -1) # Vermelho - Ideal\n",
        "\n",
        "      # Contagem total de Objetos Identificados\n",
        "      objetos = objetos + 1\n",
        "\n",
        "      # Captura dos dados:\n",
        "      dicionario[f\"{nome_frame}_{objetos}\"] = []\n",
        "      # Adicione os dados desejados ao dicionário dataset\n",
        "      dicionario[f\"{nome_frame}_{objetos}\"].append({\n",
        "        \"Form\": \"circle\",\n",
        "        \"area\": area,\n",
        "        \"circularity\": circularity,\n",
        "        \"radius\": radius,\n",
        "        \"x\": x,\n",
        "        \"y\": y,\n",
        "        \"w\": w,\n",
        "        \"h\": h,\n",
        "        \"cx_circle\": cx_circle,\n",
        "        \"cy_circle\": cy_circle,\n",
        "        \"cx_momentun\": center_x,\n",
        "        \"cy_momentun\": center_y,\n",
        "        \"cx_vermelho\": x1,\n",
        "        \"cy_vermelho\": y1,\n",
        "        \"distance_green_blue\" : distance_green_blue,\n",
        "        \"distance_red_blue\" : distance_red_blue,\n",
        "        \"distance_red_green\" : distance_red_green,\n",
        "      })\n",
        "\n",
        "\n",
        "    else:\n",
        "      if aspect_ratio < 2 and area > 2000 and area < 6543.5 and radius < 100: \n",
        "        # Calcula as Distancias entre os pontos centrais\n",
        "        distance_blue_green = calcular_distancia(cx_circle, cy_circle, center_x, center_y)\n",
        "\n",
        "        # Calcula as Distancias entre os pontos centrais\n",
        "        distance_blue = calcular_distancia(x1, y1, center_x, center_y)\n",
        "        distance_green = calcular_distancia(x1, y1, cx_quad, cy_quad)\n",
        "\n",
        "        # Desenha um contorno quadratico\n",
        "        cv2.drawContours(img_contours, [box], 0, (0, 255, 0), 2)\n",
        "\n",
        "        # Desenho do ponto central\n",
        "        cv2.circle(img_contours, (cx_circle, cy_circle), 3, (0, 255, 0), -1) # verde - minEnclosingCircle\n",
        "        cv2.circle(img_contours, (center_x, center_y), 3, (255, 0, 0), -1) # Azul - Momentun\n",
        "        \n",
        "        # Desenha uo pont0 central ideal\n",
        "        cv2.circle(img_contours, (x1, y1), 3, (0, 0, 255), -1) # Vermelho - Ideal\n",
        "\n",
        "        # Contagem total de Objetos Identificados\n",
        "        objetos = objetos + 1\n",
        "        dicionario[f\"{nome_frame}_{objetos}\"] = []\n",
        "        dicionario[f\"{nome_frame}_{objetos}\"].append({\n",
        "          \"Form\": \"Não Circular\",\n",
        "          \"area\": area,\n",
        "          \"circularity\": circularity,\n",
        "          \"radius\": radius,\n",
        "          \"x\": x,\n",
        "          \"y\": y,\n",
        "          \"w\": w,\n",
        "          \"h\": h,\n",
        "          \"cx_circle\": cx_circle,\n",
        "          \"cy_circle\": cy_circle,\n",
        "          \"cx_momentun\": center_x,\n",
        "          \"cx_momentun\": center_y,\n",
        "          \"cx_vermelho\": x1,\n",
        "          \"cy_vermelho\": y1,\n",
        "          \"distance_green_blue\" : distance_green_blue,\n",
        "          \"distance_red_blue\" : distance_red_blue,\n",
        "          \"distance_red_green\" : distance_red_green,\n",
        "        })\n",
        "\n",
        "  return imagem_original, objetos, dicionario"
      ]
    },
    {
      "cell_type": "markdown",
      "metadata": {
        "id": "8LtqLaCU9WOn"
      },
      "source": [
        "## find_contours:"
      ]
    },
    {
      "cell_type": "code",
      "execution_count": 299,
      "metadata": {
        "id": "AYLkG30RGLQ_"
      },
      "outputs": [],
      "source": [
        "def find_contours(image):\n",
        "  # Encontra os contornos na imagem\n",
        "  contours, hierarchy = cv2.findContours(image, cv2.RETR_TREE, cv2.CHAIN_APPROX_SIMPLE)\n",
        "  return contours"
      ]
    },
    {
      "cell_type": "markdown",
      "metadata": {
        "id": "WAm7U2qN9PGX"
      },
      "source": [
        "## dilate_image:"
      ]
    },
    {
      "cell_type": "code",
      "execution_count": 300,
      "metadata": {
        "id": "TgBidEvDF7aZ"
      },
      "outputs": [],
      "source": [
        "def dilate_image(image):\n",
        "  # Define o kernel para a dilatação\n",
        "  kernel = np.ones((5, 5), np.uint8)\n",
        "\n",
        "  # Dilata a imagem\n",
        "  image = cv2.dilate(image, kernel, iterations=2)\n",
        "  return image"
      ]
    },
    {
      "cell_type": "markdown",
      "metadata": {
        "id": "qVztSQgy9Idm"
      },
      "source": [
        "## apply_threshold:"
      ]
    },
    {
      "cell_type": "code",
      "execution_count": 301,
      "metadata": {
        "id": "6RlkMOfYF4_o"
      },
      "outputs": [],
      "source": [
        "def apply_threshold(image):\n",
        "  # Aplica um filtro de Sobel em x e y\n",
        "  sobelx = cv2.Sobel(image, cv2.CV_64F, 1, 0, ksize=3)\n",
        "  sobely = cv2.Sobel(image, cv2.CV_64F, 0, 1, ksize=3)\n",
        "\n",
        "  # Calcula a magnitude do gradiente\n",
        "  gradient_magnitude = cv2.magnitude(sobelx, sobely)\n",
        "\n",
        "  # Normaliza a magnitude do gradiente\n",
        "  gradient_magnitude = cv2.normalize(gradient_magnitude, None, 0, 255, cv2.NORM_MINMAX, cv2.CV_8U)\n",
        "\n",
        "  # Aplica uma limiarização utilizando o método de Otsu\n",
        "  _, gradient_threshold = cv2.threshold(gradient_magnitude, 0, 255, cv2.THRESH_BINARY + cv2.THRESH_OTSU)\n",
        "  \n",
        "  return gradient_threshold"
      ]
    },
    {
      "cell_type": "markdown",
      "metadata": {
        "id": "cqCMBN8Q9Cl3"
      },
      "source": [
        "## apply_filters:"
      ]
    },
    {
      "cell_type": "code",
      "execution_count": 302,
      "metadata": {
        "id": "QZNQNqlaFzmr"
      },
      "outputs": [],
      "source": [
        "def apply_filters(image):\n",
        "  # Converte a imagem para float32\n",
        "  image32f = np.float32(image)\n",
        "  \n",
        "  # Aplica um filtro de média\n",
        "  mu = cv2.blur(image32f, (3, 3))\n",
        "\n",
        "  # Calcula a variância da imagem filtrada\n",
        "  mu2 = cv2.blur(image32f * image32f, (3, 3))\n",
        "  sigma = cv2.sqrt(mu2 - mu * mu)\n",
        "  sigma = sigma * 10\n",
        "  sigma = sigma.astype(\"uint8\")\n",
        "\n",
        "  # Aplica um filtro de borramento Gaussiano\n",
        "  sigma = cv2.GaussianBlur(sigma, (5, 5), 0)\n",
        "\n",
        "  # Aplica o filtro Laplaciano\n",
        "  laplacian = cv2.Laplacian(sigma, cv2.CV_32F)\n",
        "\n",
        "  # Converte a saída para o intervalo de 0 a 255\n",
        "  sigma = cv2.convertScaleAbs(laplacian)\n",
        "\n",
        "  return sigma"
      ]
    },
    {
      "cell_type": "markdown",
      "metadata": {
        "id": "MIQj2LiF88wm"
      },
      "source": [
        "## print_frame_info:"
      ]
    },
    {
      "cell_type": "code",
      "execution_count": 303,
      "metadata": {
        "id": "iG-75X_dFxqz"
      },
      "outputs": [],
      "source": [
        "def print_frame_info(nome):\n",
        "  # Imprime informações do frame\n",
        "  print(f\"================================================================================\")\n",
        "  print(f\"================================================================================\")\n",
        "  print(f\"Amostra: \" + nome)"
      ]
    },
    {
      "cell_type": "markdown",
      "metadata": {
        "id": "pzKF2RpzFpZ8"
      },
      "source": [
        "## process_frame:"
      ]
    },
    {
      "cell_type": "code",
      "execution_count": 304,
      "metadata": {
        "id": "V8DYLcV7FFpD"
      },
      "outputs": [],
      "source": [
        "def process_frame(frame):\n",
        "  # Carrega a imagem\n",
        "  im = cv2.imread(frame)\n",
        "  \n",
        "  # Divide o caminho do arquivo e obtém o nome do frame\n",
        "  nome_completo = frame.split('/')\n",
        "  nome = nome_completo[int(posicao_do_nome_frame)].split('.')\n",
        "  amostra = nome[0]\n",
        "\n",
        "  # Imprime informações do frame\n",
        "  print_frame_info(amostra)\n",
        "\n",
        "  # Cria uma cópia da imagem para desenhar os contornos\n",
        "  img_contours = im.copy()\n",
        "\n",
        "  # Converte a imagem para escala de cinza\n",
        "  image = cv2.cvtColor(im, cv2.COLOR_BGR2GRAY)\n",
        "\n",
        "  # Aplica uma série de filtros à imagem\n",
        "  sigma = apply_filters(image)\n",
        "\n",
        "  # Aplica uma limiarização à imagem filtrada\n",
        "  gradient_threshold = apply_threshold(sigma)\n",
        "\n",
        "  # Dilata a imagem limiarizada\n",
        "  gradient_threshold = dilate_image(gradient_threshold)\n",
        "\n",
        "  # Encontra os contornos na imagem dilatada\n",
        "  contours = find_contours(gradient_threshold)\n",
        "\n",
        "  # Processa cada contorno encontrado\n",
        "  resultados = process_contours(amostra, img_contours, contours, img_contours)\n",
        "\n",
        "  return resultados, amostra"
      ]
    },
    {
      "cell_type": "markdown",
      "metadata": {
        "id": "8QW1jewNAUde"
      },
      "source": [
        "# Base do Sistema:"
      ]
    },
    {
      "cell_type": "markdown",
      "source": [
        "## Endereço da imagem:"
      ],
      "metadata": {
        "id": "-PoBNzs8L87Q"
      }
    },
    {
      "cell_type": "code",
      "source": [
        "destino = '/content/drive/MyDrive/Pesquisa_ISD_IC/Validação/'"
      ],
      "metadata": {
        "id": "QWbepb9WMCTX"
      },
      "execution_count": 305,
      "outputs": []
    },
    {
      "cell_type": "markdown",
      "metadata": {
        "id": "GZ4UaP_yAktu"
      },
      "source": [
        "### Imagem Alvo:"
      ]
    },
    {
      "cell_type": "code",
      "execution_count": 306,
      "metadata": {
        "id": "nW5w0sVoJM9x"
      },
      "outputs": [],
      "source": [
        "frame = '/content/drive/MyDrive/Pesquisa_ISD_IC/Validação/Dia4-TR-CCM528-Contexto3.jpg'"
      ]
    },
    {
      "cell_type": "code",
      "execution_count": 307,
      "metadata": {
        "id": "FRtLpZEYI08z"
      },
      "outputs": [],
      "source": [
        "posicao_do_nome_frame = 6"
      ]
    },
    {
      "cell_type": "markdown",
      "metadata": {
        "id": "LdSfJW7eFA-c"
      },
      "source": [
        "# Algoritmo Principal:"
      ]
    },
    {
      "cell_type": "code",
      "execution_count": null,
      "metadata": {
        "id": "5DNQHu4mJukK"
      },
      "outputs": [],
      "source": [
        "resultados, amostra = process_frame(frame)\n",
        "\n",
        "# Imprime o número de objetos encontrados\n",
        "print(resultados[1])\n",
        "\n",
        "# Exibe a imagem com os contornos encontrados\n",
        "cv2_imshow(resultados[0])\n",
        "\n",
        "output_path = os.path.join(destino, f\"{amostra}_bteste.jpg\")\n",
        "\n",
        "# Salvar a imagem resultante\n",
        "cv2.imwrite(output_path, resultados[0])\n",
        "\n",
        "# Chama a função create_dataset com o dataset gerado\n",
        "dados = create_dataset_image(resultados[2])\n",
        "\n",
        "output_path_data = os.path.join(destino, f\"{amostra}_data.csv\")\n",
        "\n",
        "# Salva o DataFrame em um arquivo CSV\n",
        "dados.to_csv(output_path_data, index=False)"
      ]
    },
    {
      "cell_type": "code",
      "source": [
        "resultados[0].shape"
      ],
      "metadata": {
        "colab": {
          "base_uri": "https://localhost:8080/"
        },
        "id": "aVBIIW9POFoX",
        "outputId": "bb758e8e-fbfd-4cb6-edcd-6e2e346d9674"
      },
      "execution_count": 309,
      "outputs": [
        {
          "output_type": "execute_result",
          "data": {
            "text/plain": [
              "(720, 640, 3)"
            ]
          },
          "metadata": {},
          "execution_count": 309
        }
      ]
    },
    {
      "cell_type": "markdown",
      "source": [
        "As duas representações estão invertendo a ordem das dimensões da imagem em relação a altura e largura.\n",
        "\n",
        "No caso da notação \"Python: (480, 640, 3)\", os valores representam:\n",
        "\n",
        "480: A altura da imagem em pixels.\n",
        "640: A largura da imagem em pixels.\n",
        "3: O número de canais de cores da imagem (normalmente, vermelho, verde e azul).\n",
        "Na notação \"ImageJ: (640, 480, 3)\", ocorre a inversão das dimensões, então temos:\n",
        "\n",
        "640: A largura da imagem em pixels.\n",
        "480: A altura da imagem em pixels.\n",
        "3: O número de canais de cores da imagem.\n",
        "A diferença entre as ordens das dimensões pode ocorrer por diferentes convenções adotadas pelos softwares ou bibliotecas ao representar a imagem. É importante observar que a ordem das dimensões não afeta o conteúdo visual da imagem, apenas a forma como ela é interpretada e exibida pelos programas."
      ],
      "metadata": {
        "id": "J3pkd4P8PfRg"
      }
    },
    {
      "cell_type": "markdown",
      "source": [
        "# Mineração dos Dados:"
      ],
      "metadata": {
        "id": "QFeBbZ01LBjp"
      }
    },
    {
      "cell_type": "code",
      "source": [
        "dados"
      ],
      "metadata": {
        "id": "K1wXnIXLCK9P",
        "colab": {
          "base_uri": "https://localhost:8080/",
          "height": 246
        },
        "outputId": "9ac43995-572d-4ae3-8d54-97612b73e327"
      },
      "execution_count": 310,
      "outputs": [
        {
          "output_type": "execute_result",
          "data": {
            "text/plain": [
              "                    attribute    Form    area  circularity  radius    x    y  \\\n",
              "0  Dia4-TR-CCM528-Contexto3_1  circle  5274.5     0.665038      51  382  315   \n",
              "1  Dia4-TR-CCM528-Contexto3_2  circle  5048.0     0.599628      50  205  314   \n",
              "\n",
              "    w   h  cx_circle  cy_circle  cx_momentun  cy_momentun  cx_vermelho  \\\n",
              "0  88  71        424        350          421          350          421   \n",
              "1  87  72        247        349          244          349          242   \n",
              "\n",
              "   cy_vermelho  distance_green_blue  distance_red_blue  distance_red_green  \n",
              "0          349                  3.0           1.000000            3.162278  \n",
              "1          351                  3.0           2.828427            5.385165  "
            ],
            "text/html": [
              "\n",
              "  <div id=\"df-d575b210-3402-4d88-942f-22ae38864a5b\">\n",
              "    <div class=\"colab-df-container\">\n",
              "      <div>\n",
              "<style scoped>\n",
              "    .dataframe tbody tr th:only-of-type {\n",
              "        vertical-align: middle;\n",
              "    }\n",
              "\n",
              "    .dataframe tbody tr th {\n",
              "        vertical-align: top;\n",
              "    }\n",
              "\n",
              "    .dataframe thead th {\n",
              "        text-align: right;\n",
              "    }\n",
              "</style>\n",
              "<table border=\"1\" class=\"dataframe\">\n",
              "  <thead>\n",
              "    <tr style=\"text-align: right;\">\n",
              "      <th></th>\n",
              "      <th>attribute</th>\n",
              "      <th>Form</th>\n",
              "      <th>area</th>\n",
              "      <th>circularity</th>\n",
              "      <th>radius</th>\n",
              "      <th>x</th>\n",
              "      <th>y</th>\n",
              "      <th>w</th>\n",
              "      <th>h</th>\n",
              "      <th>cx_circle</th>\n",
              "      <th>cy_circle</th>\n",
              "      <th>cx_momentun</th>\n",
              "      <th>cy_momentun</th>\n",
              "      <th>cx_vermelho</th>\n",
              "      <th>cy_vermelho</th>\n",
              "      <th>distance_green_blue</th>\n",
              "      <th>distance_red_blue</th>\n",
              "      <th>distance_red_green</th>\n",
              "    </tr>\n",
              "  </thead>\n",
              "  <tbody>\n",
              "    <tr>\n",
              "      <th>0</th>\n",
              "      <td>Dia4-TR-CCM528-Contexto3_1</td>\n",
              "      <td>circle</td>\n",
              "      <td>5274.5</td>\n",
              "      <td>0.665038</td>\n",
              "      <td>51</td>\n",
              "      <td>382</td>\n",
              "      <td>315</td>\n",
              "      <td>88</td>\n",
              "      <td>71</td>\n",
              "      <td>424</td>\n",
              "      <td>350</td>\n",
              "      <td>421</td>\n",
              "      <td>350</td>\n",
              "      <td>421</td>\n",
              "      <td>349</td>\n",
              "      <td>3.0</td>\n",
              "      <td>1.000000</td>\n",
              "      <td>3.162278</td>\n",
              "    </tr>\n",
              "    <tr>\n",
              "      <th>1</th>\n",
              "      <td>Dia4-TR-CCM528-Contexto3_2</td>\n",
              "      <td>circle</td>\n",
              "      <td>5048.0</td>\n",
              "      <td>0.599628</td>\n",
              "      <td>50</td>\n",
              "      <td>205</td>\n",
              "      <td>314</td>\n",
              "      <td>87</td>\n",
              "      <td>72</td>\n",
              "      <td>247</td>\n",
              "      <td>349</td>\n",
              "      <td>244</td>\n",
              "      <td>349</td>\n",
              "      <td>242</td>\n",
              "      <td>351</td>\n",
              "      <td>3.0</td>\n",
              "      <td>2.828427</td>\n",
              "      <td>5.385165</td>\n",
              "    </tr>\n",
              "  </tbody>\n",
              "</table>\n",
              "</div>\n",
              "      <button class=\"colab-df-convert\" onclick=\"convertToInteractive('df-d575b210-3402-4d88-942f-22ae38864a5b')\"\n",
              "              title=\"Convert this dataframe to an interactive table.\"\n",
              "              style=\"display:none;\">\n",
              "        \n",
              "  <svg xmlns=\"http://www.w3.org/2000/svg\" height=\"24px\"viewBox=\"0 0 24 24\"\n",
              "       width=\"24px\">\n",
              "    <path d=\"M0 0h24v24H0V0z\" fill=\"none\"/>\n",
              "    <path d=\"M18.56 5.44l.94 2.06.94-2.06 2.06-.94-2.06-.94-.94-2.06-.94 2.06-2.06.94zm-11 1L8.5 8.5l.94-2.06 2.06-.94-2.06-.94L8.5 2.5l-.94 2.06-2.06.94zm10 10l.94 2.06.94-2.06 2.06-.94-2.06-.94-.94-2.06-.94 2.06-2.06.94z\"/><path d=\"M17.41 7.96l-1.37-1.37c-.4-.4-.92-.59-1.43-.59-.52 0-1.04.2-1.43.59L10.3 9.45l-7.72 7.72c-.78.78-.78 2.05 0 2.83L4 21.41c.39.39.9.59 1.41.59.51 0 1.02-.2 1.41-.59l7.78-7.78 2.81-2.81c.8-.78.8-2.07 0-2.86zM5.41 20L4 18.59l7.72-7.72 1.47 1.35L5.41 20z\"/>\n",
              "  </svg>\n",
              "      </button>\n",
              "      \n",
              "  <style>\n",
              "    .colab-df-container {\n",
              "      display:flex;\n",
              "      flex-wrap:wrap;\n",
              "      gap: 12px;\n",
              "    }\n",
              "\n",
              "    .colab-df-convert {\n",
              "      background-color: #E8F0FE;\n",
              "      border: none;\n",
              "      border-radius: 50%;\n",
              "      cursor: pointer;\n",
              "      display: none;\n",
              "      fill: #1967D2;\n",
              "      height: 32px;\n",
              "      padding: 0 0 0 0;\n",
              "      width: 32px;\n",
              "    }\n",
              "\n",
              "    .colab-df-convert:hover {\n",
              "      background-color: #E2EBFA;\n",
              "      box-shadow: 0px 1px 2px rgba(60, 64, 67, 0.3), 0px 1px 3px 1px rgba(60, 64, 67, 0.15);\n",
              "      fill: #174EA6;\n",
              "    }\n",
              "\n",
              "    [theme=dark] .colab-df-convert {\n",
              "      background-color: #3B4455;\n",
              "      fill: #D2E3FC;\n",
              "    }\n",
              "\n",
              "    [theme=dark] .colab-df-convert:hover {\n",
              "      background-color: #434B5C;\n",
              "      box-shadow: 0px 1px 3px 1px rgba(0, 0, 0, 0.15);\n",
              "      filter: drop-shadow(0px 1px 2px rgba(0, 0, 0, 0.3));\n",
              "      fill: #FFFFFF;\n",
              "    }\n",
              "  </style>\n",
              "\n",
              "      <script>\n",
              "        const buttonEl =\n",
              "          document.querySelector('#df-d575b210-3402-4d88-942f-22ae38864a5b button.colab-df-convert');\n",
              "        buttonEl.style.display =\n",
              "          google.colab.kernel.accessAllowed ? 'block' : 'none';\n",
              "\n",
              "        async function convertToInteractive(key) {\n",
              "          const element = document.querySelector('#df-d575b210-3402-4d88-942f-22ae38864a5b');\n",
              "          const dataTable =\n",
              "            await google.colab.kernel.invokeFunction('convertToInteractive',\n",
              "                                                     [key], {});\n",
              "          if (!dataTable) return;\n",
              "\n",
              "          const docLinkHtml = 'Like what you see? Visit the ' +\n",
              "            '<a target=\"_blank\" href=https://colab.research.google.com/notebooks/data_table.ipynb>data table notebook</a>'\n",
              "            + ' to learn more about interactive tables.';\n",
              "          element.innerHTML = '';\n",
              "          dataTable['output_type'] = 'display_data';\n",
              "          await google.colab.output.renderOutput(dataTable, element);\n",
              "          const docLink = document.createElement('div');\n",
              "          docLink.innerHTML = docLinkHtml;\n",
              "          element.appendChild(docLink);\n",
              "        }\n",
              "      </script>\n",
              "    </div>\n",
              "  </div>\n",
              "  "
            ]
          },
          "metadata": {},
          "execution_count": 310
        }
      ]
    }
  ],
  "metadata": {
    "colab": {
      "provenance": [],
      "toc_visible": true,
      "authorship_tag": "ABX9TyMFRNDcUyG8A6RV0OXgvx4n",
      "include_colab_link": true
    },
    "kernelspec": {
      "display_name": "Python 3",
      "name": "python3"
    },
    "language_info": {
      "name": "python"
    }
  },
  "nbformat": 4,
  "nbformat_minor": 0
}