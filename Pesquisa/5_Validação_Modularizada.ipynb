{
  "cells": [
    {
      "cell_type": "markdown",
      "metadata": {
        "id": "view-in-github",
        "colab_type": "text"
      },
      "source": [
        "<a href=\"https://colab.research.google.com/github/Gus-1003/ISD-invention/blob/main/Pesquisa/5_Valida%C3%A7%C3%A3o_Modularizada.ipynb\" target=\"_parent\"><img src=\"https://colab.research.google.com/assets/colab-badge.svg\" alt=\"Open In Colab\"/></a>"
      ]
    },
    {
      "cell_type": "markdown",
      "metadata": {
        "id": "oNm2fbhy8jVY"
      },
      "source": [
        "# Importando Bibliotecas"
      ]
    },
    {
      "cell_type": "code",
      "execution_count": 1,
      "metadata": {
        "colab": {
          "base_uri": "https://localhost:8080/"
        },
        "id": "YUY9DGp5E6C0",
        "outputId": "d76cb4ac-5eaa-44b1-da30-25ba2feca5e8"
      },
      "outputs": [
        {
          "output_type": "stream",
          "name": "stdout",
          "text": [
            "Drive already mounted at /content/drive/; to attempt to forcibly remount, call drive.mount(\"/content/drive/\", force_remount=True).\n",
            "/content/drive/MyDrive\n"
          ]
        }
      ],
      "source": [
        "import os\n",
        "\n",
        "import glob\n",
        "\n",
        "import cv2\n",
        "\n",
        "import numpy as np\n",
        "\n",
        "import math\n",
        "\n",
        "import pandas as pd\n",
        "\n",
        "import matplotlib.pyplot as plt\n",
        "\n",
        "from google.colab.patches import cv2_imshow\n",
        "\n",
        "from google.colab import drive\n",
        "\n",
        "drive.mount('/content/drive/')\n",
        "\n",
        "%cd /content/drive/MyDrive/"
      ]
    },
    {
      "cell_type": "markdown",
      "metadata": {
        "id": "uQdFjWBK8z4G"
      },
      "source": [
        "# Funções:"
      ]
    },
    {
      "cell_type": "markdown",
      "source": [
        "## Calcular_Distancia"
      ],
      "metadata": {
        "id": "mlZeyh8Hzw2e"
      }
    },
    {
      "cell_type": "code",
      "source": [
        "def calcular_distancia(x1, y1, x2, y2):\n",
        "  # Calcula a diferença entre as coordenadas x e y\n",
        "  diff_x = x2 - x1\n",
        "  diff_y = y2 - y1\n",
        "\n",
        "  # Calcula o quadrado das diferenças\n",
        "  diff_x_squared = diff_x ** 2\n",
        "  diff_y_squared = diff_y ** 2\n",
        "\n",
        "  # Calcula a soma dos quadrados das diferenças\n",
        "  sum_diff_squared = diff_x_squared + diff_y_squared\n",
        "\n",
        "  # Calcula a raiz quadrada da soma dos quadrados das diferenças\n",
        "  distancia = math.sqrt(sum_diff_squared)\n",
        "\n",
        "  return distancia"
      ],
      "metadata": {
        "id": "ISHVgbBUzxmY"
      },
      "execution_count": 2,
      "outputs": []
    },
    {
      "cell_type": "markdown",
      "source": [
        "## Create_Dataset:"
      ],
      "metadata": {
        "id": "3oKdjCOwTL3Z"
      }
    },
    {
      "cell_type": "code",
      "source": [
        "def create_dataset_image(dataset):\n",
        "  # Cria uma lista vazia para armazenar os objetos\n",
        "  objects = []\n",
        "\n",
        "  # Percorre o dicionário\n",
        "  for attr, obj_list in dataset.items():\n",
        "    # Percorre a lista de objetos para o atributo atual\n",
        "    for obj in obj_list:\n",
        "      # Verifica se obj é um dicionário\n",
        "      if isinstance(obj, dict):\n",
        "        # Adiciona o objeto combinando com o dicionário {'attribute': attr}\n",
        "        objects.append({**{'attribute': attr}, **obj})\n",
        "\n",
        "  # Cria o DataFrame com base na lista de objetos\n",
        "  df = pd.DataFrame(objects)\n",
        "\n",
        "  # Retorna o DataFrame se for necessário usá-lo posteriormente\n",
        "  return df"
      ],
      "metadata": {
        "id": "3MSFtINeTPSq"
      },
      "execution_count": 3,
      "outputs": []
    },
    {
      "cell_type": "markdown",
      "metadata": {
        "id": "hv6s_NPj-40W"
      },
      "source": [
        "## calculate_contour_properties:"
      ]
    },
    {
      "cell_type": "code",
      "execution_count": 4,
      "metadata": {
        "id": "4LyaFWB-GpKd"
      },
      "outputs": [],
      "source": [
        "def calculate_contour_properties(cnt):\n",
        "  # Momentos do objeto\n",
        "  M = cv2.moments(cnt)\n",
        "\n",
        "  # Calcula a área do contorno\n",
        "  area = cv2.contourArea(cnt)\n",
        "\n",
        "  # Calcula o perímetro do contorno\n",
        "  perimeter = cv2.arcLength(cnt, True)\n",
        "\n",
        "  # Proporção de aspecto do objeto\n",
        "  x,y,w,h = cv2.boundingRect(cnt)\n",
        "  width = w\n",
        "  height = h\n",
        "\n",
        "  if min(w, h) == 0:\n",
        "    aspect_ratio = 0\n",
        "  else:\n",
        "    aspect_ratio = max(float(w), h) / min(float(w), h)\n",
        "\n",
        "  # Ângulo e raio mínimo envolvente em torno do objeto\n",
        "  rect = cv2.minAreaRect(cnt)\n",
        "  circle = cv2.minEnclosingCircle(cnt)\n",
        "\n",
        "  box = cv2.boxPoints(rect)\n",
        "  box = np.int0(box)\n",
        "\n",
        "  # Extensão do objeto (razão entre a área do objeto e a área do retângulo envolvente mínimo)\n",
        "  rect_area = w*h\n",
        "\n",
        "  # Forma de achar o contorno 1\n",
        "  center_x = int(M[\"m10\"] / M[\"m00\"])\n",
        "  center_y = int(M[\"m01\"] / M[\"m00\"])\n",
        "\n",
        "  # Forma de achar o contorno 2 - Circulo\n",
        "  (x_circle, y_circle), radius = cv2.minEnclosingCircle(cnt)\n",
        "  center_circle = (int(x_circle), int(y_circle))\n",
        "  cx_circle = int(x_circle)\n",
        "  cy_circle = int(y_circle)\n",
        "\n",
        "  # Forma de achar o contorno 2 - Quadrado\n",
        "  cx_quad = int(x)\n",
        "  cy_quad = int(y)\n",
        "\n",
        "  # Calcula a circularidade do contorno\n",
        "  if perimeter > 0:\n",
        "      circularity = 4 * np.pi * area / (perimeter ** 2)\n",
        "  else:\n",
        "      circularity = 0\n",
        "      \n",
        "  return area, circularity, radius, x, y, w, h, aspect_ratio, box, center_circle, cx_circle, cy_circle, cx_quad, cy_quad, center_x, center_y"
      ]
    },
    {
      "cell_type": "markdown",
      "metadata": {
        "id": "8jnBY782BL7O"
      },
      "source": [
        "## process_contours:"
      ]
    },
    {
      "cell_type": "code",
      "execution_count": 5,
      "metadata": {
        "id": "2_J2TxeXGMVB"
      },
      "outputs": [],
      "source": [
        "def process_contours(nome_frame, img_contours, contours, imagem_original):\n",
        "\n",
        "  objetos = 0\n",
        "  dicionario = {}  # Dicionário para armazenar os dados dos objetos identificados\n",
        "\n",
        "  for cnt in contours:\n",
        "    # Aproxima o contorno por uma sequência de segmentos de linha\n",
        "    approx = cv2.approxPolyDP(cnt, 0.01 * cv2.arcLength(cnt, True), True)\n",
        "\n",
        "    # Calcula as propriedades do contorno\n",
        "    area, circularity, radius, x, y, w, h, aspect_ratio, box, center, cx_circle, cy_circle, cx_quad, cy_quad, center_x, center_y = calculate_contour_properties(cnt)\n",
        "\n",
        "    x1 = 204\n",
        "    y1 = 253  \n",
        "\n",
        "    if objetos == 1:\n",
        "      x1 = 444\n",
        "      y1 = 243\n",
        "\n",
        "\n",
        "    # Para um padrão Circular:\n",
        "    if circularity > 0.30 and area > 2000 and radius < 100 and radius > 20:\n",
        "\n",
        "      # Define o raio máximo desejado\n",
        "      max_radius = 100\n",
        "\n",
        "      # Limita o raio ao valor máximo\n",
        "      radius = min(radius, max_radius)\n",
        "\n",
        "      # Converte o raio para inteiro\n",
        "      radius = int(radius)\n",
        "\n",
        "      # Calcula as Distancias entre os pontos centrais\n",
        "      distance_green_blue = calcular_distancia(cx_circle, cy_circle, center_x, center_y)\n",
        "\n",
        "      # Calcula as Distancias entre os pontos centrais\n",
        "      distance_red_blue = calcular_distancia(x1, y1, center_x, center_y)\n",
        "      distance_red_green = calcular_distancia(x1, y1, cx_circle, cy_circle)\n",
        "\n",
        "      # Desenha um contorno Circular\n",
        "      cv2.circle(img_contours, center, radius, (0, 255, 0), 2)\n",
        "      \n",
        "      # Desenho do ponto central\n",
        "      cv2.circle(img_contours, (cx_circle, cy_circle), 3, (0, 255, 0), -1) # Verde - minEnclosingCircle\n",
        "      cv2.circle(img_contours, (center_x, center_y), 3, (255, 0, 0), -1) # Azul - Momentun\n",
        "\n",
        "      # Desenha uo ponto central ideal\n",
        "      cv2.circle(img_contours, (x1, y1), 3, (0, 0, 255), -1) # Vermelho - Ideal\n",
        "\n",
        "      # Contagem total de Objetos Identificados\n",
        "      objetos = objetos + 1\n",
        "\n",
        "      # Captura dos dados:\n",
        "      dicionario[f\"{nome_frame}_{objetos}\"] = []\n",
        "      # Adicione os dados desejados ao dicionário dataset\n",
        "      dicionario[f\"{nome_frame}_{objetos}\"].append({\n",
        "        \"Form\": \"circle\",\n",
        "        \"area\": area,\n",
        "        \"circularity\": circularity,\n",
        "        \"radius\": radius,\n",
        "        \"x\": x,\n",
        "        \"y\": y,\n",
        "        \"w\": w,\n",
        "        \"h\": h,\n",
        "        \"cx_circle\": cx_circle,\n",
        "        \"cy_circle\": cy_circle,\n",
        "        \"cx_momentun\": center_x,\n",
        "        \"cy_momentun\": center_y,\n",
        "        \"cx_vermelho\": x1,\n",
        "        \"cy_vermelho\": y1,\n",
        "        \"distance_green_blue\" : distance_green_blue,\n",
        "        \"distance_red_blue\" : distance_red_blue,\n",
        "        \"distance_red_green\" : distance_red_green,\n",
        "      })\n",
        "\n",
        "\n",
        "    else:\n",
        "      if aspect_ratio < 2 and area > 2000 and area < 6543.5: \n",
        "        # Calcula as Distancias entre os pontos centrais\n",
        "        distance_blue_green = calcular_distancia(cx_circle, cy_circle, center_x, center_y)\n",
        "\n",
        "        # Calcula as Distancias entre os pontos centrais\n",
        "        distance_blue = calcular_distancia(x1, y1, center_x, center_y)\n",
        "        distance_green = calcular_distancia(x1, y1, cx_quad, cy_quad)\n",
        "\n",
        "        # Desenha um contorno quadratico\n",
        "        cv2.drawContours(img_contours, [box], 0, (0, 255, 0), 2)\n",
        "\n",
        "        # Desenho do ponto central\n",
        "        cv2.circle(img_contours, (cx_circle, cy_circle), 3, (0, 255, 0), -1) # verde - minEnclosingCircle\n",
        "        cv2.circle(img_contours, (center_x, center_y), 3, (255, 0, 0), -1) # Azul - Momentun\n",
        "        \n",
        "        # Desenha uo pont0 central ideal\n",
        "        cv2.circle(img_contours, (x1, y1), 3, (0, 0, 255), -1) # Vermelho - Ideal\n",
        "\n",
        "        # Contagem total de Objetos Identificados\n",
        "        objetos = objetos + 1\n",
        "        dicionario[f\"{nome_frame}_{objetos}\"] = []\n",
        "        dicionario[f\"{nome_frame}_{objetos}\"].append({\n",
        "          \"Form\": \"Não Circular\",\n",
        "          \"area\": area,\n",
        "          \"circularity\": circularity,\n",
        "          \"radius\": radius,\n",
        "          \"x\": x,\n",
        "          \"y\": y,\n",
        "          \"w\": w,\n",
        "          \"h\": h,\n",
        "          \"cx_circle\": cx_circle,\n",
        "          \"cy_circle\": cy_circle,\n",
        "          \"cx_momentun\": center_x,\n",
        "          \"cx_momentun\": center_y,\n",
        "          \"cx_vermelho\": x1,\n",
        "          \"cy_vermelho\": y1,\n",
        "          \"distance_green_blue\" : distance_green_blue,\n",
        "          \"distance_red_blue\" : distance_red_blue,\n",
        "          \"distance_red_green\" : distance_red_green,\n",
        "        })\n",
        "\n",
        "  return imagem_original, objetos, dicionario"
      ]
    },
    {
      "cell_type": "markdown",
      "metadata": {
        "id": "8LtqLaCU9WOn"
      },
      "source": [
        "## find_contours:"
      ]
    },
    {
      "cell_type": "code",
      "execution_count": 6,
      "metadata": {
        "id": "AYLkG30RGLQ_"
      },
      "outputs": [],
      "source": [
        "def find_contours(image):\n",
        "  # Encontra os contornos na imagem\n",
        "  contours, hierarchy = cv2.findContours(image, cv2.RETR_TREE, cv2.CHAIN_APPROX_SIMPLE)\n",
        "  return contours"
      ]
    },
    {
      "cell_type": "markdown",
      "metadata": {
        "id": "WAm7U2qN9PGX"
      },
      "source": [
        "## dilate_image:"
      ]
    },
    {
      "cell_type": "code",
      "execution_count": 7,
      "metadata": {
        "id": "TgBidEvDF7aZ"
      },
      "outputs": [],
      "source": [
        "def dilate_image(image):\n",
        "  # Define o kernel para a dilatação\n",
        "  kernel = np.ones((5, 5), np.uint8)\n",
        "\n",
        "  # Dilata a imagem\n",
        "  image = cv2.dilate(image, kernel, iterations=2)\n",
        "  return image"
      ]
    },
    {
      "cell_type": "markdown",
      "metadata": {
        "id": "qVztSQgy9Idm"
      },
      "source": [
        "## apply_threshold:"
      ]
    },
    {
      "cell_type": "code",
      "execution_count": 8,
      "metadata": {
        "id": "6RlkMOfYF4_o"
      },
      "outputs": [],
      "source": [
        "def apply_threshold(image):\n",
        "  # Aplica um filtro de Sobel em x e y\n",
        "  sobelx = cv2.Sobel(image, cv2.CV_64F, 1, 0, ksize=3)\n",
        "  sobely = cv2.Sobel(image, cv2.CV_64F, 0, 1, ksize=3)\n",
        "\n",
        "  # Calcula a magnitude do gradiente\n",
        "  gradient_magnitude = cv2.magnitude(sobelx, sobely)\n",
        "\n",
        "  # Normaliza a magnitude do gradiente\n",
        "  gradient_magnitude = cv2.normalize(gradient_magnitude, None, 0, 255, cv2.NORM_MINMAX, cv2.CV_8U)\n",
        "\n",
        "  # Aplica uma limiarização utilizando o método de Otsu\n",
        "  _, gradient_threshold = cv2.threshold(gradient_magnitude, 0, 255, cv2.THRESH_BINARY + cv2.THRESH_OTSU)\n",
        "  \n",
        "  return gradient_threshold"
      ]
    },
    {
      "cell_type": "markdown",
      "metadata": {
        "id": "cqCMBN8Q9Cl3"
      },
      "source": [
        "## apply_filters:"
      ]
    },
    {
      "cell_type": "code",
      "execution_count": 9,
      "metadata": {
        "id": "QZNQNqlaFzmr"
      },
      "outputs": [],
      "source": [
        "def apply_filters(image):\n",
        "  # Converte a imagem para float32\n",
        "  image32f = np.float32(image)\n",
        "  \n",
        "  # Aplica um filtro de média\n",
        "  mu = cv2.blur(image32f, (3, 3))\n",
        "\n",
        "  # Calcula a variância da imagem filtrada\n",
        "  mu2 = cv2.blur(image32f * image32f, (3, 3))\n",
        "  sigma = cv2.sqrt(mu2 - mu * mu)\n",
        "  sigma = sigma * 10\n",
        "  sigma = sigma.astype(\"uint8\")\n",
        "\n",
        "  # Aplica um filtro de borramento Gaussiano\n",
        "  sigma = cv2.GaussianBlur(sigma, (5, 5), 0)\n",
        "\n",
        "  # Aplica o filtro Laplaciano\n",
        "  laplacian = cv2.Laplacian(sigma, cv2.CV_32F)\n",
        "\n",
        "  # Converte a saída para o intervalo de 0 a 255\n",
        "  sigma = cv2.convertScaleAbs(laplacian)\n",
        "\n",
        "  return sigma"
      ]
    },
    {
      "cell_type": "markdown",
      "metadata": {
        "id": "MIQj2LiF88wm"
      },
      "source": [
        "## print_frame_info:"
      ]
    },
    {
      "cell_type": "code",
      "execution_count": 10,
      "metadata": {
        "id": "iG-75X_dFxqz"
      },
      "outputs": [],
      "source": [
        "def print_frame_info(nome):\n",
        "  # Imprime informações do frame\n",
        "  print(f\"================================================================================\")\n",
        "  print(f\"================================================================================\")\n",
        "  print(f\"Amostra: \" + nome)"
      ]
    },
    {
      "cell_type": "markdown",
      "metadata": {
        "id": "pzKF2RpzFpZ8"
      },
      "source": [
        "## process_frame:"
      ]
    },
    {
      "cell_type": "code",
      "execution_count": 11,
      "metadata": {
        "id": "V8DYLcV7FFpD"
      },
      "outputs": [],
      "source": [
        "def process_frame(frame):\n",
        "  # Carrega a imagem\n",
        "  im = cv2.imread(frame)\n",
        "  \n",
        "  # Divide o caminho do arquivo e obtém o nome do frame\n",
        "  nome_completo = frame.split('/')\n",
        "  nome = nome_completo[int(posicao_do_nome_frame)].split('.')\n",
        "  amostra = nome[0]\n",
        "\n",
        "  # Imprime informações do frame\n",
        "  print_frame_info(amostra)\n",
        "\n",
        "  # Cria uma cópia da imagem para desenhar os contornos\n",
        "  img_contours = im.copy()\n",
        "\n",
        "  # Converte a imagem para escala de cinza\n",
        "  image = cv2.cvtColor(im, cv2.COLOR_BGR2GRAY)\n",
        "\n",
        "  # Aplica uma série de filtros à imagem\n",
        "  sigma = apply_filters(image)\n",
        "\n",
        "  # Aplica uma limiarização à imagem filtrada\n",
        "  gradient_threshold = apply_threshold(sigma)\n",
        "\n",
        "  # Dilata a imagem limiarizada\n",
        "  gradient_threshold = dilate_image(gradient_threshold)\n",
        "\n",
        "  # Encontra os contornos na imagem dilatada\n",
        "  contours = find_contours(gradient_threshold)\n",
        "\n",
        "  # Processa cada contorno encontrado\n",
        "  resultados = process_contours(amostra, img_contours, contours, img_contours)\n",
        "\n",
        "  return resultados, amostra"
      ]
    },
    {
      "cell_type": "markdown",
      "metadata": {
        "id": "8QW1jewNAUde"
      },
      "source": [
        "# Base do Sistema:"
      ]
    },
    {
      "cell_type": "markdown",
      "source": [
        "## Endereço da imagem:"
      ],
      "metadata": {
        "id": "-PoBNzs8L87Q"
      }
    },
    {
      "cell_type": "code",
      "source": [
        "destino = '/content/drive/MyDrive/Pesquisa_ISD_IC/Validação/'"
      ],
      "metadata": {
        "id": "QWbepb9WMCTX"
      },
      "execution_count": 12,
      "outputs": []
    },
    {
      "cell_type": "markdown",
      "metadata": {
        "id": "GZ4UaP_yAktu"
      },
      "source": [
        "### Imagem Alvo:"
      ]
    },
    {
      "cell_type": "code",
      "execution_count": 13,
      "metadata": {
        "id": "nW5w0sVoJM9x"
      },
      "outputs": [],
      "source": [
        "frame = '/content/drive/MyDrive/Pesquisa_ISD_IC/Validação/Dia2-Explo-CCF504-Contexto4.jpg'"
      ]
    },
    {
      "cell_type": "code",
      "execution_count": 14,
      "metadata": {
        "id": "FRtLpZEYI08z",
        "colab": {
          "base_uri": "https://localhost:8080/"
        },
        "outputId": "0c82199a-deb8-4112-cb6c-b4c669a7df9d"
      },
      "outputs": [
        {
          "name": "stdout",
          "output_type": "stream",
          "text": [
            "posicao do nome da Imagem:6\n"
          ]
        }
      ],
      "source": [
        "posicao_do_nome_frame = input(\"posicao do nome da Imagem:\") #6"
      ]
    },
    {
      "cell_type": "markdown",
      "metadata": {
        "id": "LdSfJW7eFA-c"
      },
      "source": [
        "# Algoritmo Principal:"
      ]
    },
    {
      "cell_type": "code",
      "execution_count": null,
      "metadata": {
        "id": "5DNQHu4mJukK"
      },
      "outputs": [],
      "source": [
        "resultados, amostra = process_frame(frame)\n",
        "\n",
        "# Imprime o número de objetos encontrados\n",
        "print(resultados[1])\n",
        "\n",
        "# Exibe a imagem com os contornos encontrados\n",
        "cv2_imshow(resultados[0])\n",
        "\n",
        "output_path = os.path.join(destino, f\"{amostra}_bteste.jpg\")\n",
        "\n",
        "# Salvar a imagem resultante\n",
        "cv2.imwrite(output_path, resultados[0])\n",
        "\n",
        "# Chama a função create_dataset com o dataset gerado\n",
        "dados = create_dataset_image(resultados[2])\n",
        "\n",
        "# Salva o DataFrame em um arquivo CSV\n",
        "dados.to_csv(output_path + \"data\", index=False)"
      ]
    },
    {
      "cell_type": "code",
      "source": [
        "resultados[0].shape"
      ],
      "metadata": {
        "colab": {
          "base_uri": "https://localhost:8080/"
        },
        "id": "aVBIIW9POFoX",
        "outputId": "39ba457a-ccb8-48d2-ed84-bde91e227f69"
      },
      "execution_count": 31,
      "outputs": [
        {
          "output_type": "execute_result",
          "data": {
            "text/plain": [
              "(480, 640, 3)"
            ]
          },
          "metadata": {},
          "execution_count": 31
        }
      ]
    },
    {
      "cell_type": "markdown",
      "source": [
        "ImageJ na imagem: Dia2-Explo-CCF504-Contexto4 = (640, 480, 3)"
      ],
      "metadata": {
        "id": "byg1BohbPgm3"
      }
    },
    {
      "cell_type": "markdown",
      "source": [
        "As duas representações estão invertendo a ordem das dimensões da imagem em relação a altura e largura.\n",
        "\n",
        "No caso da notação \"Python: (480, 640, 3)\", os valores representam:\n",
        "\n",
        "480: A altura da imagem em pixels.\n",
        "640: A largura da imagem em pixels.\n",
        "3: O número de canais de cores da imagem (normalmente, vermelho, verde e azul).\n",
        "Na notação \"ImageJ: (640, 480, 3)\", ocorre a inversão das dimensões, então temos:\n",
        "\n",
        "640: A largura da imagem em pixels.\n",
        "480: A altura da imagem em pixels.\n",
        "3: O número de canais de cores da imagem.\n",
        "A diferença entre as ordens das dimensões pode ocorrer por diferentes convenções adotadas pelos softwares ou bibliotecas ao representar a imagem. É importante observar que a ordem das dimensões não afeta o conteúdo visual da imagem, apenas a forma como ela é interpretada e exibida pelos programas."
      ],
      "metadata": {
        "id": "J3pkd4P8PfRg"
      }
    },
    {
      "cell_type": "markdown",
      "source": [
        "# Mineração dos Dados:"
      ],
      "metadata": {
        "id": "QFeBbZ01LBjp"
      }
    },
    {
      "cell_type": "code",
      "source": [
        "dados"
      ],
      "metadata": {
        "id": "K1wXnIXLCK9P",
        "colab": {
          "base_uri": "https://localhost:8080/",
          "height": 185
        },
        "outputId": "157b9b67-c712-49e9-9f8c-332497724f2f"
      },
      "execution_count": 16,
      "outputs": [
        {
          "output_type": "execute_result",
          "data": {
            "text/plain": [
              "                       attribute    Form    area  circularity  radius    x  \\\n",
              "0  Dia2-Explo-CCF504-Contexto4_1  circle  3474.0     0.816731      36  412   \n",
              "1  Dia2-Explo-CCF504-Contexto4_2  circle  5015.0     0.656527      47  166   \n",
              "\n",
              "     y   w   h  cx_circle  cy_circle  cx_momentun  cy_momentun  cx_vermelho  \\\n",
              "0  211  66  66        442        240          444          243          204   \n",
              "1  199  81  93        204        244          204          249          444   \n",
              "\n",
              "   cy_vermelho  distance_green_blue  distance_red_blue  distance_red_green  \n",
              "0          253             3.605551         240.208243          238.354778  \n",
              "1          243             5.000000         240.074988          240.002083  "
            ],
            "text/html": [
              "\n",
              "  <div id=\"df-1f755e0b-f808-4dc4-afe5-266573284afe\">\n",
              "    <div class=\"colab-df-container\">\n",
              "      <div>\n",
              "<style scoped>\n",
              "    .dataframe tbody tr th:only-of-type {\n",
              "        vertical-align: middle;\n",
              "    }\n",
              "\n",
              "    .dataframe tbody tr th {\n",
              "        vertical-align: top;\n",
              "    }\n",
              "\n",
              "    .dataframe thead th {\n",
              "        text-align: right;\n",
              "    }\n",
              "</style>\n",
              "<table border=\"1\" class=\"dataframe\">\n",
              "  <thead>\n",
              "    <tr style=\"text-align: right;\">\n",
              "      <th></th>\n",
              "      <th>attribute</th>\n",
              "      <th>Form</th>\n",
              "      <th>area</th>\n",
              "      <th>circularity</th>\n",
              "      <th>radius</th>\n",
              "      <th>x</th>\n",
              "      <th>y</th>\n",
              "      <th>w</th>\n",
              "      <th>h</th>\n",
              "      <th>cx_circle</th>\n",
              "      <th>cy_circle</th>\n",
              "      <th>cx_momentun</th>\n",
              "      <th>cy_momentun</th>\n",
              "      <th>cx_vermelho</th>\n",
              "      <th>cy_vermelho</th>\n",
              "      <th>distance_green_blue</th>\n",
              "      <th>distance_red_blue</th>\n",
              "      <th>distance_red_green</th>\n",
              "    </tr>\n",
              "  </thead>\n",
              "  <tbody>\n",
              "    <tr>\n",
              "      <th>0</th>\n",
              "      <td>Dia2-Explo-CCF504-Contexto4_1</td>\n",
              "      <td>circle</td>\n",
              "      <td>3474.0</td>\n",
              "      <td>0.816731</td>\n",
              "      <td>36</td>\n",
              "      <td>412</td>\n",
              "      <td>211</td>\n",
              "      <td>66</td>\n",
              "      <td>66</td>\n",
              "      <td>442</td>\n",
              "      <td>240</td>\n",
              "      <td>444</td>\n",
              "      <td>243</td>\n",
              "      <td>204</td>\n",
              "      <td>253</td>\n",
              "      <td>3.605551</td>\n",
              "      <td>240.208243</td>\n",
              "      <td>238.354778</td>\n",
              "    </tr>\n",
              "    <tr>\n",
              "      <th>1</th>\n",
              "      <td>Dia2-Explo-CCF504-Contexto4_2</td>\n",
              "      <td>circle</td>\n",
              "      <td>5015.0</td>\n",
              "      <td>0.656527</td>\n",
              "      <td>47</td>\n",
              "      <td>166</td>\n",
              "      <td>199</td>\n",
              "      <td>81</td>\n",
              "      <td>93</td>\n",
              "      <td>204</td>\n",
              "      <td>244</td>\n",
              "      <td>204</td>\n",
              "      <td>249</td>\n",
              "      <td>444</td>\n",
              "      <td>243</td>\n",
              "      <td>5.000000</td>\n",
              "      <td>240.074988</td>\n",
              "      <td>240.002083</td>\n",
              "    </tr>\n",
              "  </tbody>\n",
              "</table>\n",
              "</div>\n",
              "      <button class=\"colab-df-convert\" onclick=\"convertToInteractive('df-1f755e0b-f808-4dc4-afe5-266573284afe')\"\n",
              "              title=\"Convert this dataframe to an interactive table.\"\n",
              "              style=\"display:none;\">\n",
              "        \n",
              "  <svg xmlns=\"http://www.w3.org/2000/svg\" height=\"24px\"viewBox=\"0 0 24 24\"\n",
              "       width=\"24px\">\n",
              "    <path d=\"M0 0h24v24H0V0z\" fill=\"none\"/>\n",
              "    <path d=\"M18.56 5.44l.94 2.06.94-2.06 2.06-.94-2.06-.94-.94-2.06-.94 2.06-2.06.94zm-11 1L8.5 8.5l.94-2.06 2.06-.94-2.06-.94L8.5 2.5l-.94 2.06-2.06.94zm10 10l.94 2.06.94-2.06 2.06-.94-2.06-.94-.94-2.06-.94 2.06-2.06.94z\"/><path d=\"M17.41 7.96l-1.37-1.37c-.4-.4-.92-.59-1.43-.59-.52 0-1.04.2-1.43.59L10.3 9.45l-7.72 7.72c-.78.78-.78 2.05 0 2.83L4 21.41c.39.39.9.59 1.41.59.51 0 1.02-.2 1.41-.59l7.78-7.78 2.81-2.81c.8-.78.8-2.07 0-2.86zM5.41 20L4 18.59l7.72-7.72 1.47 1.35L5.41 20z\"/>\n",
              "  </svg>\n",
              "      </button>\n",
              "      \n",
              "  <style>\n",
              "    .colab-df-container {\n",
              "      display:flex;\n",
              "      flex-wrap:wrap;\n",
              "      gap: 12px;\n",
              "    }\n",
              "\n",
              "    .colab-df-convert {\n",
              "      background-color: #E8F0FE;\n",
              "      border: none;\n",
              "      border-radius: 50%;\n",
              "      cursor: pointer;\n",
              "      display: none;\n",
              "      fill: #1967D2;\n",
              "      height: 32px;\n",
              "      padding: 0 0 0 0;\n",
              "      width: 32px;\n",
              "    }\n",
              "\n",
              "    .colab-df-convert:hover {\n",
              "      background-color: #E2EBFA;\n",
              "      box-shadow: 0px 1px 2px rgba(60, 64, 67, 0.3), 0px 1px 3px 1px rgba(60, 64, 67, 0.15);\n",
              "      fill: #174EA6;\n",
              "    }\n",
              "\n",
              "    [theme=dark] .colab-df-convert {\n",
              "      background-color: #3B4455;\n",
              "      fill: #D2E3FC;\n",
              "    }\n",
              "\n",
              "    [theme=dark] .colab-df-convert:hover {\n",
              "      background-color: #434B5C;\n",
              "      box-shadow: 0px 1px 3px 1px rgba(0, 0, 0, 0.15);\n",
              "      filter: drop-shadow(0px 1px 2px rgba(0, 0, 0, 0.3));\n",
              "      fill: #FFFFFF;\n",
              "    }\n",
              "  </style>\n",
              "\n",
              "      <script>\n",
              "        const buttonEl =\n",
              "          document.querySelector('#df-1f755e0b-f808-4dc4-afe5-266573284afe button.colab-df-convert');\n",
              "        buttonEl.style.display =\n",
              "          google.colab.kernel.accessAllowed ? 'block' : 'none';\n",
              "\n",
              "        async function convertToInteractive(key) {\n",
              "          const element = document.querySelector('#df-1f755e0b-f808-4dc4-afe5-266573284afe');\n",
              "          const dataTable =\n",
              "            await google.colab.kernel.invokeFunction('convertToInteractive',\n",
              "                                                     [key], {});\n",
              "          if (!dataTable) return;\n",
              "\n",
              "          const docLinkHtml = 'Like what you see? Visit the ' +\n",
              "            '<a target=\"_blank\" href=https://colab.research.google.com/notebooks/data_table.ipynb>data table notebook</a>'\n",
              "            + ' to learn more about interactive tables.';\n",
              "          element.innerHTML = '';\n",
              "          dataTable['output_type'] = 'display_data';\n",
              "          await google.colab.output.renderOutput(dataTable, element);\n",
              "          const docLink = document.createElement('div');\n",
              "          docLink.innerHTML = docLinkHtml;\n",
              "          element.appendChild(docLink);\n",
              "        }\n",
              "      </script>\n",
              "    </div>\n",
              "  </div>\n",
              "  "
            ]
          },
          "metadata": {},
          "execution_count": 16
        }
      ]
    },
    {
      "cell_type": "code",
      "source": [
        "# Dicionário com os dados de todas as imagens\n",
        "#dados_gerais = {}\n",
        "\n",
        "# Chama a função create_dataset_image com o dicionário completo de todas as imagens\n",
        "dataset_geral = create_dataset_image(resultados[2])\n",
        "\n",
        "# Salva o DataFrame em um arquivo CSV\n",
        "dataset_geral.to_csv(destino + \"_dataset_geral.csv\", index=False)"
      ],
      "metadata": {
        "id": "09c8S-aENNIK"
      },
      "execution_count": 22,
      "outputs": []
    },
    {
      "cell_type": "code",
      "source": [
        "dataset_geral"
      ],
      "metadata": {
        "colab": {
          "base_uri": "https://localhost:8080/",
          "height": 185
        },
        "id": "PrRUDKRdNqZN",
        "outputId": "55bf0d26-5a03-40ce-d5c6-2a19833281d5"
      },
      "execution_count": 23,
      "outputs": [
        {
          "output_type": "execute_result",
          "data": {
            "text/plain": [
              "                       attribute    Form    area  circularity  radius    x  \\\n",
              "0  Dia2-Explo-CCF504-Contexto4_1  circle  3474.0     0.816731      36  412   \n",
              "1  Dia2-Explo-CCF504-Contexto4_2  circle  5015.0     0.656527      47  166   \n",
              "\n",
              "     y   w   h  cx_circle  cy_circle  cx_momentun  cy_momentun  cx_vermelho  \\\n",
              "0  211  66  66        442        240          444          243          204   \n",
              "1  199  81  93        204        244          204          249          444   \n",
              "\n",
              "   cy_vermelho  distance_green_blue  distance_red_blue  distance_red_green  \n",
              "0          253             3.605551         240.208243          238.354778  \n",
              "1          243             5.000000         240.074988          240.002083  "
            ],
            "text/html": [
              "\n",
              "  <div id=\"df-4370ea19-73d7-44f4-8590-34e7b862fed3\">\n",
              "    <div class=\"colab-df-container\">\n",
              "      <div>\n",
              "<style scoped>\n",
              "    .dataframe tbody tr th:only-of-type {\n",
              "        vertical-align: middle;\n",
              "    }\n",
              "\n",
              "    .dataframe tbody tr th {\n",
              "        vertical-align: top;\n",
              "    }\n",
              "\n",
              "    .dataframe thead th {\n",
              "        text-align: right;\n",
              "    }\n",
              "</style>\n",
              "<table border=\"1\" class=\"dataframe\">\n",
              "  <thead>\n",
              "    <tr style=\"text-align: right;\">\n",
              "      <th></th>\n",
              "      <th>attribute</th>\n",
              "      <th>Form</th>\n",
              "      <th>area</th>\n",
              "      <th>circularity</th>\n",
              "      <th>radius</th>\n",
              "      <th>x</th>\n",
              "      <th>y</th>\n",
              "      <th>w</th>\n",
              "      <th>h</th>\n",
              "      <th>cx_circle</th>\n",
              "      <th>cy_circle</th>\n",
              "      <th>cx_momentun</th>\n",
              "      <th>cy_momentun</th>\n",
              "      <th>cx_vermelho</th>\n",
              "      <th>cy_vermelho</th>\n",
              "      <th>distance_green_blue</th>\n",
              "      <th>distance_red_blue</th>\n",
              "      <th>distance_red_green</th>\n",
              "    </tr>\n",
              "  </thead>\n",
              "  <tbody>\n",
              "    <tr>\n",
              "      <th>0</th>\n",
              "      <td>Dia2-Explo-CCF504-Contexto4_1</td>\n",
              "      <td>circle</td>\n",
              "      <td>3474.0</td>\n",
              "      <td>0.816731</td>\n",
              "      <td>36</td>\n",
              "      <td>412</td>\n",
              "      <td>211</td>\n",
              "      <td>66</td>\n",
              "      <td>66</td>\n",
              "      <td>442</td>\n",
              "      <td>240</td>\n",
              "      <td>444</td>\n",
              "      <td>243</td>\n",
              "      <td>204</td>\n",
              "      <td>253</td>\n",
              "      <td>3.605551</td>\n",
              "      <td>240.208243</td>\n",
              "      <td>238.354778</td>\n",
              "    </tr>\n",
              "    <tr>\n",
              "      <th>1</th>\n",
              "      <td>Dia2-Explo-CCF504-Contexto4_2</td>\n",
              "      <td>circle</td>\n",
              "      <td>5015.0</td>\n",
              "      <td>0.656527</td>\n",
              "      <td>47</td>\n",
              "      <td>166</td>\n",
              "      <td>199</td>\n",
              "      <td>81</td>\n",
              "      <td>93</td>\n",
              "      <td>204</td>\n",
              "      <td>244</td>\n",
              "      <td>204</td>\n",
              "      <td>249</td>\n",
              "      <td>444</td>\n",
              "      <td>243</td>\n",
              "      <td>5.000000</td>\n",
              "      <td>240.074988</td>\n",
              "      <td>240.002083</td>\n",
              "    </tr>\n",
              "  </tbody>\n",
              "</table>\n",
              "</div>\n",
              "      <button class=\"colab-df-convert\" onclick=\"convertToInteractive('df-4370ea19-73d7-44f4-8590-34e7b862fed3')\"\n",
              "              title=\"Convert this dataframe to an interactive table.\"\n",
              "              style=\"display:none;\">\n",
              "        \n",
              "  <svg xmlns=\"http://www.w3.org/2000/svg\" height=\"24px\"viewBox=\"0 0 24 24\"\n",
              "       width=\"24px\">\n",
              "    <path d=\"M0 0h24v24H0V0z\" fill=\"none\"/>\n",
              "    <path d=\"M18.56 5.44l.94 2.06.94-2.06 2.06-.94-2.06-.94-.94-2.06-.94 2.06-2.06.94zm-11 1L8.5 8.5l.94-2.06 2.06-.94-2.06-.94L8.5 2.5l-.94 2.06-2.06.94zm10 10l.94 2.06.94-2.06 2.06-.94-2.06-.94-.94-2.06-.94 2.06-2.06.94z\"/><path d=\"M17.41 7.96l-1.37-1.37c-.4-.4-.92-.59-1.43-.59-.52 0-1.04.2-1.43.59L10.3 9.45l-7.72 7.72c-.78.78-.78 2.05 0 2.83L4 21.41c.39.39.9.59 1.41.59.51 0 1.02-.2 1.41-.59l7.78-7.78 2.81-2.81c.8-.78.8-2.07 0-2.86zM5.41 20L4 18.59l7.72-7.72 1.47 1.35L5.41 20z\"/>\n",
              "  </svg>\n",
              "      </button>\n",
              "      \n",
              "  <style>\n",
              "    .colab-df-container {\n",
              "      display:flex;\n",
              "      flex-wrap:wrap;\n",
              "      gap: 12px;\n",
              "    }\n",
              "\n",
              "    .colab-df-convert {\n",
              "      background-color: #E8F0FE;\n",
              "      border: none;\n",
              "      border-radius: 50%;\n",
              "      cursor: pointer;\n",
              "      display: none;\n",
              "      fill: #1967D2;\n",
              "      height: 32px;\n",
              "      padding: 0 0 0 0;\n",
              "      width: 32px;\n",
              "    }\n",
              "\n",
              "    .colab-df-convert:hover {\n",
              "      background-color: #E2EBFA;\n",
              "      box-shadow: 0px 1px 2px rgba(60, 64, 67, 0.3), 0px 1px 3px 1px rgba(60, 64, 67, 0.15);\n",
              "      fill: #174EA6;\n",
              "    }\n",
              "\n",
              "    [theme=dark] .colab-df-convert {\n",
              "      background-color: #3B4455;\n",
              "      fill: #D2E3FC;\n",
              "    }\n",
              "\n",
              "    [theme=dark] .colab-df-convert:hover {\n",
              "      background-color: #434B5C;\n",
              "      box-shadow: 0px 1px 3px 1px rgba(0, 0, 0, 0.15);\n",
              "      filter: drop-shadow(0px 1px 2px rgba(0, 0, 0, 0.3));\n",
              "      fill: #FFFFFF;\n",
              "    }\n",
              "  </style>\n",
              "\n",
              "      <script>\n",
              "        const buttonEl =\n",
              "          document.querySelector('#df-4370ea19-73d7-44f4-8590-34e7b862fed3 button.colab-df-convert');\n",
              "        buttonEl.style.display =\n",
              "          google.colab.kernel.accessAllowed ? 'block' : 'none';\n",
              "\n",
              "        async function convertToInteractive(key) {\n",
              "          const element = document.querySelector('#df-4370ea19-73d7-44f4-8590-34e7b862fed3');\n",
              "          const dataTable =\n",
              "            await google.colab.kernel.invokeFunction('convertToInteractive',\n",
              "                                                     [key], {});\n",
              "          if (!dataTable) return;\n",
              "\n",
              "          const docLinkHtml = 'Like what you see? Visit the ' +\n",
              "            '<a target=\"_blank\" href=https://colab.research.google.com/notebooks/data_table.ipynb>data table notebook</a>'\n",
              "            + ' to learn more about interactive tables.';\n",
              "          element.innerHTML = '';\n",
              "          dataTable['output_type'] = 'display_data';\n",
              "          await google.colab.output.renderOutput(dataTable, element);\n",
              "          const docLink = document.createElement('div');\n",
              "          docLink.innerHTML = docLinkHtml;\n",
              "          element.appendChild(docLink);\n",
              "        }\n",
              "      </script>\n",
              "    </div>\n",
              "  </div>\n",
              "  "
            ]
          },
          "metadata": {},
          "execution_count": 23
        }
      ]
    },
    {
      "cell_type": "code",
      "source": [
        "dataset_geral.describe()"
      ],
      "metadata": {
        "colab": {
          "base_uri": "https://localhost:8080/",
          "height": 352
        },
        "id": "av5lvLX9LLgP",
        "outputId": "cfc17d5f-07a8-4934-cc24-22881ce1555a"
      },
      "execution_count": 24,
      "outputs": [
        {
          "output_type": "execute_result",
          "data": {
            "text/plain": [
              "             area  circularity     radius           x           y          w  \\\n",
              "count     2.00000     2.000000   2.000000    2.000000    2.000000   2.000000   \n",
              "mean   4244.50000     0.736629  41.500000  289.000000  205.000000  73.500000   \n",
              "std    1089.65155     0.113282   7.778175  173.948268    8.485281  10.606602   \n",
              "min    3474.00000     0.656527  36.000000  166.000000  199.000000  66.000000   \n",
              "25%    3859.25000     0.696578  38.750000  227.500000  202.000000  69.750000   \n",
              "50%    4244.50000     0.736629  41.500000  289.000000  205.000000  73.500000   \n",
              "75%    4629.75000     0.776680  44.250000  350.500000  208.000000  77.250000   \n",
              "max    5015.00000     0.816731  47.000000  412.000000  211.000000  81.000000   \n",
              "\n",
              "               h   cx_circle   cy_circle  cx_momentun  cy_momentun  \\\n",
              "count   2.000000    2.000000    2.000000     2.000000     2.000000   \n",
              "mean   79.500000  323.000000  242.000000   324.000000   246.000000   \n",
              "std    19.091883  168.291414    2.828427   169.705627     4.242641   \n",
              "min    66.000000  204.000000  240.000000   204.000000   243.000000   \n",
              "25%    72.750000  263.500000  241.000000   264.000000   244.500000   \n",
              "50%    79.500000  323.000000  242.000000   324.000000   246.000000   \n",
              "75%    86.250000  382.500000  243.000000   384.000000   247.500000   \n",
              "max    93.000000  442.000000  244.000000   444.000000   249.000000   \n",
              "\n",
              "       cx_vermelho  cy_vermelho  distance_green_blue  distance_red_blue  \\\n",
              "count     2.000000     2.000000             2.000000           2.000000   \n",
              "mean    324.000000   248.000000             4.302776         240.141616   \n",
              "std     169.705627     7.071068             0.986024           0.094225   \n",
              "min     204.000000   243.000000             3.605551         240.074988   \n",
              "25%     264.000000   245.500000             3.954163         240.108302   \n",
              "50%     324.000000   248.000000             4.302776         240.141616   \n",
              "75%     384.000000   250.500000             4.651388         240.174929   \n",
              "max     444.000000   253.000000             5.000000         240.208243   \n",
              "\n",
              "       distance_red_green  \n",
              "count            2.000000  \n",
              "mean           239.178430  \n",
              "std              1.164821  \n",
              "min            238.354778  \n",
              "25%            238.766604  \n",
              "50%            239.178430  \n",
              "75%            239.590257  \n",
              "max            240.002083  "
            ],
            "text/html": [
              "\n",
              "  <div id=\"df-a8832c06-c391-4663-9ccf-dd9db435d109\">\n",
              "    <div class=\"colab-df-container\">\n",
              "      <div>\n",
              "<style scoped>\n",
              "    .dataframe tbody tr th:only-of-type {\n",
              "        vertical-align: middle;\n",
              "    }\n",
              "\n",
              "    .dataframe tbody tr th {\n",
              "        vertical-align: top;\n",
              "    }\n",
              "\n",
              "    .dataframe thead th {\n",
              "        text-align: right;\n",
              "    }\n",
              "</style>\n",
              "<table border=\"1\" class=\"dataframe\">\n",
              "  <thead>\n",
              "    <tr style=\"text-align: right;\">\n",
              "      <th></th>\n",
              "      <th>area</th>\n",
              "      <th>circularity</th>\n",
              "      <th>radius</th>\n",
              "      <th>x</th>\n",
              "      <th>y</th>\n",
              "      <th>w</th>\n",
              "      <th>h</th>\n",
              "      <th>cx_circle</th>\n",
              "      <th>cy_circle</th>\n",
              "      <th>cx_momentun</th>\n",
              "      <th>cy_momentun</th>\n",
              "      <th>cx_vermelho</th>\n",
              "      <th>cy_vermelho</th>\n",
              "      <th>distance_green_blue</th>\n",
              "      <th>distance_red_blue</th>\n",
              "      <th>distance_red_green</th>\n",
              "    </tr>\n",
              "  </thead>\n",
              "  <tbody>\n",
              "    <tr>\n",
              "      <th>count</th>\n",
              "      <td>2.00000</td>\n",
              "      <td>2.000000</td>\n",
              "      <td>2.000000</td>\n",
              "      <td>2.000000</td>\n",
              "      <td>2.000000</td>\n",
              "      <td>2.000000</td>\n",
              "      <td>2.000000</td>\n",
              "      <td>2.000000</td>\n",
              "      <td>2.000000</td>\n",
              "      <td>2.000000</td>\n",
              "      <td>2.000000</td>\n",
              "      <td>2.000000</td>\n",
              "      <td>2.000000</td>\n",
              "      <td>2.000000</td>\n",
              "      <td>2.000000</td>\n",
              "      <td>2.000000</td>\n",
              "    </tr>\n",
              "    <tr>\n",
              "      <th>mean</th>\n",
              "      <td>4244.50000</td>\n",
              "      <td>0.736629</td>\n",
              "      <td>41.500000</td>\n",
              "      <td>289.000000</td>\n",
              "      <td>205.000000</td>\n",
              "      <td>73.500000</td>\n",
              "      <td>79.500000</td>\n",
              "      <td>323.000000</td>\n",
              "      <td>242.000000</td>\n",
              "      <td>324.000000</td>\n",
              "      <td>246.000000</td>\n",
              "      <td>324.000000</td>\n",
              "      <td>248.000000</td>\n",
              "      <td>4.302776</td>\n",
              "      <td>240.141616</td>\n",
              "      <td>239.178430</td>\n",
              "    </tr>\n",
              "    <tr>\n",
              "      <th>std</th>\n",
              "      <td>1089.65155</td>\n",
              "      <td>0.113282</td>\n",
              "      <td>7.778175</td>\n",
              "      <td>173.948268</td>\n",
              "      <td>8.485281</td>\n",
              "      <td>10.606602</td>\n",
              "      <td>19.091883</td>\n",
              "      <td>168.291414</td>\n",
              "      <td>2.828427</td>\n",
              "      <td>169.705627</td>\n",
              "      <td>4.242641</td>\n",
              "      <td>169.705627</td>\n",
              "      <td>7.071068</td>\n",
              "      <td>0.986024</td>\n",
              "      <td>0.094225</td>\n",
              "      <td>1.164821</td>\n",
              "    </tr>\n",
              "    <tr>\n",
              "      <th>min</th>\n",
              "      <td>3474.00000</td>\n",
              "      <td>0.656527</td>\n",
              "      <td>36.000000</td>\n",
              "      <td>166.000000</td>\n",
              "      <td>199.000000</td>\n",
              "      <td>66.000000</td>\n",
              "      <td>66.000000</td>\n",
              "      <td>204.000000</td>\n",
              "      <td>240.000000</td>\n",
              "      <td>204.000000</td>\n",
              "      <td>243.000000</td>\n",
              "      <td>204.000000</td>\n",
              "      <td>243.000000</td>\n",
              "      <td>3.605551</td>\n",
              "      <td>240.074988</td>\n",
              "      <td>238.354778</td>\n",
              "    </tr>\n",
              "    <tr>\n",
              "      <th>25%</th>\n",
              "      <td>3859.25000</td>\n",
              "      <td>0.696578</td>\n",
              "      <td>38.750000</td>\n",
              "      <td>227.500000</td>\n",
              "      <td>202.000000</td>\n",
              "      <td>69.750000</td>\n",
              "      <td>72.750000</td>\n",
              "      <td>263.500000</td>\n",
              "      <td>241.000000</td>\n",
              "      <td>264.000000</td>\n",
              "      <td>244.500000</td>\n",
              "      <td>264.000000</td>\n",
              "      <td>245.500000</td>\n",
              "      <td>3.954163</td>\n",
              "      <td>240.108302</td>\n",
              "      <td>238.766604</td>\n",
              "    </tr>\n",
              "    <tr>\n",
              "      <th>50%</th>\n",
              "      <td>4244.50000</td>\n",
              "      <td>0.736629</td>\n",
              "      <td>41.500000</td>\n",
              "      <td>289.000000</td>\n",
              "      <td>205.000000</td>\n",
              "      <td>73.500000</td>\n",
              "      <td>79.500000</td>\n",
              "      <td>323.000000</td>\n",
              "      <td>242.000000</td>\n",
              "      <td>324.000000</td>\n",
              "      <td>246.000000</td>\n",
              "      <td>324.000000</td>\n",
              "      <td>248.000000</td>\n",
              "      <td>4.302776</td>\n",
              "      <td>240.141616</td>\n",
              "      <td>239.178430</td>\n",
              "    </tr>\n",
              "    <tr>\n",
              "      <th>75%</th>\n",
              "      <td>4629.75000</td>\n",
              "      <td>0.776680</td>\n",
              "      <td>44.250000</td>\n",
              "      <td>350.500000</td>\n",
              "      <td>208.000000</td>\n",
              "      <td>77.250000</td>\n",
              "      <td>86.250000</td>\n",
              "      <td>382.500000</td>\n",
              "      <td>243.000000</td>\n",
              "      <td>384.000000</td>\n",
              "      <td>247.500000</td>\n",
              "      <td>384.000000</td>\n",
              "      <td>250.500000</td>\n",
              "      <td>4.651388</td>\n",
              "      <td>240.174929</td>\n",
              "      <td>239.590257</td>\n",
              "    </tr>\n",
              "    <tr>\n",
              "      <th>max</th>\n",
              "      <td>5015.00000</td>\n",
              "      <td>0.816731</td>\n",
              "      <td>47.000000</td>\n",
              "      <td>412.000000</td>\n",
              "      <td>211.000000</td>\n",
              "      <td>81.000000</td>\n",
              "      <td>93.000000</td>\n",
              "      <td>442.000000</td>\n",
              "      <td>244.000000</td>\n",
              "      <td>444.000000</td>\n",
              "      <td>249.000000</td>\n",
              "      <td>444.000000</td>\n",
              "      <td>253.000000</td>\n",
              "      <td>5.000000</td>\n",
              "      <td>240.208243</td>\n",
              "      <td>240.002083</td>\n",
              "    </tr>\n",
              "  </tbody>\n",
              "</table>\n",
              "</div>\n",
              "      <button class=\"colab-df-convert\" onclick=\"convertToInteractive('df-a8832c06-c391-4663-9ccf-dd9db435d109')\"\n",
              "              title=\"Convert this dataframe to an interactive table.\"\n",
              "              style=\"display:none;\">\n",
              "        \n",
              "  <svg xmlns=\"http://www.w3.org/2000/svg\" height=\"24px\"viewBox=\"0 0 24 24\"\n",
              "       width=\"24px\">\n",
              "    <path d=\"M0 0h24v24H0V0z\" fill=\"none\"/>\n",
              "    <path d=\"M18.56 5.44l.94 2.06.94-2.06 2.06-.94-2.06-.94-.94-2.06-.94 2.06-2.06.94zm-11 1L8.5 8.5l.94-2.06 2.06-.94-2.06-.94L8.5 2.5l-.94 2.06-2.06.94zm10 10l.94 2.06.94-2.06 2.06-.94-2.06-.94-.94-2.06-.94 2.06-2.06.94z\"/><path d=\"M17.41 7.96l-1.37-1.37c-.4-.4-.92-.59-1.43-.59-.52 0-1.04.2-1.43.59L10.3 9.45l-7.72 7.72c-.78.78-.78 2.05 0 2.83L4 21.41c.39.39.9.59 1.41.59.51 0 1.02-.2 1.41-.59l7.78-7.78 2.81-2.81c.8-.78.8-2.07 0-2.86zM5.41 20L4 18.59l7.72-7.72 1.47 1.35L5.41 20z\"/>\n",
              "  </svg>\n",
              "      </button>\n",
              "      \n",
              "  <style>\n",
              "    .colab-df-container {\n",
              "      display:flex;\n",
              "      flex-wrap:wrap;\n",
              "      gap: 12px;\n",
              "    }\n",
              "\n",
              "    .colab-df-convert {\n",
              "      background-color: #E8F0FE;\n",
              "      border: none;\n",
              "      border-radius: 50%;\n",
              "      cursor: pointer;\n",
              "      display: none;\n",
              "      fill: #1967D2;\n",
              "      height: 32px;\n",
              "      padding: 0 0 0 0;\n",
              "      width: 32px;\n",
              "    }\n",
              "\n",
              "    .colab-df-convert:hover {\n",
              "      background-color: #E2EBFA;\n",
              "      box-shadow: 0px 1px 2px rgba(60, 64, 67, 0.3), 0px 1px 3px 1px rgba(60, 64, 67, 0.15);\n",
              "      fill: #174EA6;\n",
              "    }\n",
              "\n",
              "    [theme=dark] .colab-df-convert {\n",
              "      background-color: #3B4455;\n",
              "      fill: #D2E3FC;\n",
              "    }\n",
              "\n",
              "    [theme=dark] .colab-df-convert:hover {\n",
              "      background-color: #434B5C;\n",
              "      box-shadow: 0px 1px 3px 1px rgba(0, 0, 0, 0.15);\n",
              "      filter: drop-shadow(0px 1px 2px rgba(0, 0, 0, 0.3));\n",
              "      fill: #FFFFFF;\n",
              "    }\n",
              "  </style>\n",
              "\n",
              "      <script>\n",
              "        const buttonEl =\n",
              "          document.querySelector('#df-a8832c06-c391-4663-9ccf-dd9db435d109 button.colab-df-convert');\n",
              "        buttonEl.style.display =\n",
              "          google.colab.kernel.accessAllowed ? 'block' : 'none';\n",
              "\n",
              "        async function convertToInteractive(key) {\n",
              "          const element = document.querySelector('#df-a8832c06-c391-4663-9ccf-dd9db435d109');\n",
              "          const dataTable =\n",
              "            await google.colab.kernel.invokeFunction('convertToInteractive',\n",
              "                                                     [key], {});\n",
              "          if (!dataTable) return;\n",
              "\n",
              "          const docLinkHtml = 'Like what you see? Visit the ' +\n",
              "            '<a target=\"_blank\" href=https://colab.research.google.com/notebooks/data_table.ipynb>data table notebook</a>'\n",
              "            + ' to learn more about interactive tables.';\n",
              "          element.innerHTML = '';\n",
              "          dataTable['output_type'] = 'display_data';\n",
              "          await google.colab.output.renderOutput(dataTable, element);\n",
              "          const docLink = document.createElement('div');\n",
              "          docLink.innerHTML = docLinkHtml;\n",
              "          element.appendChild(docLink);\n",
              "        }\n",
              "      </script>\n",
              "    </div>\n",
              "  </div>\n",
              "  "
            ]
          },
          "metadata": {},
          "execution_count": 24
        }
      ]
    },
    {
      "cell_type": "code",
      "source": [
        "# Acesse a coluna \"distance\" do DataFrame\n",
        "coluna_distance = dataset_geral['distance_red_green']\n",
        "\n",
        "# Crie um boxplot da coluna \"distance\"\n",
        "plt.boxplot(coluna_distance)\n",
        "\n",
        "# Adicione rótulos e título ao gráfico\n",
        "plt.xlabel('Coluna \"distance\"')\n",
        "plt.ylabel('Valores')\n",
        "plt.title('Boxplot da coluna \"distance\"')\n",
        "\n",
        "# Exiba o gráfico\n",
        "plt.show()"
      ],
      "metadata": {
        "colab": {
          "base_uri": "https://localhost:8080/",
          "height": 472
        },
        "id": "yKDrC17wLNhz",
        "outputId": "3cf51407-9972-41a7-9934-30e3b5ed490b"
      },
      "execution_count": 19,
      "outputs": [
        {
          "output_type": "display_data",
          "data": {
            "text/plain": [
              "<Figure size 640x480 with 1 Axes>"
            ],
            "image/png": "[encoded data removed]"
          },
          "metadata": {}
        }
      ]
    },
    {
      "cell_type": "code",
      "source": [
        "qtd_amostras = coluna_distance.count()\n",
        "\n",
        "# Defina o limiar\n",
        "limiar = 10\n",
        "\n",
        "# Area de interesse:\n",
        "ideais = 3\n",
        "\n",
        "# Conte o número de amostras que são superiores ao limiar\n",
        "contador = np.sum(coluna_distance > limiar)\n",
        "\n",
        "# Conte o número de amostras que são superiores ao limiar\n",
        "desejo = np.sum(coluna_distance < ideais)\n",
        "\n",
        "# Imprima o resultado\n",
        "print(f\"temos ({qtd_amostras}) amostras no total.\")\n",
        "\n",
        "# Imprima o resultado\n",
        "print(f\"Número de amostras acima ({limiar}) unidades de distancia: {contador}\")\n",
        "\n",
        "# Imprima o resultado\n",
        "print(f\"Número de amostras abixo de ({ideais}) unidades de distancia: {desejo}\")"
      ],
      "metadata": {
        "colab": {
          "base_uri": "https://localhost:8080/"
        },
        "id": "pnuARPj-LUXZ",
        "outputId": "5401bad3-4b20-45ec-f474-d8556efc90de"
      },
      "execution_count": 20,
      "outputs": [
        {
          "output_type": "stream",
          "name": "stdout",
          "text": [
            "temos (2) amostras no total.\n",
            "Número de amostras acima (10) unidades de distancia: 2\n",
            "Número de amostras abixo de (3) unidades de distancia: 0\n"
          ]
        }
      ]
    }
  ],
  "metadata": {
    "colab": {
      "provenance": [],
      "toc_visible": true,
      "authorship_tag": "ABX9TyOKBKz3Qq3NqqRb9OezswjV",
      "include_colab_link": true
    },
    "kernelspec": {
      "display_name": "Python 3",
      "name": "python3"
    },
    "language_info": {
      "name": "python"
    }
  },
  "nbformat": 4,
  "nbformat_minor": 0
}