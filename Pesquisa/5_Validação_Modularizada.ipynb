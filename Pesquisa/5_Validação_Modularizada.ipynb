{
  "cells": [
    {
      "cell_type": "markdown",
      "metadata": {
        "id": "view-in-github",
        "colab_type": "text"
      },
      "source": [
        "<a href=\"https://colab.research.google.com/github/Gus-1003/ISD-invention/blob/main/Pesquisa/5_Valida%C3%A7%C3%A3o_Modularizada.ipynb\" target=\"_parent\"><img src=\"https://colab.research.google.com/assets/colab-badge.svg\" alt=\"Open In Colab\"/></a>"
      ]
    },
    {
      "cell_type": "markdown",
      "metadata": {
        "id": "oNm2fbhy8jVY"
      },
      "source": [
        "# Importando Bibliotecas"
      ]
    },
    {
      "cell_type": "code",
      "execution_count": 273,
      "metadata": {
        "colab": {
          "base_uri": "https://localhost:8080/"
        },
        "id": "YUY9DGp5E6C0",
        "outputId": "5b29655d-ba3d-4afe-b0e1-160db30d4d5f"
      },
      "outputs": [
        {
          "output_type": "stream",
          "name": "stdout",
          "text": [
            "Drive already mounted at /content/drive/; to attempt to forcibly remount, call drive.mount(\"/content/drive/\", force_remount=True).\n",
            "/content/drive/MyDrive\n"
          ]
        }
      ],
      "source": [
        "import os\n",
        "\n",
        "import glob\n",
        "\n",
        "import cv2\n",
        "\n",
        "import numpy as np\n",
        "\n",
        "import math\n",
        "\n",
        "import pandas as pd\n",
        "\n",
        "import matplotlib.pyplot as plt\n",
        "\n",
        "from google.colab.patches import cv2_imshow\n",
        "\n",
        "from google.colab import drive\n",
        "\n",
        "drive.mount('/content/drive/')\n",
        "\n",
        "%cd /content/drive/MyDrive/"
      ]
    },
    {
      "cell_type": "markdown",
      "metadata": {
        "id": "uQdFjWBK8z4G"
      },
      "source": [
        "# Funções:"
      ]
    },
    {
      "cell_type": "markdown",
      "source": [
        "## Calcular_Distancia"
      ],
      "metadata": {
        "id": "mlZeyh8Hzw2e"
      }
    },
    {
      "cell_type": "code",
      "source": [
        "def calcular_distancia(x1, y1, x2, y2):\n",
        "  # Calcula a diferença entre as coordenadas x e y\n",
        "  diff_x = x2 - x1\n",
        "  diff_y = y2 - y1\n",
        "\n",
        "  # Calcula o quadrado das diferenças\n",
        "  diff_x_squared = diff_x ** 2\n",
        "  diff_y_squared = diff_y ** 2\n",
        "\n",
        "  # Calcula a soma dos quadrados das diferenças\n",
        "  sum_diff_squared = diff_x_squared + diff_y_squared\n",
        "\n",
        "  # Calcula a raiz quadrada da soma dos quadrados das diferenças\n",
        "  distancia = math.sqrt(sum_diff_squared)\n",
        "\n",
        "  return distancia"
      ],
      "metadata": {
        "id": "ISHVgbBUzxmY"
      },
      "execution_count": 274,
      "outputs": []
    },
    {
      "cell_type": "markdown",
      "source": [
        "## Create_Dataset:"
      ],
      "metadata": {
        "id": "3oKdjCOwTL3Z"
      }
    },
    {
      "cell_type": "code",
      "source": [
        "def create_dataset_image(dataset):\n",
        "  # Cria uma lista vazia para armazenar os objetos\n",
        "  objects = []\n",
        "\n",
        "  # Percorre o dicionário\n",
        "  for attr, obj_list in dataset.items():\n",
        "    # Percorre a lista de objetos para o atributo atual\n",
        "    for obj in obj_list:\n",
        "      # Verifica se obj é um dicionário\n",
        "      if isinstance(obj, dict):\n",
        "        # Adiciona o objeto combinando com o dicionário {'attribute': attr}\n",
        "        objects.append({**{'attribute': attr}, **obj})\n",
        "\n",
        "  # Cria o DataFrame com base na lista de objetos\n",
        "  df = pd.DataFrame(objects)\n",
        "\n",
        "  # Retorna o DataFrame se for necessário usá-lo posteriormente\n",
        "  return df"
      ],
      "metadata": {
        "id": "3MSFtINeTPSq"
      },
      "execution_count": 275,
      "outputs": []
    },
    {
      "cell_type": "markdown",
      "metadata": {
        "id": "hv6s_NPj-40W"
      },
      "source": [
        "## calculate_contour_properties:"
      ]
    },
    {
      "cell_type": "code",
      "execution_count": 276,
      "metadata": {
        "id": "4LyaFWB-GpKd"
      },
      "outputs": [],
      "source": [
        "def calculate_contour_properties(cnt):\n",
        "  # Momentos do objeto\n",
        "  M = cv2.moments(cnt)\n",
        "\n",
        "  # Calcula a área do contorno\n",
        "  area = cv2.contourArea(cnt)\n",
        "\n",
        "  # Calcula o perímetro do contorno\n",
        "  perimeter = cv2.arcLength(cnt, True)\n",
        "\n",
        "  # Proporção de aspecto do objeto\n",
        "  x,y,w,h = cv2.boundingRect(cnt)\n",
        "  width = w\n",
        "  height = h\n",
        "\n",
        "  if min(w, h) == 0:\n",
        "    aspect_ratio = 0\n",
        "  else:\n",
        "    aspect_ratio = max(float(w), h) / min(float(w), h)\n",
        "\n",
        "  # Ângulo e raio mínimo envolvente em torno do objeto\n",
        "  rect = cv2.minAreaRect(cnt)\n",
        "  circle = cv2.minEnclosingCircle(cnt)\n",
        "\n",
        "  box = cv2.boxPoints(rect)\n",
        "  box = np.int0(box)\n",
        "\n",
        "  # Extensão do objeto (razão entre a área do objeto e a área do retângulo envolvente mínimo)\n",
        "  rect_area = w*h\n",
        "\n",
        "  # Forma de achar o contorno 1\n",
        "  center_x = int(M[\"m10\"] / M[\"m00\"])\n",
        "  center_y = int(M[\"m01\"] / M[\"m00\"])\n",
        "\n",
        "  # Forma de achar o contorno 2 - Circulo\n",
        "  (x_circle, y_circle), radius = cv2.minEnclosingCircle(cnt)\n",
        "  center_circle = (int(x_circle), int(y_circle))\n",
        "  cx_circle = int(x_circle)\n",
        "  cy_circle = int(y_circle)\n",
        "\n",
        "  # Forma de achar o contorno 2 - Quadrado\n",
        "  cx_quad = int(x)\n",
        "  cy_quad = int(y)\n",
        "\n",
        "  # Calcula a circularidade do contorno\n",
        "  if perimeter > 0:\n",
        "      circularity = 4 * np.pi * area / (perimeter ** 2)\n",
        "  else:\n",
        "      circularity = 0\n",
        "      \n",
        "  return area, circularity, radius, x, y, w, h, aspect_ratio, box, center_circle, cx_circle, cy_circle, cx_quad, cy_quad, center_x, center_y"
      ]
    },
    {
      "cell_type": "markdown",
      "metadata": {
        "id": "8jnBY782BL7O"
      },
      "source": [
        "## process_contours:"
      ]
    },
    {
      "cell_type": "code",
      "execution_count": 277,
      "metadata": {
        "id": "2_J2TxeXGMVB"
      },
      "outputs": [],
      "source": [
        "def process_contours(nome_frame, img_contours, contours, imagem_original):\n",
        "\n",
        "  objetos = 0\n",
        "  dicionario = {}  # Dicionário para armazenar os dados dos objetos identificados\n",
        "\n",
        "  for cnt in contours:\n",
        "    # Aproxima o contorno por uma sequência de segmentos de linha\n",
        "    approx = cv2.approxPolyDP(cnt, 0.01 * cv2.arcLength(cnt, True), True)\n",
        "\n",
        "    # Calcula as propriedades do contorno\n",
        "    area, circularity, radius, x, y, w, h, aspect_ratio, box, center, cx_circle, cy_circle, cx_quad, cy_quad, center_x, center_y = calculate_contour_properties(cnt)\n",
        "\n",
        "    x1 = 227\n",
        "    y1 = 352\n",
        "\n",
        "    if objetos == 1:\n",
        "      x1 = 373\n",
        "      y1 = 354\n",
        "\n",
        "\n",
        "    # Para um padrão Circular:\n",
        "    if circularity > 0.30 and area > 2000 and radius < 100 and radius > 20:\n",
        "\n",
        "      # Define o raio máximo desejado\n",
        "      max_radius = 100\n",
        "\n",
        "      # Limita o raio ao valor máximo\n",
        "      radius = min(radius, max_radius)\n",
        "\n",
        "      # Converte o raio para inteiro\n",
        "      radius = int(radius)\n",
        "\n",
        "      # Calcula as Distancias entre os pontos centrais\n",
        "      distance_green_blue = calcular_distancia(cx_circle, cy_circle, center_x, center_y)\n",
        "\n",
        "      # Calcula as Distancias entre os pontos centrais\n",
        "      distance_red_blue = calcular_distancia(x1, y1, center_x, center_y)\n",
        "      distance_red_green = calcular_distancia(x1, y1, cx_circle, cy_circle)\n",
        "\n",
        "      # Desenha um contorno Circular\n",
        "      cv2.circle(img_contours, center, radius, (0, 255, 0), 2)\n",
        "      \n",
        "      # Desenho do ponto central\n",
        "      cv2.circle(img_contours, (cx_circle, cy_circle), 3, (0, 255, 0), -1) # Verde - minEnclosingCircle\n",
        "      cv2.circle(img_contours, (center_x, center_y), 3, (255, 0, 0), -1) # Azul - Momentun\n",
        "\n",
        "      # Desenha uo ponto central ideal\n",
        "      cv2.circle(img_contours, (x1, y1), 3, (0, 0, 255), -1) # Vermelho - Ideal\n",
        "\n",
        "      # Contagem total de Objetos Identificados\n",
        "      objetos = objetos + 1\n",
        "\n",
        "      # Captura dos dados:\n",
        "      dicionario[f\"{nome_frame}_{objetos}\"] = []\n",
        "      # Adicione os dados desejados ao dicionário dataset\n",
        "      dicionario[f\"{nome_frame}_{objetos}\"].append({\n",
        "        \"Form\": \"circle\",\n",
        "        \"area\": area,\n",
        "        \"circularity\": circularity,\n",
        "        \"radius\": radius,\n",
        "        \"x\": x,\n",
        "        \"y\": y,\n",
        "        \"w\": w,\n",
        "        \"h\": h,\n",
        "        \"cx_circle\": cx_circle,\n",
        "        \"cy_circle\": cy_circle,\n",
        "        \"cx_momentun\": center_x,\n",
        "        \"cy_momentun\": center_y,\n",
        "        \"cx_vermelho\": x1,\n",
        "        \"cy_vermelho\": y1,\n",
        "        \"distance_green_blue\" : distance_green_blue,\n",
        "        \"distance_red_blue\" : distance_red_blue,\n",
        "        \"distance_red_green\" : distance_red_green,\n",
        "      })\n",
        "\n",
        "\n",
        "    else:\n",
        "      if aspect_ratio < 2 and area > 2000 and area < 6543.5 and radius < 100: \n",
        "        # Calcula as Distancias entre os pontos centrais\n",
        "        distance_green_blue = calcular_distancia(cx_circle, cy_circle, center_x, center_y)\n",
        "\n",
        "        # Calcula as Distancias entre os pontos centrais\n",
        "        distance_red_blue = calcular_distancia(x1, y1, center_x, center_y)\n",
        "        distance_red_green = calcular_distancia(x1, y1, cx_circle, cy_circle)\n",
        "\n",
        "        # Desenha um contorno quadratico\n",
        "        cv2.drawContours(img_contours, [box], 0, (0, 255, 0), 2)\n",
        "\n",
        "        # Desenho do ponto central\n",
        "        cv2.circle(img_contours, (cx_circle, cy_circle), 3, (0, 255, 0), -1) # verde - minEnclosingCircle\n",
        "        cv2.circle(img_contours, (center_x, center_y), 3, (255, 0, 0), -1) # Azul - Momentun\n",
        "        \n",
        "        # Desenha uo pont0 central ideal\n",
        "        cv2.circle(img_contours, (x1, y1), 3, (0, 0, 255), -1) # Vermelho - Ideal\n",
        "\n",
        "        # Contagem total de Objetos Identificados\n",
        "        objetos = objetos + 1\n",
        "        dicionario[f\"{nome_frame}_{objetos}\"] = []\n",
        "        dicionario[f\"{nome_frame}_{objetos}\"].append({\n",
        "          \"Form\": \"Não Circular\",\n",
        "          \"area\": area,\n",
        "          \"circularity\": circularity,\n",
        "          \"radius\": radius,\n",
        "          \"x\": x,\n",
        "          \"y\": y,\n",
        "          \"w\": w,\n",
        "          \"h\": h,\n",
        "          \"cx_circle\": cx_circle,\n",
        "          \"cy_circle\": cy_circle,\n",
        "          \"cx_momentun\": center_x,\n",
        "          \"cy_momentun\": center_y,\n",
        "          \"cx_vermelho\": x1,\n",
        "          \"cy_vermelho\": y1,\n",
        "          \"distance_green_blue\" : distance_green_blue,\n",
        "          \"distance_red_blue\" : distance_red_blue,\n",
        "          \"distance_red_green\" : distance_red_green,\n",
        "        })\n",
        "\n",
        "  return imagem_original, objetos, dicionario"
      ]
    },
    {
      "cell_type": "markdown",
      "metadata": {
        "id": "8LtqLaCU9WOn"
      },
      "source": [
        "## find_contours:"
      ]
    },
    {
      "cell_type": "code",
      "execution_count": 278,
      "metadata": {
        "id": "AYLkG30RGLQ_"
      },
      "outputs": [],
      "source": [
        "def find_contours(image):\n",
        "  # Encontra os contornos na imagem\n",
        "  contours, hierarchy = cv2.findContours(image, cv2.RETR_TREE, cv2.CHAIN_APPROX_SIMPLE)\n",
        "  return contours"
      ]
    },
    {
      "cell_type": "markdown",
      "metadata": {
        "id": "WAm7U2qN9PGX"
      },
      "source": [
        "## dilate_image:"
      ]
    },
    {
      "cell_type": "code",
      "execution_count": 279,
      "metadata": {
        "id": "TgBidEvDF7aZ"
      },
      "outputs": [],
      "source": [
        "def dilate_image(image):\n",
        "  # Define o kernel para a dilatação\n",
        "  kernel = np.ones((5, 5), np.uint8)\n",
        "\n",
        "  # Dilata a imagem\n",
        "  image = cv2.dilate(image, kernel, iterations=2)\n",
        "  return image"
      ]
    },
    {
      "cell_type": "markdown",
      "metadata": {
        "id": "qVztSQgy9Idm"
      },
      "source": [
        "## apply_threshold:"
      ]
    },
    {
      "cell_type": "code",
      "execution_count": 280,
      "metadata": {
        "id": "6RlkMOfYF4_o"
      },
      "outputs": [],
      "source": [
        "def apply_threshold(image):\n",
        "  # Aplica um filtro de Sobel em x e y\n",
        "  sobelx = cv2.Sobel(image, cv2.CV_64F, 1, 0, ksize=3)\n",
        "  sobely = cv2.Sobel(image, cv2.CV_64F, 0, 1, ksize=3)\n",
        "\n",
        "  # Calcula a magnitude do gradiente\n",
        "  gradient_magnitude = cv2.magnitude(sobelx, sobely)\n",
        "\n",
        "  # Normaliza a magnitude do gradiente\n",
        "  gradient_magnitude = cv2.normalize(gradient_magnitude, None, 0, 255, cv2.NORM_MINMAX, cv2.CV_8U)\n",
        "\n",
        "  # Aplica uma limiarização utilizando o método de Otsu\n",
        "  _, gradient_threshold = cv2.threshold(gradient_magnitude, 0, 255, cv2.THRESH_BINARY + cv2.THRESH_OTSU)\n",
        "  \n",
        "  return gradient_threshold"
      ]
    },
    {
      "cell_type": "markdown",
      "metadata": {
        "id": "cqCMBN8Q9Cl3"
      },
      "source": [
        "## apply_filters:"
      ]
    },
    {
      "cell_type": "code",
      "execution_count": 281,
      "metadata": {
        "id": "QZNQNqlaFzmr"
      },
      "outputs": [],
      "source": [
        "def apply_filters(image):\n",
        "  # Converte a imagem para float32\n",
        "  image32f = np.float32(image)\n",
        "  \n",
        "  # Aplica um filtro de média\n",
        "  mu = cv2.blur(image32f, (3, 3))\n",
        "\n",
        "  # Calcula a variância da imagem filtrada\n",
        "  mu2 = cv2.blur(image32f * image32f, (3, 3))\n",
        "  sigma = cv2.sqrt(mu2 - mu * mu)\n",
        "  sigma = sigma * 10\n",
        "  sigma = sigma.astype(\"uint8\")\n",
        "\n",
        "  # Aplica um filtro de borramento Gaussiano\n",
        "  sigma = cv2.GaussianBlur(sigma, (5, 5), 0)\n",
        "\n",
        "  # Aplica o filtro Laplaciano\n",
        "  laplacian = cv2.Laplacian(sigma, cv2.CV_32F)\n",
        "\n",
        "  # Converte a saída para o intervalo de 0 a 255\n",
        "  sigma = cv2.convertScaleAbs(laplacian)\n",
        "\n",
        "  return sigma"
      ]
    },
    {
      "cell_type": "markdown",
      "metadata": {
        "id": "MIQj2LiF88wm"
      },
      "source": [
        "## print_frame_info:"
      ]
    },
    {
      "cell_type": "code",
      "execution_count": 282,
      "metadata": {
        "id": "iG-75X_dFxqz"
      },
      "outputs": [],
      "source": [
        "def print_frame_info(nome):\n",
        "  # Imprime informações do frame\n",
        "  print(f\"================================================================================\")\n",
        "  print(f\"================================================================================\")\n",
        "  print(f\"Amostra: \" + nome)"
      ]
    },
    {
      "cell_type": "markdown",
      "metadata": {
        "id": "pzKF2RpzFpZ8"
      },
      "source": [
        "## process_frame:"
      ]
    },
    {
      "cell_type": "code",
      "execution_count": 283,
      "metadata": {
        "id": "V8DYLcV7FFpD"
      },
      "outputs": [],
      "source": [
        "def process_frame(frame):\n",
        "  # Carrega a imagem\n",
        "  im = cv2.imread(frame)\n",
        "  \n",
        "  # Divide o caminho do arquivo e obtém o nome do frame\n",
        "  nome_completo = frame.split('/')\n",
        "  nome = nome_completo[int(posicao_do_nome_frame)].split('.')\n",
        "  amostra = nome[0]\n",
        "\n",
        "  # Imprime informações do frame\n",
        "  print_frame_info(amostra)\n",
        "\n",
        "  # Cria uma cópia da imagem para desenhar os contornos\n",
        "  img_contours = im.copy()\n",
        "\n",
        "  # Converte a imagem para escala de cinza\n",
        "  image = cv2.cvtColor(im, cv2.COLOR_BGR2GRAY)\n",
        "\n",
        "  # Aplica uma série de filtros à imagem\n",
        "  sigma = apply_filters(image)\n",
        "\n",
        "  # Aplica uma limiarização à imagem filtrada\n",
        "  gradient_threshold = apply_threshold(sigma)\n",
        "\n",
        "  # Dilata a imagem limiarizada\n",
        "  gradient_threshold = dilate_image(gradient_threshold)\n",
        "\n",
        "  # Encontra os contornos na imagem dilatada\n",
        "  contours = find_contours(gradient_threshold)\n",
        "\n",
        "  # Processa cada contorno encontrado\n",
        "  resultados = process_contours(amostra, img_contours, contours, img_contours)\n",
        "\n",
        "  return resultados, amostra"
      ]
    },
    {
      "cell_type": "markdown",
      "metadata": {
        "id": "8QW1jewNAUde"
      },
      "source": [
        "# Base do Sistema:"
      ]
    },
    {
      "cell_type": "markdown",
      "source": [
        "## Endereço da imagem:"
      ],
      "metadata": {
        "id": "-PoBNzs8L87Q"
      }
    },
    {
      "cell_type": "code",
      "source": [
        "destino = '/content/drive/MyDrive/Pesquisa_ISD_IC/Validação/'"
      ],
      "metadata": {
        "id": "QWbepb9WMCTX"
      },
      "execution_count": 284,
      "outputs": []
    },
    {
      "cell_type": "markdown",
      "metadata": {
        "id": "GZ4UaP_yAktu"
      },
      "source": [
        "### Imagem Alvo:"
      ]
    },
    {
      "cell_type": "code",
      "execution_count": 285,
      "metadata": {
        "id": "nW5w0sVoJM9x"
      },
      "outputs": [],
      "source": [
        "frame = '/content/drive/MyDrive/Pesquisa_ISD_IC/Validação/Dia5-TTD-CCM549-Contexto2.jpg'"
      ]
    },
    {
      "cell_type": "code",
      "execution_count": 286,
      "metadata": {
        "id": "FRtLpZEYI08z"
      },
      "outputs": [],
      "source": [
        "posicao_do_nome_frame = 6"
      ]
    },
    {
      "cell_type": "markdown",
      "metadata": {
        "id": "LdSfJW7eFA-c"
      },
      "source": [
        "# Algoritmo Principal:"
      ]
    },
    {
      "cell_type": "code",
      "execution_count": null,
      "metadata": {
        "id": "5DNQHu4mJukK"
      },
      "outputs": [],
      "source": [
        "resultados, amostra = process_frame(frame)\n",
        "\n",
        "# Imprime o número de objetos encontrados\n",
        "print(resultados[1])\n",
        "\n",
        "# Exibe a imagem com os contornos encontrados\n",
        "cv2_imshow(resultados[0])\n",
        "\n",
        "output_path = os.path.join(destino, f\"{amostra}_bteste.jpg\")\n",
        "\n",
        "# Salvar a imagem resultante\n",
        "cv2.imwrite(output_path, resultados[0])\n",
        "\n",
        "# Chama a função create_dataset com o dataset gerado\n",
        "dados = create_dataset_image(resultados[2])\n",
        "\n",
        "output_path_data = os.path.join(destino, f\"{amostra}_data.csv\")\n",
        "\n",
        "# Salva o DataFrame em um arquivo CSV\n",
        "dados.to_csv(output_path_data, index=False)"
      ]
    },
    {
      "cell_type": "code",
      "source": [
        "resultados[0].shape"
      ],
      "metadata": {
        "colab": {
          "base_uri": "https://localhost:8080/"
        },
        "id": "aVBIIW9POFoX",
        "outputId": "7dae109d-0d7b-4114-a2c9-0b1fb3f6ea61"
      },
      "execution_count": 288,
      "outputs": [
        {
          "output_type": "execute_result",
          "data": {
            "text/plain": [
              "(720, 640, 3)"
            ]
          },
          "metadata": {},
          "execution_count": 288
        }
      ]
    },
    {
      "cell_type": "markdown",
      "source": [
        "As duas representações estão invertendo a ordem das dimensões da imagem em relação a altura e largura.\n",
        "\n",
        "No caso da notação \"Python: (480, 640, 3)\", os valores representam:\n",
        "\n",
        "480: A altura da imagem em pixels.\n",
        "640: A largura da imagem em pixels.\n",
        "3: O número de canais de cores da imagem (normalmente, vermelho, verde e azul).\n",
        "Na notação \"ImageJ: (640, 480, 3)\", ocorre a inversão das dimensões, então temos:\n",
        "\n",
        "640: A largura da imagem em pixels.\n",
        "480: A altura da imagem em pixels.\n",
        "3: O número de canais de cores da imagem.\n",
        "A diferença entre as ordens das dimensões pode ocorrer por diferentes convenções adotadas pelos softwares ou bibliotecas ao representar a imagem. É importante observar que a ordem das dimensões não afeta o conteúdo visual da imagem, apenas a forma como ela é interpretada e exibida pelos programas."
      ],
      "metadata": {
        "id": "J3pkd4P8PfRg"
      }
    },
    {
      "cell_type": "markdown",
      "source": [
        "# Mineração dos Dados:"
      ],
      "metadata": {
        "id": "QFeBbZ01LBjp"
      }
    },
    {
      "cell_type": "code",
      "source": [
        "dados"
      ],
      "metadata": {
        "id": "K1wXnIXLCK9P",
        "colab": {
          "base_uri": "https://localhost:8080/",
          "height": 226
        },
        "outputId": "ddbaeefa-ce46-45b4-b3d9-624d4cbd1010"
      },
      "execution_count": 289,
      "outputs": [
        {
          "output_type": "execute_result",
          "data": {
            "text/plain": [
              "                     attribute          Form    area  circularity     radius  \\\n",
              "0  Dia5-TTD-CCM549-Contexto2_1        circle  2917.5     0.406092  36.000000   \n",
              "1  Dia5-TTD-CCM549-Contexto2_2  Não Circular  3881.0     0.290981  45.703087   \n",
              "\n",
              "     x    y   w   h  cx_circle  cy_circle  cx_momentun  cy_momentun  \\\n",
              "0  190  321  69  62        224        352          222          352   \n",
              "1  337  319  74  71        372        355          374          353   \n",
              "\n",
              "   cx_vermelho  cy_vermelho  distance_green_blue  distance_red_blue  \\\n",
              "0          227          352             2.000000           5.000000   \n",
              "1          373          354             2.828427           1.414214   \n",
              "\n",
              "   distance_red_green  \n",
              "0            3.000000  \n",
              "1            1.414214  "
            ],
            "text/html": [
              "\n",
              "  <div id=\"df-e9dd58aa-2da4-4254-8129-e4bce075a221\">\n",
              "    <div class=\"colab-df-container\">\n",
              "      <div>\n",
              "<style scoped>\n",
              "    .dataframe tbody tr th:only-of-type {\n",
              "        vertical-align: middle;\n",
              "    }\n",
              "\n",
              "    .dataframe tbody tr th {\n",
              "        vertical-align: top;\n",
              "    }\n",
              "\n",
              "    .dataframe thead th {\n",
              "        text-align: right;\n",
              "    }\n",
              "</style>\n",
              "<table border=\"1\" class=\"dataframe\">\n",
              "  <thead>\n",
              "    <tr style=\"text-align: right;\">\n",
              "      <th></th>\n",
              "      <th>attribute</th>\n",
              "      <th>Form</th>\n",
              "      <th>area</th>\n",
              "      <th>circularity</th>\n",
              "      <th>radius</th>\n",
              "      <th>x</th>\n",
              "      <th>y</th>\n",
              "      <th>w</th>\n",
              "      <th>h</th>\n",
              "      <th>cx_circle</th>\n",
              "      <th>cy_circle</th>\n",
              "      <th>cx_momentun</th>\n",
              "      <th>cy_momentun</th>\n",
              "      <th>cx_vermelho</th>\n",
              "      <th>cy_vermelho</th>\n",
              "      <th>distance_green_blue</th>\n",
              "      <th>distance_red_blue</th>\n",
              "      <th>distance_red_green</th>\n",
              "    </tr>\n",
              "  </thead>\n",
              "  <tbody>\n",
              "    <tr>\n",
              "      <th>0</th>\n",
              "      <td>Dia5-TTD-CCM549-Contexto2_1</td>\n",
              "      <td>circle</td>\n",
              "      <td>2917.5</td>\n",
              "      <td>0.406092</td>\n",
              "      <td>36.000000</td>\n",
              "      <td>190</td>\n",
              "      <td>321</td>\n",
              "      <td>69</td>\n",
              "      <td>62</td>\n",
              "      <td>224</td>\n",
              "      <td>352</td>\n",
              "      <td>222</td>\n",
              "      <td>352</td>\n",
              "      <td>227</td>\n",
              "      <td>352</td>\n",
              "      <td>2.000000</td>\n",
              "      <td>5.000000</td>\n",
              "      <td>3.000000</td>\n",
              "    </tr>\n",
              "    <tr>\n",
              "      <th>1</th>\n",
              "      <td>Dia5-TTD-CCM549-Contexto2_2</td>\n",
              "      <td>Não Circular</td>\n",
              "      <td>3881.0</td>\n",
              "      <td>0.290981</td>\n",
              "      <td>45.703087</td>\n",
              "      <td>337</td>\n",
              "      <td>319</td>\n",
              "      <td>74</td>\n",
              "      <td>71</td>\n",
              "      <td>372</td>\n",
              "      <td>355</td>\n",
              "      <td>374</td>\n",
              "      <td>353</td>\n",
              "      <td>373</td>\n",
              "      <td>354</td>\n",
              "      <td>2.828427</td>\n",
              "      <td>1.414214</td>\n",
              "      <td>1.414214</td>\n",
              "    </tr>\n",
              "  </tbody>\n",
              "</table>\n",
              "</div>\n",
              "      <button class=\"colab-df-convert\" onclick=\"convertToInteractive('df-e9dd58aa-2da4-4254-8129-e4bce075a221')\"\n",
              "              title=\"Convert this dataframe to an interactive table.\"\n",
              "              style=\"display:none;\">\n",
              "        \n",
              "  <svg xmlns=\"http://www.w3.org/2000/svg\" height=\"24px\"viewBox=\"0 0 24 24\"\n",
              "       width=\"24px\">\n",
              "    <path d=\"M0 0h24v24H0V0z\" fill=\"none\"/>\n",
              "    <path d=\"M18.56 5.44l.94 2.06.94-2.06 2.06-.94-2.06-.94-.94-2.06-.94 2.06-2.06.94zm-11 1L8.5 8.5l.94-2.06 2.06-.94-2.06-.94L8.5 2.5l-.94 2.06-2.06.94zm10 10l.94 2.06.94-2.06 2.06-.94-2.06-.94-.94-2.06-.94 2.06-2.06.94z\"/><path d=\"M17.41 7.96l-1.37-1.37c-.4-.4-.92-.59-1.43-.59-.52 0-1.04.2-1.43.59L10.3 9.45l-7.72 7.72c-.78.78-.78 2.05 0 2.83L4 21.41c.39.39.9.59 1.41.59.51 0 1.02-.2 1.41-.59l7.78-7.78 2.81-2.81c.8-.78.8-2.07 0-2.86zM5.41 20L4 18.59l7.72-7.72 1.47 1.35L5.41 20z\"/>\n",
              "  </svg>\n",
              "      </button>\n",
              "      \n",
              "  <style>\n",
              "    .colab-df-container {\n",
              "      display:flex;\n",
              "      flex-wrap:wrap;\n",
              "      gap: 12px;\n",
              "    }\n",
              "\n",
              "    .colab-df-convert {\n",
              "      background-color: #E8F0FE;\n",
              "      border: none;\n",
              "      border-radius: 50%;\n",
              "      cursor: pointer;\n",
              "      display: none;\n",
              "      fill: #1967D2;\n",
              "      height: 32px;\n",
              "      padding: 0 0 0 0;\n",
              "      width: 32px;\n",
              "    }\n",
              "\n",
              "    .colab-df-convert:hover {\n",
              "      background-color: #E2EBFA;\n",
              "      box-shadow: 0px 1px 2px rgba(60, 64, 67, 0.3), 0px 1px 3px 1px rgba(60, 64, 67, 0.15);\n",
              "      fill: #174EA6;\n",
              "    }\n",
              "\n",
              "    [theme=dark] .colab-df-convert {\n",
              "      background-color: #3B4455;\n",
              "      fill: #D2E3FC;\n",
              "    }\n",
              "\n",
              "    [theme=dark] .colab-df-convert:hover {\n",
              "      background-color: #434B5C;\n",
              "      box-shadow: 0px 1px 3px 1px rgba(0, 0, 0, 0.15);\n",
              "      filter: drop-shadow(0px 1px 2px rgba(0, 0, 0, 0.3));\n",
              "      fill: #FFFFFF;\n",
              "    }\n",
              "  </style>\n",
              "\n",
              "      <script>\n",
              "        const buttonEl =\n",
              "          document.querySelector('#df-e9dd58aa-2da4-4254-8129-e4bce075a221 button.colab-df-convert');\n",
              "        buttonEl.style.display =\n",
              "          google.colab.kernel.accessAllowed ? 'block' : 'none';\n",
              "\n",
              "        async function convertToInteractive(key) {\n",
              "          const element = document.querySelector('#df-e9dd58aa-2da4-4254-8129-e4bce075a221');\n",
              "          const dataTable =\n",
              "            await google.colab.kernel.invokeFunction('convertToInteractive',\n",
              "                                                     [key], {});\n",
              "          if (!dataTable) return;\n",
              "\n",
              "          const docLinkHtml = 'Like what you see? Visit the ' +\n",
              "            '<a target=\"_blank\" href=https://colab.research.google.com/notebooks/data_table.ipynb>data table notebook</a>'\n",
              "            + ' to learn more about interactive tables.';\n",
              "          element.innerHTML = '';\n",
              "          dataTable['output_type'] = 'display_data';\n",
              "          await google.colab.output.renderOutput(dataTable, element);\n",
              "          const docLink = document.createElement('div');\n",
              "          docLink.innerHTML = docLinkHtml;\n",
              "          element.appendChild(docLink);\n",
              "        }\n",
              "      </script>\n",
              "    </div>\n",
              "  </div>\n",
              "  "
            ]
          },
          "metadata": {},
          "execution_count": 289
        }
      ]
    },
    {
      "cell_type": "code",
      "source": [
        "# Lista para armazenar os DataFrames de cada arquivo CSV\n",
        "dataframes = []\n",
        "\n",
        "# Percorre todos os arquivos na pasta\n",
        "for arquivo in os.listdir(destino):\n",
        "    if arquivo.endswith('.csv'):\n",
        "        # Caminho completo para o arquivo CSV\n",
        "        caminho_arquivo = os.path.join(destino, arquivo)\n",
        "        \n",
        "        # Carrega o arquivo CSV como DataFrame\n",
        "        df = pd.read_csv(caminho_arquivo)\n",
        "        \n",
        "        # Adiciona o DataFrame à lista\n",
        "        dataframes.append(df)\n",
        "\n",
        "# Concatena todos os DataFrames em um único DataFrame\n",
        "dataset_geral = pd.concat(dataframes, ignore_index=True)\n",
        "\n",
        "# Salva o DataFrame em um arquivo CSV\n",
        "dataset_geral.to_csv(destino + 'dataset_geral.csv', index=False)"
      ],
      "metadata": {
        "id": "yU0DN01nuyHc"
      },
      "execution_count": 291,
      "outputs": []
    },
    {
      "cell_type": "code",
      "source": [
        "dataset_geral.head()"
      ],
      "metadata": {
        "colab": {
          "base_uri": "https://localhost:8080/",
          "height": 424
        },
        "id": "Q47bAJvkvnWb",
        "outputId": "323a12b4-ce74-4d10-9b7d-f3deaab1c0b6"
      },
      "execution_count": 295,
      "outputs": [
        {
          "output_type": "execute_result",
          "data": {
            "text/plain": [
              "                       attribute    Form    area  circularity  radius    x  \\\n",
              "0  Dia2-Explo-CCM539-Contexto1_1  circle  7418.0     0.784758    51.0  718   \n",
              "1  Dia2-Explo-CCM539-Contexto1_2  circle  6854.0     0.517857    57.0  413   \n",
              "2  Dia2-Explo-CCF504-Contexto4_1  circle  3474.0     0.816731    36.0  412   \n",
              "3  Dia2-Explo-CCF504-Contexto4_2  circle  5015.0     0.656527    47.0  166   \n",
              "4  Dia2-Explo-CCF508-Contexto4_1  circle  3429.5     0.807964    35.0  412   \n",
              "\n",
              "     y    w   h  cx_circle  cy_circle  cx_momentun  cy_momentun  cx_vermelho  \\\n",
              "0  316   96  97        764        363          764        363.0          764   \n",
              "1  314  105  89        465        353          460        355.0          466   \n",
              "2  211   66  66        442        240          444        243.0          444   \n",
              "3  199   81  93        204        244          204        249.0          204   \n",
              "4  210   67  65        443        241          444        242.0          445   \n",
              "\n",
              "   cy_vermelho  distance_green_blue  distance_red_blue  distance_red_green  \n",
              "0          361             0.000000           2.000000            2.000000  \n",
              "1          355             5.385165           6.000000            2.236068  \n",
              "2          243             3.605551           0.000000            3.605551  \n",
              "3          253             5.000000           4.000000            9.000000  \n",
              "4          243             1.414214           1.414214            2.828427  "
            ],
            "text/html": [
              "\n",
              "  <div id=\"df-d1d8bd9f-922e-4fd8-95da-13a7b853c87a\">\n",
              "    <div class=\"colab-df-container\">\n",
              "      <div>\n",
              "<style scoped>\n",
              "    .dataframe tbody tr th:only-of-type {\n",
              "        vertical-align: middle;\n",
              "    }\n",
              "\n",
              "    .dataframe tbody tr th {\n",
              "        vertical-align: top;\n",
              "    }\n",
              "\n",
              "    .dataframe thead th {\n",
              "        text-align: right;\n",
              "    }\n",
              "</style>\n",
              "<table border=\"1\" class=\"dataframe\">\n",
              "  <thead>\n",
              "    <tr style=\"text-align: right;\">\n",
              "      <th></th>\n",
              "      <th>attribute</th>\n",
              "      <th>Form</th>\n",
              "      <th>area</th>\n",
              "      <th>circularity</th>\n",
              "      <th>radius</th>\n",
              "      <th>x</th>\n",
              "      <th>y</th>\n",
              "      <th>w</th>\n",
              "      <th>h</th>\n",
              "      <th>cx_circle</th>\n",
              "      <th>cy_circle</th>\n",
              "      <th>cx_momentun</th>\n",
              "      <th>cy_momentun</th>\n",
              "      <th>cx_vermelho</th>\n",
              "      <th>cy_vermelho</th>\n",
              "      <th>distance_green_blue</th>\n",
              "      <th>distance_red_blue</th>\n",
              "      <th>distance_red_green</th>\n",
              "    </tr>\n",
              "  </thead>\n",
              "  <tbody>\n",
              "    <tr>\n",
              "      <th>0</th>\n",
              "      <td>Dia2-Explo-CCM539-Contexto1_1</td>\n",
              "      <td>circle</td>\n",
              "      <td>7418.0</td>\n",
              "      <td>0.784758</td>\n",
              "      <td>51.0</td>\n",
              "      <td>718</td>\n",
              "      <td>316</td>\n",
              "      <td>96</td>\n",
              "      <td>97</td>\n",
              "      <td>764</td>\n",
              "      <td>363</td>\n",
              "      <td>764</td>\n",
              "      <td>363.0</td>\n",
              "      <td>764</td>\n",
              "      <td>361</td>\n",
              "      <td>0.000000</td>\n",
              "      <td>2.000000</td>\n",
              "      <td>2.000000</td>\n",
              "    </tr>\n",
              "    <tr>\n",
              "      <th>1</th>\n",
              "      <td>Dia2-Explo-CCM539-Contexto1_2</td>\n",
              "      <td>circle</td>\n",
              "      <td>6854.0</td>\n",
              "      <td>0.517857</td>\n",
              "      <td>57.0</td>\n",
              "      <td>413</td>\n",
              "      <td>314</td>\n",
              "      <td>105</td>\n",
              "      <td>89</td>\n",
              "      <td>465</td>\n",
              "      <td>353</td>\n",
              "      <td>460</td>\n",
              "      <td>355.0</td>\n",
              "      <td>466</td>\n",
              "      <td>355</td>\n",
              "      <td>5.385165</td>\n",
              "      <td>6.000000</td>\n",
              "      <td>2.236068</td>\n",
              "    </tr>\n",
              "    <tr>\n",
              "      <th>2</th>\n",
              "      <td>Dia2-Explo-CCF504-Contexto4_1</td>\n",
              "      <td>circle</td>\n",
              "      <td>3474.0</td>\n",
              "      <td>0.816731</td>\n",
              "      <td>36.0</td>\n",
              "      <td>412</td>\n",
              "      <td>211</td>\n",
              "      <td>66</td>\n",
              "      <td>66</td>\n",
              "      <td>442</td>\n",
              "      <td>240</td>\n",
              "      <td>444</td>\n",
              "      <td>243.0</td>\n",
              "      <td>444</td>\n",
              "      <td>243</td>\n",
              "      <td>3.605551</td>\n",
              "      <td>0.000000</td>\n",
              "      <td>3.605551</td>\n",
              "    </tr>\n",
              "    <tr>\n",
              "      <th>3</th>\n",
              "      <td>Dia2-Explo-CCF504-Contexto4_2</td>\n",
              "      <td>circle</td>\n",
              "      <td>5015.0</td>\n",
              "      <td>0.656527</td>\n",
              "      <td>47.0</td>\n",
              "      <td>166</td>\n",
              "      <td>199</td>\n",
              "      <td>81</td>\n",
              "      <td>93</td>\n",
              "      <td>204</td>\n",
              "      <td>244</td>\n",
              "      <td>204</td>\n",
              "      <td>249.0</td>\n",
              "      <td>204</td>\n",
              "      <td>253</td>\n",
              "      <td>5.000000</td>\n",
              "      <td>4.000000</td>\n",
              "      <td>9.000000</td>\n",
              "    </tr>\n",
              "    <tr>\n",
              "      <th>4</th>\n",
              "      <td>Dia2-Explo-CCF508-Contexto4_1</td>\n",
              "      <td>circle</td>\n",
              "      <td>3429.5</td>\n",
              "      <td>0.807964</td>\n",
              "      <td>35.0</td>\n",
              "      <td>412</td>\n",
              "      <td>210</td>\n",
              "      <td>67</td>\n",
              "      <td>65</td>\n",
              "      <td>443</td>\n",
              "      <td>241</td>\n",
              "      <td>444</td>\n",
              "      <td>242.0</td>\n",
              "      <td>445</td>\n",
              "      <td>243</td>\n",
              "      <td>1.414214</td>\n",
              "      <td>1.414214</td>\n",
              "      <td>2.828427</td>\n",
              "    </tr>\n",
              "  </tbody>\n",
              "</table>\n",
              "</div>\n",
              "      <button class=\"colab-df-convert\" onclick=\"convertToInteractive('df-d1d8bd9f-922e-4fd8-95da-13a7b853c87a')\"\n",
              "              title=\"Convert this dataframe to an interactive table.\"\n",
              "              style=\"display:none;\">\n",
              "        \n",
              "  <svg xmlns=\"http://www.w3.org/2000/svg\" height=\"24px\"viewBox=\"0 0 24 24\"\n",
              "       width=\"24px\">\n",
              "    <path d=\"M0 0h24v24H0V0z\" fill=\"none\"/>\n",
              "    <path d=\"M18.56 5.44l.94 2.06.94-2.06 2.06-.94-2.06-.94-.94-2.06-.94 2.06-2.06.94zm-11 1L8.5 8.5l.94-2.06 2.06-.94-2.06-.94L8.5 2.5l-.94 2.06-2.06.94zm10 10l.94 2.06.94-2.06 2.06-.94-2.06-.94-.94-2.06-.94 2.06-2.06.94z\"/><path d=\"M17.41 7.96l-1.37-1.37c-.4-.4-.92-.59-1.43-.59-.52 0-1.04.2-1.43.59L10.3 9.45l-7.72 7.72c-.78.78-.78 2.05 0 2.83L4 21.41c.39.39.9.59 1.41.59.51 0 1.02-.2 1.41-.59l7.78-7.78 2.81-2.81c.8-.78.8-2.07 0-2.86zM5.41 20L4 18.59l7.72-7.72 1.47 1.35L5.41 20z\"/>\n",
              "  </svg>\n",
              "      </button>\n",
              "      \n",
              "  <style>\n",
              "    .colab-df-container {\n",
              "      display:flex;\n",
              "      flex-wrap:wrap;\n",
              "      gap: 12px;\n",
              "    }\n",
              "\n",
              "    .colab-df-convert {\n",
              "      background-color: #E8F0FE;\n",
              "      border: none;\n",
              "      border-radius: 50%;\n",
              "      cursor: pointer;\n",
              "      display: none;\n",
              "      fill: #1967D2;\n",
              "      height: 32px;\n",
              "      padding: 0 0 0 0;\n",
              "      width: 32px;\n",
              "    }\n",
              "\n",
              "    .colab-df-convert:hover {\n",
              "      background-color: #E2EBFA;\n",
              "      box-shadow: 0px 1px 2px rgba(60, 64, 67, 0.3), 0px 1px 3px 1px rgba(60, 64, 67, 0.15);\n",
              "      fill: #174EA6;\n",
              "    }\n",
              "\n",
              "    [theme=dark] .colab-df-convert {\n",
              "      background-color: #3B4455;\n",
              "      fill: #D2E3FC;\n",
              "    }\n",
              "\n",
              "    [theme=dark] .colab-df-convert:hover {\n",
              "      background-color: #434B5C;\n",
              "      box-shadow: 0px 1px 3px 1px rgba(0, 0, 0, 0.15);\n",
              "      filter: drop-shadow(0px 1px 2px rgba(0, 0, 0, 0.3));\n",
              "      fill: #FFFFFF;\n",
              "    }\n",
              "  </style>\n",
              "\n",
              "      <script>\n",
              "        const buttonEl =\n",
              "          document.querySelector('#df-d1d8bd9f-922e-4fd8-95da-13a7b853c87a button.colab-df-convert');\n",
              "        buttonEl.style.display =\n",
              "          google.colab.kernel.accessAllowed ? 'block' : 'none';\n",
              "\n",
              "        async function convertToInteractive(key) {\n",
              "          const element = document.querySelector('#df-d1d8bd9f-922e-4fd8-95da-13a7b853c87a');\n",
              "          const dataTable =\n",
              "            await google.colab.kernel.invokeFunction('convertToInteractive',\n",
              "                                                     [key], {});\n",
              "          if (!dataTable) return;\n",
              "\n",
              "          const docLinkHtml = 'Like what you see? Visit the ' +\n",
              "            '<a target=\"_blank\" href=https://colab.research.google.com/notebooks/data_table.ipynb>data table notebook</a>'\n",
              "            + ' to learn more about interactive tables.';\n",
              "          element.innerHTML = '';\n",
              "          dataTable['output_type'] = 'display_data';\n",
              "          await google.colab.output.renderOutput(dataTable, element);\n",
              "          const docLink = document.createElement('div');\n",
              "          docLink.innerHTML = docLinkHtml;\n",
              "          element.appendChild(docLink);\n",
              "        }\n",
              "      </script>\n",
              "    </div>\n",
              "  </div>\n",
              "  "
            ]
          },
          "metadata": {},
          "execution_count": 295
        }
      ]
    },
    {
      "cell_type": "code",
      "source": [
        "# Obtém estatísticas descritivas do dataset\n",
        "print(\"\\nEstatísticas descritivas do dataset:\")\n",
        "dataset_geral.describe()"
      ],
      "metadata": {
        "colab": {
          "base_uri": "https://localhost:8080/",
          "height": 399
        },
        "id": "jixNqEehvnvq",
        "outputId": "64b17ac3-0059-4e96-d110-66c7ffeae43d"
      },
      "execution_count": 297,
      "outputs": [
        {
          "output_type": "stream",
          "name": "stdout",
          "text": [
            "\n",
            "Estatísticas descritivas do dataset:\n"
          ]
        },
        {
          "output_type": "execute_result",
          "data": {
            "text/plain": [
              "               area  circularity     radius           x           y  \\\n",
              "count     60.000000    60.000000  60.000000   60.000000   60.000000   \n",
              "mean    4369.950000     0.579275  43.449419  319.700000  294.983333   \n",
              "std     1801.271683     0.144360   8.062700  133.947789   43.843903   \n",
              "min     2286.000000     0.235105  32.000000  166.000000  195.000000   \n",
              "25%     2898.375000     0.494411  36.000000  203.750000  296.000000   \n",
              "50%     4365.250000     0.628510  44.000000  353.000000  314.000000   \n",
              "75%     5133.875000     0.683385  47.798338  381.250000  320.250000   \n",
              "max    12199.500000     0.816731  70.000000  718.000000  341.000000   \n",
              "\n",
              "                w           h   cx_circle   cy_circle  cx_momentun  \\\n",
              "count   60.000000   60.000000   60.000000   60.000000    60.000000   \n",
              "mean    76.566667   75.433333  356.883333  330.650000   356.983333   \n",
              "std     15.062994   14.461365  136.915301   42.612891   137.232142   \n",
              "min     53.000000   57.000000  204.000000  239.000000   204.000000   \n",
              "25%     66.750000   65.750000  238.500000  335.750000   241.000000   \n",
              "50%     75.000000   71.000000  382.500000  349.500000   383.500000   \n",
              "75%     83.000000   84.250000  417.750000  353.250000   417.750000   \n",
              "max    127.000000  135.000000  764.000000  385.000000   764.000000   \n",
              "\n",
              "       cy_momentun  cx_vermelho  cy_vermelho  distance_green_blue  \\\n",
              "count    59.000000    60.000000    60.000000            60.000000   \n",
              "mean    333.474576   357.283333   332.833333             3.330124   \n",
              "std      41.102628   136.475253    41.491746             1.759317   \n",
              "min     238.000000   204.000000   236.000000             0.000000   \n",
              "25%     337.000000   239.000000   337.750000             2.236068   \n",
              "50%     350.000000   380.500000   351.000000             3.000000   \n",
              "75%     355.000000   417.500000   356.000000             4.123106   \n",
              "max     386.000000   764.000000   382.000000             9.219544   \n",
              "\n",
              "       distance_red_blue  distance_red_green  \n",
              "count          60.000000           60.000000  \n",
              "mean            3.926287            4.408123  \n",
              "std             3.089227            2.991817  \n",
              "min             0.000000            1.000000  \n",
              "25%             2.000000            2.236068  \n",
              "50%             2.914214            3.605551  \n",
              "75%             5.099020            5.385165  \n",
              "max            17.691806           15.264338  "
            ],
            "text/html": [
              "\n",
              "  <div id=\"df-180ee7b5-646e-4f70-9454-1042b8920d63\">\n",
              "    <div class=\"colab-df-container\">\n",
              "      <div>\n",
              "<style scoped>\n",
              "    .dataframe tbody tr th:only-of-type {\n",
              "        vertical-align: middle;\n",
              "    }\n",
              "\n",
              "    .dataframe tbody tr th {\n",
              "        vertical-align: top;\n",
              "    }\n",
              "\n",
              "    .dataframe thead th {\n",
              "        text-align: right;\n",
              "    }\n",
              "</style>\n",
              "<table border=\"1\" class=\"dataframe\">\n",
              "  <thead>\n",
              "    <tr style=\"text-align: right;\">\n",
              "      <th></th>\n",
              "      <th>area</th>\n",
              "      <th>circularity</th>\n",
              "      <th>radius</th>\n",
              "      <th>x</th>\n",
              "      <th>y</th>\n",
              "      <th>w</th>\n",
              "      <th>h</th>\n",
              "      <th>cx_circle</th>\n",
              "      <th>cy_circle</th>\n",
              "      <th>cx_momentun</th>\n",
              "      <th>cy_momentun</th>\n",
              "      <th>cx_vermelho</th>\n",
              "      <th>cy_vermelho</th>\n",
              "      <th>distance_green_blue</th>\n",
              "      <th>distance_red_blue</th>\n",
              "      <th>distance_red_green</th>\n",
              "    </tr>\n",
              "  </thead>\n",
              "  <tbody>\n",
              "    <tr>\n",
              "      <th>count</th>\n",
              "      <td>60.000000</td>\n",
              "      <td>60.000000</td>\n",
              "      <td>60.000000</td>\n",
              "      <td>60.000000</td>\n",
              "      <td>60.000000</td>\n",
              "      <td>60.000000</td>\n",
              "      <td>60.000000</td>\n",
              "      <td>60.000000</td>\n",
              "      <td>60.000000</td>\n",
              "      <td>60.000000</td>\n",
              "      <td>59.000000</td>\n",
              "      <td>60.000000</td>\n",
              "      <td>60.000000</td>\n",
              "      <td>60.000000</td>\n",
              "      <td>60.000000</td>\n",
              "      <td>60.000000</td>\n",
              "    </tr>\n",
              "    <tr>\n",
              "      <th>mean</th>\n",
              "      <td>4369.950000</td>\n",
              "      <td>0.579275</td>\n",
              "      <td>43.449419</td>\n",
              "      <td>319.700000</td>\n",
              "      <td>294.983333</td>\n",
              "      <td>76.566667</td>\n",
              "      <td>75.433333</td>\n",
              "      <td>356.883333</td>\n",
              "      <td>330.650000</td>\n",
              "      <td>356.983333</td>\n",
              "      <td>333.474576</td>\n",
              "      <td>357.283333</td>\n",
              "      <td>332.833333</td>\n",
              "      <td>3.330124</td>\n",
              "      <td>3.926287</td>\n",
              "      <td>4.408123</td>\n",
              "    </tr>\n",
              "    <tr>\n",
              "      <th>std</th>\n",
              "      <td>1801.271683</td>\n",
              "      <td>0.144360</td>\n",
              "      <td>8.062700</td>\n",
              "      <td>133.947789</td>\n",
              "      <td>43.843903</td>\n",
              "      <td>15.062994</td>\n",
              "      <td>14.461365</td>\n",
              "      <td>136.915301</td>\n",
              "      <td>42.612891</td>\n",
              "      <td>137.232142</td>\n",
              "      <td>41.102628</td>\n",
              "      <td>136.475253</td>\n",
              "      <td>41.491746</td>\n",
              "      <td>1.759317</td>\n",
              "      <td>3.089227</td>\n",
              "      <td>2.991817</td>\n",
              "    </tr>\n",
              "    <tr>\n",
              "      <th>min</th>\n",
              "      <td>2286.000000</td>\n",
              "      <td>0.235105</td>\n",
              "      <td>32.000000</td>\n",
              "      <td>166.000000</td>\n",
              "      <td>195.000000</td>\n",
              "      <td>53.000000</td>\n",
              "      <td>57.000000</td>\n",
              "      <td>204.000000</td>\n",
              "      <td>239.000000</td>\n",
              "      <td>204.000000</td>\n",
              "      <td>238.000000</td>\n",
              "      <td>204.000000</td>\n",
              "      <td>236.000000</td>\n",
              "      <td>0.000000</td>\n",
              "      <td>0.000000</td>\n",
              "      <td>1.000000</td>\n",
              "    </tr>\n",
              "    <tr>\n",
              "      <th>25%</th>\n",
              "      <td>2898.375000</td>\n",
              "      <td>0.494411</td>\n",
              "      <td>36.000000</td>\n",
              "      <td>203.750000</td>\n",
              "      <td>296.000000</td>\n",
              "      <td>66.750000</td>\n",
              "      <td>65.750000</td>\n",
              "      <td>238.500000</td>\n",
              "      <td>335.750000</td>\n",
              "      <td>241.000000</td>\n",
              "      <td>337.000000</td>\n",
              "      <td>239.000000</td>\n",
              "      <td>337.750000</td>\n",
              "      <td>2.236068</td>\n",
              "      <td>2.000000</td>\n",
              "      <td>2.236068</td>\n",
              "    </tr>\n",
              "    <tr>\n",
              "      <th>50%</th>\n",
              "      <td>4365.250000</td>\n",
              "      <td>0.628510</td>\n",
              "      <td>44.000000</td>\n",
              "      <td>353.000000</td>\n",
              "      <td>314.000000</td>\n",
              "      <td>75.000000</td>\n",
              "      <td>71.000000</td>\n",
              "      <td>382.500000</td>\n",
              "      <td>349.500000</td>\n",
              "      <td>383.500000</td>\n",
              "      <td>350.000000</td>\n",
              "      <td>380.500000</td>\n",
              "      <td>351.000000</td>\n",
              "      <td>3.000000</td>\n",
              "      <td>2.914214</td>\n",
              "      <td>3.605551</td>\n",
              "    </tr>\n",
              "    <tr>\n",
              "      <th>75%</th>\n",
              "      <td>5133.875000</td>\n",
              "      <td>0.683385</td>\n",
              "      <td>47.798338</td>\n",
              "      <td>381.250000</td>\n",
              "      <td>320.250000</td>\n",
              "      <td>83.000000</td>\n",
              "      <td>84.250000</td>\n",
              "      <td>417.750000</td>\n",
              "      <td>353.250000</td>\n",
              "      <td>417.750000</td>\n",
              "      <td>355.000000</td>\n",
              "      <td>417.500000</td>\n",
              "      <td>356.000000</td>\n",
              "      <td>4.123106</td>\n",
              "      <td>5.099020</td>\n",
              "      <td>5.385165</td>\n",
              "    </tr>\n",
              "    <tr>\n",
              "      <th>max</th>\n",
              "      <td>12199.500000</td>\n",
              "      <td>0.816731</td>\n",
              "      <td>70.000000</td>\n",
              "      <td>718.000000</td>\n",
              "      <td>341.000000</td>\n",
              "      <td>127.000000</td>\n",
              "      <td>135.000000</td>\n",
              "      <td>764.000000</td>\n",
              "      <td>385.000000</td>\n",
              "      <td>764.000000</td>\n",
              "      <td>386.000000</td>\n",
              "      <td>764.000000</td>\n",
              "      <td>382.000000</td>\n",
              "      <td>9.219544</td>\n",
              "      <td>17.691806</td>\n",
              "      <td>15.264338</td>\n",
              "    </tr>\n",
              "  </tbody>\n",
              "</table>\n",
              "</div>\n",
              "      <button class=\"colab-df-convert\" onclick=\"convertToInteractive('df-180ee7b5-646e-4f70-9454-1042b8920d63')\"\n",
              "              title=\"Convert this dataframe to an interactive table.\"\n",
              "              style=\"display:none;\">\n",
              "        \n",
              "  <svg xmlns=\"http://www.w3.org/2000/svg\" height=\"24px\"viewBox=\"0 0 24 24\"\n",
              "       width=\"24px\">\n",
              "    <path d=\"M0 0h24v24H0V0z\" fill=\"none\"/>\n",
              "    <path d=\"M18.56 5.44l.94 2.06.94-2.06 2.06-.94-2.06-.94-.94-2.06-.94 2.06-2.06.94zm-11 1L8.5 8.5l.94-2.06 2.06-.94-2.06-.94L8.5 2.5l-.94 2.06-2.06.94zm10 10l.94 2.06.94-2.06 2.06-.94-2.06-.94-.94-2.06-.94 2.06-2.06.94z\"/><path d=\"M17.41 7.96l-1.37-1.37c-.4-.4-.92-.59-1.43-.59-.52 0-1.04.2-1.43.59L10.3 9.45l-7.72 7.72c-.78.78-.78 2.05 0 2.83L4 21.41c.39.39.9.59 1.41.59.51 0 1.02-.2 1.41-.59l7.78-7.78 2.81-2.81c.8-.78.8-2.07 0-2.86zM5.41 20L4 18.59l7.72-7.72 1.47 1.35L5.41 20z\"/>\n",
              "  </svg>\n",
              "      </button>\n",
              "      \n",
              "  <style>\n",
              "    .colab-df-container {\n",
              "      display:flex;\n",
              "      flex-wrap:wrap;\n",
              "      gap: 12px;\n",
              "    }\n",
              "\n",
              "    .colab-df-convert {\n",
              "      background-color: #E8F0FE;\n",
              "      border: none;\n",
              "      border-radius: 50%;\n",
              "      cursor: pointer;\n",
              "      display: none;\n",
              "      fill: #1967D2;\n",
              "      height: 32px;\n",
              "      padding: 0 0 0 0;\n",
              "      width: 32px;\n",
              "    }\n",
              "\n",
              "    .colab-df-convert:hover {\n",
              "      background-color: #E2EBFA;\n",
              "      box-shadow: 0px 1px 2px rgba(60, 64, 67, 0.3), 0px 1px 3px 1px rgba(60, 64, 67, 0.15);\n",
              "      fill: #174EA6;\n",
              "    }\n",
              "\n",
              "    [theme=dark] .colab-df-convert {\n",
              "      background-color: #3B4455;\n",
              "      fill: #D2E3FC;\n",
              "    }\n",
              "\n",
              "    [theme=dark] .colab-df-convert:hover {\n",
              "      background-color: #434B5C;\n",
              "      box-shadow: 0px 1px 3px 1px rgba(0, 0, 0, 0.15);\n",
              "      filter: drop-shadow(0px 1px 2px rgba(0, 0, 0, 0.3));\n",
              "      fill: #FFFFFF;\n",
              "    }\n",
              "  </style>\n",
              "\n",
              "      <script>\n",
              "        const buttonEl =\n",
              "          document.querySelector('#df-180ee7b5-646e-4f70-9454-1042b8920d63 button.colab-df-convert');\n",
              "        buttonEl.style.display =\n",
              "          google.colab.kernel.accessAllowed ? 'block' : 'none';\n",
              "\n",
              "        async function convertToInteractive(key) {\n",
              "          const element = document.querySelector('#df-180ee7b5-646e-4f70-9454-1042b8920d63');\n",
              "          const dataTable =\n",
              "            await google.colab.kernel.invokeFunction('convertToInteractive',\n",
              "                                                     [key], {});\n",
              "          if (!dataTable) return;\n",
              "\n",
              "          const docLinkHtml = 'Like what you see? Visit the ' +\n",
              "            '<a target=\"_blank\" href=https://colab.research.google.com/notebooks/data_table.ipynb>data table notebook</a>'\n",
              "            + ' to learn more about interactive tables.';\n",
              "          element.innerHTML = '';\n",
              "          dataTable['output_type'] = 'display_data';\n",
              "          await google.colab.output.renderOutput(dataTable, element);\n",
              "          const docLink = document.createElement('div');\n",
              "          docLink.innerHTML = docLinkHtml;\n",
              "          element.appendChild(docLink);\n",
              "        }\n",
              "      </script>\n",
              "    </div>\n",
              "  </div>\n",
              "  "
            ]
          },
          "metadata": {},
          "execution_count": 297
        }
      ]
    },
    {
      "cell_type": "code",
      "source": [
        "# Plota um histograma da área dos objetos\n",
        "plt.hist(dataset_geral['area'], bins=20)\n",
        "plt.xlabel('Área')\n",
        "plt.ylabel('Frequência')\n",
        "plt.title('Histograma da Área dos Objetos')\n",
        "plt.show()"
      ],
      "metadata": {
        "colab": {
          "base_uri": "https://localhost:8080/",
          "height": 474
        },
        "id": "TvAlGC2Fvsgy",
        "outputId": "07a46dea-35dc-49d6-99a1-65acd4dc585f"
      },
      "execution_count": 298,
      "outputs": [
        {
          "output_type": "display_data",
          "data": {
            "text/plain": [
              "<Figure size 640x480 with 1 Axes>"
            ],
            "image/png": "[encoded data removed]"
          },
          "metadata": {}
        }
      ]
    },
    {
      "cell_type": "code",
      "source": [
        "# Plota um scatter plot da circularidade em relação à área\n",
        "plt.scatter(dataset_geral['area'], dataset_geral['circularity'])\n",
        "plt.xlabel('Área')\n",
        "plt.ylabel('Circularidade')\n",
        "plt.title('Scatter Plot da Circularidade em Relação à Área')\n",
        "plt.show()"
      ],
      "metadata": {
        "colab": {
          "base_uri": "https://localhost:8080/",
          "height": 474
        },
        "id": "fbg_OD2gvveR",
        "outputId": "c5e1a3b7-effd-4288-c7fb-c2064eba2fdf"
      },
      "execution_count": 299,
      "outputs": [
        {
          "output_type": "display_data",
          "data": {
            "text/plain": [
              "<Figure size 640x480 with 1 Axes>"
            ],
            "image/png": "[encoded data removed]"
          },
          "metadata": {}
        }
      ]
    },
    {
      "cell_type": "code",
      "source": [
        "# Plota um scatter plot da circularidade em relação à distancia entre os pontos verde e azul\n",
        "plt.scatter(dataset_geral['area'], dataset_geral['distance_green_blue'])\n",
        "plt.xlabel('Área')\n",
        "plt.ylabel('Distancia Azul e Verde')\n",
        "plt.title('Scatter Plot da Distancia dos pontos em Relação à Área')\n",
        "plt.show()"
      ],
      "metadata": {
        "colab": {
          "base_uri": "https://localhost:8080/",
          "height": 474
        },
        "id": "LSCdq2yUv0oy",
        "outputId": "5afa95b7-8b5c-441f-eec4-7a1c1263608b"
      },
      "execution_count": 300,
      "outputs": [
        {
          "output_type": "display_data",
          "data": {
            "text/plain": [
              "<Figure size 640x480 with 1 Axes>"
            ],
            "image/png": "[encoded data removed]"
          },
          "metadata": {}
        }
      ]
    },
    {
      "cell_type": "code",
      "source": [
        "# Filtra os objetos com área acima de um limiar\n",
        "limiar_area = 5000\n",
        "objetos_grandes = dataset_geral[dataset_geral['area'] > limiar_area]\n",
        "print(f\"\\nNúmero de objetos com área acima de {limiar_area}: {len(objetos_grandes)}\")"
      ],
      "metadata": {
        "colab": {
          "base_uri": "https://localhost:8080/"
        },
        "id": "FHlMvBQ7wF4C",
        "outputId": "8872d468-3201-477e-88b5-6d3b1d9643d3"
      },
      "execution_count": 301,
      "outputs": [
        {
          "output_type": "stream",
          "name": "stdout",
          "text": [
            "\n",
            "Número de objetos com área acima de 5000: 21\n"
          ]
        }
      ]
    },
    {
      "cell_type": "code",
      "source": [
        "# Calcula a média da distância entre as cores verde e azul\n",
        "media_dist_green_blue = dataset_geral['distance_green_blue'].mean()\n",
        "print(f\"\\nMédia da distância entre verde e azul: {media_dist_green_blue}\")"
      ],
      "metadata": {
        "colab": {
          "base_uri": "https://localhost:8080/"
        },
        "id": "BdAyxbflwMWS",
        "outputId": "0d5e55af-f69f-4a23-ca91-490bf0ef4e17"
      },
      "execution_count": 302,
      "outputs": [
        {
          "output_type": "stream",
          "name": "stdout",
          "text": [
            "\n",
            "Média da distância entre verde e azul: 3.3301238628085232\n"
          ]
        }
      ]
    },
    {
      "cell_type": "code",
      "source": [
        "# Calcula a média da distância entre as cores vermelho e azul\n",
        "media_dist_red_gree = dataset_geral['distance_red_green'].mean()\n",
        "print(f\"\\nMédia da distância entre vermelho e azul: {media_dist_red_gree}\")"
      ],
      "metadata": {
        "colab": {
          "base_uri": "https://localhost:8080/"
        },
        "id": "QIGmsJPwwM1y",
        "outputId": "f96fde7f-f8b2-414e-9cbf-8e71971973af"
      },
      "execution_count": 303,
      "outputs": [
        {
          "output_type": "stream",
          "name": "stdout",
          "text": [
            "\n",
            "Média da distância entre vermelho e azul: 4.408122579627634\n"
          ]
        }
      ]
    },
    {
      "cell_type": "code",
      "source": [
        "# Calcula a média da distância entre as cores vermelho e verde\n",
        "media_dist_red_blue = dataset_geral['distance_red_blue'].mean()\n",
        "print(f\"\\nMédia da distância entre vermelho e verde: {media_dist_red_blue}\")"
      ],
      "metadata": {
        "colab": {
          "base_uri": "https://localhost:8080/"
        },
        "id": "Wn0EpVfywNMq",
        "outputId": "99f6d183-f208-4dc9-a02c-a8b5ef178b8d"
      },
      "execution_count": 304,
      "outputs": [
        {
          "output_type": "stream",
          "name": "stdout",
          "text": [
            "\n",
            "Média da distância entre vermelho e verde: 3.926287231026564\n"
          ]
        }
      ]
    },
    {
      "cell_type": "code",
      "source": [
        "# Calcula a correlação entre as colunas 'radius' e 'circularity'\n",
        "correlacao_radius_circularity = dataset_geral['radius'].corr(dataset_geral['circularity'])\n",
        "print(f\"\\nCorrelação entre radius e circularity: {correlacao_radius_circularity}\")"
      ],
      "metadata": {
        "colab": {
          "base_uri": "https://localhost:8080/"
        },
        "id": "kbBjUjAPwrhL",
        "outputId": "964bd026-8a40-4674-ddf2-0d13231ab2a0"
      },
      "execution_count": 305,
      "outputs": [
        {
          "output_type": "stream",
          "name": "stdout",
          "text": [
            "\n",
            "Correlação entre radius e circularity: 0.09078189691965352\n"
          ]
        }
      ]
    },
    {
      "cell_type": "code",
      "source": [
        "# Acesse a coluna \"distance\" do DataFrame\n",
        "coluna_distance = dataset_geral['distance_red_green']\n",
        "\n",
        "# Crie um boxplot da coluna \"distance\"\n",
        "plt.boxplot(coluna_distance)\n",
        "\n",
        "# Adicione rótulos e título ao gráfico\n",
        "plt.xlabel('Coluna \"distance\"')\n",
        "plt.ylabel('Valores')\n",
        "plt.title('Boxplot da coluna \"distance\"')\n",
        "\n",
        "# Exiba o gráfico\n",
        "plt.show()"
      ],
      "metadata": {
        "colab": {
          "base_uri": "https://localhost:8080/",
          "height": 472
        },
        "id": "V7MeGmKIxVay",
        "outputId": "9d85b82c-9025-48a6-b53e-38295b67e008"
      },
      "execution_count": 307,
      "outputs": [
        {
          "output_type": "display_data",
          "data": {
            "text/plain": [
              "<Figure size 640x480 with 1 Axes>"
            ],
            "image/png": "[encoded data removed]"
          },
          "metadata": {}
        }
      ]
    },
    {
      "cell_type": "code",
      "source": [
        "# Acesse a coluna \"distance\" do DataFrame\n",
        "coluna_distance = dataset_geral['distance_red_blue']\n",
        "\n",
        "# Crie um boxplot da coluna \"distance\"\n",
        "plt.boxplot(coluna_distance)\n",
        "\n",
        "# Adicione rótulos e título ao gráfico\n",
        "plt.xlabel('Coluna \"distance\"')\n",
        "plt.ylabel('Valores')\n",
        "plt.title('Boxplot da coluna \"distance\"')\n",
        "\n",
        "# Exiba o gráfico\n",
        "plt.show()"
      ],
      "metadata": {
        "colab": {
          "base_uri": "https://localhost:8080/",
          "height": 472
        },
        "id": "G5mcqfpOxLDK",
        "outputId": "5ddcb313-ad0c-4797-df99-6dee96798eb6"
      },
      "execution_count": 306,
      "outputs": [
        {
          "output_type": "display_data",
          "data": {
            "text/plain": [
              "<Figure size 640x480 with 1 Axes>"
            ],
            "image/png": "[encoded data removed]"
          },
          "metadata": {}
        }
      ]
    }
  ],
  "metadata": {
    "colab": {
      "provenance": [],
      "authorship_tag": "ABX9TyNTkPbmQhnVnXIOuJj4S2BY",
      "include_colab_link": true
    },
    "kernelspec": {
      "display_name": "Python 3",
      "name": "python3"
    },
    "language_info": {
      "name": "python"
    }
  },
  "nbformat": 4,
  "nbformat_minor": 0
}